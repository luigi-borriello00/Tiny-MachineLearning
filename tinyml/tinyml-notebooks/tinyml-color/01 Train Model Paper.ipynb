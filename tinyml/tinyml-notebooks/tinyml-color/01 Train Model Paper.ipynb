{
 "cells": [
  {
   "cell_type": "code",
   "execution_count": 1,
   "metadata": {},
   "outputs": [
    {
     "name": "stderr",
     "output_type": "stream",
     "text": [
      "Using TensorFlow backend.\n"
     ]
    }
   ],
   "source": [
    "import pandas as pd\n",
    "import numpy as np\n",
    "import pickle\n",
    "from sklearn.model_selection import train_test_split\n",
    "from sklearn.preprocessing import StandardScaler\n",
    "from math import sqrt\n",
    "from sklearn.metrics import roc_auc_score, f1_score, classification_report, confusion_matrix\n",
    "from matplotlib import pyplot\n",
    "from sklearn.metrics import mean_squared_error, classification_report\n",
    "from keras.models import Sequential, Model \n",
    "from keras.layers import Dense, Input, concatenate, Activation, Dropout\n",
    "from keras.optimizers import Adam\n",
    "from tensorflow import set_random_seed\n",
    "from keras.utils import to_categorical\n",
    "from sklearn.ensemble import RandomForestClassifier\n",
    "from sklearn.neural_network import MLPClassifier\n",
    "from micromlgen import port"
   ]
  },
  {
   "cell_type": "code",
   "execution_count": 2,
   "metadata": {},
   "outputs": [],
   "source": [
    "RANDOM_SEED = 42"
   ]
  },
  {
   "cell_type": "code",
   "execution_count": 3,
   "metadata": {},
   "outputs": [],
   "source": [
    "np.random.seed(RANDOM_SEED)\n",
    "set_random_seed(RANDOM_SEED)"
   ]
  },
  {
   "cell_type": "code",
   "execution_count": 4,
   "metadata": {},
   "outputs": [],
   "source": [
    "with open('data/X_paper.pkl', 'rb') as f:\n",
    "    X = pickle.load(f)\n",
    "\n",
    "with open('data/y_paper.pkl', 'rb') as f:\n",
    "    y = pickle.load(f)"
   ]
  },
  {
   "cell_type": "code",
   "execution_count": 5,
   "metadata": {},
   "outputs": [
    {
     "data": {
      "text/plain": [
       "(1750, 5)"
      ]
     },
     "execution_count": 5,
     "metadata": {},
     "output_type": "execute_result"
    }
   ],
   "source": [
    "X.shape"
   ]
  },
  {
   "cell_type": "code",
   "execution_count": 6,
   "metadata": {},
   "outputs": [],
   "source": [
    "X = np.concatenate((X[:250], X[750:1000], X[1500:]), axis=0)\n",
    "y = np.concatenate((y[:250], y[750:1000], y[1500:]), axis=0)"
   ]
  },
  {
   "cell_type": "markdown",
   "metadata": {},
   "source": [
    "Split in train and test sets"
   ]
  },
  {
   "cell_type": "code",
   "execution_count": 7,
   "metadata": {},
   "outputs": [],
   "source": [
    "X_train, X_test, y_train, y_test = train_test_split(X, y, test_size=0.2, stratify=y, random_state=RANDOM_SEED)"
   ]
  },
  {
   "cell_type": "code",
   "execution_count": 8,
   "metadata": {},
   "outputs": [],
   "source": [
    "#y_train = pd.get_dummies(y_train).values\n",
    "#y_test = pd.get_dummies(y_test).values"
   ]
  },
  {
   "cell_type": "code",
   "execution_count": 9,
   "metadata": {},
   "outputs": [
    {
     "data": {
      "text/plain": [
       "array([3, 0, 6, 0, 0, 0, 6, 3, 0, 0, 6, 3, 0, 0, 0, 6, 6, 6, 3, 6, 6, 3,\n",
       "       6, 3, 0, 3, 3, 6, 3, 6, 6, 3, 6, 3, 3, 3, 6, 3, 0, 3, 3, 3, 0, 6,\n",
       "       0, 0, 0, 0, 3, 3, 0, 6, 0, 0, 3, 0, 0, 6, 0, 3, 0, 6, 3, 6, 0, 6,\n",
       "       3, 3, 3, 6, 0, 6, 3, 6, 3, 0, 3, 0, 0, 6, 6, 6, 3, 6, 6, 6, 3, 3,\n",
       "       0, 3, 3, 3, 6, 3, 6, 6, 0, 0, 3, 3, 6, 3, 0, 0, 3, 3, 6, 0, 3, 6,\n",
       "       6, 0, 0, 3, 6, 0, 6, 6, 0, 6, 3, 6, 0, 6, 6, 6, 3, 6, 0, 0, 3, 6,\n",
       "       0, 3, 6, 0, 0, 0, 0, 3, 0, 3, 3, 3, 6, 0, 0, 6, 0, 6, 6, 3, 6, 3,\n",
       "       6, 0, 0, 0, 0, 6, 6, 3, 3, 0, 0, 3, 0, 0, 0, 0, 0, 0, 3, 3, 6, 3,\n",
       "       6, 6, 3, 0, 6, 0, 3, 6, 3, 6, 0, 3, 6, 3, 3, 0, 0, 3, 3, 0, 0, 3,\n",
       "       0, 6, 0, 3, 6, 3, 0, 3, 0, 3, 3, 0, 6, 3, 0, 3, 0, 6, 6, 6, 0, 0,\n",
       "       6, 6, 0, 3, 0, 3, 6, 6, 6, 3, 3, 0, 3, 0, 6, 3, 6, 6, 3, 3, 3, 0,\n",
       "       3, 3, 3, 0, 0, 0, 6, 0, 6, 6, 3, 0, 6, 0, 3, 3, 3, 3, 6, 6, 0, 3,\n",
       "       3, 6, 6, 6, 0, 3, 0, 6, 3, 6, 0, 3, 0, 3, 6, 6, 0, 6, 6, 6, 3, 6,\n",
       "       3, 6, 6, 6, 3, 6, 6, 0, 0, 0, 6, 0, 0, 3, 6, 0, 3, 3, 6, 6, 3, 0,\n",
       "       0, 3, 6, 6, 0, 3, 3, 3, 3, 3, 3, 3, 3, 0, 3, 3, 6, 0, 0, 3, 6, 6,\n",
       "       6, 3, 3, 3, 3, 3, 6, 3, 6, 6, 3, 0, 0, 0, 6, 0, 6, 3, 0, 0, 0, 3,\n",
       "       3, 0, 3, 0, 6, 0, 0, 6, 6, 0, 6, 0, 3, 6, 3, 3, 3, 3, 6, 6, 0, 6,\n",
       "       3, 3, 0, 0, 0, 6, 6, 0, 6, 6, 6, 3, 3, 6, 3, 0, 6, 0, 0, 3, 3, 3,\n",
       "       0, 3, 0, 6, 6, 3, 3, 6, 0, 0, 0, 0, 3, 0, 3, 3, 6, 6, 3, 3, 3, 6,\n",
       "       6, 0, 0, 0, 6, 6, 3, 6, 3, 6, 6, 6, 3, 6, 0, 0, 6, 0, 3, 0, 6, 3,\n",
       "       0, 6, 0, 3, 6, 0, 3, 3, 6, 0, 3, 6, 0, 0, 0, 6, 3, 3, 3, 6, 3, 3,\n",
       "       6, 6, 0, 0, 3, 3, 0, 6, 6, 3, 3, 3, 6, 6, 0, 6, 0, 6, 6, 0, 6, 6,\n",
       "       0, 3, 3, 0, 0, 3, 3, 0, 3, 6, 0, 3, 0, 3, 0, 3, 3, 0, 0, 6, 3, 0,\n",
       "       6, 3, 3, 6, 6, 6, 0, 3, 3, 6, 6, 6, 0, 6, 6, 0, 0, 6, 0, 3, 3, 6,\n",
       "       3, 6, 0, 0, 0, 0, 3, 6, 0, 0, 6, 3, 6, 0, 0, 0, 0, 0, 6, 6, 6, 0,\n",
       "       3, 3, 6, 6, 3, 0, 6, 6, 0, 6, 0, 3, 3, 3, 6, 3, 3, 0, 3, 3, 0, 6,\n",
       "       3, 0, 6, 0, 0, 3, 0, 6, 6, 6, 0, 0, 6, 0, 0, 0, 0, 6, 6, 0, 6, 6,\n",
       "       6, 6, 3, 6, 0, 0])"
      ]
     },
     "execution_count": 9,
     "metadata": {},
     "output_type": "execute_result"
    }
   ],
   "source": [
    "y_train"
   ]
  },
  {
   "cell_type": "code",
   "execution_count": 10,
   "metadata": {},
   "outputs": [
    {
     "data": {
      "text/plain": [
       "5"
      ]
     },
     "execution_count": 10,
     "metadata": {},
     "output_type": "execute_result"
    }
   ],
   "source": [
    "X_train.shape[1]"
   ]
  },
  {
   "cell_type": "markdown",
   "metadata": {},
   "source": [
    "## Models Evaluation"
   ]
  },
  {
   "cell_type": "markdown",
   "metadata": {},
   "source": [
    "### RF"
   ]
  },
  {
   "cell_type": "code",
   "execution_count": 11,
   "metadata": {},
   "outputs": [],
   "source": [
    "model = RandomForestClassifier(n_estimators=50, random_state=42)\n",
    "#model = MLPClassifier(random_state=42)"
   ]
  },
  {
   "cell_type": "code",
   "execution_count": 12,
   "metadata": {},
   "outputs": [
    {
     "data": {
      "text/plain": [
       "RandomForestClassifier(bootstrap=True, class_weight=None, criterion='gini',\n",
       "                       max_depth=None, max_features='auto', max_leaf_nodes=None,\n",
       "                       min_impurity_decrease=0.0, min_impurity_split=None,\n",
       "                       min_samples_leaf=1, min_samples_split=2,\n",
       "                       min_weight_fraction_leaf=0.0, n_estimators=50,\n",
       "                       n_jobs=None, oob_score=False, random_state=42, verbose=0,\n",
       "                       warm_start=False)"
      ]
     },
     "execution_count": 12,
     "metadata": {},
     "output_type": "execute_result"
    }
   ],
   "source": [
    "model.fit(X_train, y_train)"
   ]
  },
  {
   "cell_type": "code",
   "execution_count": 13,
   "metadata": {},
   "outputs": [],
   "source": [
    "y_pred = model.predict(X_test)"
   ]
  },
  {
   "cell_type": "code",
   "execution_count": 14,
   "metadata": {},
   "outputs": [
    {
     "data": {
      "text/plain": [
       "0.9933326665999933"
      ]
     },
     "execution_count": 14,
     "metadata": {},
     "output_type": "execute_result"
    }
   ],
   "source": [
    "f1_score(y_test, y_pred, average=\"weighted\")"
   ]
  },
  {
   "cell_type": "code",
   "execution_count": 15,
   "metadata": {},
   "outputs": [
    {
     "name": "stdout",
     "output_type": "stream",
     "text": [
      "              precision    recall  f1-score   support\n",
      "\n",
      "           0       1.00      1.00      1.00        50\n",
      "           3       1.00      0.98      0.99        50\n",
      "           6       0.98      1.00      0.99        50\n",
      "\n",
      "    accuracy                           0.99       150\n",
      "   macro avg       0.99      0.99      0.99       150\n",
      "weighted avg       0.99      0.99      0.99       150\n",
      "\n"
     ]
    }
   ],
   "source": [
    "print(classification_report(y_test, y_pred))"
   ]
  },
  {
   "cell_type": "code",
   "execution_count": 16,
   "metadata": {},
   "outputs": [
    {
     "name": "stdout",
     "output_type": "stream",
     "text": [
      "[[50  0  0]\n",
      " [ 0 49  1]\n",
      " [ 0  0 50]]\n"
     ]
    }
   ],
   "source": [
    "print(confusion_matrix(y_test, y_pred))"
   ]
  },
  {
   "cell_type": "code",
   "execution_count": 48,
   "metadata": {},
   "outputs": [],
   "source": [
    "with open('rf_model_paper_3.h', 'w') as f:  # change path if needed\n",
    "    f.write(port(model, optimize=False))"
   ]
  },
  {
   "cell_type": "code",
   "execution_count": 49,
   "metadata": {},
   "outputs": [],
   "source": [
    "with open('models/rf_model_paper_3.pkl', 'wb') as f:\n",
    "    pickle.dump(model, f)\n"
   ]
  },
  {
   "cell_type": "markdown",
   "metadata": {},
   "source": [
    "### MLP"
   ]
  },
  {
   "cell_type": "code",
   "execution_count": 40,
   "metadata": {},
   "outputs": [],
   "source": [
    "# design network\n",
    "\n",
    "model = Sequential()\n",
    "model.add(Dense(5, activation='relu', input_dim=5))\n",
    "model.add(Dense(256, activation='relu'))\n",
    "model.add(Dense(1, activation='sigmoid'))\n"
   ]
  },
  {
   "cell_type": "code",
   "execution_count": 41,
   "metadata": {},
   "outputs": [],
   "source": [
    "opt = Adam(lr=1e-5, decay=1e-5)\n",
    "#model.compile(loss='sparse_categorical_crossentropy', optimizer=opt, metrics=[\"accuracy\"])\n",
    "model.compile(loss='binary_crossentropy', optimizer='adam', metrics=['accuracy'])\n"
   ]
  },
  {
   "cell_type": "code",
   "execution_count": 42,
   "metadata": {
    "scrolled": true
   },
   "outputs": [
    {
     "name": "stderr",
     "output_type": "stream",
     "text": [
      "W0601 16:05:46.184884  2508 deprecation_wrapper.py:119] From C:\\Users\\giova\\AppData\\Roaming\\Python\\Python36\\site-packages\\keras\\backend\\tensorflow_backend.py:986: The name tf.assign_add is deprecated. Please use tf.compat.v1.assign_add instead.\n",
      "\n"
     ]
    },
    {
     "name": "stdout",
     "output_type": "stream",
     "text": [
      "Train on 840 samples, validate on 280 samples\n",
      "Epoch 1/100\n",
      "840/840 [==============================] - 0s 527us/step - loss: 4.7718 - acc: 0.1440 - val_loss: -32.9666 - val_acc: 0.1464\n",
      "Epoch 2/100\n",
      "840/840 [==============================] - 0s 82us/step - loss: -31.5242 - acc: 0.1417 - val_loss: -32.9666 - val_acc: 0.1464\n",
      "Epoch 3/100\n",
      "840/840 [==============================] - 0s 77us/step - loss: -31.5242 - acc: 0.1417 - val_loss: -32.9666 - val_acc: 0.1464\n",
      "Epoch 4/100\n",
      "840/840 [==============================] - 0s 83us/step - loss: -31.5242 - acc: 0.1417 - val_loss: -32.9666 - val_acc: 0.1464\n",
      "Epoch 5/100\n",
      "840/840 [==============================] - 0s 77us/step - loss: -31.5242 - acc: 0.1417 - val_loss: -32.9666 - val_acc: 0.1464\n",
      "Epoch 6/100\n",
      "840/840 [==============================] - 0s 80us/step - loss: -31.5242 - acc: 0.1417 - val_loss: -32.9666 - val_acc: 0.1464\n",
      "Epoch 7/100\n",
      "840/840 [==============================] - 0s 75us/step - loss: -31.5242 - acc: 0.1417 - val_loss: -32.9666 - val_acc: 0.1464\n",
      "Epoch 8/100\n",
      "840/840 [==============================] - 0s 116us/step - loss: -31.5242 - acc: 0.1417 - val_loss: -32.9666 - val_acc: 0.1464\n",
      "Epoch 9/100\n",
      "840/840 [==============================] - 0s 84us/step - loss: -31.5242 - acc: 0.1417 - val_loss: -32.9666 - val_acc: 0.1464\n",
      "Epoch 10/100\n",
      "840/840 [==============================] - 0s 82us/step - loss: -31.5242 - acc: 0.1417 - val_loss: -32.9666 - val_acc: 0.1464\n",
      "Epoch 11/100\n",
      "840/840 [==============================] - 0s 76us/step - loss: -31.5242 - acc: 0.1417 - val_loss: -32.9666 - val_acc: 0.1464\n",
      "Epoch 12/100\n",
      "840/840 [==============================] - 0s 64us/step - loss: -31.5242 - acc: 0.1417 - val_loss: -32.9666 - val_acc: 0.1464\n",
      "Epoch 13/100\n",
      "840/840 [==============================] - 0s 76us/step - loss: -31.5242 - acc: 0.1417 - val_loss: -32.9666 - val_acc: 0.1464\n",
      "Epoch 14/100\n",
      "840/840 [==============================] - 0s 76us/step - loss: -31.5242 - acc: 0.1417 - val_loss: -32.9666 - val_acc: 0.1464\n",
      "Epoch 15/100\n",
      "840/840 [==============================] - 0s 75us/step - loss: -31.5242 - acc: 0.1417 - val_loss: -32.9666 - val_acc: 0.1464\n",
      "Epoch 16/100\n",
      "840/840 [==============================] - 0s 71us/step - loss: -31.5242 - acc: 0.1417 - val_loss: -32.9666 - val_acc: 0.1464\n",
      "Epoch 17/100\n",
      "840/840 [==============================] - 0s 78us/step - loss: -31.5242 - acc: 0.1417 - val_loss: -32.9666 - val_acc: 0.1464\n",
      "Epoch 18/100\n",
      "840/840 [==============================] - 0s 76us/step - loss: -31.5242 - acc: 0.1417 - val_loss: -32.9666 - val_acc: 0.1464\n",
      "Epoch 19/100\n",
      "840/840 [==============================] - 0s 81us/step - loss: -31.5242 - acc: 0.1417 - val_loss: -32.9666 - val_acc: 0.1464\n",
      "Epoch 20/100\n",
      "840/840 [==============================] - 0s 76us/step - loss: -31.5242 - acc: 0.1417 - val_loss: -32.9666 - val_acc: 0.1464\n",
      "Epoch 21/100\n",
      "840/840 [==============================] - 0s 81us/step - loss: -31.5242 - acc: 0.1417 - val_loss: -32.9666 - val_acc: 0.1464\n",
      "Epoch 22/100\n",
      "840/840 [==============================] - 0s 83us/step - loss: -31.5242 - acc: 0.1417 - val_loss: -32.9666 - val_acc: 0.1464\n",
      "Epoch 23/100\n",
      "840/840 [==============================] - 0s 80us/step - loss: -31.5242 - acc: 0.1417 - val_loss: -32.9666 - val_acc: 0.1464\n",
      "Epoch 24/100\n",
      "840/840 [==============================] - 0s 83us/step - loss: -31.5242 - acc: 0.1417 - val_loss: -32.9666 - val_acc: 0.1464\n",
      "Epoch 25/100\n",
      "840/840 [==============================] - 0s 89us/step - loss: -31.5242 - acc: 0.1417 - val_loss: -32.9666 - val_acc: 0.1464\n",
      "Epoch 26/100\n",
      "840/840 [==============================] - 0s 101us/step - loss: -31.5242 - acc: 0.1417 - val_loss: -32.9666 - val_acc: 0.1464\n",
      "Epoch 27/100\n",
      "840/840 [==============================] - 0s 78us/step - loss: -31.5242 - acc: 0.1417 - val_loss: -32.9666 - val_acc: 0.1464\n",
      "Epoch 28/100\n",
      "840/840 [==============================] - 0s 65us/step - loss: -31.5242 - acc: 0.1417 - val_loss: -32.9666 - val_acc: 0.1464\n",
      "Epoch 29/100\n",
      "840/840 [==============================] - 0s 68us/step - loss: -31.5242 - acc: 0.1417 - val_loss: -32.9666 - val_acc: 0.1464\n",
      "Epoch 30/100\n",
      "840/840 [==============================] - 0s 75us/step - loss: -31.5242 - acc: 0.1417 - val_loss: -32.9666 - val_acc: 0.1464\n",
      "Epoch 31/100\n",
      "840/840 [==============================] - 0s 77us/step - loss: -31.5242 - acc: 0.1417 - val_loss: -32.9666 - val_acc: 0.1464\n",
      "Epoch 32/100\n",
      "840/840 [==============================] - 0s 70us/step - loss: -31.5242 - acc: 0.1417 - val_loss: -32.9666 - val_acc: 0.1464\n",
      "Epoch 33/100\n",
      "840/840 [==============================] - 0s 81us/step - loss: -31.5242 - acc: 0.1417 - val_loss: -32.9666 - val_acc: 0.1464\n",
      "Epoch 34/100\n",
      "840/840 [==============================] - 0s 89us/step - loss: -31.5242 - acc: 0.1417 - val_loss: -32.9666 - val_acc: 0.1464\n",
      "Epoch 35/100\n",
      "840/840 [==============================] - 0s 83us/step - loss: -31.5242 - acc: 0.1417 - val_loss: -32.9666 - val_acc: 0.1464\n",
      "Epoch 36/100\n",
      "840/840 [==============================] - 0s 82us/step - loss: -31.5242 - acc: 0.1417 - val_loss: -32.9666 - val_acc: 0.1464\n",
      "Epoch 37/100\n",
      "840/840 [==============================] - 0s 87us/step - loss: -31.5242 - acc: 0.1417 - val_loss: -32.9666 - val_acc: 0.1464\n",
      "Epoch 38/100\n",
      "840/840 [==============================] - 0s 85us/step - loss: -31.5242 - acc: 0.1417 - val_loss: -32.9666 - val_acc: 0.1464\n",
      "Epoch 39/100\n",
      "840/840 [==============================] - 0s 83us/step - loss: -31.5242 - acc: 0.1417 - val_loss: -32.9666 - val_acc: 0.1464\n",
      "Epoch 40/100\n",
      "840/840 [==============================] - 0s 88us/step - loss: -31.5242 - acc: 0.1417 - val_loss: -32.9666 - val_acc: 0.1464\n",
      "Epoch 41/100\n",
      "840/840 [==============================] - 0s 66us/step - loss: -31.5242 - acc: 0.1417 - val_loss: -32.9666 - val_acc: 0.1464\n",
      "Epoch 42/100\n",
      "840/840 [==============================] - 0s 76us/step - loss: -31.5242 - acc: 0.1417 - val_loss: -32.9666 - val_acc: 0.1464\n",
      "Epoch 43/100\n",
      "840/840 [==============================] - 0s 78us/step - loss: -31.5242 - acc: 0.1417 - val_loss: -32.9666 - val_acc: 0.1464\n",
      "Epoch 44/100\n",
      "840/840 [==============================] - 0s 81us/step - loss: -31.5242 - acc: 0.1417 - val_loss: -32.9666 - val_acc: 0.1464\n",
      "Epoch 45/100\n",
      "840/840 [==============================] - 0s 78us/step - loss: -31.5242 - acc: 0.1417 - val_loss: -32.9666 - val_acc: 0.1464\n",
      "Epoch 46/100\n",
      "840/840 [==============================] - 0s 74us/step - loss: -31.5242 - acc: 0.1417 - val_loss: -32.9666 - val_acc: 0.1464\n",
      "Epoch 47/100\n",
      "840/840 [==============================] - 0s 76us/step - loss: -31.5242 - acc: 0.1417 - val_loss: -32.9666 - val_acc: 0.1464\n",
      "Epoch 48/100\n",
      "840/840 [==============================] - 0s 75us/step - loss: -31.5242 - acc: 0.1417 - val_loss: -32.9666 - val_acc: 0.1464\n",
      "Epoch 49/100\n",
      "840/840 [==============================] - 0s 78us/step - loss: -31.5242 - acc: 0.1417 - val_loss: -32.9666 - val_acc: 0.1464\n",
      "Epoch 50/100\n",
      "840/840 [==============================] - 0s 78us/step - loss: -31.5242 - acc: 0.1417 - val_loss: -32.9666 - val_acc: 0.1464\n",
      "Epoch 51/100\n",
      "840/840 [==============================] - 0s 81us/step - loss: -31.5242 - acc: 0.1417 - val_loss: -32.9666 - val_acc: 0.1464\n",
      "Epoch 52/100\n",
      "840/840 [==============================] - 0s 84us/step - loss: -31.5242 - acc: 0.1417 - val_loss: -32.9666 - val_acc: 0.1464\n",
      "Epoch 53/100\n",
      "840/840 [==============================] - 0s 77us/step - loss: -31.5242 - acc: 0.1417 - val_loss: -32.9666 - val_acc: 0.1464\n",
      "Epoch 54/100\n",
      "840/840 [==============================] - 0s 77us/step - loss: -31.5242 - acc: 0.1417 - val_loss: -32.9666 - val_acc: 0.1464\n",
      "Epoch 55/100\n",
      "840/840 [==============================] - 0s 73us/step - loss: -31.5242 - acc: 0.1417 - val_loss: -32.9666 - val_acc: 0.1464\n",
      "Epoch 56/100\n",
      "840/840 [==============================] - 0s 69us/step - loss: -31.5242 - acc: 0.1417 - val_loss: -32.9666 - val_acc: 0.1464\n",
      "Epoch 57/100\n",
      "840/840 [==============================] - 0s 77us/step - loss: -31.5242 - acc: 0.1417 - val_loss: -32.9666 - val_acc: 0.1464\n",
      "Epoch 58/100\n",
      "840/840 [==============================] - 0s 88us/step - loss: -31.5242 - acc: 0.1417 - val_loss: -32.9666 - val_acc: 0.1464\n",
      "Epoch 59/100\n",
      "840/840 [==============================] - 0s 78us/step - loss: -31.5242 - acc: 0.1417 - val_loss: -32.9666 - val_acc: 0.1464\n",
      "Epoch 60/100\n",
      "840/840 [==============================] - 0s 91us/step - loss: -31.5242 - acc: 0.1417 - val_loss: -32.9666 - val_acc: 0.1464\n",
      "Epoch 61/100\n",
      "840/840 [==============================] - 0s 71us/step - loss: -31.5242 - acc: 0.1417 - val_loss: -32.9666 - val_acc: 0.1464\n",
      "Epoch 62/100\n",
      "840/840 [==============================] - 0s 69us/step - loss: -31.5242 - acc: 0.1417 - val_loss: -32.9666 - val_acc: 0.1464\n",
      "Epoch 63/100\n",
      "840/840 [==============================] - 0s 65us/step - loss: -31.5242 - acc: 0.1417 - val_loss: -32.9666 - val_acc: 0.1464\n",
      "Epoch 64/100\n",
      "840/840 [==============================] - 0s 76us/step - loss: -31.5242 - acc: 0.1417 - val_loss: -32.9666 - val_acc: 0.1464\n",
      "Epoch 65/100\n",
      "840/840 [==============================] - 0s 77us/step - loss: -31.5242 - acc: 0.1417 - val_loss: -32.9666 - val_acc: 0.1464\n",
      "Epoch 66/100\n",
      "840/840 [==============================] - 0s 69us/step - loss: -31.5242 - acc: 0.1417 - val_loss: -32.9666 - val_acc: 0.1464\n",
      "Epoch 67/100\n",
      "840/840 [==============================] - 0s 74us/step - loss: -31.5242 - acc: 0.1417 - val_loss: -32.9666 - val_acc: 0.1464\n",
      "Epoch 68/100\n",
      "840/840 [==============================] - 0s 72us/step - loss: -31.5242 - acc: 0.1417 - val_loss: -32.9666 - val_acc: 0.1464\n",
      "Epoch 69/100\n",
      "840/840 [==============================] - 0s 64us/step - loss: -31.5242 - acc: 0.1417 - val_loss: -32.9666 - val_acc: 0.1464\n",
      "Epoch 70/100\n",
      "840/840 [==============================] - 0s 74us/step - loss: -31.5242 - acc: 0.1417 - val_loss: -32.9666 - val_acc: 0.1464\n",
      "Epoch 71/100\n",
      "840/840 [==============================] - 0s 64us/step - loss: -31.5242 - acc: 0.1417 - val_loss: -32.9666 - val_acc: 0.1464\n",
      "Epoch 72/100\n",
      "840/840 [==============================] - 0s 64us/step - loss: -31.5242 - acc: 0.1417 - val_loss: -32.9666 - val_acc: 0.1464\n",
      "Epoch 73/100\n",
      "840/840 [==============================] - 0s 75us/step - loss: -31.5242 - acc: 0.1417 - val_loss: -32.9666 - val_acc: 0.1464\n",
      "Epoch 74/100\n",
      "840/840 [==============================] - 0s 80us/step - loss: -31.5242 - acc: 0.1417 - val_loss: -32.9666 - val_acc: 0.1464\n",
      "Epoch 75/100\n",
      "840/840 [==============================] - 0s 84us/step - loss: -31.5242 - acc: 0.1417 - val_loss: -32.9666 - val_acc: 0.1464\n",
      "Epoch 76/100\n",
      "840/840 [==============================] - 0s 74us/step - loss: -31.5242 - acc: 0.1417 - val_loss: -32.9666 - val_acc: 0.1464\n",
      "Epoch 77/100\n",
      "840/840 [==============================] - 0s 69us/step - loss: -31.5242 - acc: 0.1417 - val_loss: -32.9666 - val_acc: 0.1464\n",
      "Epoch 78/100\n",
      "840/840 [==============================] - 0s 66us/step - loss: -31.5242 - acc: 0.1417 - val_loss: -32.9666 - val_acc: 0.1464\n",
      "Epoch 79/100\n",
      "840/840 [==============================] - 0s 74us/step - loss: -31.5242 - acc: 0.1417 - val_loss: -32.9666 - val_acc: 0.1464\n",
      "Epoch 80/100\n",
      "840/840 [==============================] - 0s 84us/step - loss: -31.5242 - acc: 0.1417 - val_loss: -32.9666 - val_acc: 0.1464\n",
      "Epoch 81/100\n",
      "840/840 [==============================] - 0s 83us/step - loss: -31.5242 - acc: 0.1417 - val_loss: -32.9666 - val_acc: 0.1464\n",
      "Epoch 82/100\n",
      "840/840 [==============================] - 0s 70us/step - loss: -31.5242 - acc: 0.1417 - val_loss: -32.9666 - val_acc: 0.1464\n",
      "Epoch 83/100\n",
      "840/840 [==============================] - 0s 80us/step - loss: -31.5242 - acc: 0.1417 - val_loss: -32.9666 - val_acc: 0.1464\n",
      "Epoch 84/100\n",
      "840/840 [==============================] - 0s 69us/step - loss: -31.5242 - acc: 0.1417 - val_loss: -32.9666 - val_acc: 0.1464\n",
      "Epoch 85/100\n",
      "840/840 [==============================] - 0s 70us/step - loss: -31.5242 - acc: 0.1417 - val_loss: -32.9666 - val_acc: 0.1464\n",
      "Epoch 86/100\n",
      "840/840 [==============================] - 0s 78us/step - loss: -31.5242 - acc: 0.1417 - val_loss: -32.9666 - val_acc: 0.1464\n",
      "Epoch 87/100\n",
      "840/840 [==============================] - 0s 78us/step - loss: -31.5242 - acc: 0.1417 - val_loss: -32.9666 - val_acc: 0.1464\n",
      "Epoch 88/100\n",
      "840/840 [==============================] - 0s 81us/step - loss: -31.5242 - acc: 0.1417 - val_loss: -32.9666 - val_acc: 0.1464\n",
      "Epoch 89/100\n",
      "840/840 [==============================] - 0s 82us/step - loss: -31.5242 - acc: 0.1417 - val_loss: -32.9666 - val_acc: 0.1464\n",
      "Epoch 90/100\n",
      "840/840 [==============================] - 0s 89us/step - loss: -31.5242 - acc: 0.1417 - val_loss: -32.9666 - val_acc: 0.1464\n",
      "Epoch 91/100\n",
      "840/840 [==============================] - 0s 80us/step - loss: -31.5242 - acc: 0.1417 - val_loss: -32.9666 - val_acc: 0.1464\n",
      "Epoch 92/100\n",
      "840/840 [==============================] - 0s 72us/step - loss: -31.5242 - acc: 0.1417 - val_loss: -32.9666 - val_acc: 0.1464\n",
      "Epoch 93/100\n",
      "840/840 [==============================] - 0s 84us/step - loss: -31.5242 - acc: 0.1417 - val_loss: -32.9666 - val_acc: 0.1464\n",
      "Epoch 94/100\n",
      "840/840 [==============================] - 0s 84us/step - loss: -31.5242 - acc: 0.1417 - val_loss: -32.9666 - val_acc: 0.1464\n",
      "Epoch 95/100\n",
      "840/840 [==============================] - 0s 112us/step - loss: -31.5242 - acc: 0.1417 - val_loss: -32.9666 - val_acc: 0.1464\n",
      "Epoch 96/100\n",
      "840/840 [==============================] - 0s 95us/step - loss: -31.5242 - acc: 0.1417 - val_loss: -32.9666 - val_acc: 0.1464\n",
      "Epoch 97/100\n",
      "840/840 [==============================] - 0s 81us/step - loss: -31.5242 - acc: 0.1417 - val_loss: -32.9666 - val_acc: 0.1464\n",
      "Epoch 98/100\n",
      "840/840 [==============================] - 0s 65us/step - loss: -31.5242 - acc: 0.1417 - val_loss: -32.9666 - val_acc: 0.1464\n",
      "Epoch 99/100\n",
      "840/840 [==============================] - 0s 66us/step - loss: -31.5242 - acc: 0.1417 - val_loss: -32.9666 - val_acc: 0.1464\n",
      "Epoch 100/100\n",
      "840/840 [==============================] - 0s 64us/step - loss: -31.5242 - acc: 0.1417 - val_loss: -32.9666 - val_acc: 0.1464\n"
     ]
    }
   ],
   "source": [
    "# fit network\n",
    "history = model.fit(x=X_train, y=y_train, epochs=100, batch_size=16, validation_split=0.25, verbose=1, shuffle=True)"
   ]
  },
  {
   "cell_type": "code",
   "execution_count": 89,
   "metadata": {},
   "outputs": [],
   "source": [
    "model.save('models/rnn-cnn')"
   ]
  },
  {
   "cell_type": "code",
   "execution_count": null,
   "metadata": {},
   "outputs": [],
   "source": [
    "with open('models/rnn-cnn-history.pkl', 'wb') as file_pi:\n",
    "    pickle.dump(history.history, file_pi)"
   ]
  },
  {
   "cell_type": "code",
   "execution_count": null,
   "metadata": {},
   "outputs": [],
   "source": [
    "# plot history\n",
    "pyplot.plot(history.history['loss'], label='train')\n",
    "pyplot.plot(history.history['val_loss'], label='validation')\n",
    "pyplot.legend()\n",
    "pyplot.show()"
   ]
  },
  {
   "cell_type": "code",
   "execution_count": 187,
   "metadata": {},
   "outputs": [],
   "source": [
    "# make a prediction\n",
    "y_pred = model.predict(X_test)"
   ]
  },
  {
   "cell_type": "code",
   "execution_count": 188,
   "metadata": {},
   "outputs": [
    {
     "data": {
      "text/plain": [
       "array([0, 0, 0, 0, 0, 0, 0, 0, 0, 0, 0, 0, 0, 0, 0, 0, 0, 0, 0, 0, 0, 0,\n",
       "       0, 0, 0, 0, 0, 0, 0, 0, 0, 0, 0, 0, 0, 0, 0, 0, 0, 0], dtype=int64)"
      ]
     },
     "execution_count": 188,
     "metadata": {},
     "output_type": "execute_result"
    }
   ],
   "source": [
    "np.argmax(y_pred, axis=1)"
   ]
  },
  {
   "cell_type": "code",
   "execution_count": 101,
   "metadata": {},
   "outputs": [
    {
     "ename": "AxisError",
     "evalue": "axis 1 is out of bounds for array of dimension 1",
     "output_type": "error",
     "traceback": [
      "\u001b[1;31m---------------------------------------------------------------------------\u001b[0m",
      "\u001b[1;31mAxisError\u001b[0m                                 Traceback (most recent call last)",
      "\u001b[1;32m<ipython-input-101-016303cd1f3d>\u001b[0m in \u001b[0;36m<module>\u001b[1;34m\u001b[0m\n\u001b[1;32m----> 1\u001b[1;33m \u001b[0mf1_score\u001b[0m\u001b[1;33m(\u001b[0m\u001b[0my_test\u001b[0m\u001b[1;33m,\u001b[0m \u001b[0mnp\u001b[0m\u001b[1;33m.\u001b[0m\u001b[0margmax\u001b[0m\u001b[1;33m(\u001b[0m\u001b[0my_pred\u001b[0m\u001b[1;33m,\u001b[0m \u001b[0maxis\u001b[0m\u001b[1;33m=\u001b[0m\u001b[1;36m1\u001b[0m\u001b[1;33m)\u001b[0m\u001b[1;33m,\u001b[0m \u001b[0maverage\u001b[0m\u001b[1;33m=\u001b[0m\u001b[1;34m\"weighted\"\u001b[0m\u001b[1;33m)\u001b[0m\u001b[1;33m\u001b[0m\u001b[1;33m\u001b[0m\u001b[0m\n\u001b[0m",
      "\u001b[1;32mc:\\program files\\python36\\lib\\site-packages\\numpy\\core\\fromnumeric.py\u001b[0m in \u001b[0;36margmax\u001b[1;34m(a, axis, out)\u001b[0m\n\u001b[0;32m   1101\u001b[0m \u001b[1;33m\u001b[0m\u001b[0m\n\u001b[0;32m   1102\u001b[0m     \"\"\"\n\u001b[1;32m-> 1103\u001b[1;33m     \u001b[1;32mreturn\u001b[0m \u001b[0m_wrapfunc\u001b[0m\u001b[1;33m(\u001b[0m\u001b[0ma\u001b[0m\u001b[1;33m,\u001b[0m \u001b[1;34m'argmax'\u001b[0m\u001b[1;33m,\u001b[0m \u001b[0maxis\u001b[0m\u001b[1;33m=\u001b[0m\u001b[0maxis\u001b[0m\u001b[1;33m,\u001b[0m \u001b[0mout\u001b[0m\u001b[1;33m=\u001b[0m\u001b[0mout\u001b[0m\u001b[1;33m)\u001b[0m\u001b[1;33m\u001b[0m\u001b[1;33m\u001b[0m\u001b[0m\n\u001b[0m\u001b[0;32m   1104\u001b[0m \u001b[1;33m\u001b[0m\u001b[0m\n\u001b[0;32m   1105\u001b[0m \u001b[1;33m\u001b[0m\u001b[0m\n",
      "\u001b[1;32mc:\\program files\\python36\\lib\\site-packages\\numpy\\core\\fromnumeric.py\u001b[0m in \u001b[0;36m_wrapfunc\u001b[1;34m(obj, method, *args, **kwds)\u001b[0m\n\u001b[0;32m     54\u001b[0m \u001b[1;32mdef\u001b[0m \u001b[0m_wrapfunc\u001b[0m\u001b[1;33m(\u001b[0m\u001b[0mobj\u001b[0m\u001b[1;33m,\u001b[0m \u001b[0mmethod\u001b[0m\u001b[1;33m,\u001b[0m \u001b[1;33m*\u001b[0m\u001b[0margs\u001b[0m\u001b[1;33m,\u001b[0m \u001b[1;33m**\u001b[0m\u001b[0mkwds\u001b[0m\u001b[1;33m)\u001b[0m\u001b[1;33m:\u001b[0m\u001b[1;33m\u001b[0m\u001b[1;33m\u001b[0m\u001b[0m\n\u001b[0;32m     55\u001b[0m     \u001b[1;32mtry\u001b[0m\u001b[1;33m:\u001b[0m\u001b[1;33m\u001b[0m\u001b[1;33m\u001b[0m\u001b[0m\n\u001b[1;32m---> 56\u001b[1;33m         \u001b[1;32mreturn\u001b[0m \u001b[0mgetattr\u001b[0m\u001b[1;33m(\u001b[0m\u001b[0mobj\u001b[0m\u001b[1;33m,\u001b[0m \u001b[0mmethod\u001b[0m\u001b[1;33m)\u001b[0m\u001b[1;33m(\u001b[0m\u001b[1;33m*\u001b[0m\u001b[0margs\u001b[0m\u001b[1;33m,\u001b[0m \u001b[1;33m**\u001b[0m\u001b[0mkwds\u001b[0m\u001b[1;33m)\u001b[0m\u001b[1;33m\u001b[0m\u001b[1;33m\u001b[0m\u001b[0m\n\u001b[0m\u001b[0;32m     57\u001b[0m \u001b[1;33m\u001b[0m\u001b[0m\n\u001b[0;32m     58\u001b[0m     \u001b[1;31m# An AttributeError occurs if the object does not have\u001b[0m\u001b[1;33m\u001b[0m\u001b[1;33m\u001b[0m\u001b[1;33m\u001b[0m\u001b[0m\n",
      "\u001b[1;31mAxisError\u001b[0m: axis 1 is out of bounds for array of dimension 1"
     ]
    }
   ],
   "source": [
    "f1_score(y_test, np.argmax(y_pred, axis=1), average=\"weighted\")"
   ]
  },
  {
   "cell_type": "code",
   "execution_count": 81,
   "metadata": {},
   "outputs": [
    {
     "name": "stdout",
     "output_type": "stream",
     "text": [
      "              precision    recall  f1-score   support\n",
      "\n",
      "           0       0.00      0.00      0.00        19\n",
      "           1       0.00      0.00      0.00        20\n",
      "           2       0.00      0.00      0.00        20\n",
      "           3       0.17      1.00      0.29        20\n",
      "           4       0.00      0.00      0.00        20\n",
      "           5       0.00      0.00      0.00        20\n",
      "\n",
      "    accuracy                           0.17       119\n",
      "   macro avg       0.03      0.17      0.05       119\n",
      "weighted avg       0.03      0.17      0.05       119\n",
      "\n"
     ]
    },
    {
     "name": "stderr",
     "output_type": "stream",
     "text": [
      "c:\\program files\\python36\\lib\\site-packages\\sklearn\\metrics\\classification.py:1437: UndefinedMetricWarning: Precision and F-score are ill-defined and being set to 0.0 in labels with no predicted samples.\n",
      "  'precision', 'predicted', average, warn_for)\n"
     ]
    }
   ],
   "source": [
    "print(classification_report(y_test, np.argmax(y_pred, axis=1)))"
   ]
  },
  {
   "cell_type": "code",
   "execution_count": 84,
   "metadata": {},
   "outputs": [
    {
     "name": "stdout",
     "output_type": "stream",
     "text": [
      "[[ 0  0  0 19  0  0]\n",
      " [ 0  0  0 20  0  0]\n",
      " [ 0  0  0 20  0  0]\n",
      " [ 0  0  0 20  0  0]\n",
      " [ 0  0  0 20  0  0]\n",
      " [ 0  0  0 20  0  0]]\n"
     ]
    }
   ],
   "source": [
    "print(confusion_matrix(y_test, y_pred.argmax(axis=1)))"
   ]
  },
  {
   "cell_type": "code",
   "execution_count": null,
   "metadata": {},
   "outputs": [],
   "source": []
  }
 ],
 "metadata": {
  "kernelspec": {
   "display_name": "Python 3",
   "language": "python",
   "name": "python3"
  },
  "language_info": {
   "codemirror_mode": {
    "name": "ipython",
    "version": 3
   },
   "file_extension": ".py",
   "mimetype": "text/x-python",
   "name": "python",
   "nbconvert_exporter": "python",
   "pygments_lexer": "ipython3",
   "version": "3.6.8"
  }
 },
 "nbformat": 4,
 "nbformat_minor": 2
}
