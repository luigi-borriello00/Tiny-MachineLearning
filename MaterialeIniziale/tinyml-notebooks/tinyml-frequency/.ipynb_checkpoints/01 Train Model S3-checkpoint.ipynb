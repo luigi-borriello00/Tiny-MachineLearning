{
 "cells": [
  {
   "cell_type": "code",
   "execution_count": 1,
   "metadata": {},
   "outputs": [
    {
     "name": "stderr",
     "output_type": "stream",
     "text": [
      "Using TensorFlow backend.\n"
     ]
    }
   ],
   "source": [
    "import pandas as pd\n",
    "import numpy as np\n",
    "import pickle\n",
    "from sklearn.model_selection import train_test_split\n",
    "from sklearn.preprocessing import StandardScaler\n",
    "from math import sqrt\n",
    "from sklearn.metrics import roc_auc_score, f1_score, classification_report, confusion_matrix\n",
    "from matplotlib import pyplot\n",
    "from sklearn.metrics import mean_squared_error, classification_report\n",
    "from keras.models import Sequential, Model \n",
    "from keras.layers import Dense, Input, concatenate, Activation, Dropout\n",
    "from keras.optimizers import Adam\n",
    "from tensorflow import set_random_seed\n",
    "from keras.utils import to_categorical\n",
    "from sklearn.ensemble import RandomForestClassifier\n",
    "from sklearn.neural_network import MLPClassifier\n",
    "from micromlgen import port"
   ]
  },
  {
   "cell_type": "code",
   "execution_count": 2,
   "metadata": {},
   "outputs": [],
   "source": [
    "RANDOM_SEED = 42"
   ]
  },
  {
   "cell_type": "code",
   "execution_count": 3,
   "metadata": {},
   "outputs": [],
   "source": [
    "np.random.seed(RANDOM_SEED)\n",
    "set_random_seed(RANDOM_SEED)"
   ]
  },
  {
   "cell_type": "code",
   "execution_count": 4,
   "metadata": {},
   "outputs": [],
   "source": [
    "with open('data/XS3.pkl', 'rb') as f:\n",
    "    X = pickle.load(f)\n",
    "\n",
    "with open('data/yS3.pkl', 'rb') as f:\n",
    "    y = pickle.load(f)"
   ]
  },
  {
   "cell_type": "code",
   "execution_count": 5,
   "metadata": {},
   "outputs": [],
   "source": [
    "classes = np.unique(y).tolist()\n",
    "for i in range(len(classes)):\n",
    "    y = np.where(y==classes[i], i, y) "
   ]
  },
  {
   "cell_type": "markdown",
   "metadata": {},
   "source": [
    "Split in train and test sets"
   ]
  },
  {
   "cell_type": "code",
   "execution_count": 6,
   "metadata": {},
   "outputs": [],
   "source": [
    "X_train, X_test, y_train, y_test = train_test_split(X, y, test_size=0.2, stratify=y, random_state=RANDOM_SEED)"
   ]
  },
  {
   "cell_type": "code",
   "execution_count": 7,
   "metadata": {},
   "outputs": [],
   "source": [
    "#y_train = pd.get_dummies(y_train).values\n",
    "#y_test = pd.get_dummies(y_test).values"
   ]
  },
  {
   "cell_type": "code",
   "execution_count": 8,
   "metadata": {},
   "outputs": [
    {
     "data": {
      "text/plain": [
       "array([0, 5, 0, 2, 0, 2, 2, 2, 0, 1, 5, 2, 1, 1, 3, 0, 4, 3, 5, 3, 2, 5,\n",
       "       3, 2, 5, 1, 0, 5, 5, 1, 0, 4, 5, 3, 2, 1, 5, 1, 2, 2, 1, 1, 2, 1,\n",
       "       5, 5, 3, 4, 0, 2, 3, 4, 2, 1, 4, 2, 2, 3, 4, 1, 1, 5, 3, 1, 1, 5,\n",
       "       4, 3, 1, 1, 1, 4, 4, 3, 4, 3, 4, 1, 0, 4, 3, 3, 2, 4, 0, 4, 3, 0,\n",
       "       4, 4, 0, 2, 5, 0, 2, 4, 2, 5, 1, 3, 5, 2, 0, 4, 1, 4, 5, 4, 0, 2,\n",
       "       2, 2, 5, 0, 1, 0, 0, 4, 5, 2, 3, 4, 5, 4, 3, 5, 1, 1, 5, 2, 1, 3,\n",
       "       5, 2, 5, 3, 4, 2, 3, 5, 0, 1, 4, 5, 2, 4, 0, 0, 1, 1, 0, 1, 3, 1,\n",
       "       0, 3, 3, 0, 3, 3, 0, 1, 0, 5, 5, 0, 0, 2, 4, 1, 2, 0, 4, 3, 2, 5,\n",
       "       2, 3, 4, 3, 4, 5, 0, 3, 0, 2, 0, 4, 0, 5, 3, 1, 0, 2, 4, 4, 4, 3,\n",
       "       0, 2, 0, 0, 3, 4, 5, 0, 0, 1, 4, 2, 3, 4, 1, 1, 3, 2, 4, 5, 2, 2,\n",
       "       1, 3, 3, 2, 4, 1, 3, 3, 0, 3, 3, 3, 0, 4, 1, 1, 0, 2, 1, 5, 0, 0,\n",
       "       3, 0, 2, 4, 4, 4, 4, 4, 5, 5, 4, 4, 5, 5, 0, 2, 1, 5, 3, 4, 0, 5,\n",
       "       1, 1, 4, 2, 3, 4, 4, 2, 1, 3, 1, 4, 0, 2, 5, 4, 4, 3, 4, 0, 3, 2,\n",
       "       1, 3, 4, 1, 5, 1, 3, 0, 2, 3, 4, 4, 3, 2, 5, 4, 1, 0, 0, 5, 2, 5,\n",
       "       3, 1, 4, 2, 2, 5, 3, 3, 4, 1, 2, 3, 1, 5, 0, 1, 0, 3, 3, 2, 5, 0,\n",
       "       5, 0, 1, 5, 1, 5, 2, 0, 0, 5, 1, 4, 0, 3, 1, 1, 1, 5, 3, 3, 5, 5,\n",
       "       0, 3, 4, 3, 2, 2, 5, 1, 0, 3, 1, 0, 4, 3, 5, 3, 5, 0, 5, 2, 3, 4,\n",
       "       1, 3, 0, 0, 2, 4, 2, 2, 5, 2, 2, 0, 4, 5, 0, 2, 3, 2, 1, 1, 5, 5,\n",
       "       1, 0, 5, 1, 4, 3, 2, 4, 0, 1, 3, 5, 0, 4, 5, 1, 0, 3, 2, 0, 5, 0,\n",
       "       1, 2, 2, 2, 5, 2, 2, 4, 0, 1, 3, 5, 5, 1, 5, 0, 5, 1, 1, 5, 5, 3,\n",
       "       5, 4, 2, 2, 4, 4, 0, 5, 4, 4, 3, 1, 0, 5, 2, 3, 1, 2, 5, 1, 0, 0,\n",
       "       4, 2, 1, 2, 2, 4, 5, 3, 5, 3, 0, 3, 1, 3, 2, 4, 1, 4])"
      ]
     },
     "execution_count": 8,
     "metadata": {},
     "output_type": "execute_result"
    }
   ],
   "source": [
    "y_train"
   ]
  },
  {
   "cell_type": "code",
   "execution_count": 9,
   "metadata": {},
   "outputs": [
    {
     "data": {
      "text/plain": [
       "32"
      ]
     },
     "execution_count": 9,
     "metadata": {},
     "output_type": "execute_result"
    }
   ],
   "source": [
    "X_train.shape[1]"
   ]
  },
  {
   "cell_type": "markdown",
   "metadata": {},
   "source": [
    "## Models Evaluation"
   ]
  },
  {
   "cell_type": "markdown",
   "metadata": {},
   "source": [
    "### RF"
   ]
  },
  {
   "cell_type": "code",
   "execution_count": 10,
   "metadata": {},
   "outputs": [],
   "source": [
    "model = RandomForestClassifier(n_estimators=500, random_state=42)\n",
    "#model = MLPClassifier(random_state=42)"
   ]
  },
  {
   "cell_type": "code",
   "execution_count": 11,
   "metadata": {},
   "outputs": [
    {
     "data": {
      "text/plain": [
       "RandomForestClassifier(bootstrap=True, class_weight=None, criterion='gini',\n",
       "                       max_depth=None, max_features='auto', max_leaf_nodes=None,\n",
       "                       min_impurity_decrease=0.0, min_impurity_split=None,\n",
       "                       min_samples_leaf=1, min_samples_split=2,\n",
       "                       min_weight_fraction_leaf=0.0, n_estimators=500,\n",
       "                       n_jobs=None, oob_score=False, random_state=42, verbose=0,\n",
       "                       warm_start=False)"
      ]
     },
     "execution_count": 11,
     "metadata": {},
     "output_type": "execute_result"
    }
   ],
   "source": [
    "model.fit(X_train, y_train)"
   ]
  },
  {
   "cell_type": "code",
   "execution_count": 12,
   "metadata": {},
   "outputs": [],
   "source": [
    "y_pred = model.predict(X_test)"
   ]
  },
  {
   "cell_type": "code",
   "execution_count": 13,
   "metadata": {},
   "outputs": [
    {
     "data": {
      "text/plain": [
       "0.8069291819291818"
      ]
     },
     "execution_count": 13,
     "metadata": {},
     "output_type": "execute_result"
    }
   ],
   "source": [
    "f1_score(y_test, y_pred, average=\"weighted\")"
   ]
  },
  {
   "cell_type": "code",
   "execution_count": 14,
   "metadata": {},
   "outputs": [
    {
     "name": "stdout",
     "output_type": "stream",
     "text": [
      "              precision    recall  f1-score   support\n",
      "\n",
      "           0       1.00      1.00      1.00        20\n",
      "           1       0.63      0.60      0.62        20\n",
      "           2       0.68      0.65      0.67        20\n",
      "           3       1.00      1.00      1.00        20\n",
      "           4       0.75      0.75      0.75        20\n",
      "           5       0.77      0.85      0.81        20\n",
      "\n",
      "    accuracy                           0.81       120\n",
      "   macro avg       0.81      0.81      0.81       120\n",
      "weighted avg       0.81      0.81      0.81       120\n",
      "\n"
     ]
    }
   ],
   "source": [
    "print(classification_report(y_test, y_pred))"
   ]
  },
  {
   "cell_type": "code",
   "execution_count": 15,
   "metadata": {},
   "outputs": [
    {
     "name": "stdout",
     "output_type": "stream",
     "text": [
      "[[20  0  0  0  0  0]\n",
      " [ 0 12  6  0  2  0]\n",
      " [ 0  7 13  0  0  0]\n",
      " [ 0  0  0 20  0  0]\n",
      " [ 0  0  0  0 15  5]\n",
      " [ 0  0  0  0  3 17]]\n"
     ]
    }
   ],
   "source": [
    "print(confusion_matrix(y_test, y_pred))"
   ]
  },
  {
   "cell_type": "code",
   "execution_count": 16,
   "metadata": {},
   "outputs": [],
   "source": [
    "with open('rf_model_s3.h', 'w') as f:  # change path if needed\n",
    "    f.write(port(model, optimize=False))"
   ]
  },
  {
   "cell_type": "code",
   "execution_count": 17,
   "metadata": {},
   "outputs": [],
   "source": [
    "with open('models/rf_model_s3.pkl', 'wb') as f:\n",
    "    pickle.dump(model, f)\n"
   ]
  },
  {
   "cell_type": "markdown",
   "metadata": {},
   "source": [
    "### MLP"
   ]
  },
  {
   "cell_type": "code",
   "execution_count": 16,
   "metadata": {},
   "outputs": [
    {
     "name": "stderr",
     "output_type": "stream",
     "text": [
      "WARNING: Logging before flag parsing goes to stderr.\n",
      "W0526 15:55:29.289118 19032 deprecation_wrapper.py:119] From C:\\Users\\giova\\AppData\\Roaming\\Python\\Python36\\site-packages\\keras\\backend\\tensorflow_backend.py:74: The name tf.get_default_graph is deprecated. Please use tf.compat.v1.get_default_graph instead.\n",
      "\n",
      "W0526 15:55:29.292109 19032 deprecation_wrapper.py:119] From C:\\Users\\giova\\AppData\\Roaming\\Python\\Python36\\site-packages\\keras\\backend\\tensorflow_backend.py:517: The name tf.placeholder is deprecated. Please use tf.compat.v1.placeholder instead.\n",
      "\n",
      "W0526 15:55:29.295103 19032 deprecation_wrapper.py:119] From C:\\Users\\giova\\AppData\\Roaming\\Python\\Python36\\site-packages\\keras\\backend\\tensorflow_backend.py:4138: The name tf.random_uniform is deprecated. Please use tf.random.uniform instead.\n",
      "\n"
     ]
    }
   ],
   "source": [
    "# design network\n",
    "\n",
    "model = Sequential()\n",
    "model.add(Dense(32, activation='relu', input_dim=32))\n",
    "model.add(Dense(256, activation='relu'))\n",
    "model.add(Dense(1, activation='sigmoid'))\n"
   ]
  },
  {
   "cell_type": "code",
   "execution_count": 17,
   "metadata": {},
   "outputs": [
    {
     "name": "stderr",
     "output_type": "stream",
     "text": [
      "W0526 15:55:29.765018 19032 deprecation_wrapper.py:119] From C:\\Users\\giova\\AppData\\Roaming\\Python\\Python36\\site-packages\\keras\\optimizers.py:790: The name tf.train.Optimizer is deprecated. Please use tf.compat.v1.train.Optimizer instead.\n",
      "\n",
      "W0526 15:55:29.789951 19032 deprecation_wrapper.py:119] From C:\\Users\\giova\\AppData\\Roaming\\Python\\Python36\\site-packages\\keras\\backend\\tensorflow_backend.py:3376: The name tf.log is deprecated. Please use tf.math.log instead.\n",
      "\n",
      "W0526 15:55:29.797931 19032 deprecation.py:323] From C:\\Users\\giova\\AppData\\Roaming\\Python\\Python36\\site-packages\\tensorflow\\python\\ops\\nn_impl.py:180: add_dispatch_support.<locals>.wrapper (from tensorflow.python.ops.array_ops) is deprecated and will be removed in a future version.\n",
      "Instructions for updating:\n",
      "Use tf.where in 2.0, which has the same broadcast rule as np.where\n"
     ]
    }
   ],
   "source": [
    "opt = Adam(lr=1e-5, decay=1e-5)\n",
    "#model.compile(loss='sparse_categorical_crossentropy', optimizer=opt, metrics=[\"accuracy\"])\n",
    "model.compile(loss='binary_crossentropy', optimizer='adam', metrics=['accuracy'])\n"
   ]
  },
  {
   "cell_type": "code",
   "execution_count": 18,
   "metadata": {
    "scrolled": true
   },
   "outputs": [
    {
     "name": "stderr",
     "output_type": "stream",
     "text": [
      "W0526 15:55:30.837933 19032 deprecation_wrapper.py:119] From C:\\Users\\giova\\AppData\\Roaming\\Python\\Python36\\site-packages\\keras\\backend\\tensorflow_backend.py:986: The name tf.assign_add is deprecated. Please use tf.compat.v1.assign_add instead.\n",
      "\n"
     ]
    },
    {
     "name": "stdout",
     "output_type": "stream",
     "text": [
      "Train on 360 samples, validate on 120 samples\n",
      "Epoch 1/100\n",
      "360/360 [==============================] - 0s 787us/step - loss: -23.7364 - acc: 0.1694 - val_loss: -24.4450 - val_acc: 0.1583\n",
      "Epoch 2/100\n",
      "360/360 [==============================] - 0s 76us/step - loss: -23.7364 - acc: 0.1694 - val_loss: -24.4450 - val_acc: 0.1583\n",
      "Epoch 3/100\n",
      "360/360 [==============================] - 0s 106us/step - loss: -23.7364 - acc: 0.1694 - val_loss: -24.4450 - val_acc: 0.1583\n",
      "Epoch 4/100\n",
      "360/360 [==============================] - 0s 105us/step - loss: -23.7364 - acc: 0.1694 - val_loss: -24.4450 - val_acc: 0.1583\n",
      "Epoch 5/100\n",
      "360/360 [==============================] - 0s 96us/step - loss: -23.7364 - acc: 0.1694 - val_loss: -24.4450 - val_acc: 0.1583\n",
      "Epoch 6/100\n",
      "360/360 [==============================] - 0s 107us/step - loss: -23.7364 - acc: 0.1694 - val_loss: -24.4450 - val_acc: 0.1583\n",
      "Epoch 7/100\n",
      "360/360 [==============================] - 0s 115us/step - loss: -23.7364 - acc: 0.1694 - val_loss: -24.4450 - val_acc: 0.1583\n",
      "Epoch 8/100\n",
      "360/360 [==============================] - 0s 98us/step - loss: -23.7364 - acc: 0.1694 - val_loss: -24.4450 - val_acc: 0.1583\n",
      "Epoch 9/100\n",
      "360/360 [==============================] - 0s 100us/step - loss: -23.7364 - acc: 0.1694 - val_loss: -24.4450 - val_acc: 0.1583\n",
      "Epoch 10/100\n",
      "360/360 [==============================] - 0s 94us/step - loss: -23.7364 - acc: 0.1694 - val_loss: -24.4450 - val_acc: 0.1583\n",
      "Epoch 11/100\n",
      "360/360 [==============================] - 0s 89us/step - loss: -23.7364 - acc: 0.1694 - val_loss: -24.4450 - val_acc: 0.1583\n",
      "Epoch 12/100\n",
      "360/360 [==============================] - 0s 83us/step - loss: -23.7364 - acc: 0.1694 - val_loss: -24.4450 - val_acc: 0.1583\n",
      "Epoch 13/100\n",
      "360/360 [==============================] - 0s 97us/step - loss: -23.7364 - acc: 0.1694 - val_loss: -24.4450 - val_acc: 0.1583\n",
      "Epoch 14/100\n",
      "360/360 [==============================] - 0s 86us/step - loss: -23.7364 - acc: 0.1694 - val_loss: -24.4450 - val_acc: 0.1583\n",
      "Epoch 15/100\n",
      "360/360 [==============================] - 0s 80us/step - loss: -23.7364 - acc: 0.1694 - val_loss: -24.4450 - val_acc: 0.1583\n",
      "Epoch 16/100\n",
      "360/360 [==============================] - 0s 91us/step - loss: -23.7364 - acc: 0.1694 - val_loss: -24.4450 - val_acc: 0.1583\n",
      "Epoch 17/100\n",
      "360/360 [==============================] - 0s 94us/step - loss: -23.7364 - acc: 0.1694 - val_loss: -24.4450 - val_acc: 0.1583\n",
      "Epoch 18/100\n",
      "360/360 [==============================] - 0s 89us/step - loss: -23.7364 - acc: 0.1694 - val_loss: -24.4450 - val_acc: 0.1583\n",
      "Epoch 19/100\n",
      "360/360 [==============================] - 0s 89us/step - loss: -23.7364 - acc: 0.1694 - val_loss: -24.4450 - val_acc: 0.1583\n",
      "Epoch 20/100\n",
      "360/360 [==============================] - 0s 89us/step - loss: -23.7364 - acc: 0.1694 - val_loss: -24.4450 - val_acc: 0.1583\n",
      "Epoch 21/100\n",
      "360/360 [==============================] - 0s 89us/step - loss: -23.7364 - acc: 0.1694 - val_loss: -24.4450 - val_acc: 0.1583\n",
      "Epoch 22/100\n",
      "360/360 [==============================] - 0s 97us/step - loss: -23.7364 - acc: 0.1694 - val_loss: -24.4450 - val_acc: 0.1583\n",
      "Epoch 23/100\n",
      "360/360 [==============================] - 0s 108us/step - loss: -23.7364 - acc: 0.1694 - val_loss: -24.4450 - val_acc: 0.1583\n",
      "Epoch 24/100\n",
      "360/360 [==============================] - 0s 108us/step - loss: -23.7364 - acc: 0.1694 - val_loss: -24.4450 - val_acc: 0.1583\n",
      "Epoch 25/100\n",
      "360/360 [==============================] - 0s 105us/step - loss: -23.7364 - acc: 0.1694 - val_loss: -24.4450 - val_acc: 0.1583\n",
      "Epoch 26/100\n",
      "360/360 [==============================] - 0s 94us/step - loss: -23.7364 - acc: 0.1694 - val_loss: -24.4450 - val_acc: 0.1583\n",
      "Epoch 27/100\n",
      "360/360 [==============================] - 0s 86us/step - loss: -23.7364 - acc: 0.1694 - val_loss: -24.4450 - val_acc: 0.1583\n",
      "Epoch 28/100\n",
      "360/360 [==============================] - 0s 116us/step - loss: -23.7364 - acc: 0.1694 - val_loss: -24.4450 - val_acc: 0.1583\n",
      "Epoch 29/100\n",
      "360/360 [==============================] - 0s 83us/step - loss: -23.7364 - acc: 0.1694 - val_loss: -24.4450 - val_acc: 0.1583\n",
      "Epoch 30/100\n",
      "360/360 [==============================] - 0s 94us/step - loss: -23.7364 - acc: 0.1694 - val_loss: -24.4450 - val_acc: 0.1583\n",
      "Epoch 31/100\n",
      "360/360 [==============================] - 0s 79us/step - loss: -23.7364 - acc: 0.1694 - val_loss: -24.4450 - val_acc: 0.1583\n",
      "Epoch 32/100\n",
      "360/360 [==============================] - 0s 103us/step - loss: -23.7364 - acc: 0.1694 - val_loss: -24.4450 - val_acc: 0.1583\n",
      "Epoch 33/100\n",
      "360/360 [==============================] - 0s 72us/step - loss: -23.7364 - acc: 0.1694 - val_loss: -24.4450 - val_acc: 0.1583\n",
      "Epoch 34/100\n",
      "360/360 [==============================] - 0s 90us/step - loss: -23.7364 - acc: 0.1694 - val_loss: -24.4450 - val_acc: 0.1583\n",
      "Epoch 35/100\n",
      "360/360 [==============================] - 0s 124us/step - loss: -23.7364 - acc: 0.1694 - val_loss: -24.4450 - val_acc: 0.1583\n",
      "Epoch 36/100\n",
      "360/360 [==============================] - 0s 108us/step - loss: -23.7364 - acc: 0.1694 - val_loss: -24.4450 - val_acc: 0.1583\n",
      "Epoch 37/100\n",
      "360/360 [==============================] - 0s 114us/step - loss: -23.7364 - acc: 0.1694 - val_loss: -24.4450 - val_acc: 0.1583\n",
      "Epoch 38/100\n",
      "360/360 [==============================] - 0s 80us/step - loss: -23.7364 - acc: 0.1694 - val_loss: -24.4450 - val_acc: 0.1583\n",
      "Epoch 39/100\n",
      "360/360 [==============================] - 0s 99us/step - loss: -23.7364 - acc: 0.1694 - val_loss: -24.4450 - val_acc: 0.1583\n",
      "Epoch 40/100\n",
      "360/360 [==============================] - 0s 100us/step - loss: -23.7364 - acc: 0.1694 - val_loss: -24.4450 - val_acc: 0.1583\n",
      "Epoch 41/100\n",
      "360/360 [==============================] - 0s 102us/step - loss: -23.7364 - acc: 0.1694 - val_loss: -24.4450 - val_acc: 0.1583\n",
      "Epoch 42/100\n",
      "360/360 [==============================] - 0s 112us/step - loss: -23.7364 - acc: 0.1694 - val_loss: -24.4450 - val_acc: 0.1583\n",
      "Epoch 43/100\n",
      "360/360 [==============================] - 0s 83us/step - loss: -23.7364 - acc: 0.1694 - val_loss: -24.4450 - val_acc: 0.1583\n",
      "Epoch 44/100\n",
      "360/360 [==============================] - 0s 72us/step - loss: -23.7364 - acc: 0.1694 - val_loss: -24.4450 - val_acc: 0.1583\n",
      "Epoch 45/100\n",
      "360/360 [==============================] - 0s 78us/step - loss: -23.7364 - acc: 0.1694 - val_loss: -24.4450 - val_acc: 0.1583\n",
      "Epoch 46/100\n",
      "360/360 [==============================] - 0s 105us/step - loss: -23.7364 - acc: 0.1694 - val_loss: -24.4450 - val_acc: 0.1583\n",
      "Epoch 47/100\n",
      "360/360 [==============================] - 0s 84us/step - loss: -23.7364 - acc: 0.1694 - val_loss: -24.4450 - val_acc: 0.1583\n",
      "Epoch 48/100\n",
      "360/360 [==============================] - 0s 86us/step - loss: -23.7364 - acc: 0.1694 - val_loss: -24.4450 - val_acc: 0.1583\n",
      "Epoch 49/100\n",
      "360/360 [==============================] - 0s 108us/step - loss: -23.7364 - acc: 0.1694 - val_loss: -24.4450 - val_acc: 0.1583\n",
      "Epoch 50/100\n",
      "360/360 [==============================] - 0s 111us/step - loss: -23.7364 - acc: 0.1694 - val_loss: -24.4450 - val_acc: 0.1583\n",
      "Epoch 51/100\n",
      "360/360 [==============================] - 0s 114us/step - loss: -23.7364 - acc: 0.1694 - val_loss: -24.4450 - val_acc: 0.1583\n",
      "Epoch 52/100\n",
      "360/360 [==============================] - 0s 103us/step - loss: -23.7364 - acc: 0.1694 - val_loss: -24.4450 - val_acc: 0.1583\n",
      "Epoch 53/100\n",
      "360/360 [==============================] - 0s 98us/step - loss: -23.7364 - acc: 0.1694 - val_loss: -24.4450 - val_acc: 0.1583\n",
      "Epoch 54/100\n",
      "360/360 [==============================] - 0s 89us/step - loss: -23.7364 - acc: 0.1694 - val_loss: -24.4450 - val_acc: 0.1583\n",
      "Epoch 55/100\n",
      "360/360 [==============================] - 0s 91us/step - loss: -23.7364 - acc: 0.1694 - val_loss: -24.4450 - val_acc: 0.1583\n",
      "Epoch 56/100\n",
      "360/360 [==============================] - 0s 72us/step - loss: -23.7364 - acc: 0.1694 - val_loss: -24.4450 - val_acc: 0.1583\n",
      "Epoch 57/100\n",
      "360/360 [==============================] - 0s 78us/step - loss: -23.7364 - acc: 0.1694 - val_loss: -24.4450 - val_acc: 0.1583\n",
      "Epoch 58/100\n",
      "360/360 [==============================] - 0s 89us/step - loss: -23.7364 - acc: 0.1694 - val_loss: -24.4450 - val_acc: 0.1583\n",
      "Epoch 59/100\n",
      "360/360 [==============================] - 0s 86us/step - loss: -23.7364 - acc: 0.1694 - val_loss: -24.4450 - val_acc: 0.1583\n",
      "Epoch 60/100\n",
      "360/360 [==============================] - 0s 106us/step - loss: -23.7364 - acc: 0.1694 - val_loss: -24.4450 - val_acc: 0.1583\n",
      "Epoch 61/100\n",
      "360/360 [==============================] - 0s 89us/step - loss: -23.7364 - acc: 0.1694 - val_loss: -24.4450 - val_acc: 0.1583\n",
      "Epoch 62/100\n",
      "360/360 [==============================] - 0s 89us/step - loss: -23.7364 - acc: 0.1694 - val_loss: -24.4450 - val_acc: 0.1583\n",
      "Epoch 63/100\n",
      "360/360 [==============================] - 0s 86us/step - loss: -23.7364 - acc: 0.1694 - val_loss: -24.4450 - val_acc: 0.1583\n",
      "Epoch 64/100\n",
      "360/360 [==============================] - 0s 103us/step - loss: -23.7364 - acc: 0.1694 - val_loss: -24.4450 - val_acc: 0.1583\n",
      "Epoch 65/100\n",
      "360/360 [==============================] - 0s 97us/step - loss: -23.7364 - acc: 0.1694 - val_loss: -24.4450 - val_acc: 0.1583\n",
      "Epoch 66/100\n",
      "360/360 [==============================] - 0s 99us/step - loss: -23.7364 - acc: 0.1694 - val_loss: -24.4450 - val_acc: 0.1583\n",
      "Epoch 67/100\n",
      "360/360 [==============================] - 0s 106us/step - loss: -23.7364 - acc: 0.1694 - val_loss: -24.4450 - val_acc: 0.1583\n",
      "Epoch 68/100\n",
      "360/360 [==============================] - 0s 103us/step - loss: -23.7364 - acc: 0.1694 - val_loss: -24.4450 - val_acc: 0.1583\n",
      "Epoch 69/100\n",
      "360/360 [==============================] - 0s 86us/step - loss: -23.7364 - acc: 0.1694 - val_loss: -24.4450 - val_acc: 0.1583\n",
      "Epoch 70/100\n",
      "360/360 [==============================] - 0s 75us/step - loss: -23.7364 - acc: 0.1694 - val_loss: -24.4450 - val_acc: 0.1583\n",
      "Epoch 71/100\n",
      "360/360 [==============================] - 0s 102us/step - loss: -23.7364 - acc: 0.1694 - val_loss: -24.4450 - val_acc: 0.1583\n",
      "Epoch 72/100\n",
      "360/360 [==============================] - 0s 72us/step - loss: -23.7364 - acc: 0.1694 - val_loss: -24.4450 - val_acc: 0.1583\n",
      "Epoch 73/100\n",
      "360/360 [==============================] - 0s 97us/step - loss: -23.7364 - acc: 0.1694 - val_loss: -24.4450 - val_acc: 0.1583\n",
      "Epoch 74/100\n",
      "360/360 [==============================] - 0s 75us/step - loss: -23.7364 - acc: 0.1694 - val_loss: -24.4450 - val_acc: 0.1583\n",
      "Epoch 75/100\n",
      "360/360 [==============================] - 0s 78us/step - loss: -23.7364 - acc: 0.1694 - val_loss: -24.4450 - val_acc: 0.1583\n",
      "Epoch 76/100\n",
      "360/360 [==============================] - 0s 100us/step - loss: -23.7364 - acc: 0.1694 - val_loss: -24.4450 - val_acc: 0.1583\n",
      "Epoch 77/100\n",
      "360/360 [==============================] - 0s 89us/step - loss: -23.7364 - acc: 0.1694 - val_loss: -24.4450 - val_acc: 0.1583\n",
      "Epoch 78/100\n",
      "360/360 [==============================] - 0s 96us/step - loss: -23.7364 - acc: 0.1694 - val_loss: -24.4450 - val_acc: 0.1583\n",
      "Epoch 79/100\n",
      "360/360 [==============================] - 0s 89us/step - loss: -23.7364 - acc: 0.1694 - val_loss: -24.4450 - val_acc: 0.1583\n",
      "Epoch 80/100\n",
      "360/360 [==============================] - 0s 114us/step - loss: -23.7364 - acc: 0.1694 - val_loss: -24.4450 - val_acc: 0.1583\n",
      "Epoch 81/100\n",
      "360/360 [==============================] - 0s 111us/step - loss: -23.7364 - acc: 0.1694 - val_loss: -24.4450 - val_acc: 0.1583\n",
      "Epoch 82/100\n",
      "360/360 [==============================] - 0s 86us/step - loss: -23.7364 - acc: 0.1694 - val_loss: -24.4450 - val_acc: 0.1583\n",
      "Epoch 83/100\n",
      "360/360 [==============================] - 0s 97us/step - loss: -23.7364 - acc: 0.1694 - val_loss: -24.4450 - val_acc: 0.1583\n",
      "Epoch 84/100\n",
      "360/360 [==============================] - 0s 113us/step - loss: -23.7364 - acc: 0.1694 - val_loss: -24.4450 - val_acc: 0.1583\n",
      "Epoch 85/100\n",
      "360/360 [==============================] - 0s 91us/step - loss: -23.7364 - acc: 0.1694 - val_loss: -24.4450 - val_acc: 0.1583\n",
      "Epoch 86/100\n",
      "360/360 [==============================] - 0s 86us/step - loss: -23.7364 - acc: 0.1694 - val_loss: -24.4450 - val_acc: 0.1583\n",
      "Epoch 87/100\n",
      "360/360 [==============================] - 0s 103us/step - loss: -23.7364 - acc: 0.1694 - val_loss: -24.4450 - val_acc: 0.1583\n",
      "Epoch 88/100\n",
      "360/360 [==============================] - 0s 108us/step - loss: -23.7364 - acc: 0.1694 - val_loss: -24.4450 - val_acc: 0.1583\n",
      "Epoch 89/100\n",
      "360/360 [==============================] - 0s 103us/step - loss: -23.7364 - acc: 0.1694 - val_loss: -24.4450 - val_acc: 0.1583\n",
      "Epoch 90/100\n",
      "360/360 [==============================] - 0s 99us/step - loss: -23.7364 - acc: 0.1694 - val_loss: -24.4450 - val_acc: 0.1583\n",
      "Epoch 91/100\n",
      "360/360 [==============================] - 0s 111us/step - loss: -23.7364 - acc: 0.1694 - val_loss: -24.4450 - val_acc: 0.1583\n",
      "Epoch 92/100\n",
      "360/360 [==============================] - 0s 86us/step - loss: -23.7364 - acc: 0.1694 - val_loss: -24.4450 - val_acc: 0.1583\n",
      "Epoch 93/100\n",
      "360/360 [==============================] - 0s 100us/step - loss: -23.7364 - acc: 0.1694 - val_loss: -24.4450 - val_acc: 0.1583\n",
      "Epoch 94/100\n",
      "360/360 [==============================] - 0s 94us/step - loss: -23.7364 - acc: 0.1694 - val_loss: -24.4450 - val_acc: 0.1583\n",
      "Epoch 95/100\n",
      "360/360 [==============================] - 0s 83us/step - loss: -23.7364 - acc: 0.1694 - val_loss: -24.4450 - val_acc: 0.1583\n",
      "Epoch 96/100\n",
      "360/360 [==============================] - 0s 91us/step - loss: -23.7364 - acc: 0.1694 - val_loss: -24.4450 - val_acc: 0.1583\n",
      "Epoch 97/100\n",
      "360/360 [==============================] - 0s 78us/step - loss: -23.7364 - acc: 0.1694 - val_loss: -24.4450 - val_acc: 0.1583\n",
      "Epoch 98/100\n",
      "360/360 [==============================] - 0s 83us/step - loss: -23.7364 - acc: 0.1694 - val_loss: -24.4450 - val_acc: 0.1583\n",
      "Epoch 99/100\n",
      "360/360 [==============================] - 0s 102us/step - loss: -23.7364 - acc: 0.1694 - val_loss: -24.4450 - val_acc: 0.1583\n",
      "Epoch 100/100\n",
      "360/360 [==============================] - 0s 94us/step - loss: -23.7364 - acc: 0.1694 - val_loss: -24.4450 - val_acc: 0.1583\n"
     ]
    }
   ],
   "source": [
    "# fit network\n",
    "history = model.fit(x=X_train, y=y_train, epochs=100, batch_size=16, validation_split=0.25, verbose=1, shuffle=True)"
   ]
  },
  {
   "cell_type": "code",
   "execution_count": 89,
   "metadata": {},
   "outputs": [],
   "source": [
    "model.save('models/rnn-cnn')"
   ]
  },
  {
   "cell_type": "code",
   "execution_count": null,
   "metadata": {},
   "outputs": [],
   "source": [
    "with open('models/rnn-cnn-history.pkl', 'wb') as file_pi:\n",
    "    pickle.dump(history.history, file_pi)"
   ]
  },
  {
   "cell_type": "code",
   "execution_count": null,
   "metadata": {},
   "outputs": [],
   "source": [
    "# plot history\n",
    "pyplot.plot(history.history['loss'], label='train')\n",
    "pyplot.plot(history.history['val_loss'], label='validation')\n",
    "pyplot.legend()\n",
    "pyplot.show()"
   ]
  },
  {
   "cell_type": "code",
   "execution_count": 187,
   "metadata": {},
   "outputs": [],
   "source": [
    "# make a prediction\n",
    "y_pred = model.predict(X_test)"
   ]
  },
  {
   "cell_type": "code",
   "execution_count": 188,
   "metadata": {},
   "outputs": [
    {
     "data": {
      "text/plain": [
       "array([0, 0, 0, 0, 0, 0, 0, 0, 0, 0, 0, 0, 0, 0, 0, 0, 0, 0, 0, 0, 0, 0,\n",
       "       0, 0, 0, 0, 0, 0, 0, 0, 0, 0, 0, 0, 0, 0, 0, 0, 0, 0], dtype=int64)"
      ]
     },
     "execution_count": 188,
     "metadata": {},
     "output_type": "execute_result"
    }
   ],
   "source": [
    "np.argmax(y_pred, axis=1)"
   ]
  },
  {
   "cell_type": "code",
   "execution_count": 101,
   "metadata": {},
   "outputs": [
    {
     "ename": "AxisError",
     "evalue": "axis 1 is out of bounds for array of dimension 1",
     "output_type": "error",
     "traceback": [
      "\u001b[1;31m---------------------------------------------------------------------------\u001b[0m",
      "\u001b[1;31mAxisError\u001b[0m                                 Traceback (most recent call last)",
      "\u001b[1;32m<ipython-input-101-016303cd1f3d>\u001b[0m in \u001b[0;36m<module>\u001b[1;34m\u001b[0m\n\u001b[1;32m----> 1\u001b[1;33m \u001b[0mf1_score\u001b[0m\u001b[1;33m(\u001b[0m\u001b[0my_test\u001b[0m\u001b[1;33m,\u001b[0m \u001b[0mnp\u001b[0m\u001b[1;33m.\u001b[0m\u001b[0margmax\u001b[0m\u001b[1;33m(\u001b[0m\u001b[0my_pred\u001b[0m\u001b[1;33m,\u001b[0m \u001b[0maxis\u001b[0m\u001b[1;33m=\u001b[0m\u001b[1;36m1\u001b[0m\u001b[1;33m)\u001b[0m\u001b[1;33m,\u001b[0m \u001b[0maverage\u001b[0m\u001b[1;33m=\u001b[0m\u001b[1;34m\"weighted\"\u001b[0m\u001b[1;33m)\u001b[0m\u001b[1;33m\u001b[0m\u001b[1;33m\u001b[0m\u001b[0m\n\u001b[0m",
      "\u001b[1;32mc:\\program files\\python36\\lib\\site-packages\\numpy\\core\\fromnumeric.py\u001b[0m in \u001b[0;36margmax\u001b[1;34m(a, axis, out)\u001b[0m\n\u001b[0;32m   1101\u001b[0m \u001b[1;33m\u001b[0m\u001b[0m\n\u001b[0;32m   1102\u001b[0m     \"\"\"\n\u001b[1;32m-> 1103\u001b[1;33m     \u001b[1;32mreturn\u001b[0m \u001b[0m_wrapfunc\u001b[0m\u001b[1;33m(\u001b[0m\u001b[0ma\u001b[0m\u001b[1;33m,\u001b[0m \u001b[1;34m'argmax'\u001b[0m\u001b[1;33m,\u001b[0m \u001b[0maxis\u001b[0m\u001b[1;33m=\u001b[0m\u001b[0maxis\u001b[0m\u001b[1;33m,\u001b[0m \u001b[0mout\u001b[0m\u001b[1;33m=\u001b[0m\u001b[0mout\u001b[0m\u001b[1;33m)\u001b[0m\u001b[1;33m\u001b[0m\u001b[1;33m\u001b[0m\u001b[0m\n\u001b[0m\u001b[0;32m   1104\u001b[0m \u001b[1;33m\u001b[0m\u001b[0m\n\u001b[0;32m   1105\u001b[0m \u001b[1;33m\u001b[0m\u001b[0m\n",
      "\u001b[1;32mc:\\program files\\python36\\lib\\site-packages\\numpy\\core\\fromnumeric.py\u001b[0m in \u001b[0;36m_wrapfunc\u001b[1;34m(obj, method, *args, **kwds)\u001b[0m\n\u001b[0;32m     54\u001b[0m \u001b[1;32mdef\u001b[0m \u001b[0m_wrapfunc\u001b[0m\u001b[1;33m(\u001b[0m\u001b[0mobj\u001b[0m\u001b[1;33m,\u001b[0m \u001b[0mmethod\u001b[0m\u001b[1;33m,\u001b[0m \u001b[1;33m*\u001b[0m\u001b[0margs\u001b[0m\u001b[1;33m,\u001b[0m \u001b[1;33m**\u001b[0m\u001b[0mkwds\u001b[0m\u001b[1;33m)\u001b[0m\u001b[1;33m:\u001b[0m\u001b[1;33m\u001b[0m\u001b[1;33m\u001b[0m\u001b[0m\n\u001b[0;32m     55\u001b[0m     \u001b[1;32mtry\u001b[0m\u001b[1;33m:\u001b[0m\u001b[1;33m\u001b[0m\u001b[1;33m\u001b[0m\u001b[0m\n\u001b[1;32m---> 56\u001b[1;33m         \u001b[1;32mreturn\u001b[0m \u001b[0mgetattr\u001b[0m\u001b[1;33m(\u001b[0m\u001b[0mobj\u001b[0m\u001b[1;33m,\u001b[0m \u001b[0mmethod\u001b[0m\u001b[1;33m)\u001b[0m\u001b[1;33m(\u001b[0m\u001b[1;33m*\u001b[0m\u001b[0margs\u001b[0m\u001b[1;33m,\u001b[0m \u001b[1;33m**\u001b[0m\u001b[0mkwds\u001b[0m\u001b[1;33m)\u001b[0m\u001b[1;33m\u001b[0m\u001b[1;33m\u001b[0m\u001b[0m\n\u001b[0m\u001b[0;32m     57\u001b[0m \u001b[1;33m\u001b[0m\u001b[0m\n\u001b[0;32m     58\u001b[0m     \u001b[1;31m# An AttributeError occurs if the object does not have\u001b[0m\u001b[1;33m\u001b[0m\u001b[1;33m\u001b[0m\u001b[1;33m\u001b[0m\u001b[0m\n",
      "\u001b[1;31mAxisError\u001b[0m: axis 1 is out of bounds for array of dimension 1"
     ]
    }
   ],
   "source": [
    "f1_score(y_test, np.argmax(y_pred, axis=1), average=\"weighted\")"
   ]
  },
  {
   "cell_type": "code",
   "execution_count": 81,
   "metadata": {},
   "outputs": [
    {
     "name": "stdout",
     "output_type": "stream",
     "text": [
      "              precision    recall  f1-score   support\n",
      "\n",
      "           0       0.00      0.00      0.00        19\n",
      "           1       0.00      0.00      0.00        20\n",
      "           2       0.00      0.00      0.00        20\n",
      "           3       0.17      1.00      0.29        20\n",
      "           4       0.00      0.00      0.00        20\n",
      "           5       0.00      0.00      0.00        20\n",
      "\n",
      "    accuracy                           0.17       119\n",
      "   macro avg       0.03      0.17      0.05       119\n",
      "weighted avg       0.03      0.17      0.05       119\n",
      "\n"
     ]
    },
    {
     "name": "stderr",
     "output_type": "stream",
     "text": [
      "c:\\program files\\python36\\lib\\site-packages\\sklearn\\metrics\\classification.py:1437: UndefinedMetricWarning: Precision and F-score are ill-defined and being set to 0.0 in labels with no predicted samples.\n",
      "  'precision', 'predicted', average, warn_for)\n"
     ]
    }
   ],
   "source": [
    "print(classification_report(y_test, np.argmax(y_pred, axis=1)))"
   ]
  },
  {
   "cell_type": "code",
   "execution_count": 84,
   "metadata": {},
   "outputs": [
    {
     "name": "stdout",
     "output_type": "stream",
     "text": [
      "[[ 0  0  0 19  0  0]\n",
      " [ 0  0  0 20  0  0]\n",
      " [ 0  0  0 20  0  0]\n",
      " [ 0  0  0 20  0  0]\n",
      " [ 0  0  0 20  0  0]\n",
      " [ 0  0  0 20  0  0]]\n"
     ]
    }
   ],
   "source": [
    "print(confusion_matrix(y_test, y_pred.argmax(axis=1)))"
   ]
  },
  {
   "cell_type": "code",
   "execution_count": null,
   "metadata": {},
   "outputs": [],
   "source": []
  }
 ],
 "metadata": {
  "kernelspec": {
   "display_name": "Python 3 (ipykernel)",
   "language": "python",
   "name": "python3"
  },
  "language_info": {
   "codemirror_mode": {
    "name": "ipython",
    "version": 3
   },
   "file_extension": ".py",
   "mimetype": "text/x-python",
   "name": "python",
   "nbconvert_exporter": "python",
   "pygments_lexer": "ipython3",
   "version": "3.7.11"
  }
 },
 "nbformat": 4,
 "nbformat_minor": 2
}
