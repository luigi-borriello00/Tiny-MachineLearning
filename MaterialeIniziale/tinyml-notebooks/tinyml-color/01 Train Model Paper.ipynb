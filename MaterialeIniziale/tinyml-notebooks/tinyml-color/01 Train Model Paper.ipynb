{
 "cells": [
  {
   "cell_type": "code",
   "execution_count": 1,
   "metadata": {},
   "outputs": [
    {
     "name": "stderr",
     "output_type": "stream",
     "text": [
      "Using TensorFlow backend.\n"
     ]
    }
   ],
   "source": [
    "import pandas as pd\n",
    "import numpy as np\n",
    "import pickle\n",
    "from sklearn.model_selection import train_test_split\n",
    "from sklearn.preprocessing import StandardScaler\n",
    "from math import sqrt\n",
    "from sklearn.metrics import roc_auc_score, f1_score, classification_report, confusion_matrix\n",
    "from matplotlib import pyplot\n",
    "from sklearn.metrics import mean_squared_error, classification_report\n",
    "from keras.models import Sequential, Model \n",
    "from keras.layers import Dense, Input, concatenate, Activation, Dropout\n",
    "from keras.optimizers import Adam\n",
    "import tensorflow\n",
    "from keras.utils import to_categorical\n",
    "from sklearn.ensemble import RandomForestClassifier\n",
    "from sklearn.neural_network import MLPClassifier\n",
    "from micromlgen import port\n",
    "import tinymlgen as tiny"
   ]
  },
  {
   "cell_type": "code",
   "execution_count": 2,
   "metadata": {},
   "outputs": [],
   "source": [
    "RANDOM_SEED = 42"
   ]
  },
  {
   "cell_type": "code",
   "execution_count": 3,
   "metadata": {},
   "outputs": [],
   "source": [
    "np.random.seed(RANDOM_SEED)\n",
    "tensorflow.random.set_seed(RANDOM_SEED)"
   ]
  },
  {
   "cell_type": "code",
   "execution_count": 4,
   "metadata": {},
   "outputs": [],
   "source": [
    "with open('data/X_paper.pkl', 'rb') as f:\n",
    "    X = pickle.load(f)\n",
    "\n",
    "with open('data/y_paper.pkl', 'rb') as f:\n",
    "    y = pickle.load(f)"
   ]
  },
  {
   "cell_type": "code",
   "execution_count": 5,
   "metadata": {},
   "outputs": [
    {
     "data": {
      "text/plain": [
       "(1350, 5)"
      ]
     },
     "execution_count": 5,
     "metadata": {},
     "output_type": "execute_result"
    }
   ],
   "source": [
    "X.shape"
   ]
  },
  {
   "cell_type": "code",
   "execution_count": 6,
   "metadata": {},
   "outputs": [],
   "source": [
    "X = np.concatenate((X[:250], X[750:1000], X[1500:]), axis=0)\n",
    "y = np.concatenate((y[:250], y[750:1000], y[1500:]), axis=0)"
   ]
  },
  {
   "cell_type": "markdown",
   "metadata": {},
   "source": [
    "Split in train and test sets"
   ]
  },
  {
   "cell_type": "code",
   "execution_count": 7,
   "metadata": {},
   "outputs": [],
   "source": [
    "X_train, X_test, y_train, y_test = train_test_split(X, y, test_size=0.2, stratify=y, random_state=RANDOM_SEED)"
   ]
  },
  {
   "cell_type": "code",
   "execution_count": 8,
   "metadata": {},
   "outputs": [],
   "source": [
    "#y_train = pd.get_dummies(y_train).values\n",
    "#y_test = pd.get_dummies(y_test).values"
   ]
  },
  {
   "cell_type": "code",
   "execution_count": 9,
   "metadata": {},
   "outputs": [
    {
     "data": {
      "text/plain": [
       "array([5, 1, 4, 4, 5, 4, 5, 1, 4, 0, 5, 1, 4, 0, 4, 0, 4, 4, 1, 0, 0, 4,\n",
       "       0, 4, 0, 0, 4, 4, 4, 4, 4, 4, 0, 4, 4, 4, 4, 4, 0, 0, 4, 4, 4, 1,\n",
       "       5, 5, 0, 4, 1, 4, 5, 1, 0, 0, 1, 4, 0, 4, 0, 4, 1, 1, 1, 4, 1, 0,\n",
       "       4, 0, 4, 4, 4, 4, 4, 0, 0, 4, 4, 5, 0, 5, 4, 0, 4, 4, 1, 0, 0, 5,\n",
       "       0, 4, 4, 4, 4, 5, 4, 1, 1, 1, 5, 0, 1, 4, 1, 1, 4, 1, 4, 4, 4, 0,\n",
       "       5, 4, 4, 4, 1, 0, 1, 0, 1, 1, 0, 0, 1, 1, 4, 4, 4, 1, 4, 0, 1, 4,\n",
       "       5, 1, 0, 0, 5, 0, 1, 4, 0, 4, 1, 4, 4, 0, 1, 4, 4, 4, 0, 5, 4, 0,\n",
       "       0, 0, 0, 0, 4, 0, 0, 4, 4, 0, 4, 0, 4, 4, 4, 5, 0, 0, 5, 1, 4, 5,\n",
       "       0, 4, 4, 0, 0, 0, 0, 0, 0, 0, 4, 4, 5, 4, 0, 0, 4, 4, 0, 0, 0, 4,\n",
       "       1, 4, 1, 5, 0, 4, 5, 0, 4, 1, 4, 1, 4, 4, 4, 1, 5, 0, 5, 0, 1, 0,\n",
       "       4, 4, 5, 4, 0, 4, 0, 4, 1, 4, 4, 0, 1, 0, 5, 4, 5, 4, 4, 4, 4, 0,\n",
       "       0, 0, 4, 4, 1, 1, 0, 0, 4, 0, 4, 1, 0, 1, 5, 5, 4, 4, 4, 4, 0, 1,\n",
       "       4, 1, 4, 5, 4, 1, 0, 1, 4, 0, 1, 0, 4, 4, 5, 4, 1, 1, 4, 4, 4, 0,\n",
       "       1, 1, 4, 4, 0, 1, 4, 1, 1, 1, 0, 0, 1, 4, 4, 1, 5, 1, 1, 0, 4, 5,\n",
       "       0, 0, 4, 4, 1, 4, 4, 5, 1, 1, 1, 4, 1, 0, 1, 0, 0, 0, 4, 4, 0, 0,\n",
       "       5, 0, 1, 0, 4, 4, 4, 4, 0, 4, 0, 5, 0, 1, 4, 4, 0, 0, 4, 4, 5, 4,\n",
       "       0, 1, 5, 0, 4, 1, 1, 1, 0, 0, 0, 1, 4, 1, 4, 1, 4, 4, 4, 0, 0, 4,\n",
       "       1, 0, 0, 5, 0, 4, 0, 4, 4, 0, 4, 4, 5, 4, 0, 0, 4, 0, 0, 4, 1, 0,\n",
       "       4, 4, 0, 1])"
      ]
     },
     "execution_count": 9,
     "metadata": {},
     "output_type": "execute_result"
    }
   ],
   "source": [
    "y_train"
   ]
  },
  {
   "cell_type": "code",
   "execution_count": 10,
   "metadata": {},
   "outputs": [
    {
     "data": {
      "text/plain": [
       "5"
      ]
     },
     "execution_count": 10,
     "metadata": {},
     "output_type": "execute_result"
    }
   ],
   "source": [
    "X_train.shape[1]"
   ]
  },
  {
   "cell_type": "markdown",
   "metadata": {},
   "source": [
    "## Models Evaluation"
   ]
  },
  {
   "cell_type": "markdown",
   "metadata": {},
   "source": [
    "### RF"
   ]
  },
  {
   "cell_type": "code",
   "execution_count": 11,
   "metadata": {},
   "outputs": [],
   "source": [
    "model = RandomForestClassifier(n_estimators=50, random_state=42)\n",
    "#model = MLPClassifier(random_state=42)"
   ]
  },
  {
   "cell_type": "code",
   "execution_count": 12,
   "metadata": {},
   "outputs": [
    {
     "data": {
      "text/plain": [
       "RandomForestClassifier(bootstrap=True, class_weight=None, criterion='gini',\n",
       "                       max_depth=None, max_features='auto', max_leaf_nodes=None,\n",
       "                       min_impurity_decrease=0.0, min_impurity_split=None,\n",
       "                       min_samples_leaf=1, min_samples_split=2,\n",
       "                       min_weight_fraction_leaf=0.0, n_estimators=50,\n",
       "                       n_jobs=None, oob_score=False, random_state=42, verbose=0,\n",
       "                       warm_start=False)"
      ]
     },
     "execution_count": 12,
     "metadata": {},
     "output_type": "execute_result"
    }
   ],
   "source": [
    "model.fit(X_train, y_train)"
   ]
  },
  {
   "cell_type": "code",
   "execution_count": 13,
   "metadata": {},
   "outputs": [],
   "source": [
    "y_pred = model.predict(X_test)"
   ]
  },
  {
   "cell_type": "code",
   "execution_count": 14,
   "metadata": {},
   "outputs": [
    {
     "data": {
      "text/plain": [
       "0.762791461412151"
      ]
     },
     "execution_count": 14,
     "metadata": {},
     "output_type": "execute_result"
    }
   ],
   "source": [
    "f1_score(y_test, y_pred, average=\"weighted\")"
   ]
  },
  {
   "cell_type": "code",
   "execution_count": 15,
   "metadata": {},
   "outputs": [
    {
     "name": "stdout",
     "output_type": "stream",
     "text": [
      "              precision    recall  f1-score   support\n",
      "\n",
      "           0       0.87      0.87      0.87        30\n",
      "           1       0.86      0.95      0.90        20\n",
      "           4       0.74      0.88      0.80        40\n",
      "           5       0.00      0.00      0.00        10\n",
      "\n",
      "    accuracy                           0.80       100\n",
      "   macro avg       0.62      0.67      0.64       100\n",
      "weighted avg       0.73      0.80      0.76       100\n",
      "\n"
     ]
    }
   ],
   "source": [
    "print(classification_report(y_test, y_pred))"
   ]
  },
  {
   "cell_type": "code",
   "execution_count": 16,
   "metadata": {},
   "outputs": [
    {
     "name": "stdout",
     "output_type": "stream",
     "text": [
      "[[26  1  2  1]\n",
      " [ 0 19  1  0]\n",
      " [ 3  2 35  0]\n",
      " [ 1  0  9  0]]\n"
     ]
    }
   ],
   "source": [
    "print(confusion_matrix(y_test, y_pred))"
   ]
  },
  {
   "cell_type": "code",
   "execution_count": 17,
   "metadata": {},
   "outputs": [],
   "source": [
    "with open('tiny_rf_model_paper_3.h', 'w') as f:  # change path if needed\n",
    "    f.write(port(model, optimize=False))"
   ]
  },
  {
   "cell_type": "code",
   "execution_count": 18,
   "metadata": {},
   "outputs": [],
   "source": [
    "with open('models/rf_model_paper_3.pkl', 'wb') as f:\n",
    "    pickle.dump(model, f)\n"
   ]
  },
  {
   "cell_type": "markdown",
   "metadata": {},
   "source": [
    "### MLP"
   ]
  },
  {
   "cell_type": "code",
   "execution_count": 19,
   "metadata": {},
   "outputs": [
    {
     "name": "stdout",
     "output_type": "stream",
     "text": [
      "[[  22  110  101  222    0]\n",
      " [  21  102  100  220    0]\n",
      " [  21  102  100  212    0]\n",
      " ...\n",
      " [ 100  111  101 1001    0]\n",
      " [ 100  111  102 1002    0]\n",
      " [ 100  111  102 1002    0]]\n",
      "[0 0 0 0 0 0 0 0 0 0 0 0 0 0 0 0 0 0 0 0 0 0 0 0 0 0 0 0 0 0 0 0 0 0 0 0 0\n",
      " 0 0 0 0 0 0 0 0 0 0 0 0 0 0 0 0 0 0 0 0 0 0 0 0 0 0 0 0 0 0 0 0 0 0 0 0 0\n",
      " 0 0 0 0 0 0 0 0 0 0 0 0 0 0 0 0 0 0 0 0 0 0 0 0 0 0 0 0 0 0 0 0 0 0 0 0 0\n",
      " 0 0 0 0 0 0 0 0 0 0 0 0 0 0 0 0 0 0 0 0 0 0 0 0 0 0 0 0 0 0 0 0 0 0 0 0 0\n",
      " 0 0 1 1 1 1 1 1 1 1 1 1 1 1 1 1 1 1 1 1 1 1 1 1 1 1 1 1 1 1 1 1 1 1 1 1 1\n",
      " 1 1 1 1 1 1 1 1 1 1 1 1 1 1 1 1 1 1 1 1 1 1 1 1 1 1 1 1 1 1 1 1 1 1 1 1 1\n",
      " 1 1 1 1 1 1 1 1 1 1 1 1 1 1 1 1 1 1 1 1 1 1 1 1 1 1 1 1 4 4 4 4 4 4 4 4 4\n",
      " 4 4 4 4 4 4 4 4 4 4 4 4 4 4 4 4 4 4 4 4 4 4 4 4 4 4 4 4 4 4 4 4 4 4 4 4 4\n",
      " 4 4 4 4 4 4 4 4 4 4 4 4 4 4 4 4 4 4 4 4 4 4 4 4 4 4 4 4 4 4 4 4 4 4 4 4 4\n",
      " 4 4 4 4 4 4 4 4 4 4 4 4 4 4 4 4 4 4 4 4 4 4 4 4 4 4 4 4 4 4 4 4 4 4 4 4 4\n",
      " 4 4 4 4 4 4 4 4 4 4 4 4 4 4 4 4 4 4 4 4 4 4 4 4 4 4 4 4 4 4 4 4 4 4 4 4 4\n",
      " 4 4 4 4 4 4 4 4 4 4 4 4 4 4 4 4 4 4 4 4 4 4 4 4 4 4 4 4 4 4 4 4 4 4 4 4 4\n",
      " 4 4 4 4 4 4 5 5 5 5 5 5 5 5 5 5 5 5 5 5 5 5 5 5 5 5 5 5 5 5 5 5 5 5 5 5 5\n",
      " 5 5 5 5 5 5 5 5 5 5 5 5 5 5 5 5 5 5 5]\n"
     ]
    }
   ],
   "source": [
    "# design network\n",
    "print(X)\n",
    "print(y)\n",
    "model = Sequential()\n",
    "model.add(Dense(5, activation='relu', input_dim=5))\n",
    "model.add(Dense(250, activation='relu'))\n",
    "model.add(Dense(1, activation='softmax'))\n",
    "\n"
   ]
  },
  {
   "cell_type": "code",
   "execution_count": 40,
   "metadata": {},
   "outputs": [],
   "source": [
    "opt = Adam(lr=1e-5, decay=1e-5)\n",
    "#model.compile(loss='sparse_categorical_crossentropy', optimizer=opt, metrics=[\"accuracy\"])\n",
    "model.compile(loss='binary_crossentropy', optimizer='adam', metrics=['accuracy'])\n"
   ]
  },
  {
   "cell_type": "code",
   "execution_count": 41,
   "metadata": {
    "scrolled": true
   },
   "outputs": [
    {
     "name": "stdout",
     "output_type": "stream",
     "text": [
      "Epoch 1/100\n",
      "19/19 [==============================] - 0s 6ms/step - loss: -20.8406 - accuracy: 0.1967 - val_loss: -16.7742 - val_accuracy: 0.2100\n",
      "Epoch 2/100\n",
      "19/19 [==============================] - 0s 2ms/step - loss: -20.8406 - accuracy: 0.1967 - val_loss: -16.7742 - val_accuracy: 0.2100\n",
      "Epoch 3/100\n",
      "19/19 [==============================] - 0s 2ms/step - loss: -20.8406 - accuracy: 0.1967 - val_loss: -16.7742 - val_accuracy: 0.2100\n",
      "Epoch 4/100\n",
      "19/19 [==============================] - 0s 2ms/step - loss: -20.8406 - accuracy: 0.1967 - val_loss: -16.7742 - val_accuracy: 0.2100\n",
      "Epoch 5/100\n",
      "19/19 [==============================] - 0s 1ms/step - loss: -20.8406 - accuracy: 0.1967 - val_loss: -16.7742 - val_accuracy: 0.2100\n",
      "Epoch 6/100\n",
      "19/19 [==============================] - 0s 1ms/step - loss: -20.8406 - accuracy: 0.1967 - val_loss: -16.7742 - val_accuracy: 0.2100\n",
      "Epoch 7/100\n",
      "19/19 [==============================] - 0s 2ms/step - loss: -20.8406 - accuracy: 0.1967 - val_loss: -16.7742 - val_accuracy: 0.2100\n",
      "Epoch 8/100\n",
      "19/19 [==============================] - 0s 2ms/step - loss: -20.8406 - accuracy: 0.1967 - val_loss: -16.7742 - val_accuracy: 0.2100\n",
      "Epoch 9/100\n",
      "19/19 [==============================] - 0s 1ms/step - loss: -20.8406 - accuracy: 0.1967 - val_loss: -16.7742 - val_accuracy: 0.2100\n",
      "Epoch 10/100\n",
      "19/19 [==============================] - 0s 2ms/step - loss: -20.8406 - accuracy: 0.1967 - val_loss: -16.7742 - val_accuracy: 0.2100\n",
      "Epoch 11/100\n",
      "19/19 [==============================] - 0s 2ms/step - loss: -20.8406 - accuracy: 0.1967 - val_loss: -16.7742 - val_accuracy: 0.2100\n",
      "Epoch 12/100\n",
      "19/19 [==============================] - 0s 1ms/step - loss: -20.8406 - accuracy: 0.1967 - val_loss: -16.7742 - val_accuracy: 0.2100\n",
      "Epoch 13/100\n",
      "19/19 [==============================] - 0s 2ms/step - loss: -20.8406 - accuracy: 0.1967 - val_loss: -16.7742 - val_accuracy: 0.2100\n",
      "Epoch 14/100\n",
      "19/19 [==============================] - 0s 1ms/step - loss: -20.8406 - accuracy: 0.1967 - val_loss: -16.7742 - val_accuracy: 0.2100\n",
      "Epoch 15/100\n",
      "19/19 [==============================] - 0s 2ms/step - loss: -20.8406 - accuracy: 0.1967 - val_loss: -16.7742 - val_accuracy: 0.2100\n",
      "Epoch 16/100\n",
      "19/19 [==============================] - 0s 3ms/step - loss: -20.8406 - accuracy: 0.1967 - val_loss: -16.7742 - val_accuracy: 0.2100\n",
      "Epoch 17/100\n",
      "19/19 [==============================] - 0s 3ms/step - loss: -20.8406 - accuracy: 0.1967 - val_loss: -16.7742 - val_accuracy: 0.2100\n",
      "Epoch 18/100\n",
      "19/19 [==============================] - 0s 1ms/step - loss: -20.8406 - accuracy: 0.1967 - val_loss: -16.7742 - val_accuracy: 0.2100\n",
      "Epoch 19/100\n",
      "19/19 [==============================] - 0s 2ms/step - loss: -20.8406 - accuracy: 0.1967 - val_loss: -16.7742 - val_accuracy: 0.2100\n",
      "Epoch 20/100\n",
      "19/19 [==============================] - 0s 3ms/step - loss: -20.8406 - accuracy: 0.1967 - val_loss: -16.7742 - val_accuracy: 0.2100\n",
      "Epoch 21/100\n",
      "19/19 [==============================] - 0s 2ms/step - loss: -20.8406 - accuracy: 0.1967 - val_loss: -16.7742 - val_accuracy: 0.2100\n",
      "Epoch 22/100\n",
      "19/19 [==============================] - 0s 1ms/step - loss: -20.8406 - accuracy: 0.1967 - val_loss: -16.7742 - val_accuracy: 0.2100\n",
      "Epoch 23/100\n",
      "19/19 [==============================] - 0s 2ms/step - loss: -20.8406 - accuracy: 0.1967 - val_loss: -16.7742 - val_accuracy: 0.2100\n",
      "Epoch 24/100\n",
      "19/19 [==============================] - 0s 1ms/step - loss: -20.8406 - accuracy: 0.1967 - val_loss: -16.7742 - val_accuracy: 0.2100\n",
      "Epoch 25/100\n",
      "19/19 [==============================] - 0s 2ms/step - loss: -20.8406 - accuracy: 0.1967 - val_loss: -16.7742 - val_accuracy: 0.2100\n",
      "Epoch 26/100\n",
      "19/19 [==============================] - 0s 961us/step - loss: -20.8406 - accuracy: 0.1967 - val_loss: -16.7742 - val_accuracy: 0.2100\n",
      "Epoch 27/100\n",
      "19/19 [==============================] - 0s 1ms/step - loss: -20.8406 - accuracy: 0.1967 - val_loss: -16.7742 - val_accuracy: 0.2100\n",
      "Epoch 28/100\n",
      "19/19 [==============================] - 0s 2ms/step - loss: -20.8406 - accuracy: 0.1967 - val_loss: -16.7742 - val_accuracy: 0.2100\n",
      "Epoch 29/100\n",
      "19/19 [==============================] - 0s 959us/step - loss: -20.8406 - accuracy: 0.1967 - val_loss: -16.7742 - val_accuracy: 0.2100\n",
      "Epoch 30/100\n",
      "19/19 [==============================] - 0s 1ms/step - loss: -20.8406 - accuracy: 0.1967 - val_loss: -16.7742 - val_accuracy: 0.2100\n",
      "Epoch 31/100\n",
      "19/19 [==============================] - 0s 2ms/step - loss: -20.8406 - accuracy: 0.1967 - val_loss: -16.7742 - val_accuracy: 0.2100\n",
      "Epoch 32/100\n",
      "19/19 [==============================] - 0s 1ms/step - loss: -20.8406 - accuracy: 0.1967 - val_loss: -16.7742 - val_accuracy: 0.2100\n",
      "Epoch 33/100\n",
      "19/19 [==============================] - 0s 2ms/step - loss: -20.8406 - accuracy: 0.1967 - val_loss: -16.7742 - val_accuracy: 0.2100\n",
      "Epoch 34/100\n",
      "19/19 [==============================] - 0s 2ms/step - loss: -20.8406 - accuracy: 0.1967 - val_loss: -16.7742 - val_accuracy: 0.2100\n",
      "Epoch 35/100\n",
      "19/19 [==============================] - 0s 2ms/step - loss: -20.8406 - accuracy: 0.1967 - val_loss: -16.7742 - val_accuracy: 0.2100\n",
      "Epoch 36/100\n",
      "19/19 [==============================] - 0s 1ms/step - loss: -20.8406 - accuracy: 0.1967 - val_loss: -16.7742 - val_accuracy: 0.2100\n",
      "Epoch 37/100\n",
      "19/19 [==============================] - 0s 1ms/step - loss: -20.8406 - accuracy: 0.1967 - val_loss: -16.7742 - val_accuracy: 0.2100\n",
      "Epoch 38/100\n",
      "19/19 [==============================] - 0s 2ms/step - loss: -20.8406 - accuracy: 0.1967 - val_loss: -16.7742 - val_accuracy: 0.2100\n",
      "Epoch 39/100\n",
      "19/19 [==============================] - 0s 1ms/step - loss: -20.8406 - accuracy: 0.1967 - val_loss: -16.7742 - val_accuracy: 0.2100\n",
      "Epoch 40/100\n",
      "19/19 [==============================] - 0s 2ms/step - loss: -20.8406 - accuracy: 0.1967 - val_loss: -16.7742 - val_accuracy: 0.2100\n",
      "Epoch 41/100\n",
      "19/19 [==============================] - 0s 1ms/step - loss: -20.8406 - accuracy: 0.1967 - val_loss: -16.7742 - val_accuracy: 0.2100\n",
      "Epoch 42/100\n",
      "19/19 [==============================] - 0s 2ms/step - loss: -20.8406 - accuracy: 0.1967 - val_loss: -16.7742 - val_accuracy: 0.2100\n",
      "Epoch 43/100\n",
      "19/19 [==============================] - 0s 1ms/step - loss: -20.8406 - accuracy: 0.1967 - val_loss: -16.7742 - val_accuracy: 0.2100\n",
      "Epoch 44/100\n",
      "19/19 [==============================] - 0s 1ms/step - loss: -20.8406 - accuracy: 0.1967 - val_loss: -16.7742 - val_accuracy: 0.2100\n",
      "Epoch 45/100\n",
      "19/19 [==============================] - 0s 1ms/step - loss: -20.8406 - accuracy: 0.1967 - val_loss: -16.7742 - val_accuracy: 0.2100\n",
      "Epoch 46/100\n",
      "19/19 [==============================] - 0s 1ms/step - loss: -20.8406 - accuracy: 0.1967 - val_loss: -16.7742 - val_accuracy: 0.2100\n",
      "Epoch 47/100\n",
      "19/19 [==============================] - 0s 2ms/step - loss: -20.8406 - accuracy: 0.1967 - val_loss: -16.7742 - val_accuracy: 0.2100\n",
      "Epoch 48/100\n",
      "19/19 [==============================] - 0s 2ms/step - loss: -20.8406 - accuracy: 0.1967 - val_loss: -16.7742 - val_accuracy: 0.2100\n",
      "Epoch 49/100\n",
      "19/19 [==============================] - 0s 1ms/step - loss: -20.8406 - accuracy: 0.1967 - val_loss: -16.7742 - val_accuracy: 0.2100\n",
      "Epoch 50/100\n",
      "19/19 [==============================] - 0s 2ms/step - loss: -20.8406 - accuracy: 0.1967 - val_loss: -16.7742 - val_accuracy: 0.2100\n",
      "Epoch 51/100\n",
      "19/19 [==============================] - 0s 1ms/step - loss: -20.8406 - accuracy: 0.1967 - val_loss: -16.7742 - val_accuracy: 0.2100\n",
      "Epoch 52/100\n",
      "19/19 [==============================] - 0s 1ms/step - loss: -20.8406 - accuracy: 0.1967 - val_loss: -16.7742 - val_accuracy: 0.2100\n",
      "Epoch 53/100\n",
      "19/19 [==============================] - 0s 2ms/step - loss: -20.8406 - accuracy: 0.1967 - val_loss: -16.7742 - val_accuracy: 0.2100\n",
      "Epoch 54/100\n",
      "19/19 [==============================] - 0s 2ms/step - loss: -20.8406 - accuracy: 0.1967 - val_loss: -16.7742 - val_accuracy: 0.2100\n",
      "Epoch 55/100\n",
      "19/19 [==============================] - 0s 2ms/step - loss: -20.8406 - accuracy: 0.1967 - val_loss: -16.7742 - val_accuracy: 0.2100\n",
      "Epoch 56/100\n",
      "19/19 [==============================] - 0s 2ms/step - loss: -20.8406 - accuracy: 0.1967 - val_loss: -16.7742 - val_accuracy: 0.2100\n",
      "Epoch 57/100\n",
      "19/19 [==============================] - 0s 2ms/step - loss: -20.8406 - accuracy: 0.1967 - val_loss: -16.7742 - val_accuracy: 0.2100\n",
      "Epoch 58/100\n",
      "19/19 [==============================] - 0s 1ms/step - loss: -20.8406 - accuracy: 0.1967 - val_loss: -16.7742 - val_accuracy: 0.2100\n",
      "Epoch 59/100\n",
      "19/19 [==============================] - 0s 2ms/step - loss: -20.8406 - accuracy: 0.1967 - val_loss: -16.7742 - val_accuracy: 0.2100\n",
      "Epoch 60/100\n",
      "19/19 [==============================] - 0s 2ms/step - loss: -20.8406 - accuracy: 0.1967 - val_loss: -16.7742 - val_accuracy: 0.2100\n",
      "Epoch 61/100\n",
      "19/19 [==============================] - 0s 1ms/step - loss: -20.8406 - accuracy: 0.1967 - val_loss: -16.7742 - val_accuracy: 0.2100\n",
      "Epoch 62/100\n",
      "19/19 [==============================] - 0s 2ms/step - loss: -20.8406 - accuracy: 0.1967 - val_loss: -16.7742 - val_accuracy: 0.2100\n",
      "Epoch 63/100\n",
      "19/19 [==============================] - 0s 1ms/step - loss: -20.8406 - accuracy: 0.1967 - val_loss: -16.7742 - val_accuracy: 0.2100\n",
      "Epoch 64/100\n",
      "19/19 [==============================] - 0s 1ms/step - loss: -20.8406 - accuracy: 0.1967 - val_loss: -16.7742 - val_accuracy: 0.2100\n",
      "Epoch 65/100\n",
      "19/19 [==============================] - 0s 2ms/step - loss: -20.8406 - accuracy: 0.1967 - val_loss: -16.7742 - val_accuracy: 0.2100\n",
      "Epoch 66/100\n",
      "19/19 [==============================] - 0s 963us/step - loss: -20.8406 - accuracy: 0.1967 - val_loss: -16.7742 - val_accuracy: 0.2100\n",
      "Epoch 67/100\n",
      "19/19 [==============================] - 0s 1ms/step - loss: -20.8406 - accuracy: 0.1967 - val_loss: -16.7742 - val_accuracy: 0.2100\n",
      "Epoch 68/100\n",
      "19/19 [==============================] - 0s 2ms/step - loss: -20.8406 - accuracy: 0.1967 - val_loss: -16.7742 - val_accuracy: 0.2100\n",
      "Epoch 69/100\n",
      "19/19 [==============================] - 0s 1ms/step - loss: -20.8406 - accuracy: 0.1967 - val_loss: -16.7742 - val_accuracy: 0.2100\n",
      "Epoch 70/100\n",
      "19/19 [==============================] - 0s 1ms/step - loss: -20.8406 - accuracy: 0.1967 - val_loss: -16.7742 - val_accuracy: 0.2100\n",
      "Epoch 71/100\n",
      "19/19 [==============================] - 0s 1ms/step - loss: -20.8406 - accuracy: 0.1967 - val_loss: -16.7742 - val_accuracy: 0.2100\n",
      "Epoch 72/100\n",
      "19/19 [==============================] - 0s 1ms/step - loss: -20.8406 - accuracy: 0.1967 - val_loss: -16.7742 - val_accuracy: 0.2100\n",
      "Epoch 73/100\n",
      "19/19 [==============================] - 0s 2ms/step - loss: -20.8406 - accuracy: 0.1967 - val_loss: -16.7742 - val_accuracy: 0.2100\n",
      "Epoch 74/100\n",
      "19/19 [==============================] - 0s 1ms/step - loss: -20.8406 - accuracy: 0.1967 - val_loss: -16.7742 - val_accuracy: 0.2100\n",
      "Epoch 75/100\n",
      "19/19 [==============================] - 0s 2ms/step - loss: -20.8406 - accuracy: 0.1967 - val_loss: -16.7742 - val_accuracy: 0.2100\n",
      "Epoch 76/100\n",
      "19/19 [==============================] - 0s 1ms/step - loss: -20.8406 - accuracy: 0.1967 - val_loss: -16.7742 - val_accuracy: 0.2100\n",
      "Epoch 77/100\n",
      "19/19 [==============================] - 0s 1ms/step - loss: -20.8406 - accuracy: 0.1967 - val_loss: -16.7742 - val_accuracy: 0.2100\n",
      "Epoch 78/100\n",
      "19/19 [==============================] - 0s 2ms/step - loss: -20.8406 - accuracy: 0.1967 - val_loss: -16.7742 - val_accuracy: 0.2100\n",
      "Epoch 79/100\n",
      "19/19 [==============================] - 0s 1ms/step - loss: -20.8406 - accuracy: 0.1967 - val_loss: -16.7742 - val_accuracy: 0.2100\n",
      "Epoch 80/100\n",
      "19/19 [==============================] - 0s 2ms/step - loss: -20.8406 - accuracy: 0.1967 - val_loss: -16.7742 - val_accuracy: 0.2100\n",
      "Epoch 81/100\n",
      "19/19 [==============================] - 0s 1ms/step - loss: -20.8406 - accuracy: 0.1967 - val_loss: -16.7742 - val_accuracy: 0.2100\n",
      "Epoch 82/100\n",
      "19/19 [==============================] - 0s 2ms/step - loss: -20.8406 - accuracy: 0.1967 - val_loss: -16.7742 - val_accuracy: 0.2100\n",
      "Epoch 83/100\n",
      "19/19 [==============================] - 0s 1ms/step - loss: -20.8406 - accuracy: 0.1967 - val_loss: -16.7742 - val_accuracy: 0.2100\n",
      "Epoch 84/100\n",
      "19/19 [==============================] - 0s 2ms/step - loss: -20.8406 - accuracy: 0.1967 - val_loss: -16.7742 - val_accuracy: 0.2100\n",
      "Epoch 85/100\n",
      "19/19 [==============================] - 0s 1ms/step - loss: -20.8406 - accuracy: 0.1967 - val_loss: -16.7742 - val_accuracy: 0.2100\n",
      "Epoch 86/100\n",
      "19/19 [==============================] - 0s 1ms/step - loss: -20.8406 - accuracy: 0.1967 - val_loss: -16.7742 - val_accuracy: 0.2100\n",
      "Epoch 87/100\n",
      "19/19 [==============================] - 0s 2ms/step - loss: -20.8406 - accuracy: 0.1967 - val_loss: -16.7742 - val_accuracy: 0.2100\n",
      "Epoch 88/100\n",
      "19/19 [==============================] - 0s 1ms/step - loss: -20.8406 - accuracy: 0.1967 - val_loss: -16.7742 - val_accuracy: 0.2100\n",
      "Epoch 89/100\n",
      "19/19 [==============================] - 0s 2ms/step - loss: -20.8406 - accuracy: 0.1967 - val_loss: -16.7742 - val_accuracy: 0.2100\n",
      "Epoch 90/100\n",
      "19/19 [==============================] - 0s 1ms/step - loss: -20.8406 - accuracy: 0.1967 - val_loss: -16.7742 - val_accuracy: 0.2100\n",
      "Epoch 91/100\n",
      "19/19 [==============================] - 0s 2ms/step - loss: -20.8406 - accuracy: 0.1967 - val_loss: -16.7742 - val_accuracy: 0.2100\n",
      "Epoch 92/100\n",
      "19/19 [==============================] - 0s 1ms/step - loss: -20.8406 - accuracy: 0.1967 - val_loss: -16.7742 - val_accuracy: 0.2100\n",
      "Epoch 93/100\n",
      "19/19 [==============================] - 0s 1ms/step - loss: -20.8406 - accuracy: 0.1967 - val_loss: -16.7742 - val_accuracy: 0.2100\n",
      "Epoch 94/100\n",
      "19/19 [==============================] - 0s 2ms/step - loss: -20.8406 - accuracy: 0.1967 - val_loss: -16.7742 - val_accuracy: 0.2100\n",
      "Epoch 95/100\n",
      "19/19 [==============================] - 0s 1ms/step - loss: -20.8406 - accuracy: 0.1967 - val_loss: -16.7742 - val_accuracy: 0.2100\n",
      "Epoch 96/100\n",
      "19/19 [==============================] - 0s 2ms/step - loss: -20.8406 - accuracy: 0.1967 - val_loss: -16.7742 - val_accuracy: 0.2100\n",
      "Epoch 97/100\n",
      "19/19 [==============================] - 0s 2ms/step - loss: -20.8406 - accuracy: 0.1967 - val_loss: -16.7742 - val_accuracy: 0.2100\n",
      "Epoch 98/100\n",
      "19/19 [==============================] - 0s 1ms/step - loss: -20.8406 - accuracy: 0.1967 - val_loss: -16.7742 - val_accuracy: 0.2100\n",
      "Epoch 99/100\n",
      "19/19 [==============================] - 0s 2ms/step - loss: -20.8406 - accuracy: 0.1967 - val_loss: -16.7742 - val_accuracy: 0.2100\n",
      "Epoch 100/100\n",
      "19/19 [==============================] - 0s 2ms/step - loss: -20.8406 - accuracy: 0.1967 - val_loss: -16.7742 - val_accuracy: 0.2100\n"
     ]
    }
   ],
   "source": [
    "# fit network\n",
    "history = model.fit(x=X_train, y=y_train, epochs=100, batch_size=16, validation_split=0.25, verbose=1, shuffle=True)"
   ]
  },
  {
   "cell_type": "code",
   "execution_count": 26,
   "metadata": {},
   "outputs": [
    {
     "name": "stdout",
     "output_type": "stream",
     "text": [
      "WARNING:tensorflow:From C:\\Users\\luigi.borriello2\\.conda\\envs\\ts\\lib\\site-packages\\tensorflow\\python\\training\\tracking\\tracking.py:111: Model.state_updates (from tensorflow.python.keras.engine.training) is deprecated and will be removed in a future version.\n",
      "Instructions for updating:\n",
      "This property should not be used in TensorFlow 2.0, as updates are applied automatically.\n",
      "WARNING:tensorflow:From C:\\Users\\luigi.borriello2\\.conda\\envs\\ts\\lib\\site-packages\\tensorflow\\python\\training\\tracking\\tracking.py:111: Layer.updates (from tensorflow.python.keras.engine.base_layer) is deprecated and will be removed in a future version.\n",
      "Instructions for updating:\n",
      "This property should not be used in TensorFlow 2.0, as updates are applied automatically.\n",
      "INFO:tensorflow:Assets written to: models/assets\n"
     ]
    }
   ],
   "source": [
    "model.save('models/')"
   ]
  },
  {
   "cell_type": "code",
   "execution_count": 27,
   "metadata": {},
   "outputs": [],
   "source": [
    "with open('models/rnn-cnn-history.pkl', 'wb') as file_pi:\n",
    "    pickle.dump(history.history, file_pi)"
   ]
  },
  {
   "cell_type": "code",
   "execution_count": 28,
   "metadata": {},
   "outputs": [
    {
     "data": {
      "image/png": "[encoded data removed]",
      "text/plain": [
       "<Figure size 432x288 with 1 Axes>"
      ]
     },
     "metadata": {
      "needs_background": "light"
     },
     "output_type": "display_data"
    }
   ],
   "source": [
    "# plot history\n",
    "pyplot.plot(history.history['loss'], label='train')\n",
    "pyplot.plot(history.history['val_loss'], label='validation')\n",
    "pyplot.legend()\n",
    "pyplot.show()"
   ]
  },
  {
   "cell_type": "code",
   "execution_count": 29,
   "metadata": {},
   "outputs": [],
   "source": [
    "# make a prediction\n",
    "y_pred = model.predict(X_test)"
   ]
  },
  {
   "cell_type": "code",
   "execution_count": 30,
   "metadata": {},
   "outputs": [
    {
     "data": {
      "text/plain": [
       "array([0, 0, 0, 0, 0, 0, 0, 0, 0, 0, 0, 0, 0, 0, 0, 0, 0, 0, 0, 0, 0, 0,\n",
       "       0, 0, 0, 0, 0, 0, 0, 0, 0, 0, 0, 0, 0, 0, 0, 0, 0, 0, 0, 0, 0, 0,\n",
       "       0, 0, 0, 0, 0, 0, 0, 0, 0, 0, 0, 0, 0, 0, 0, 0, 0, 0, 0, 0, 0, 0,\n",
       "       0, 0, 0, 0, 0, 0, 0, 0, 0, 0, 0, 0, 0, 0, 0, 0, 0, 0, 0, 0, 0, 0,\n",
       "       0, 0, 0, 0, 0, 0, 0, 0, 0, 0, 0, 0], dtype=int64)"
      ]
     },
     "execution_count": 30,
     "metadata": {},
     "output_type": "execute_result"
    }
   ],
   "source": [
    "np.argmax(y_pred, axis=1)"
   ]
  },
  {
   "cell_type": "code",
   "execution_count": 31,
   "metadata": {},
   "outputs": [
    {
     "name": "stderr",
     "output_type": "stream",
     "text": [
      "C:\\Users\\luigi.borriello2\\.conda\\envs\\ts\\lib\\site-packages\\sklearn\\metrics\\classification.py:1437: UndefinedMetricWarning: F-score is ill-defined and being set to 0.0 in labels with no predicted samples.\n",
      "  'precision', 'predicted', average, warn_for)\n"
     ]
    },
    {
     "data": {
      "text/plain": [
       "0.13846153846153844"
      ]
     },
     "execution_count": 31,
     "metadata": {},
     "output_type": "execute_result"
    }
   ],
   "source": [
    "f1_score(y_test, np.argmax(y_pred, axis=1), average=\"weighted\")"
   ]
  },
  {
   "cell_type": "code",
   "execution_count": 32,
   "metadata": {},
   "outputs": [
    {
     "name": "stdout",
     "output_type": "stream",
     "text": [
      "              precision    recall  f1-score   support\n",
      "\n",
      "           0       0.30      1.00      0.46        30\n",
      "           1       0.00      0.00      0.00        20\n",
      "           4       0.00      0.00      0.00        40\n",
      "           5       0.00      0.00      0.00        10\n",
      "\n",
      "    accuracy                           0.30       100\n",
      "   macro avg       0.07      0.25      0.12       100\n",
      "weighted avg       0.09      0.30      0.14       100\n",
      "\n"
     ]
    },
    {
     "name": "stderr",
     "output_type": "stream",
     "text": [
      "C:\\Users\\luigi.borriello2\\.conda\\envs\\ts\\lib\\site-packages\\sklearn\\metrics\\classification.py:1437: UndefinedMetricWarning: Precision and F-score are ill-defined and being set to 0.0 in labels with no predicted samples.\n",
      "  'precision', 'predicted', average, warn_for)\n"
     ]
    }
   ],
   "source": [
    "print(classification_report(y_test, np.argmax(y_pred, axis=1)))"
   ]
  },
  {
   "cell_type": "code",
   "execution_count": 33,
   "metadata": {},
   "outputs": [
    {
     "name": "stdout",
     "output_type": "stream",
     "text": [
      "[[30  0  0  0]\n",
      " [20  0  0  0]\n",
      " [40  0  0  0]\n",
      " [10  0  0  0]]\n"
     ]
    }
   ],
   "source": [
    "print(confusion_matrix(y_test, y_pred.argmax(axis=1)))"
   ]
  },
  {
   "cell_type": "code",
   "execution_count": 34,
   "metadata": {},
   "outputs": [
    {
     "data": {
      "text/plain": [
       "'2.3.0'"
      ]
     },
     "execution_count": 34,
     "metadata": {},
     "output_type": "execute_result"
    }
   ],
   "source": [
    "tensorflow.__version__"
   ]
  },
  {
   "cell_type": "code",
   "execution_count": 35,
   "metadata": {},
   "outputs": [
    {
     "name": "stdout",
     "output_type": "stream",
     "text": [
      "INFO:tensorflow:Assets written to: C:\\Users\\LUIGI~1.BOR\\AppData\\Local\\Temp\\tmpvc8570v7\\assets\n",
      "<class 'str'>\n",
      "INFO:tensorflow:Assets written to: C:\\Users\\LUIGI~1.BOR\\AppData\\Local\\Temp\\tmphnx6a2ni\\assets\n"
     ]
    },
    {
     "name": "stderr",
     "output_type": "stream",
     "text": [
      "INFO:tensorflow:Assets written to: C:\\Users\\LUIGI~1.BOR\\AppData\\Local\\Temp\\tmphnx6a2ni\\assets\n"
     ]
    }
   ],
   "source": [
    "exp = tiny.port(model)\n",
    "print(type(exp))\n",
    "\n",
    "with open('./neuralNetwork.h', 'w') as f:\n",
    "    f.write(tiny.port(model, optimize=False))"
   ]
  },
  {
   "cell_type": "code",
   "execution_count": null,
   "metadata": {},
   "outputs": [],
   "source": []
  },
  {
   "cell_type": "code",
   "execution_count": null,
   "metadata": {},
   "outputs": [],
   "source": []
  }
 ],
 "metadata": {
  "kernelspec": {
   "display_name": "Python 3 (ipykernel)",
   "language": "python",
   "name": "python3"
  },
  "language_info": {
   "codemirror_mode": {
    "name": "ipython",
    "version": 3
   },
   "file_extension": ".py",
   "mimetype": "text/x-python",
   "name": "python",
   "nbconvert_exporter": "python",
   "pygments_lexer": "ipython3",
   "version": "3.7.11"
  }
 },
 "nbformat": 4,
 "nbformat_minor": 2
}
