{
 "cells": [
  {
   "cell_type": "code",
   "execution_count": 1,
   "metadata": {},
   "outputs": [
    {
     "name": "stderr",
     "output_type": "stream",
     "text": [
      "Using TensorFlow backend.\n"
     ]
    }
   ],
   "source": [
    "import pandas as pd\n",
    "import numpy as np\n",
    "import pickle\n",
    "from sklearn.model_selection import train_test_split\n",
    "from sklearn.preprocessing import StandardScaler\n",
    "from math import sqrt\n",
    "from sklearn.metrics import roc_auc_score, f1_score, classification_report, confusion_matrix\n",
    "from matplotlib import pyplot\n",
    "from sklearn.metrics import mean_squared_error, classification_report\n",
    "from keras.models import Sequential, Model \n",
    "from keras.layers import Dense, Input, concatenate, Activation, Dropout\n",
    "from keras.optimizers import Adam\n",
    "import tensorflow\n",
    "from keras.utils import to_categorical\n",
    "from sklearn.ensemble import RandomForestClassifier\n",
    "from sklearn.neural_network import MLPClassifier\n",
    "from micromlgen import port\n",
    "import tinymlgen as tiny"
   ]
  },
  {
   "cell_type": "code",
   "execution_count": 2,
   "metadata": {},
   "outputs": [],
   "source": [
    "RANDOM_SEED = 42"
   ]
  },
  {
   "cell_type": "code",
   "execution_count": 3,
   "metadata": {},
   "outputs": [],
   "source": [
    "np.random.seed(RANDOM_SEED)\n",
    "tensorflow.random.set_seed(RANDOM_SEED)"
   ]
  },
  {
   "cell_type": "code",
   "execution_count": 4,
   "metadata": {},
   "outputs": [],
   "source": [
    "with open('data/X_paper.pkl', 'rb') as f:\n",
    "    X = pickle.load(f)\n",
    "\n",
    "with open('data/y_paper.pkl', 'rb') as f:\n",
    "    y = pickle.load(f)"
   ]
  },
  {
   "cell_type": "code",
   "execution_count": 5,
   "metadata": {},
   "outputs": [
    {
     "data": {
      "text/plain": [
       "(1350, 5)"
      ]
     },
     "execution_count": 5,
     "metadata": {},
     "output_type": "execute_result"
    }
   ],
   "source": [
    "X.shape"
   ]
  },
  {
   "cell_type": "code",
   "execution_count": 6,
   "metadata": {},
   "outputs": [],
   "source": [
    "X = np.concatenate((X[:250], X[750:1000], X[1500:]), axis=0)\n",
    "y = np.concatenate((y[:250], y[750:1000], y[1500:]), axis=0)"
   ]
  },
  {
   "cell_type": "markdown",
   "metadata": {},
   "source": [
    "Split in train and test sets"
   ]
  },
  {
   "cell_type": "code",
   "execution_count": 7,
   "metadata": {},
   "outputs": [],
   "source": [
    "X_train, X_test, y_train, y_test = train_test_split(X, y, test_size=0.2, stratify=y, random_state=RANDOM_SEED)"
   ]
  },
  {
   "cell_type": "code",
   "execution_count": 8,
   "metadata": {},
   "outputs": [],
   "source": [
    "#y_train = pd.get_dummies(y_train).values\n",
    "#y_test = pd.get_dummies(y_test).values"
   ]
  },
  {
   "cell_type": "code",
   "execution_count": 9,
   "metadata": {},
   "outputs": [
    {
     "data": {
      "text/plain": [
       "array([5, 1, 4, 4, 5, 4, 5, 1, 4, 0, 5, 1, 4, 0, 4, 0, 4, 4, 1, 0, 0, 4,\n",
       "       0, 4, 0, 0, 4, 4, 4, 4, 4, 4, 0, 4, 4, 4, 4, 4, 0, 0, 4, 4, 4, 1,\n",
       "       5, 5, 0, 4, 1, 4, 5, 1, 0, 0, 1, 4, 0, 4, 0, 4, 1, 1, 1, 4, 1, 0,\n",
       "       4, 0, 4, 4, 4, 4, 4, 0, 0, 4, 4, 5, 0, 5, 4, 0, 4, 4, 1, 0, 0, 5,\n",
       "       0, 4, 4, 4, 4, 5, 4, 1, 1, 1, 5, 0, 1, 4, 1, 1, 4, 1, 4, 4, 4, 0,\n",
       "       5, 4, 4, 4, 1, 0, 1, 0, 1, 1, 0, 0, 1, 1, 4, 4, 4, 1, 4, 0, 1, 4,\n",
       "       5, 1, 0, 0, 5, 0, 1, 4, 0, 4, 1, 4, 4, 0, 1, 4, 4, 4, 0, 5, 4, 0,\n",
       "       0, 0, 0, 0, 4, 0, 0, 4, 4, 0, 4, 0, 4, 4, 4, 5, 0, 0, 5, 1, 4, 5,\n",
       "       0, 4, 4, 0, 0, 0, 0, 0, 0, 0, 4, 4, 5, 4, 0, 0, 4, 4, 0, 0, 0, 4,\n",
       "       1, 4, 1, 5, 0, 4, 5, 0, 4, 1, 4, 1, 4, 4, 4, 1, 5, 0, 5, 0, 1, 0,\n",
       "       4, 4, 5, 4, 0, 4, 0, 4, 1, 4, 4, 0, 1, 0, 5, 4, 5, 4, 4, 4, 4, 0,\n",
       "       0, 0, 4, 4, 1, 1, 0, 0, 4, 0, 4, 1, 0, 1, 5, 5, 4, 4, 4, 4, 0, 1,\n",
       "       4, 1, 4, 5, 4, 1, 0, 1, 4, 0, 1, 0, 4, 4, 5, 4, 1, 1, 4, 4, 4, 0,\n",
       "       1, 1, 4, 4, 0, 1, 4, 1, 1, 1, 0, 0, 1, 4, 4, 1, 5, 1, 1, 0, 4, 5,\n",
       "       0, 0, 4, 4, 1, 4, 4, 5, 1, 1, 1, 4, 1, 0, 1, 0, 0, 0, 4, 4, 0, 0,\n",
       "       5, 0, 1, 0, 4, 4, 4, 4, 0, 4, 0, 5, 0, 1, 4, 4, 0, 0, 4, 4, 5, 4,\n",
       "       0, 1, 5, 0, 4, 1, 1, 1, 0, 0, 0, 1, 4, 1, 4, 1, 4, 4, 4, 0, 0, 4,\n",
       "       1, 0, 0, 5, 0, 4, 0, 4, 4, 0, 4, 4, 5, 4, 0, 0, 4, 0, 0, 4, 1, 0,\n",
       "       4, 4, 0, 1])"
      ]
     },
     "execution_count": 9,
     "metadata": {},
     "output_type": "execute_result"
    }
   ],
   "source": [
    "y_train"
   ]
  },
  {
   "cell_type": "code",
   "execution_count": 10,
   "metadata": {},
   "outputs": [
    {
     "data": {
      "text/plain": [
       "5"
      ]
     },
     "execution_count": 10,
     "metadata": {},
     "output_type": "execute_result"
    }
   ],
   "source": [
    "X_train.shape[1]"
   ]
  },
  {
   "cell_type": "markdown",
   "metadata": {},
   "source": [
    "## Models Evaluation"
   ]
  },
  {
   "cell_type": "markdown",
   "metadata": {},
   "source": [
    "### RF"
   ]
  },
  {
   "cell_type": "code",
   "execution_count": 11,
   "metadata": {},
   "outputs": [],
   "source": [
    "model = RandomForestClassifier(n_estimators=50, random_state=42)\n",
    "#model = MLPClassifier(random_state=42)"
   ]
  },
  {
   "cell_type": "code",
   "execution_count": 12,
   "metadata": {},
   "outputs": [
    {
     "data": {
      "text/plain": [
       "RandomForestClassifier(bootstrap=True, class_weight=None, criterion='gini',\n",
       "                       max_depth=None, max_features='auto', max_leaf_nodes=None,\n",
       "                       min_impurity_decrease=0.0, min_impurity_split=None,\n",
       "                       min_samples_leaf=1, min_samples_split=2,\n",
       "                       min_weight_fraction_leaf=0.0, n_estimators=50,\n",
       "                       n_jobs=None, oob_score=False, random_state=42, verbose=0,\n",
       "                       warm_start=False)"
      ]
     },
     "execution_count": 12,
     "metadata": {},
     "output_type": "execute_result"
    }
   ],
   "source": [
    "model.fit(X_train, y_train)"
   ]
  },
  {
   "cell_type": "code",
   "execution_count": 13,
   "metadata": {},
   "outputs": [],
   "source": [
    "y_pred = model.predict(X_test)"
   ]
  },
  {
   "cell_type": "code",
   "execution_count": 14,
   "metadata": {},
   "outputs": [
    {
     "data": {
      "text/plain": [
       "0.762791461412151"
      ]
     },
     "execution_count": 14,
     "metadata": {},
     "output_type": "execute_result"
    }
   ],
   "source": [
    "f1_score(y_test, y_pred, average=\"weighted\")"
   ]
  },
  {
   "cell_type": "code",
   "execution_count": 15,
   "metadata": {},
   "outputs": [
    {
     "name": "stdout",
     "output_type": "stream",
     "text": [
      "              precision    recall  f1-score   support\n",
      "\n",
      "           0       0.87      0.87      0.87        30\n",
      "           1       0.86      0.95      0.90        20\n",
      "           4       0.74      0.88      0.80        40\n",
      "           5       0.00      0.00      0.00        10\n",
      "\n",
      "    accuracy                           0.80       100\n",
      "   macro avg       0.62      0.67      0.64       100\n",
      "weighted avg       0.73      0.80      0.76       100\n",
      "\n"
     ]
    }
   ],
   "source": [
    "print(classification_report(y_test, y_pred))"
   ]
  },
  {
   "cell_type": "code",
   "execution_count": 16,
   "metadata": {},
   "outputs": [
    {
     "name": "stdout",
     "output_type": "stream",
     "text": [
      "[[26  1  2  1]\n",
      " [ 0 19  1  0]\n",
      " [ 3  2 35  0]\n",
      " [ 1  0  9  0]]\n"
     ]
    }
   ],
   "source": [
    "print(confusion_matrix(y_test, y_pred))"
   ]
  },
  {
   "cell_type": "code",
   "execution_count": 18,
   "metadata": {},
   "outputs": [],
   "source": [
    "with open('tiny_rf_model_paper_3.h', 'w') as f:  # change path if needed\n",
    "    f.write(port(model, optimize=False))"
   ]
  },
  {
   "cell_type": "code",
   "execution_count": 18,
   "metadata": {},
   "outputs": [],
   "source": [
    "with open('models/rf_model_paper_3.pkl', 'wb') as f:\n",
    "    pickle.dump(model, f)\n"
   ]
  },
  {
   "cell_type": "markdown",
   "metadata": {},
   "source": [
    "### MLP"
   ]
  },
  {
   "cell_type": "code",
   "execution_count": 50,
   "metadata": {},
   "outputs": [],
   "source": [
    "# design network\n",
    "\n",
    "model = Sequential()\n",
    "model.add(Dense(5, activation='relu', input_dim=5))\n",
    "model.add(Dense(256, activation='relu'))\n",
    "model.add(Dense(1, activation='sigmoid'))\n",
    "\n"
   ]
  },
  {
   "cell_type": "code",
   "execution_count": 51,
   "metadata": {},
   "outputs": [],
   "source": [
    "opt = Adam(lr=1e-5, decay=1e-5)\n",
    "#model.compile(loss='sparse_categorical_crossentropy', optimizer=opt, metrics=[\"accuracy\"])\n",
    "model.compile(loss='binary_crossentropy', optimizer='adam', metrics=['accuracy'])\n"
   ]
  },
  {
   "cell_type": "code",
   "execution_count": 52,
   "metadata": {
    "scrolled": true
   },
   "outputs": [
    {
     "name": "stdout",
     "output_type": "stream",
     "text": [
      "Epoch 1/100\n",
      "19/19 [==============================] - 0s 6ms/step - loss: -99.0506 - accuracy: 0.2000 - val_loss: -245.1201 - val_accuracy: 0.2100\n",
      "Epoch 2/100\n",
      "19/19 [==============================] - 0s 2ms/step - loss: -421.3564 - accuracy: 0.1967 - val_loss: -565.8280 - val_accuracy: 0.2100\n",
      "Epoch 3/100\n",
      "19/19 [==============================] - 0s 1ms/step - loss: -826.0512 - accuracy: 0.1967 - val_loss: -1015.2203 - val_accuracy: 0.2100\n",
      "Epoch 4/100\n",
      "19/19 [==============================] - 0s 2ms/step - loss: -1392.5765 - accuracy: 0.1967 - val_loss: -1666.2028 - val_accuracy: 0.2100\n",
      "Epoch 5/100\n",
      "19/19 [==============================] - 0s 2ms/step - loss: -2233.8232 - accuracy: 0.1967 - val_loss: -2560.6733 - val_accuracy: 0.2100\n",
      "Epoch 6/100\n",
      "19/19 [==============================] - ETA: 0s - loss: -2595.8342 - accuracy: 0.18 - 0s 2ms/step - loss: -3377.9709 - accuracy: 0.1967 - val_loss: -3837.8506 - val_accuracy: 0.2100\n",
      "Epoch 7/100\n",
      "19/19 [==============================] - 0s 1ms/step - loss: -4887.4907 - accuracy: 0.1967 - val_loss: -5566.8340 - val_accuracy: 0.2100\n",
      "Epoch 8/100\n",
      "19/19 [==============================] - 0s 3ms/step - loss: -7043.5298 - accuracy: 0.1967 - val_loss: -7693.4995 - val_accuracy: 0.2100\n",
      "Epoch 9/100\n",
      "19/19 [==============================] - 0s 2ms/step - loss: -9702.7871 - accuracy: 0.1967 - val_loss: -10475.0381 - val_accuracy: 0.2100\n",
      "Epoch 10/100\n",
      "19/19 [==============================] - 0s 2ms/step - loss: -13145.5342 - accuracy: 0.1967 - val_loss: -13984.1055 - val_accuracy: 0.2100\n",
      "Epoch 11/100\n",
      "19/19 [==============================] - 0s 1ms/step - loss: -17370.8867 - accuracy: 0.1967 - val_loss: -18338.7402 - val_accuracy: 0.2100\n",
      "Epoch 12/100\n",
      "19/19 [==============================] - 0s 2ms/step - loss: -22491.3262 - accuracy: 0.1967 - val_loss: -23742.0918 - val_accuracy: 0.2100\n",
      "Epoch 13/100\n",
      "19/19 [==============================] - 0s 1ms/step - loss: -28909.0059 - accuracy: 0.1967 - val_loss: -29826.6543 - val_accuracy: 0.2100\n",
      "Epoch 14/100\n",
      "19/19 [==============================] - 0s 2ms/step - loss: -36317.1719 - accuracy: 0.1967 - val_loss: -37065.9102 - val_accuracy: 0.2100\n",
      "Epoch 15/100\n",
      "19/19 [==============================] - 0s 2ms/step - loss: -44781.6484 - accuracy: 0.1967 - val_loss: -45734.8750 - val_accuracy: 0.2100\n",
      "Epoch 16/100\n",
      "19/19 [==============================] - 0s 1ms/step - loss: -54823.5898 - accuracy: 0.1967 - val_loss: -55409.7500 - val_accuracy: 0.2100\n",
      "Epoch 17/100\n",
      "19/19 [==============================] - 0s 1ms/step - loss: -65864.1484 - accuracy: 0.1967 - val_loss: -66598.5469 - val_accuracy: 0.2100\n",
      "Epoch 18/100\n",
      "19/19 [==============================] - 0s 2ms/step - loss: -78824.7812 - accuracy: 0.1967 - val_loss: -78758.4844 - val_accuracy: 0.2100\n",
      "Epoch 19/100\n",
      "19/19 [==============================] - 0s 2ms/step - loss: -93212.3672 - accuracy: 0.1967 - val_loss: -92414.6484 - val_accuracy: 0.2100\n",
      "Epoch 20/100\n",
      "19/19 [==============================] - 0s 2ms/step - loss: -109121.0391 - accuracy: 0.1967 - val_loss: -107807.2812 - val_accuracy: 0.2100\n",
      "Epoch 21/100\n",
      "19/19 [==============================] - 0s 1ms/step - loss: -126899.3984 - accuracy: 0.1967 - val_loss: -124982.9531 - val_accuracy: 0.2100\n",
      "Epoch 22/100\n",
      "19/19 [==============================] - 0s 2ms/step - loss: -146395.4531 - accuracy: 0.1967 - val_loss: -144142.5469 - val_accuracy: 0.2100\n",
      "Epoch 23/100\n",
      "19/19 [==============================] - 0s 1ms/step - loss: -168499.4062 - accuracy: 0.1967 - val_loss: -164310.5469 - val_accuracy: 0.2100\n",
      "Epoch 24/100\n",
      "19/19 [==============================] - 0s 2ms/step - loss: -191183.0469 - accuracy: 0.1967 - val_loss: -187532.4375 - val_accuracy: 0.2100\n",
      "Epoch 25/100\n",
      "19/19 [==============================] - 0s 2ms/step - loss: -217592.5625 - accuracy: 0.1967 - val_loss: -211621.1250 - val_accuracy: 0.2100\n",
      "Epoch 26/100\n",
      "19/19 [==============================] - 0s 2ms/step - loss: -245772.5000 - accuracy: 0.1967 - val_loss: -237427.5000 - val_accuracy: 0.2100\n",
      "Epoch 27/100\n",
      "19/19 [==============================] - 0s 2ms/step - loss: -275536.3750 - accuracy: 0.1967 - val_loss: -265520.1875 - val_accuracy: 0.2100\n",
      "Epoch 28/100\n",
      "19/19 [==============================] - 0s 1ms/step - loss: -306996.8125 - accuracy: 0.1967 - val_loss: -296569.4062 - val_accuracy: 0.2100\n",
      "Epoch 29/100\n",
      "19/19 [==============================] - 0s 2ms/step - loss: -341517.2812 - accuracy: 0.1967 - val_loss: -329295.3750 - val_accuracy: 0.2100\n",
      "Epoch 30/100\n",
      "19/19 [==============================] - 0s 1ms/step - loss: -378770.0938 - accuracy: 0.1967 - val_loss: -362873.1250 - val_accuracy: 0.2100\n",
      "Epoch 31/100\n",
      "19/19 [==============================] - 0s 2ms/step - loss: -416491.8750 - accuracy: 0.1967 - val_loss: -400230.3750 - val_accuracy: 0.2100\n",
      "Epoch 32/100\n",
      "19/19 [==============================] - 0s 2ms/step - loss: -458697.5938 - accuracy: 0.1967 - val_loss: -438255.2812 - val_accuracy: 0.2100\n",
      "Epoch 33/100\n",
      "19/19 [==============================] - 0s 2ms/step - loss: -500919.4688 - accuracy: 0.1967 - val_loss: -480694.8125 - val_accuracy: 0.2100\n",
      "Epoch 34/100\n",
      "19/19 [==============================] - 0s 2ms/step - loss: -548785.0000 - accuracy: 0.1967 - val_loss: -522245.8438 - val_accuracy: 0.2100\n",
      "Epoch 35/100\n",
      "19/19 [==============================] - 0s 1ms/step - loss: -597526.5625 - accuracy: 0.1967 - val_loss: -567150.8750 - val_accuracy: 0.2100\n",
      "Epoch 36/100\n",
      "19/19 [==============================] - 0s 2ms/step - loss: -647549.6250 - accuracy: 0.1967 - val_loss: -616960.3750 - val_accuracy: 0.2100\n",
      "Epoch 37/100\n",
      "19/19 [==============================] - 0s 1ms/step - loss: -704404.8125 - accuracy: 0.1967 - val_loss: -665538.6250 - val_accuracy: 0.2100\n",
      "Epoch 38/100\n",
      "19/19 [==============================] - 0s 3ms/step - loss: -760320.2500 - accuracy: 0.1967 - val_loss: -719436.7500 - val_accuracy: 0.2100\n",
      "Epoch 39/100\n",
      "19/19 [==============================] - 0s 2ms/step - loss: -820763.8125 - accuracy: 0.1967 - val_loss: -775991.6875 - val_accuracy: 0.2100\n",
      "Epoch 40/100\n",
      "19/19 [==============================] - 0s 1ms/step - loss: -883670.8125 - accuracy: 0.1967 - val_loss: -835637.1250 - val_accuracy: 0.2100\n",
      "Epoch 41/100\n",
      "19/19 [==============================] - 0s 2ms/step - loss: -949508.1875 - accuracy: 0.1967 - val_loss: -898425.6250 - val_accuracy: 0.2100\n",
      "Epoch 42/100\n",
      "19/19 [==============================] - 0s 1ms/step - loss: -1020765.4375 - accuracy: 0.1967 - val_loss: -960483.1875 - val_accuracy: 0.2100\n",
      "Epoch 43/100\n",
      "19/19 [==============================] - 0s 2ms/step - loss: -1091964.3750 - accuracy: 0.1967 - val_loss: -1028641.4375 - val_accuracy: 0.2100\n",
      "Epoch 44/100\n",
      "19/19 [==============================] - 0s 2ms/step - loss: -1167775.7500 - accuracy: 0.1967 - val_loss: -1099956.0000 - val_accuracy: 0.2100\n",
      "Epoch 45/100\n",
      "19/19 [==============================] - 0s 2ms/step - loss: -1246291.8750 - accuracy: 0.1967 - val_loss: -1172705.6250 - val_accuracy: 0.2100\n",
      "Epoch 46/100\n",
      "19/19 [==============================] - 0s 1ms/step - loss: -1328084.3750 - accuracy: 0.1967 - val_loss: -1248978.7500 - val_accuracy: 0.2100\n",
      "Epoch 47/100\n",
      "19/19 [==============================] - 0s 2ms/step - loss: -1414438.8750 - accuracy: 0.1967 - val_loss: -1326249.8750 - val_accuracy: 0.2100\n",
      "Epoch 48/100\n",
      "19/19 [==============================] - 0s 2ms/step - loss: -1502297.0000 - accuracy: 0.1967 - val_loss: -1408924.1250 - val_accuracy: 0.2100\n",
      "Epoch 49/100\n",
      "19/19 [==============================] - 0s 2ms/step - loss: -1594160.5000 - accuracy: 0.1967 - val_loss: -1495596.6250 - val_accuracy: 0.2100\n",
      "Epoch 50/100\n",
      "19/19 [==============================] - 0s 2ms/step - loss: -1691606.0000 - accuracy: 0.1967 - val_loss: -1582560.3750 - val_accuracy: 0.2100\n",
      "Epoch 51/100\n",
      "19/19 [==============================] - 0s 1ms/step - loss: -1790158.1250 - accuracy: 0.1967 - val_loss: -1673126.1250 - val_accuracy: 0.2100\n",
      "Epoch 52/100\n",
      "19/19 [==============================] - 0s 1ms/step - loss: -1891038.2500 - accuracy: 0.1967 - val_loss: -1769561.6250 - val_accuracy: 0.2100\n",
      "Epoch 53/100\n",
      "19/19 [==============================] - 0s 2ms/step - loss: -1997572.2500 - accuracy: 0.1967 - val_loss: -1867665.2500 - val_accuracy: 0.2100\n",
      "Epoch 54/100\n",
      "19/19 [==============================] - 0s 2ms/step - loss: -2108252.5000 - accuracy: 0.1967 - val_loss: -1968125.7500 - val_accuracy: 0.2100\n",
      "Epoch 55/100\n",
      "19/19 [==============================] - 0s 1ms/step - loss: -2222398.0000 - accuracy: 0.1967 - val_loss: -2069249.1250 - val_accuracy: 0.2100\n",
      "Epoch 56/100\n",
      "19/19 [==============================] - 0s 1ms/step - loss: -2334856.5000 - accuracy: 0.1967 - val_loss: -2181290.0000 - val_accuracy: 0.2100\n",
      "Epoch 57/100\n",
      "19/19 [==============================] - 0s 1ms/step - loss: -2456623.5000 - accuracy: 0.1967 - val_loss: -2294453.2500 - val_accuracy: 0.2100\n",
      "Epoch 58/100\n",
      "19/19 [==============================] - 0s 2ms/step - loss: -2583075.0000 - accuracy: 0.1967 - val_loss: -2406174.5000 - val_accuracy: 0.2100\n",
      "Epoch 59/100\n",
      "19/19 [==============================] - 0s 1ms/step - loss: -2707645.7500 - accuracy: 0.1967 - val_loss: -2523793.5000 - val_accuracy: 0.2100\n",
      "Epoch 60/100\n",
      "19/19 [==============================] - 0s 2ms/step - loss: -2838452.5000 - accuracy: 0.1967 - val_loss: -2645067.2500 - val_accuracy: 0.2100\n",
      "Epoch 61/100\n",
      "19/19 [==============================] - 0s 1ms/step - loss: -2977094.5000 - accuracy: 0.1967 - val_loss: -2762946.2500 - val_accuracy: 0.2100\n",
      "Epoch 62/100\n",
      "19/19 [==============================] - 0s 1ms/step - loss: -3109762.7500 - accuracy: 0.1967 - val_loss: -2896542.7500 - val_accuracy: 0.2100\n",
      "Epoch 63/100\n",
      "19/19 [==============================] - 0s 1ms/step - loss: -3256818.2500 - accuracy: 0.1967 - val_loss: -3024639.0000 - val_accuracy: 0.2100\n",
      "Epoch 64/100\n",
      "19/19 [==============================] - 0s 2ms/step - loss: -3404706.0000 - accuracy: 0.1967 - val_loss: -3152153.2500 - val_accuracy: 0.2100\n",
      "Epoch 65/100\n",
      "19/19 [==============================] - 0s 1ms/step - loss: -3548701.5000 - accuracy: 0.1967 - val_loss: -3295134.7500 - val_accuracy: 0.2100\n",
      "Epoch 66/100\n",
      "19/19 [==============================] - 0s 1ms/step - loss: -3706875.2500 - accuracy: 0.1967 - val_loss: -3436225.5000 - val_accuracy: 0.2100\n",
      "Epoch 67/100\n",
      "19/19 [==============================] - 0s 1ms/step - loss: -3860434.7500 - accuracy: 0.1967 - val_loss: -3585193.2500 - val_accuracy: 0.2100\n",
      "Epoch 68/100\n",
      "19/19 [==============================] - 0s 1ms/step - loss: -4028107.5000 - accuracy: 0.1967 - val_loss: -3729119.7500 - val_accuracy: 0.2100\n",
      "Epoch 69/100\n",
      "19/19 [==============================] - 0s 1ms/step - loss: -4188047.0000 - accuracy: 0.1967 - val_loss: -3887051.5000 - val_accuracy: 0.2100\n",
      "Epoch 70/100\n",
      "19/19 [==============================] - 0s 1ms/step - loss: -4366131.0000 - accuracy: 0.1967 - val_loss: -4037734.0000 - val_accuracy: 0.2100\n",
      "Epoch 71/100\n",
      "19/19 [==============================] - 0s 2ms/step - loss: -4533534.0000 - accuracy: 0.1967 - val_loss: -4203480.5000 - val_accuracy: 0.2100\n",
      "Epoch 72/100\n",
      "19/19 [==============================] - 0s 1ms/step - loss: -4716685.0000 - accuracy: 0.1967 - val_loss: -4361997.5000 - val_accuracy: 0.2100\n",
      "Epoch 73/100\n",
      "19/19 [==============================] - 0s 2ms/step - loss: -4893559.0000 - accuracy: 0.1967 - val_loss: -4531977.0000 - val_accuracy: 0.2100\n",
      "Epoch 74/100\n",
      "19/19 [==============================] - 0s 2ms/step - loss: -5082914.0000 - accuracy: 0.1967 - val_loss: -4698525.0000 - val_accuracy: 0.2100\n",
      "Epoch 75/100\n",
      "19/19 [==============================] - 0s 1ms/step - loss: -5269993.5000 - accuracy: 0.1967 - val_loss: -4873524.0000 - val_accuracy: 0.2100\n",
      "Epoch 76/100\n",
      "19/19 [==============================] - 0s 2ms/step - loss: -5465239.0000 - accuracy: 0.1967 - val_loss: -5048156.0000 - val_accuracy: 0.2100\n",
      "Epoch 77/100\n",
      "19/19 [==============================] - 0s 1ms/step - loss: -5657320.5000 - accuracy: 0.1967 - val_loss: -5236517.5000 - val_accuracy: 0.2100\n",
      "Epoch 78/100\n",
      "19/19 [==============================] - 0s 2ms/step - loss: -5863437.0000 - accuracy: 0.1967 - val_loss: -5420590.5000 - val_accuracy: 0.2100\n",
      "Epoch 79/100\n",
      "19/19 [==============================] - 0s 1ms/step - loss: -6065787.5000 - accuracy: 0.1967 - val_loss: -5611390.5000 - val_accuracy: 0.2100\n",
      "Epoch 80/100\n",
      "19/19 [==============================] - 0s 2ms/step - loss: -6280781.0000 - accuracy: 0.1967 - val_loss: -5798811.5000 - val_accuracy: 0.2100\n",
      "Epoch 81/100\n",
      "19/19 [==============================] - 0s 1ms/step - loss: -6491653.0000 - accuracy: 0.1967 - val_loss: -5994539.0000 - val_accuracy: 0.2100\n",
      "Epoch 82/100\n",
      "19/19 [==============================] - 0s 2ms/step - loss: -6713982.5000 - accuracy: 0.1967 - val_loss: -6189070.0000 - val_accuracy: 0.2100\n",
      "Epoch 83/100\n",
      "19/19 [==============================] - 0s 1ms/step - loss: -6928073.5000 - accuracy: 0.1967 - val_loss: -6403824.0000 - val_accuracy: 0.2100\n",
      "Epoch 84/100\n",
      "19/19 [==============================] - 0s 2ms/step - loss: -7164384.5000 - accuracy: 0.1967 - val_loss: -6609354.0000 - val_accuracy: 0.2100\n",
      "Epoch 85/100\n",
      "19/19 [==============================] - 0s 1ms/step - loss: -7397485.0000 - accuracy: 0.1967 - val_loss: -6818829.0000 - val_accuracy: 0.2100\n",
      "Epoch 86/100\n",
      "19/19 [==============================] - 0s 2ms/step - loss: -7631882.0000 - accuracy: 0.1967 - val_loss: -7038804.5000 - val_accuracy: 0.2100\n",
      "Epoch 87/100\n",
      "19/19 [==============================] - 0s 1ms/step - loss: -7877400.0000 - accuracy: 0.1967 - val_loss: -7256635.0000 - val_accuracy: 0.2100\n",
      "Epoch 88/100\n",
      "19/19 [==============================] - 0s 2ms/step - loss: -8116733.5000 - accuracy: 0.1967 - val_loss: -7491581.5000 - val_accuracy: 0.2100\n",
      "Epoch 89/100\n",
      "19/19 [==============================] - 0s 1ms/step - loss: -8374971.5000 - accuracy: 0.1967 - val_loss: -7718269.0000 - val_accuracy: 0.2100\n",
      "Epoch 90/100\n",
      "19/19 [==============================] - 0s 2ms/step - loss: -8629792.0000 - accuracy: 0.1967 - val_loss: -7950181.0000 - val_accuracy: 0.2100\n",
      "Epoch 91/100\n",
      "19/19 [==============================] - 0s 1ms/step - loss: -8888550.0000 - accuracy: 0.1967 - val_loss: -8188497.5000 - val_accuracy: 0.2100\n",
      "Epoch 92/100\n",
      "19/19 [==============================] - 0s 2ms/step - loss: -9154351.0000 - accuracy: 0.1967 - val_loss: -8430786.0000 - val_accuracy: 0.2100\n",
      "Epoch 93/100\n",
      "19/19 [==============================] - 0s 1ms/step - loss: -9420204.0000 - accuracy: 0.1967 - val_loss: -8681738.0000 - val_accuracy: 0.2100\n",
      "Epoch 94/100\n",
      "19/19 [==============================] - 0s 2ms/step - loss: -9700770.0000 - accuracy: 0.1967 - val_loss: -8923922.0000 - val_accuracy: 0.2100\n",
      "Epoch 95/100\n",
      "19/19 [==============================] - 0s 1ms/step - loss: -9978133.0000 - accuracy: 0.1967 - val_loss: -9173930.0000 - val_accuracy: 0.2100\n",
      "Epoch 96/100\n",
      "19/19 [==============================] - 0s 2ms/step - loss: -10255916.0000 - accuracy: 0.1967 - val_loss: -9435756.0000 - val_accuracy: 0.2100\n",
      "Epoch 97/100\n",
      "19/19 [==============================] - 0s 1ms/step - loss: -10545740.0000 - accuracy: 0.1967 - val_loss: -9695640.0000 - val_accuracy: 0.2100\n",
      "Epoch 98/100\n",
      "19/19 [==============================] - 0s 2ms/step - loss: -10836062.0000 - accuracy: 0.1967 - val_loss: -9963228.0000 - val_accuracy: 0.2100\n",
      "Epoch 99/100\n",
      "19/19 [==============================] - 0s 1ms/step - loss: -11135352.0000 - accuracy: 0.1967 - val_loss: -10236639.0000 - val_accuracy: 0.2100\n",
      "Epoch 100/100\n",
      "19/19 [==============================] - 0s 2ms/step - loss: -11438441.0000 - accuracy: 0.1967 - val_loss: -10512163.0000 - val_accuracy: 0.2100\n"
     ]
    }
   ],
   "source": [
    "# fit network\n",
    "history = model.fit(x=X_train, y=y_train, epochs=100, batch_size=16, validation_split=0.25, verbose=1, shuffle=True)"
   ]
  },
  {
   "cell_type": "code",
   "execution_count": 53,
   "metadata": {},
   "outputs": [
    {
     "name": "stdout",
     "output_type": "stream",
     "text": [
      "INFO:tensorflow:Assets written to: models/assets\n"
     ]
    },
    {
     "name": "stderr",
     "output_type": "stream",
     "text": [
      "INFO:tensorflow:Assets written to: models/assets\n"
     ]
    }
   ],
   "source": [
    "model.save('models/')"
   ]
  },
  {
   "cell_type": "code",
   "execution_count": 54,
   "metadata": {},
   "outputs": [],
   "source": [
    "with open('models/rnn-cnn-history.pkl', 'wb') as file_pi:\n",
    "    pickle.dump(history.history, file_pi)"
   ]
  },
  {
   "cell_type": "code",
   "execution_count": 55,
   "metadata": {},
   "outputs": [
    {
     "data": {
      "image/png": "[encoded data removed]",
      "text/plain": [
       "<Figure size 432x288 with 1 Axes>"
      ]
     },
     "metadata": {
      "needs_background": "light"
     },
     "output_type": "display_data"
    }
   ],
   "source": [
    "# plot history\n",
    "pyplot.plot(history.history['loss'], label='train')\n",
    "pyplot.plot(history.history['val_loss'], label='validation')\n",
    "pyplot.legend()\n",
    "pyplot.show()"
   ]
  },
  {
   "cell_type": "code",
   "execution_count": 56,
   "metadata": {},
   "outputs": [],
   "source": [
    "# make a prediction\n",
    "y_pred = model.predict(X_test)"
   ]
  },
  {
   "cell_type": "code",
   "execution_count": 57,
   "metadata": {},
   "outputs": [
    {
     "data": {
      "text/plain": [
       "array([0, 0, 0, 0, 0, 0, 0, 0, 0, 0, 0, 0, 0, 0, 0, 0, 0, 0, 0, 0, 0, 0,\n",
       "       0, 0, 0, 0, 0, 0, 0, 0, 0, 0, 0, 0, 0, 0, 0, 0, 0, 0, 0, 0, 0, 0,\n",
       "       0, 0, 0, 0, 0, 0, 0, 0, 0, 0, 0, 0, 0, 0, 0, 0, 0, 0, 0, 0, 0, 0,\n",
       "       0, 0, 0, 0, 0, 0, 0, 0, 0, 0, 0, 0, 0, 0, 0, 0, 0, 0, 0, 0, 0, 0,\n",
       "       0, 0, 0, 0, 0, 0, 0, 0, 0, 0, 0, 0], dtype=int64)"
      ]
     },
     "execution_count": 57,
     "metadata": {},
     "output_type": "execute_result"
    }
   ],
   "source": [
    "np.argmax(y_pred, axis=1)"
   ]
  },
  {
   "cell_type": "code",
   "execution_count": 58,
   "metadata": {},
   "outputs": [
    {
     "data": {
      "text/plain": [
       "0.13846153846153844"
      ]
     },
     "execution_count": 58,
     "metadata": {},
     "output_type": "execute_result"
    }
   ],
   "source": [
    "f1_score(y_test, np.argmax(y_pred, axis=1), average=\"weighted\")"
   ]
  },
  {
   "cell_type": "code",
   "execution_count": 59,
   "metadata": {},
   "outputs": [
    {
     "name": "stdout",
     "output_type": "stream",
     "text": [
      "              precision    recall  f1-score   support\n",
      "\n",
      "           0       0.30      1.00      0.46        30\n",
      "           1       0.00      0.00      0.00        20\n",
      "           4       0.00      0.00      0.00        40\n",
      "           5       0.00      0.00      0.00        10\n",
      "\n",
      "    accuracy                           0.30       100\n",
      "   macro avg       0.07      0.25      0.12       100\n",
      "weighted avg       0.09      0.30      0.14       100\n",
      "\n"
     ]
    }
   ],
   "source": [
    "print(classification_report(y_test, np.argmax(y_pred, axis=1)))"
   ]
  },
  {
   "cell_type": "code",
   "execution_count": 60,
   "metadata": {},
   "outputs": [
    {
     "name": "stdout",
     "output_type": "stream",
     "text": [
      "[[30  0  0  0]\n",
      " [20  0  0  0]\n",
      " [40  0  0  0]\n",
      " [10  0  0  0]]\n"
     ]
    }
   ],
   "source": [
    "print(confusion_matrix(y_test, y_pred.argmax(axis=1)))"
   ]
  },
  {
   "cell_type": "code",
   "execution_count": 61,
   "metadata": {},
   "outputs": [
    {
     "data": {
      "text/plain": [
       "'2.3.0'"
      ]
     },
     "execution_count": 61,
     "metadata": {},
     "output_type": "execute_result"
    }
   ],
   "source": [
    "tensorflow.__version__"
   ]
  },
  {
   "cell_type": "code",
   "execution_count": 65,
   "metadata": {},
   "outputs": [
    {
     "name": "stdout",
     "output_type": "stream",
     "text": [
      "INFO:tensorflow:Assets written to: C:\\Users\\LUIGI~1.BOR\\AppData\\Local\\Temp\\tmpmoo2ze91\\assets\n"
     ]
    },
    {
     "name": "stderr",
     "output_type": "stream",
     "text": [
      "INFO:tensorflow:Assets written to: C:\\Users\\LUIGI~1.BOR\\AppData\\Local\\Temp\\tmpmoo2ze91\\assets\n"
     ]
    },
    {
     "name": "stdout",
     "output_type": "stream",
     "text": [
      "<class 'str'>\n",
      "INFO:tensorflow:Assets written to: C:\\Users\\LUIGI~1.BOR\\AppData\\Local\\Temp\\tmpmpl81jzr\\assets\n"
     ]
    },
    {
     "name": "stderr",
     "output_type": "stream",
     "text": [
      "INFO:tensorflow:Assets written to: C:\\Users\\LUIGI~1.BOR\\AppData\\Local\\Temp\\tmpmpl81jzr\\assets\n"
     ]
    }
   ],
   "source": [
    "exp = tiny.port(model)\n",
    "print(type(exp))\n",
    "\n",
    "with open('./neuralNetwork.h', 'w') as f:\n",
    "    f.write(tiny.port(model, optimize=False))"
   ]
  },
  {
   "cell_type": "code",
   "execution_count": null,
   "metadata": {},
   "outputs": [],
   "source": []
  },
  {
   "cell_type": "code",
   "execution_count": null,
   "metadata": {},
   "outputs": [],
   "source": []
  }
 ],
 "metadata": {
  "kernelspec": {
   "display_name": "Python 3 (ipykernel)",
   "language": "python",
   "name": "python3"
  },
  "language_info": {
   "codemirror_mode": {
    "name": "ipython",
    "version": 3
   },
   "file_extension": ".py",
   "mimetype": "text/x-python",
   "name": "python",
   "nbconvert_exporter": "python",
   "pygments_lexer": "ipython3",
   "version": "3.7.11"
  }
 },
 "nbformat": 4,
 "nbformat_minor": 2
}
