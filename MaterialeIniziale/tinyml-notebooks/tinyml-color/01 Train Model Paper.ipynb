{
 "cells": [
  {
   "cell_type": "code",
   "execution_count": 59,
   "metadata": {},
   "outputs": [],
   "source": [
    "import pandas as pd\n",
    "import numpy as np\n",
    "import pickle\n",
    "from sklearn.model_selection import train_test_split\n",
    "from sklearn.preprocessing import StandardScaler\n",
    "from math import sqrt\n",
    "from sklearn.metrics import roc_auc_score, f1_score, classification_report, confusion_matrix\n",
    "from matplotlib import pyplot\n",
    "from sklearn.metrics import mean_squared_error, classification_report\n",
    "from keras.models import Sequential, Model \n",
    "from keras.layers import Dense, Input, concatenate, Activation, Dropout\n",
    "from keras.optimizers import Adam\n",
    "from tensorflow import set_random_seed\n",
    "from keras.utils import to_categorical\n",
    "from sklearn.ensemble import RandomForestClassifier\n",
    "from sklearn.neural_network import MLPClassifier\n",
    "from micromlgen import port\n",
    "import tinymlgen"
   ]
  },
  {
   "cell_type": "code",
   "execution_count": 60,
   "metadata": {},
   "outputs": [],
   "source": [
    "RANDOM_SEED = 42"
   ]
  },
  {
   "cell_type": "code",
   "execution_count": 61,
   "metadata": {},
   "outputs": [],
   "source": [
    "np.random.seed(RANDOM_SEED)\n",
    "set_random_seed(RANDOM_SEED)"
   ]
  },
  {
   "cell_type": "code",
   "execution_count": 62,
   "metadata": {},
   "outputs": [],
   "source": [
    "with open('data/X_paper.pkl', 'rb') as f:\n",
    "    X = pickle.load(f)\n",
    "\n",
    "with open('data/y_paper.pkl', 'rb') as f:\n",
    "    y = pickle.load(f)"
   ]
  },
  {
   "cell_type": "code",
   "execution_count": 63,
   "metadata": {},
   "outputs": [
    {
     "data": {
      "text/plain": [
       "(1350, 5)"
      ]
     },
     "execution_count": 63,
     "metadata": {},
     "output_type": "execute_result"
    }
   ],
   "source": [
    "X.shape"
   ]
  },
  {
   "cell_type": "code",
   "execution_count": 64,
   "metadata": {},
   "outputs": [],
   "source": [
    "X = np.concatenate((X[:250], X[750:1000], X[1500:]), axis=0)\n",
    "y = np.concatenate((y[:250], y[750:1000], y[1500:]), axis=0)"
   ]
  },
  {
   "cell_type": "markdown",
   "metadata": {},
   "source": [
    "Split in train and test sets"
   ]
  },
  {
   "cell_type": "code",
   "execution_count": 65,
   "metadata": {},
   "outputs": [
    {
     "name": "stderr",
     "output_type": "stream",
     "text": [
      "C:\\Users\\luigi.borriello2\\.conda\\envs\\ts\\lib\\site-packages\\sklearn\\utils\\__init__.py:806: DeprecationWarning: `np.int` is a deprecated alias for the builtin `int`. To silence this warning, use `int` by itself. Doing this will not modify any behavior and is safe. When replacing `np.int`, you may wish to use e.g. `np.int64` or `np.int32` to specify the precision. If you wish to review your current use, check the release note link for additional information.\n",
      "Deprecated in NumPy 1.20; for more details and guidance: https://numpy.org/devdocs/release/1.20.0-notes.html#deprecations\n",
      "  return floored.astype(np.int)\n",
      "C:\\Users\\luigi.borriello2\\.conda\\envs\\ts\\lib\\site-packages\\sklearn\\utils\\__init__.py:806: DeprecationWarning: `np.int` is a deprecated alias for the builtin `int`. To silence this warning, use `int` by itself. Doing this will not modify any behavior and is safe. When replacing `np.int`, you may wish to use e.g. `np.int64` or `np.int32` to specify the precision. If you wish to review your current use, check the release note link for additional information.\n",
      "Deprecated in NumPy 1.20; for more details and guidance: https://numpy.org/devdocs/release/1.20.0-notes.html#deprecations\n",
      "  return floored.astype(np.int)\n"
     ]
    }
   ],
   "source": [
    "X_train, X_test, y_train, y_test = train_test_split(X, y, test_size=0.2, stratify=y, random_state=RANDOM_SEED)"
   ]
  },
  {
   "cell_type": "code",
   "execution_count": 66,
   "metadata": {},
   "outputs": [],
   "source": [
    "#y_train = pd.get_dummies(y_train).values\n",
    "#y_test = pd.get_dummies(y_test).values"
   ]
  },
  {
   "cell_type": "code",
   "execution_count": 67,
   "metadata": {},
   "outputs": [
    {
     "data": {
      "text/plain": [
       "array([5, 1, 4, 4, 5, 4, 5, 1, 4, 0, 5, 1, 4, 0, 4, 0, 4, 4, 1, 0, 0, 4,\n",
       "       0, 4, 0, 0, 4, 4, 4, 4, 4, 4, 0, 4, 4, 4, 4, 4, 0, 0, 4, 4, 4, 1,\n",
       "       5, 5, 0, 4, 1, 4, 5, 1, 0, 0, 1, 4, 0, 4, 0, 4, 1, 1, 1, 4, 1, 0,\n",
       "       4, 0, 4, 4, 4, 4, 4, 0, 0, 4, 4, 5, 0, 5, 4, 0, 4, 4, 1, 0, 0, 5,\n",
       "       0, 4, 4, 4, 4, 5, 4, 1, 1, 1, 5, 0, 1, 4, 1, 1, 4, 1, 4, 4, 4, 0,\n",
       "       5, 4, 4, 4, 1, 0, 1, 0, 1, 1, 0, 0, 1, 1, 4, 4, 4, 1, 4, 0, 1, 4,\n",
       "       5, 1, 0, 0, 5, 0, 1, 4, 0, 4, 1, 4, 4, 0, 1, 4, 4, 4, 0, 5, 4, 0,\n",
       "       0, 0, 0, 0, 4, 0, 0, 4, 4, 0, 4, 0, 4, 4, 4, 5, 0, 0, 5, 1, 4, 5,\n",
       "       0, 4, 4, 0, 0, 0, 0, 0, 0, 0, 4, 4, 5, 4, 0, 0, 4, 4, 0, 0, 0, 4,\n",
       "       1, 4, 1, 5, 0, 4, 5, 0, 4, 1, 4, 1, 4, 4, 4, 1, 5, 0, 5, 0, 1, 0,\n",
       "       4, 4, 5, 4, 0, 4, 0, 4, 1, 4, 4, 0, 1, 0, 5, 4, 5, 4, 4, 4, 4, 0,\n",
       "       0, 0, 4, 4, 1, 1, 0, 0, 4, 0, 4, 1, 0, 1, 5, 5, 4, 4, 4, 4, 0, 1,\n",
       "       4, 1, 4, 5, 4, 1, 0, 1, 4, 0, 1, 0, 4, 4, 5, 4, 1, 1, 4, 4, 4, 0,\n",
       "       1, 1, 4, 4, 0, 1, 4, 1, 1, 1, 0, 0, 1, 4, 4, 1, 5, 1, 1, 0, 4, 5,\n",
       "       0, 0, 4, 4, 1, 4, 4, 5, 1, 1, 1, 4, 1, 0, 1, 0, 0, 0, 4, 4, 0, 0,\n",
       "       5, 0, 1, 0, 4, 4, 4, 4, 0, 4, 0, 5, 0, 1, 4, 4, 0, 0, 4, 4, 5, 4,\n",
       "       0, 1, 5, 0, 4, 1, 1, 1, 0, 0, 0, 1, 4, 1, 4, 1, 4, 4, 4, 0, 0, 4,\n",
       "       1, 0, 0, 5, 0, 4, 0, 4, 4, 0, 4, 4, 5, 4, 0, 0, 4, 0, 0, 4, 1, 0,\n",
       "       4, 4, 0, 1])"
      ]
     },
     "execution_count": 67,
     "metadata": {},
     "output_type": "execute_result"
    }
   ],
   "source": [
    "y_train"
   ]
  },
  {
   "cell_type": "code",
   "execution_count": 68,
   "metadata": {},
   "outputs": [
    {
     "data": {
      "text/plain": [
       "5"
      ]
     },
     "execution_count": 68,
     "metadata": {},
     "output_type": "execute_result"
    }
   ],
   "source": [
    "X_train.shape[1]"
   ]
  },
  {
   "cell_type": "markdown",
   "metadata": {},
   "source": [
    "## Models Evaluation"
   ]
  },
  {
   "cell_type": "markdown",
   "metadata": {},
   "source": [
    "### RF"
   ]
  },
  {
   "cell_type": "code",
   "execution_count": 69,
   "metadata": {},
   "outputs": [],
   "source": [
    "model = RandomForestClassifier(n_estimators=50, random_state=42)\n",
    "#model = MLPClassifier(random_state=42)"
   ]
  },
  {
   "cell_type": "code",
   "execution_count": 70,
   "metadata": {},
   "outputs": [
    {
     "name": "stderr",
     "output_type": "stream",
     "text": [
      "C:\\Users\\luigi.borriello2\\.conda\\envs\\ts\\lib\\site-packages\\sklearn\\ensemble\\forest.py:489: DeprecationWarning: `np.int` is a deprecated alias for the builtin `int`. To silence this warning, use `int` by itself. Doing this will not modify any behavior and is safe. When replacing `np.int`, you may wish to use e.g. `np.int64` or `np.int32` to specify the precision. If you wish to review your current use, check the release note link for additional information.\n",
      "Deprecated in NumPy 1.20; for more details and guidance: https://numpy.org/devdocs/release/1.20.0-notes.html#deprecations\n",
      "  y_store_unique_indices = np.zeros(y.shape, dtype=np.int)\n",
      "C:\\Users\\luigi.borriello2\\.conda\\envs\\ts\\lib\\site-packages\\sklearn\\tree\\tree.py:163: DeprecationWarning: `np.int` is a deprecated alias for the builtin `int`. To silence this warning, use `int` by itself. Doing this will not modify any behavior and is safe. When replacing `np.int`, you may wish to use e.g. `np.int64` or `np.int32` to specify the precision. If you wish to review your current use, check the release note link for additional information.\n",
      "Deprecated in NumPy 1.20; for more details and guidance: https://numpy.org/devdocs/release/1.20.0-notes.html#deprecations\n",
      "  y_encoded = np.zeros(y.shape, dtype=np.int)\n",
      "C:\\Users\\luigi.borriello2\\.conda\\envs\\ts\\lib\\site-packages\\sklearn\\tree\\tree.py:163: DeprecationWarning: `np.int` is a deprecated alias for the builtin `int`. To silence this warning, use `int` by itself. Doing this will not modify any behavior and is safe. When replacing `np.int`, you may wish to use e.g. `np.int64` or `np.int32` to specify the precision. If you wish to review your current use, check the release note link for additional information.\n",
      "Deprecated in NumPy 1.20; for more details and guidance: https://numpy.org/devdocs/release/1.20.0-notes.html#deprecations\n",
      "  y_encoded = np.zeros(y.shape, dtype=np.int)\n",
      "C:\\Users\\luigi.borriello2\\.conda\\envs\\ts\\lib\\site-packages\\sklearn\\tree\\tree.py:163: DeprecationWarning: `np.int` is a deprecated alias for the builtin `int`. To silence this warning, use `int` by itself. Doing this will not modify any behavior and is safe. When replacing `np.int`, you may wish to use e.g. `np.int64` or `np.int32` to specify the precision. If you wish to review your current use, check the release note link for additional information.\n",
      "Deprecated in NumPy 1.20; for more details and guidance: https://numpy.org/devdocs/release/1.20.0-notes.html#deprecations\n",
      "  y_encoded = np.zeros(y.shape, dtype=np.int)\n",
      "C:\\Users\\luigi.borriello2\\.conda\\envs\\ts\\lib\\site-packages\\sklearn\\tree\\tree.py:163: DeprecationWarning: `np.int` is a deprecated alias for the builtin `int`. To silence this warning, use `int` by itself. Doing this will not modify any behavior and is safe. When replacing `np.int`, you may wish to use e.g. `np.int64` or `np.int32` to specify the precision. If you wish to review your current use, check the release note link for additional information.\n",
      "Deprecated in NumPy 1.20; for more details and guidance: https://numpy.org/devdocs/release/1.20.0-notes.html#deprecations\n",
      "  y_encoded = np.zeros(y.shape, dtype=np.int)\n",
      "C:\\Users\\luigi.borriello2\\.conda\\envs\\ts\\lib\\site-packages\\sklearn\\tree\\tree.py:163: DeprecationWarning: `np.int` is a deprecated alias for the builtin `int`. To silence this warning, use `int` by itself. Doing this will not modify any behavior and is safe. When replacing `np.int`, you may wish to use e.g. `np.int64` or `np.int32` to specify the precision. If you wish to review your current use, check the release note link for additional information.\n",
      "Deprecated in NumPy 1.20; for more details and guidance: https://numpy.org/devdocs/release/1.20.0-notes.html#deprecations\n",
      "  y_encoded = np.zeros(y.shape, dtype=np.int)\n",
      "C:\\Users\\luigi.borriello2\\.conda\\envs\\ts\\lib\\site-packages\\sklearn\\tree\\tree.py:163: DeprecationWarning: `np.int` is a deprecated alias for the builtin `int`. To silence this warning, use `int` by itself. Doing this will not modify any behavior and is safe. When replacing `np.int`, you may wish to use e.g. `np.int64` or `np.int32` to specify the precision. If you wish to review your current use, check the release note link for additional information.\n",
      "Deprecated in NumPy 1.20; for more details and guidance: https://numpy.org/devdocs/release/1.20.0-notes.html#deprecations\n",
      "  y_encoded = np.zeros(y.shape, dtype=np.int)\n",
      "C:\\Users\\luigi.borriello2\\.conda\\envs\\ts\\lib\\site-packages\\sklearn\\tree\\tree.py:163: DeprecationWarning: `np.int` is a deprecated alias for the builtin `int`. To silence this warning, use `int` by itself. Doing this will not modify any behavior and is safe. When replacing `np.int`, you may wish to use e.g. `np.int64` or `np.int32` to specify the precision. If you wish to review your current use, check the release note link for additional information.\n",
      "Deprecated in NumPy 1.20; for more details and guidance: https://numpy.org/devdocs/release/1.20.0-notes.html#deprecations\n",
      "  y_encoded = np.zeros(y.shape, dtype=np.int)\n",
      "C:\\Users\\luigi.borriello2\\.conda\\envs\\ts\\lib\\site-packages\\sklearn\\tree\\tree.py:163: DeprecationWarning: `np.int` is a deprecated alias for the builtin `int`. To silence this warning, use `int` by itself. Doing this will not modify any behavior and is safe. When replacing `np.int`, you may wish to use e.g. `np.int64` or `np.int32` to specify the precision. If you wish to review your current use, check the release note link for additional information.\n",
      "Deprecated in NumPy 1.20; for more details and guidance: https://numpy.org/devdocs/release/1.20.0-notes.html#deprecations\n",
      "  y_encoded = np.zeros(y.shape, dtype=np.int)\n",
      "C:\\Users\\luigi.borriello2\\.conda\\envs\\ts\\lib\\site-packages\\sklearn\\tree\\tree.py:163: DeprecationWarning: `np.int` is a deprecated alias for the builtin `int`. To silence this warning, use `int` by itself. Doing this will not modify any behavior and is safe. When replacing `np.int`, you may wish to use e.g. `np.int64` or `np.int32` to specify the precision. If you wish to review your current use, check the release note link for additional information.\n",
      "Deprecated in NumPy 1.20; for more details and guidance: https://numpy.org/devdocs/release/1.20.0-notes.html#deprecations\n",
      "  y_encoded = np.zeros(y.shape, dtype=np.int)\n",
      "C:\\Users\\luigi.borriello2\\.conda\\envs\\ts\\lib\\site-packages\\sklearn\\tree\\tree.py:163: DeprecationWarning: `np.int` is a deprecated alias for the builtin `int`. To silence this warning, use `int` by itself. Doing this will not modify any behavior and is safe. When replacing `np.int`, you may wish to use e.g. `np.int64` or `np.int32` to specify the precision. If you wish to review your current use, check the release note link for additional information.\n",
      "Deprecated in NumPy 1.20; for more details and guidance: https://numpy.org/devdocs/release/1.20.0-notes.html#deprecations\n",
      "  y_encoded = np.zeros(y.shape, dtype=np.int)\n",
      "C:\\Users\\luigi.borriello2\\.conda\\envs\\ts\\lib\\site-packages\\sklearn\\tree\\tree.py:163: DeprecationWarning: `np.int` is a deprecated alias for the builtin `int`. To silence this warning, use `int` by itself. Doing this will not modify any behavior and is safe. When replacing `np.int`, you may wish to use e.g. `np.int64` or `np.int32` to specify the precision. If you wish to review your current use, check the release note link for additional information.\n",
      "Deprecated in NumPy 1.20; for more details and guidance: https://numpy.org/devdocs/release/1.20.0-notes.html#deprecations\n",
      "  y_encoded = np.zeros(y.shape, dtype=np.int)\n",
      "C:\\Users\\luigi.borriello2\\.conda\\envs\\ts\\lib\\site-packages\\sklearn\\tree\\tree.py:163: DeprecationWarning: `np.int` is a deprecated alias for the builtin `int`. To silence this warning, use `int` by itself. Doing this will not modify any behavior and is safe. When replacing `np.int`, you may wish to use e.g. `np.int64` or `np.int32` to specify the precision. If you wish to review your current use, check the release note link for additional information.\n",
      "Deprecated in NumPy 1.20; for more details and guidance: https://numpy.org/devdocs/release/1.20.0-notes.html#deprecations\n",
      "  y_encoded = np.zeros(y.shape, dtype=np.int)\n",
      "C:\\Users\\luigi.borriello2\\.conda\\envs\\ts\\lib\\site-packages\\sklearn\\tree\\tree.py:163: DeprecationWarning: `np.int` is a deprecated alias for the builtin `int`. To silence this warning, use `int` by itself. Doing this will not modify any behavior and is safe. When replacing `np.int`, you may wish to use e.g. `np.int64` or `np.int32` to specify the precision. If you wish to review your current use, check the release note link for additional information.\n",
      "Deprecated in NumPy 1.20; for more details and guidance: https://numpy.org/devdocs/release/1.20.0-notes.html#deprecations\n",
      "  y_encoded = np.zeros(y.shape, dtype=np.int)\n",
      "C:\\Users\\luigi.borriello2\\.conda\\envs\\ts\\lib\\site-packages\\sklearn\\tree\\tree.py:163: DeprecationWarning: `np.int` is a deprecated alias for the builtin `int`. To silence this warning, use `int` by itself. Doing this will not modify any behavior and is safe. When replacing `np.int`, you may wish to use e.g. `np.int64` or `np.int32` to specify the precision. If you wish to review your current use, check the release note link for additional information.\n",
      "Deprecated in NumPy 1.20; for more details and guidance: https://numpy.org/devdocs/release/1.20.0-notes.html#deprecations\n",
      "  y_encoded = np.zeros(y.shape, dtype=np.int)\n",
      "C:\\Users\\luigi.borriello2\\.conda\\envs\\ts\\lib\\site-packages\\sklearn\\tree\\tree.py:163: DeprecationWarning: `np.int` is a deprecated alias for the builtin `int`. To silence this warning, use `int` by itself. Doing this will not modify any behavior and is safe. When replacing `np.int`, you may wish to use e.g. `np.int64` or `np.int32` to specify the precision. If you wish to review your current use, check the release note link for additional information.\n",
      "Deprecated in NumPy 1.20; for more details and guidance: https://numpy.org/devdocs/release/1.20.0-notes.html#deprecations\n",
      "  y_encoded = np.zeros(y.shape, dtype=np.int)\n",
      "C:\\Users\\luigi.borriello2\\.conda\\envs\\ts\\lib\\site-packages\\sklearn\\tree\\tree.py:163: DeprecationWarning: `np.int` is a deprecated alias for the builtin `int`. To silence this warning, use `int` by itself. Doing this will not modify any behavior and is safe. When replacing `np.int`, you may wish to use e.g. `np.int64` or `np.int32` to specify the precision. If you wish to review your current use, check the release note link for additional information.\n",
      "Deprecated in NumPy 1.20; for more details and guidance: https://numpy.org/devdocs/release/1.20.0-notes.html#deprecations\n",
      "  y_encoded = np.zeros(y.shape, dtype=np.int)\n",
      "C:\\Users\\luigi.borriello2\\.conda\\envs\\ts\\lib\\site-packages\\sklearn\\tree\\tree.py:163: DeprecationWarning: `np.int` is a deprecated alias for the builtin `int`. To silence this warning, use `int` by itself. Doing this will not modify any behavior and is safe. When replacing `np.int`, you may wish to use e.g. `np.int64` or `np.int32` to specify the precision. If you wish to review your current use, check the release note link for additional information.\n",
      "Deprecated in NumPy 1.20; for more details and guidance: https://numpy.org/devdocs/release/1.20.0-notes.html#deprecations\n",
      "  y_encoded = np.zeros(y.shape, dtype=np.int)\n",
      "C:\\Users\\luigi.borriello2\\.conda\\envs\\ts\\lib\\site-packages\\sklearn\\tree\\tree.py:163: DeprecationWarning: `np.int` is a deprecated alias for the builtin `int`. To silence this warning, use `int` by itself. Doing this will not modify any behavior and is safe. When replacing `np.int`, you may wish to use e.g. `np.int64` or `np.int32` to specify the precision. If you wish to review your current use, check the release note link for additional information.\n",
      "Deprecated in NumPy 1.20; for more details and guidance: https://numpy.org/devdocs/release/1.20.0-notes.html#deprecations\n",
      "  y_encoded = np.zeros(y.shape, dtype=np.int)\n",
      "C:\\Users\\luigi.borriello2\\.conda\\envs\\ts\\lib\\site-packages\\sklearn\\tree\\tree.py:163: DeprecationWarning: `np.int` is a deprecated alias for the builtin `int`. To silence this warning, use `int` by itself. Doing this will not modify any behavior and is safe. When replacing `np.int`, you may wish to use e.g. `np.int64` or `np.int32` to specify the precision. If you wish to review your current use, check the release note link for additional information.\n",
      "Deprecated in NumPy 1.20; for more details and guidance: https://numpy.org/devdocs/release/1.20.0-notes.html#deprecations\n",
      "  y_encoded = np.zeros(y.shape, dtype=np.int)\n",
      "C:\\Users\\luigi.borriello2\\.conda\\envs\\ts\\lib\\site-packages\\sklearn\\tree\\tree.py:163: DeprecationWarning: `np.int` is a deprecated alias for the builtin `int`. To silence this warning, use `int` by itself. Doing this will not modify any behavior and is safe. When replacing `np.int`, you may wish to use e.g. `np.int64` or `np.int32` to specify the precision. If you wish to review your current use, check the release note link for additional information.\n",
      "Deprecated in NumPy 1.20; for more details and guidance: https://numpy.org/devdocs/release/1.20.0-notes.html#deprecations\n",
      "  y_encoded = np.zeros(y.shape, dtype=np.int)\n",
      "C:\\Users\\luigi.borriello2\\.conda\\envs\\ts\\lib\\site-packages\\sklearn\\tree\\tree.py:163: DeprecationWarning: `np.int` is a deprecated alias for the builtin `int`. To silence this warning, use `int` by itself. Doing this will not modify any behavior and is safe. When replacing `np.int`, you may wish to use e.g. `np.int64` or `np.int32` to specify the precision. If you wish to review your current use, check the release note link for additional information.\n",
      "Deprecated in NumPy 1.20; for more details and guidance: https://numpy.org/devdocs/release/1.20.0-notes.html#deprecations\n",
      "  y_encoded = np.zeros(y.shape, dtype=np.int)\n",
      "C:\\Users\\luigi.borriello2\\.conda\\envs\\ts\\lib\\site-packages\\sklearn\\tree\\tree.py:163: DeprecationWarning: `np.int` is a deprecated alias for the builtin `int`. To silence this warning, use `int` by itself. Doing this will not modify any behavior and is safe. When replacing `np.int`, you may wish to use e.g. `np.int64` or `np.int32` to specify the precision. If you wish to review your current use, check the release note link for additional information.\n",
      "Deprecated in NumPy 1.20; for more details and guidance: https://numpy.org/devdocs/release/1.20.0-notes.html#deprecations\n",
      "  y_encoded = np.zeros(y.shape, dtype=np.int)\n",
      "C:\\Users\\luigi.borriello2\\.conda\\envs\\ts\\lib\\site-packages\\sklearn\\tree\\tree.py:163: DeprecationWarning: `np.int` is a deprecated alias for the builtin `int`. To silence this warning, use `int` by itself. Doing this will not modify any behavior and is safe. When replacing `np.int`, you may wish to use e.g. `np.int64` or `np.int32` to specify the precision. If you wish to review your current use, check the release note link for additional information.\n",
      "Deprecated in NumPy 1.20; for more details and guidance: https://numpy.org/devdocs/release/1.20.0-notes.html#deprecations\n",
      "  y_encoded = np.zeros(y.shape, dtype=np.int)\n",
      "C:\\Users\\luigi.borriello2\\.conda\\envs\\ts\\lib\\site-packages\\sklearn\\tree\\tree.py:163: DeprecationWarning: `np.int` is a deprecated alias for the builtin `int`. To silence this warning, use `int` by itself. Doing this will not modify any behavior and is safe. When replacing `np.int`, you may wish to use e.g. `np.int64` or `np.int32` to specify the precision. If you wish to review your current use, check the release note link for additional information.\n",
      "Deprecated in NumPy 1.20; for more details and guidance: https://numpy.org/devdocs/release/1.20.0-notes.html#deprecations\n",
      "  y_encoded = np.zeros(y.shape, dtype=np.int)\n",
      "C:\\Users\\luigi.borriello2\\.conda\\envs\\ts\\lib\\site-packages\\sklearn\\tree\\tree.py:163: DeprecationWarning: `np.int` is a deprecated alias for the builtin `int`. To silence this warning, use `int` by itself. Doing this will not modify any behavior and is safe. When replacing `np.int`, you may wish to use e.g. `np.int64` or `np.int32` to specify the precision. If you wish to review your current use, check the release note link for additional information.\n",
      "Deprecated in NumPy 1.20; for more details and guidance: https://numpy.org/devdocs/release/1.20.0-notes.html#deprecations\n",
      "  y_encoded = np.zeros(y.shape, dtype=np.int)\n",
      "C:\\Users\\luigi.borriello2\\.conda\\envs\\ts\\lib\\site-packages\\sklearn\\tree\\tree.py:163: DeprecationWarning: `np.int` is a deprecated alias for the builtin `int`. To silence this warning, use `int` by itself. Doing this will not modify any behavior and is safe. When replacing `np.int`, you may wish to use e.g. `np.int64` or `np.int32` to specify the precision. If you wish to review your current use, check the release note link for additional information.\n",
      "Deprecated in NumPy 1.20; for more details and guidance: https://numpy.org/devdocs/release/1.20.0-notes.html#deprecations\n",
      "  y_encoded = np.zeros(y.shape, dtype=np.int)\n",
      "C:\\Users\\luigi.borriello2\\.conda\\envs\\ts\\lib\\site-packages\\sklearn\\tree\\tree.py:163: DeprecationWarning: `np.int` is a deprecated alias for the builtin `int`. To silence this warning, use `int` by itself. Doing this will not modify any behavior and is safe. When replacing `np.int`, you may wish to use e.g. `np.int64` or `np.int32` to specify the precision. If you wish to review your current use, check the release note link for additional information.\n",
      "Deprecated in NumPy 1.20; for more details and guidance: https://numpy.org/devdocs/release/1.20.0-notes.html#deprecations\n",
      "  y_encoded = np.zeros(y.shape, dtype=np.int)\n",
      "C:\\Users\\luigi.borriello2\\.conda\\envs\\ts\\lib\\site-packages\\sklearn\\tree\\tree.py:163: DeprecationWarning: `np.int` is a deprecated alias for the builtin `int`. To silence this warning, use `int` by itself. Doing this will not modify any behavior and is safe. When replacing `np.int`, you may wish to use e.g. `np.int64` or `np.int32` to specify the precision. If you wish to review your current use, check the release note link for additional information.\n",
      "Deprecated in NumPy 1.20; for more details and guidance: https://numpy.org/devdocs/release/1.20.0-notes.html#deprecations\n",
      "  y_encoded = np.zeros(y.shape, dtype=np.int)\n",
      "C:\\Users\\luigi.borriello2\\.conda\\envs\\ts\\lib\\site-packages\\sklearn\\tree\\tree.py:163: DeprecationWarning: `np.int` is a deprecated alias for the builtin `int`. To silence this warning, use `int` by itself. Doing this will not modify any behavior and is safe. When replacing `np.int`, you may wish to use e.g. `np.int64` or `np.int32` to specify the precision. If you wish to review your current use, check the release note link for additional information.\n",
      "Deprecated in NumPy 1.20; for more details and guidance: https://numpy.org/devdocs/release/1.20.0-notes.html#deprecations\n",
      "  y_encoded = np.zeros(y.shape, dtype=np.int)\n",
      "C:\\Users\\luigi.borriello2\\.conda\\envs\\ts\\lib\\site-packages\\sklearn\\tree\\tree.py:163: DeprecationWarning: `np.int` is a deprecated alias for the builtin `int`. To silence this warning, use `int` by itself. Doing this will not modify any behavior and is safe. When replacing `np.int`, you may wish to use e.g. `np.int64` or `np.int32` to specify the precision. If you wish to review your current use, check the release note link for additional information.\n",
      "Deprecated in NumPy 1.20; for more details and guidance: https://numpy.org/devdocs/release/1.20.0-notes.html#deprecations\n",
      "  y_encoded = np.zeros(y.shape, dtype=np.int)\n",
      "C:\\Users\\luigi.borriello2\\.conda\\envs\\ts\\lib\\site-packages\\sklearn\\tree\\tree.py:163: DeprecationWarning: `np.int` is a deprecated alias for the builtin `int`. To silence this warning, use `int` by itself. Doing this will not modify any behavior and is safe. When replacing `np.int`, you may wish to use e.g. `np.int64` or `np.int32` to specify the precision. If you wish to review your current use, check the release note link for additional information.\n",
      "Deprecated in NumPy 1.20; for more details and guidance: https://numpy.org/devdocs/release/1.20.0-notes.html#deprecations\n",
      "  y_encoded = np.zeros(y.shape, dtype=np.int)\n",
      "C:\\Users\\luigi.borriello2\\.conda\\envs\\ts\\lib\\site-packages\\sklearn\\tree\\tree.py:163: DeprecationWarning: `np.int` is a deprecated alias for the builtin `int`. To silence this warning, use `int` by itself. Doing this will not modify any behavior and is safe. When replacing `np.int`, you may wish to use e.g. `np.int64` or `np.int32` to specify the precision. If you wish to review your current use, check the release note link for additional information.\n",
      "Deprecated in NumPy 1.20; for more details and guidance: https://numpy.org/devdocs/release/1.20.0-notes.html#deprecations\n",
      "  y_encoded = np.zeros(y.shape, dtype=np.int)\n",
      "C:\\Users\\luigi.borriello2\\.conda\\envs\\ts\\lib\\site-packages\\sklearn\\tree\\tree.py:163: DeprecationWarning: `np.int` is a deprecated alias for the builtin `int`. To silence this warning, use `int` by itself. Doing this will not modify any behavior and is safe. When replacing `np.int`, you may wish to use e.g. `np.int64` or `np.int32` to specify the precision. If you wish to review your current use, check the release note link for additional information.\n",
      "Deprecated in NumPy 1.20; for more details and guidance: https://numpy.org/devdocs/release/1.20.0-notes.html#deprecations\n",
      "  y_encoded = np.zeros(y.shape, dtype=np.int)\n",
      "C:\\Users\\luigi.borriello2\\.conda\\envs\\ts\\lib\\site-packages\\sklearn\\tree\\tree.py:163: DeprecationWarning: `np.int` is a deprecated alias for the builtin `int`. To silence this warning, use `int` by itself. Doing this will not modify any behavior and is safe. When replacing `np.int`, you may wish to use e.g. `np.int64` or `np.int32` to specify the precision. If you wish to review your current use, check the release note link for additional information.\n",
      "Deprecated in NumPy 1.20; for more details and guidance: https://numpy.org/devdocs/release/1.20.0-notes.html#deprecations\n",
      "  y_encoded = np.zeros(y.shape, dtype=np.int)\n",
      "C:\\Users\\luigi.borriello2\\.conda\\envs\\ts\\lib\\site-packages\\sklearn\\tree\\tree.py:163: DeprecationWarning: `np.int` is a deprecated alias for the builtin `int`. To silence this warning, use `int` by itself. Doing this will not modify any behavior and is safe. When replacing `np.int`, you may wish to use e.g. `np.int64` or `np.int32` to specify the precision. If you wish to review your current use, check the release note link for additional information.\n",
      "Deprecated in NumPy 1.20; for more details and guidance: https://numpy.org/devdocs/release/1.20.0-notes.html#deprecations\n",
      "  y_encoded = np.zeros(y.shape, dtype=np.int)\n",
      "C:\\Users\\luigi.borriello2\\.conda\\envs\\ts\\lib\\site-packages\\sklearn\\tree\\tree.py:163: DeprecationWarning: `np.int` is a deprecated alias for the builtin `int`. To silence this warning, use `int` by itself. Doing this will not modify any behavior and is safe. When replacing `np.int`, you may wish to use e.g. `np.int64` or `np.int32` to specify the precision. If you wish to review your current use, check the release note link for additional information.\n",
      "Deprecated in NumPy 1.20; for more details and guidance: https://numpy.org/devdocs/release/1.20.0-notes.html#deprecations\n",
      "  y_encoded = np.zeros(y.shape, dtype=np.int)\n",
      "C:\\Users\\luigi.borriello2\\.conda\\envs\\ts\\lib\\site-packages\\sklearn\\tree\\tree.py:163: DeprecationWarning: `np.int` is a deprecated alias for the builtin `int`. To silence this warning, use `int` by itself. Doing this will not modify any behavior and is safe. When replacing `np.int`, you may wish to use e.g. `np.int64` or `np.int32` to specify the precision. If you wish to review your current use, check the release note link for additional information.\n",
      "Deprecated in NumPy 1.20; for more details and guidance: https://numpy.org/devdocs/release/1.20.0-notes.html#deprecations\n",
      "  y_encoded = np.zeros(y.shape, dtype=np.int)\n",
      "C:\\Users\\luigi.borriello2\\.conda\\envs\\ts\\lib\\site-packages\\sklearn\\tree\\tree.py:163: DeprecationWarning: `np.int` is a deprecated alias for the builtin `int`. To silence this warning, use `int` by itself. Doing this will not modify any behavior and is safe. When replacing `np.int`, you may wish to use e.g. `np.int64` or `np.int32` to specify the precision. If you wish to review your current use, check the release note link for additional information.\n",
      "Deprecated in NumPy 1.20; for more details and guidance: https://numpy.org/devdocs/release/1.20.0-notes.html#deprecations\n",
      "  y_encoded = np.zeros(y.shape, dtype=np.int)\n",
      "C:\\Users\\luigi.borriello2\\.conda\\envs\\ts\\lib\\site-packages\\sklearn\\tree\\tree.py:163: DeprecationWarning: `np.int` is a deprecated alias for the builtin `int`. To silence this warning, use `int` by itself. Doing this will not modify any behavior and is safe. When replacing `np.int`, you may wish to use e.g. `np.int64` or `np.int32` to specify the precision. If you wish to review your current use, check the release note link for additional information.\n",
      "Deprecated in NumPy 1.20; for more details and guidance: https://numpy.org/devdocs/release/1.20.0-notes.html#deprecations\n",
      "  y_encoded = np.zeros(y.shape, dtype=np.int)\n",
      "C:\\Users\\luigi.borriello2\\.conda\\envs\\ts\\lib\\site-packages\\sklearn\\tree\\tree.py:163: DeprecationWarning: `np.int` is a deprecated alias for the builtin `int`. To silence this warning, use `int` by itself. Doing this will not modify any behavior and is safe. When replacing `np.int`, you may wish to use e.g. `np.int64` or `np.int32` to specify the precision. If you wish to review your current use, check the release note link for additional information.\n",
      "Deprecated in NumPy 1.20; for more details and guidance: https://numpy.org/devdocs/release/1.20.0-notes.html#deprecations\n",
      "  y_encoded = np.zeros(y.shape, dtype=np.int)\n",
      "C:\\Users\\luigi.borriello2\\.conda\\envs\\ts\\lib\\site-packages\\sklearn\\tree\\tree.py:163: DeprecationWarning: `np.int` is a deprecated alias for the builtin `int`. To silence this warning, use `int` by itself. Doing this will not modify any behavior and is safe. When replacing `np.int`, you may wish to use e.g. `np.int64` or `np.int32` to specify the precision. If you wish to review your current use, check the release note link for additional information.\n",
      "Deprecated in NumPy 1.20; for more details and guidance: https://numpy.org/devdocs/release/1.20.0-notes.html#deprecations\n",
      "  y_encoded = np.zeros(y.shape, dtype=np.int)\n",
      "C:\\Users\\luigi.borriello2\\.conda\\envs\\ts\\lib\\site-packages\\sklearn\\tree\\tree.py:163: DeprecationWarning: `np.int` is a deprecated alias for the builtin `int`. To silence this warning, use `int` by itself. Doing this will not modify any behavior and is safe. When replacing `np.int`, you may wish to use e.g. `np.int64` or `np.int32` to specify the precision. If you wish to review your current use, check the release note link for additional information.\n",
      "Deprecated in NumPy 1.20; for more details and guidance: https://numpy.org/devdocs/release/1.20.0-notes.html#deprecations\n",
      "  y_encoded = np.zeros(y.shape, dtype=np.int)\n",
      "C:\\Users\\luigi.borriello2\\.conda\\envs\\ts\\lib\\site-packages\\sklearn\\tree\\tree.py:163: DeprecationWarning: `np.int` is a deprecated alias for the builtin `int`. To silence this warning, use `int` by itself. Doing this will not modify any behavior and is safe. When replacing `np.int`, you may wish to use e.g. `np.int64` or `np.int32` to specify the precision. If you wish to review your current use, check the release note link for additional information.\n",
      "Deprecated in NumPy 1.20; for more details and guidance: https://numpy.org/devdocs/release/1.20.0-notes.html#deprecations\n",
      "  y_encoded = np.zeros(y.shape, dtype=np.int)\n",
      "C:\\Users\\luigi.borriello2\\.conda\\envs\\ts\\lib\\site-packages\\sklearn\\tree\\tree.py:163: DeprecationWarning: `np.int` is a deprecated alias for the builtin `int`. To silence this warning, use `int` by itself. Doing this will not modify any behavior and is safe. When replacing `np.int`, you may wish to use e.g. `np.int64` or `np.int32` to specify the precision. If you wish to review your current use, check the release note link for additional information.\n",
      "Deprecated in NumPy 1.20; for more details and guidance: https://numpy.org/devdocs/release/1.20.0-notes.html#deprecations\n",
      "  y_encoded = np.zeros(y.shape, dtype=np.int)\n",
      "C:\\Users\\luigi.borriello2\\.conda\\envs\\ts\\lib\\site-packages\\sklearn\\tree\\tree.py:163: DeprecationWarning: `np.int` is a deprecated alias for the builtin `int`. To silence this warning, use `int` by itself. Doing this will not modify any behavior and is safe. When replacing `np.int`, you may wish to use e.g. `np.int64` or `np.int32` to specify the precision. If you wish to review your current use, check the release note link for additional information.\n",
      "Deprecated in NumPy 1.20; for more details and guidance: https://numpy.org/devdocs/release/1.20.0-notes.html#deprecations\n",
      "  y_encoded = np.zeros(y.shape, dtype=np.int)\n",
      "C:\\Users\\luigi.borriello2\\.conda\\envs\\ts\\lib\\site-packages\\sklearn\\tree\\tree.py:163: DeprecationWarning: `np.int` is a deprecated alias for the builtin `int`. To silence this warning, use `int` by itself. Doing this will not modify any behavior and is safe. When replacing `np.int`, you may wish to use e.g. `np.int64` or `np.int32` to specify the precision. If you wish to review your current use, check the release note link for additional information.\n",
      "Deprecated in NumPy 1.20; for more details and guidance: https://numpy.org/devdocs/release/1.20.0-notes.html#deprecations\n",
      "  y_encoded = np.zeros(y.shape, dtype=np.int)\n",
      "C:\\Users\\luigi.borriello2\\.conda\\envs\\ts\\lib\\site-packages\\sklearn\\tree\\tree.py:163: DeprecationWarning: `np.int` is a deprecated alias for the builtin `int`. To silence this warning, use `int` by itself. Doing this will not modify any behavior and is safe. When replacing `np.int`, you may wish to use e.g. `np.int64` or `np.int32` to specify the precision. If you wish to review your current use, check the release note link for additional information.\n",
      "Deprecated in NumPy 1.20; for more details and guidance: https://numpy.org/devdocs/release/1.20.0-notes.html#deprecations\n",
      "  y_encoded = np.zeros(y.shape, dtype=np.int)\n",
      "C:\\Users\\luigi.borriello2\\.conda\\envs\\ts\\lib\\site-packages\\sklearn\\tree\\tree.py:163: DeprecationWarning: `np.int` is a deprecated alias for the builtin `int`. To silence this warning, use `int` by itself. Doing this will not modify any behavior and is safe. When replacing `np.int`, you may wish to use e.g. `np.int64` or `np.int32` to specify the precision. If you wish to review your current use, check the release note link for additional information.\n",
      "Deprecated in NumPy 1.20; for more details and guidance: https://numpy.org/devdocs/release/1.20.0-notes.html#deprecations\n",
      "  y_encoded = np.zeros(y.shape, dtype=np.int)\n",
      "C:\\Users\\luigi.borriello2\\.conda\\envs\\ts\\lib\\site-packages\\sklearn\\tree\\tree.py:163: DeprecationWarning: `np.int` is a deprecated alias for the builtin `int`. To silence this warning, use `int` by itself. Doing this will not modify any behavior and is safe. When replacing `np.int`, you may wish to use e.g. `np.int64` or `np.int32` to specify the precision. If you wish to review your current use, check the release note link for additional information.\n",
      "Deprecated in NumPy 1.20; for more details and guidance: https://numpy.org/devdocs/release/1.20.0-notes.html#deprecations\n",
      "  y_encoded = np.zeros(y.shape, dtype=np.int)\n",
      "C:\\Users\\luigi.borriello2\\.conda\\envs\\ts\\lib\\site-packages\\sklearn\\tree\\tree.py:163: DeprecationWarning: `np.int` is a deprecated alias for the builtin `int`. To silence this warning, use `int` by itself. Doing this will not modify any behavior and is safe. When replacing `np.int`, you may wish to use e.g. `np.int64` or `np.int32` to specify the precision. If you wish to review your current use, check the release note link for additional information.\n",
      "Deprecated in NumPy 1.20; for more details and guidance: https://numpy.org/devdocs/release/1.20.0-notes.html#deprecations\n",
      "  y_encoded = np.zeros(y.shape, dtype=np.int)\n"
     ]
    },
    {
     "data": {
      "text/plain": [
       "RandomForestClassifier(bootstrap=True, class_weight=None, criterion='gini',\n",
       "                       max_depth=None, max_features='auto', max_leaf_nodes=None,\n",
       "                       min_impurity_decrease=0.0, min_impurity_split=None,\n",
       "                       min_samples_leaf=1, min_samples_split=2,\n",
       "                       min_weight_fraction_leaf=0.0, n_estimators=50,\n",
       "                       n_jobs=None, oob_score=False, random_state=42, verbose=0,\n",
       "                       warm_start=False)"
      ]
     },
     "execution_count": 70,
     "metadata": {},
     "output_type": "execute_result"
    }
   ],
   "source": [
    "model.fit(X_train, y_train)"
   ]
  },
  {
   "cell_type": "code",
   "execution_count": 71,
   "metadata": {},
   "outputs": [
    {
     "name": "stderr",
     "output_type": "stream",
     "text": [
      "C:\\Users\\luigi.borriello2\\.conda\\envs\\ts\\lib\\site-packages\\sklearn\\ensemble\\base.py:158: DeprecationWarning: `np.int` is a deprecated alias for the builtin `int`. To silence this warning, use `int` by itself. Doing this will not modify any behavior and is safe. When replacing `np.int`, you may wish to use e.g. `np.int64` or `np.int32` to specify the precision. If you wish to review your current use, check the release note link for additional information.\n",
      "Deprecated in NumPy 1.20; for more details and guidance: https://numpy.org/devdocs/release/1.20.0-notes.html#deprecations\n",
      "  dtype=np.int)\n"
     ]
    }
   ],
   "source": [
    "y_pred = model.predict(X_test)"
   ]
  },
  {
   "cell_type": "code",
   "execution_count": 72,
   "metadata": {},
   "outputs": [
    {
     "data": {
      "text/plain": [
       "0.762791461412151"
      ]
     },
     "execution_count": 72,
     "metadata": {},
     "output_type": "execute_result"
    }
   ],
   "source": [
    "f1_score(y_test, y_pred, average=\"weighted\")"
   ]
  },
  {
   "cell_type": "code",
   "execution_count": 73,
   "metadata": {},
   "outputs": [
    {
     "name": "stdout",
     "output_type": "stream",
     "text": [
      "              precision    recall  f1-score   support\n",
      "\n",
      "           0       0.87      0.87      0.87        30\n",
      "           1       0.86      0.95      0.90        20\n",
      "           4       0.74      0.88      0.80        40\n",
      "           5       0.00      0.00      0.00        10\n",
      "\n",
      "    accuracy                           0.80       100\n",
      "   macro avg       0.62      0.67      0.64       100\n",
      "weighted avg       0.73      0.80      0.76       100\n",
      "\n"
     ]
    }
   ],
   "source": [
    "print(classification_report(y_test, y_pred))"
   ]
  },
  {
   "cell_type": "code",
   "execution_count": 74,
   "metadata": {},
   "outputs": [
    {
     "name": "stdout",
     "output_type": "stream",
     "text": [
      "[[26  1  2  1]\n",
      " [ 0 19  1  0]\n",
      " [ 3  2 35  0]\n",
      " [ 1  0  9  0]]\n"
     ]
    }
   ],
   "source": [
    "print(confusion_matrix(y_test, y_pred))"
   ]
  },
  {
   "cell_type": "code",
   "execution_count": 75,
   "metadata": {},
   "outputs": [],
   "source": [
    "with open('rf_model_paper_3.h', 'w') as f:  # change path if needed\n",
    "    f.write(port(model, optimize=False))"
   ]
  },
  {
   "cell_type": "code",
   "execution_count": 76,
   "metadata": {},
   "outputs": [],
   "source": [
    "with open('models/rf_model_paper_3.pkl', 'wb') as f:\n",
    "    pickle.dump(model, f)\n"
   ]
  },
  {
   "cell_type": "markdown",
   "metadata": {},
   "source": [
    "### MLP"
   ]
  },
  {
   "cell_type": "code",
   "execution_count": 77,
   "metadata": {},
   "outputs": [],
   "source": [
    "# design network\n",
    "\n",
    "model = Sequential()\n",
    "model.add(Dense(5, activation='relu', input_dim=5))\n",
    "model.add(Dense(256, activation='relu'))\n",
    "model.add(Dense(1, activation='sigmoid'))\n"
   ]
  },
  {
   "cell_type": "code",
   "execution_count": 78,
   "metadata": {},
   "outputs": [],
   "source": [
    "opt = Adam(lr=1e-5, decay=1e-5)\n",
    "#model.compile(loss='sparse_categorical_crossentropy', optimizer=opt, metrics=[\"accuracy\"])\n",
    "model.compile(loss='binary_crossentropy', optimizer='adam', metrics=['accuracy'])\n"
   ]
  },
  {
   "cell_type": "code",
   "execution_count": 79,
   "metadata": {
    "scrolled": true
   },
   "outputs": [
    {
     "name": "stdout",
     "output_type": "stream",
     "text": [
      "Train on 300 samples, validate on 100 samples\n",
      "Epoch 1/100\n",
      "300/300 [==============================] - 0s 1ms/step - loss: 0.6615 - acc: 0.2267 - val_loss: 0.6502 - val_acc: 0.2300\n",
      "Epoch 2/100\n",
      "300/300 [==============================] - 0s 73us/step - loss: 0.6262 - acc: 0.2200 - val_loss: 0.6203 - val_acc: 0.2300\n",
      "Epoch 3/100\n",
      "300/300 [==============================] - 0s 62us/step - loss: 0.5913 - acc: 0.2200 - val_loss: 0.5903 - val_acc: 0.2300\n",
      "Epoch 4/100\n",
      "300/300 [==============================] - 0s 72us/step - loss: 0.5569 - acc: 0.2200 - val_loss: 0.5603 - val_acc: 0.2300\n",
      "Epoch 5/100\n",
      "300/300 [==============================] - 0s 77us/step - loss: 0.5223 - acc: 0.2200 - val_loss: 0.5309 - val_acc: 0.2300\n",
      "Epoch 6/100\n",
      "300/300 [==============================] - 0s 94us/step - loss: 0.4885 - acc: 0.2200 - val_loss: 0.5013 - val_acc: 0.2300\n",
      "Epoch 7/100\n",
      "300/300 [==============================] - 0s 70us/step - loss: 0.4536 - acc: 0.2200 - val_loss: 0.4733 - val_acc: 0.2300\n",
      "Epoch 8/100\n",
      "300/300 [==============================] - 0s 100us/step - loss: 0.4202 - acc: 0.2200 - val_loss: 0.4444 - val_acc: 0.2300\n",
      "Epoch 9/100\n",
      "300/300 [==============================] - 0s 76us/step - loss: 0.3861 - acc: 0.2200 - val_loss: 0.4160 - val_acc: 0.2300\n",
      "Epoch 10/100\n",
      "300/300 [==============================] - 0s 69us/step - loss: 0.3530 - acc: 0.2200 - val_loss: 0.3868 - val_acc: 0.2300\n",
      "Epoch 11/100\n",
      "300/300 [==============================] - 0s 27us/step - loss: 0.3192 - acc: 0.2200 - val_loss: 0.3582 - val_acc: 0.2300\n",
      "Epoch 12/100\n",
      "300/300 [==============================] - 0s 21us/step - loss: 0.2864 - acc: 0.2200 - val_loss: 0.3294 - val_acc: 0.2300\n",
      "Epoch 13/100\n",
      "300/300 [==============================] - 0s 71us/step - loss: 0.2532 - acc: 0.2200 - val_loss: 0.3010 - val_acc: 0.2300\n",
      "Epoch 14/100\n",
      "300/300 [==============================] - 0s 61us/step - loss: 0.2197 - acc: 0.2200 - val_loss: 0.2736 - val_acc: 0.2300\n",
      "Epoch 15/100\n",
      "300/300 [==============================] - 0s 69us/step - loss: 0.1870 - acc: 0.2200 - val_loss: 0.2459 - val_acc: 0.2300\n",
      "Epoch 16/100\n",
      "300/300 [==============================] - 0s 69us/step - loss: 0.1538 - acc: 0.2200 - val_loss: 0.2184 - val_acc: 0.2300\n",
      "Epoch 17/100\n",
      "300/300 [==============================] - 0s 70us/step - loss: 0.1217 - acc: 0.2200 - val_loss: 0.1900 - val_acc: 0.2300\n",
      "Epoch 18/100\n",
      "300/300 [==============================] - 0s 71us/step - loss: 0.0891 - acc: 0.2200 - val_loss: 0.1619 - val_acc: 0.2300\n",
      "Epoch 19/100\n",
      "300/300 [==============================] - 0s 50us/step - loss: 0.0562 - acc: 0.2200 - val_loss: 0.1341 - val_acc: 0.2300\n",
      "Epoch 20/100\n",
      "300/300 [==============================] - 0s 49us/step - loss: 0.0234 - acc: 0.2200 - val_loss: 0.1072 - val_acc: 0.2300\n",
      "Epoch 21/100\n",
      "300/300 [==============================] - 0s 27us/step - loss: -0.0085 - acc: 0.2200 - val_loss: 0.0801 - val_acc: 0.2300\n",
      "Epoch 22/100\n",
      "300/300 [==============================] - 0s 51us/step - loss: -0.0402 - acc: 0.2200 - val_loss: 0.0525 - val_acc: 0.2300\n",
      "Epoch 23/100\n",
      "300/300 [==============================] - 0s 72us/step - loss: -0.0727 - acc: 0.2200 - val_loss: 0.0255 - val_acc: 0.2300\n",
      "Epoch 24/100\n",
      "300/300 [==============================] - 0s 39us/step - loss: -0.1043 - acc: 0.2200 - val_loss: -0.0018 - val_acc: 0.2300\n",
      "Epoch 25/100\n",
      "300/300 [==============================] - 0s 73us/step - loss: -0.1356 - acc: 0.2200 - val_loss: -0.0297 - val_acc: 0.2300\n",
      "Epoch 26/100\n",
      "300/300 [==============================] - 0s 93us/step - loss: -0.1684 - acc: 0.2200 - val_loss: -0.0555 - val_acc: 0.2300\n",
      "Epoch 27/100\n",
      "300/300 [==============================] - 0s 63us/step - loss: -0.1998 - acc: 0.2200 - val_loss: -0.0816 - val_acc: 0.2300\n",
      "Epoch 28/100\n",
      "300/300 [==============================] - 0s 85us/step - loss: -0.2308 - acc: 0.2200 - val_loss: -0.1083 - val_acc: 0.2300\n",
      "Epoch 29/100\n",
      "300/300 [==============================] - 0s 54us/step - loss: -0.2616 - acc: 0.2200 - val_loss: -0.1357 - val_acc: 0.2300\n",
      "Epoch 30/100\n",
      "300/300 [==============================] - 0s 69us/step - loss: -0.2940 - acc: 0.2200 - val_loss: -0.1615 - val_acc: 0.2300\n",
      "Epoch 31/100\n",
      "300/300 [==============================] - 0s 52us/step - loss: -0.3249 - acc: 0.2200 - val_loss: -0.1879 - val_acc: 0.2300\n",
      "Epoch 32/100\n",
      "300/300 [==============================] - 0s 70us/step - loss: -0.3556 - acc: 0.2200 - val_loss: -0.2150 - val_acc: 0.2300\n",
      "Epoch 33/100\n",
      "300/300 [==============================] - 0s 44us/step - loss: -0.3872 - acc: 0.2200 - val_loss: -0.2409 - val_acc: 0.2300\n",
      "Epoch 34/100\n",
      "300/300 [==============================] - 0s 39us/step - loss: -0.4185 - acc: 0.2200 - val_loss: -0.2663 - val_acc: 0.2300\n",
      "Epoch 35/100\n",
      "300/300 [==============================] - 0s 88us/step - loss: -0.4489 - acc: 0.2200 - val_loss: -0.2921 - val_acc: 0.2300\n",
      "Epoch 36/100\n",
      "300/300 [==============================] - 0s 80us/step - loss: -0.4790 - acc: 0.2200 - val_loss: -0.3191 - val_acc: 0.2300\n",
      "Epoch 37/100\n",
      "300/300 [==============================] - 0s 68us/step - loss: -0.5103 - acc: 0.2200 - val_loss: -0.3447 - val_acc: 0.2300\n",
      "Epoch 38/100\n",
      "300/300 [==============================] - 0s 66us/step - loss: -0.5407 - acc: 0.2200 - val_loss: -0.3705 - val_acc: 0.2300\n",
      "Epoch 39/100\n",
      "300/300 [==============================] - 0s 67us/step - loss: -0.5713 - acc: 0.2200 - val_loss: -0.3955 - val_acc: 0.2300\n",
      "Epoch 40/100\n",
      "300/300 [==============================] - 0s 41us/step - loss: -0.6010 - acc: 0.2200 - val_loss: -0.4210 - val_acc: 0.2300\n",
      "Epoch 41/100\n",
      "300/300 [==============================] - 0s 70us/step - loss: -0.6311 - acc: 0.2200 - val_loss: -0.4463 - val_acc: 0.2300\n",
      "Epoch 42/100\n",
      "300/300 [==============================] - 0s 67us/step - loss: -0.6617 - acc: 0.2200 - val_loss: -0.4711 - val_acc: 0.2300\n",
      "Epoch 43/100\n",
      "300/300 [==============================] - 0s 75us/step - loss: -0.6909 - acc: 0.2200 - val_loss: -0.4969 - val_acc: 0.2300\n",
      "Epoch 44/100\n",
      "300/300 [==============================] - 0s 63us/step - loss: -0.7214 - acc: 0.2200 - val_loss: -0.5216 - val_acc: 0.2300\n",
      "Epoch 45/100\n",
      "300/300 [==============================] - 0s 54us/step - loss: -0.7506 - acc: 0.2200 - val_loss: -0.5470 - val_acc: 0.2300\n",
      "Epoch 46/100\n",
      "300/300 [==============================] - 0s 62us/step - loss: -0.7807 - acc: 0.2200 - val_loss: -0.5718 - val_acc: 0.2300\n",
      "Epoch 47/100\n",
      "300/300 [==============================] - 0s 53us/step - loss: -0.8102 - acc: 0.2200 - val_loss: -0.5971 - val_acc: 0.2300\n",
      "Epoch 48/100\n",
      "300/300 [==============================] - 0s 54us/step - loss: -0.8402 - acc: 0.2200 - val_loss: -0.6218 - val_acc: 0.2300\n",
      "Epoch 49/100\n",
      "300/300 [==============================] - 0s 54us/step - loss: -0.8697 - acc: 0.2200 - val_loss: -0.6461 - val_acc: 0.2300\n",
      "Epoch 50/100\n",
      "300/300 [==============================] - 0s 55us/step - loss: -0.8987 - acc: 0.2200 - val_loss: -0.6711 - val_acc: 0.2300\n",
      "Epoch 51/100\n",
      "300/300 [==============================] - 0s 69us/step - loss: -0.9283 - acc: 0.2200 - val_loss: -0.6953 - val_acc: 0.2300\n",
      "Epoch 52/100\n",
      "300/300 [==============================] - 0s 70us/step - loss: -0.9572 - acc: 0.2200 - val_loss: -0.7197 - val_acc: 0.2300\n",
      "Epoch 53/100\n",
      "300/300 [==============================] - 0s 71us/step - loss: -0.9862 - acc: 0.2200 - val_loss: -0.7446 - val_acc: 0.2300\n",
      "Epoch 54/100\n",
      "300/300 [==============================] - 0s 43us/step - loss: -1.0155 - acc: 0.2200 - val_loss: -0.7689 - val_acc: 0.2300\n",
      "Epoch 55/100\n",
      "300/300 [==============================] - 0s 44us/step - loss: -1.0443 - acc: 0.2200 - val_loss: -0.7931 - val_acc: 0.2300\n",
      "Epoch 56/100\n",
      "300/300 [==============================] - 0s 76us/step - loss: -1.0735 - acc: 0.2200 - val_loss: -0.8164 - val_acc: 0.2300\n",
      "Epoch 57/100\n",
      "300/300 [==============================] - 0s 69us/step - loss: -1.1016 - acc: 0.2200 - val_loss: -0.8409 - val_acc: 0.2300\n",
      "Epoch 58/100\n",
      "300/300 [==============================] - 0s 49us/step - loss: -1.1307 - acc: 0.2200 - val_loss: -0.8644 - val_acc: 0.2300\n",
      "Epoch 59/100\n",
      "300/300 [==============================] - 0s 56us/step - loss: -1.1591 - acc: 0.2200 - val_loss: -0.8886 - val_acc: 0.2300\n",
      "Epoch 60/100\n",
      "300/300 [==============================] - 0s 46us/step - loss: -1.1877 - acc: 0.2200 - val_loss: -0.9126 - val_acc: 0.2300\n"
     ]
    },
    {
     "name": "stdout",
     "output_type": "stream",
     "text": [
      "Epoch 61/100\n",
      "300/300 [==============================] - 0s 39us/step - loss: -1.2168 - acc: 0.2200 - val_loss: -0.9359 - val_acc: 0.2300\n",
      "Epoch 62/100\n",
      "300/300 [==============================] - 0s 56us/step - loss: -1.2446 - acc: 0.2200 - val_loss: -0.9600 - val_acc: 0.2300\n",
      "Epoch 63/100\n",
      "300/300 [==============================] - 0s 67us/step - loss: -1.2730 - acc: 0.2200 - val_loss: -0.9840 - val_acc: 0.2300\n",
      "Epoch 64/100\n",
      "300/300 [==============================] - 0s 61us/step - loss: -1.3014 - acc: 0.2200 - val_loss: -1.0077 - val_acc: 0.2300\n",
      "Epoch 65/100\n",
      "300/300 [==============================] - 0s 78us/step - loss: -1.3302 - acc: 0.2200 - val_loss: -1.0305 - val_acc: 0.2300\n",
      "Epoch 66/100\n",
      "300/300 [==============================] - 0s 56us/step - loss: -1.3579 - acc: 0.2200 - val_loss: -1.0538 - val_acc: 0.2300\n",
      "Epoch 67/100\n",
      "300/300 [==============================] - 0s 47us/step - loss: -1.3857 - acc: 0.2200 - val_loss: -1.0776 - val_acc: 0.2300\n",
      "Epoch 68/100\n",
      "300/300 [==============================] - 0s 76us/step - loss: -1.4131 - acc: 0.2200 - val_loss: -1.1021 - val_acc: 0.2300\n",
      "Epoch 69/100\n",
      "300/300 [==============================] - 0s 54us/step - loss: -1.4427 - acc: 0.2200 - val_loss: -1.1240 - val_acc: 0.2300\n",
      "Epoch 70/100\n",
      "300/300 [==============================] - 0s 65us/step - loss: -1.4699 - acc: 0.2200 - val_loss: -1.1470 - val_acc: 0.2300\n",
      "Epoch 71/100\n",
      "300/300 [==============================] - 0s 53us/step - loss: -1.4971 - acc: 0.2200 - val_loss: -1.1709 - val_acc: 0.2300\n",
      "Epoch 72/100\n",
      "300/300 [==============================] - 0s 69us/step - loss: -1.5252 - acc: 0.2200 - val_loss: -1.1942 - val_acc: 0.2300\n",
      "Epoch 73/100\n",
      "300/300 [==============================] - 0s 71us/step - loss: -1.5529 - acc: 0.2200 - val_loss: -1.2174 - val_acc: 0.2300\n",
      "Epoch 74/100\n",
      "300/300 [==============================] - 0s 69us/step - loss: -1.5813 - acc: 0.2200 - val_loss: -1.2391 - val_acc: 0.2300\n",
      "Epoch 75/100\n",
      "300/300 [==============================] - 0s 53us/step - loss: -1.6077 - acc: 0.2200 - val_loss: -1.2626 - val_acc: 0.2300\n",
      "Epoch 76/100\n",
      "300/300 [==============================] - 0s 28us/step - loss: -1.6358 - acc: 0.2200 - val_loss: -1.2847 - val_acc: 0.2300\n",
      "Epoch 77/100\n",
      "300/300 [==============================] - 0s 88us/step - loss: -1.6626 - acc: 0.2200 - val_loss: -1.3078 - val_acc: 0.2300\n",
      "Epoch 78/100\n",
      "300/300 [==============================] - 0s 39us/step - loss: -1.6899 - acc: 0.2200 - val_loss: -1.3309 - val_acc: 0.2300\n",
      "Epoch 79/100\n",
      "300/300 [==============================] - 0s 71us/step - loss: -1.7178 - acc: 0.2200 - val_loss: -1.3528 - val_acc: 0.2300\n",
      "Epoch 80/100\n",
      "300/300 [==============================] - 0s 69us/step - loss: -1.7451 - acc: 0.2200 - val_loss: -1.3748 - val_acc: 0.2300\n",
      "Epoch 81/100\n",
      "300/300 [==============================] - 0s 53us/step - loss: -1.7715 - acc: 0.2200 - val_loss: -1.3981 - val_acc: 0.2300\n",
      "Epoch 82/100\n",
      "300/300 [==============================] - 0s 50us/step - loss: -1.7987 - acc: 0.2200 - val_loss: -1.4208 - val_acc: 0.2300\n",
      "Epoch 83/100\n",
      "300/300 [==============================] - 0s 48us/step - loss: -1.8262 - acc: 0.2200 - val_loss: -1.4427 - val_acc: 0.2300\n",
      "Epoch 84/100\n",
      "300/300 [==============================] - 0s 49us/step - loss: -1.8530 - acc: 0.2200 - val_loss: -1.4650 - val_acc: 0.2300\n",
      "Epoch 85/100\n",
      "300/300 [==============================] - 0s 60us/step - loss: -1.8797 - acc: 0.2200 - val_loss: -1.4878 - val_acc: 0.2300\n",
      "Epoch 86/100\n",
      "300/300 [==============================] - 0s 69us/step - loss: -1.9067 - acc: 0.2200 - val_loss: -1.5102 - val_acc: 0.2300\n",
      "Epoch 87/100\n",
      "300/300 [==============================] - 0s 71us/step - loss: -1.9342 - acc: 0.2200 - val_loss: -1.5315 - val_acc: 0.2300\n",
      "Epoch 88/100\n",
      "300/300 [==============================] - 0s 50us/step - loss: -1.9604 - acc: 0.2200 - val_loss: -1.5539 - val_acc: 0.2300\n",
      "Epoch 89/100\n",
      "300/300 [==============================] - 0s 69us/step - loss: -1.9869 - acc: 0.2200 - val_loss: -1.5766 - val_acc: 0.2300\n",
      "Epoch 90/100\n",
      "300/300 [==============================] - 0s 50us/step - loss: -2.0142 - acc: 0.2200 - val_loss: -1.5982 - val_acc: 0.2300\n",
      "Epoch 91/100\n",
      "300/300 [==============================] - 0s 42us/step - loss: -2.0402 - acc: 0.2200 - val_loss: -1.6205 - val_acc: 0.2300\n",
      "Epoch 92/100\n",
      "300/300 [==============================] - 0s 94us/step - loss: -2.0678 - acc: 0.2200 - val_loss: -1.6416 - val_acc: 0.2300\n",
      "Epoch 93/100\n",
      "300/300 [==============================] - 0s 43us/step - loss: -2.0931 - acc: 0.2200 - val_loss: -1.6645 - val_acc: 0.2300\n",
      "Epoch 94/100\n",
      "300/300 [==============================] - 0s 62us/step - loss: -2.1204 - acc: 0.2200 - val_loss: -1.6860 - val_acc: 0.2300\n",
      "Epoch 95/100\n",
      "300/300 [==============================] - 0s 93us/step - loss: -2.1468 - acc: 0.2200 - val_loss: -1.7077 - val_acc: 0.2300\n",
      "Epoch 96/100\n",
      "300/300 [==============================] - 0s 53us/step - loss: -2.1729 - acc: 0.2200 - val_loss: -1.7295 - val_acc: 0.2300\n",
      "Epoch 97/100\n",
      "300/300 [==============================] - 0s 81us/step - loss: -2.1989 - acc: 0.2200 - val_loss: -1.7514 - val_acc: 0.2300\n",
      "Epoch 98/100\n",
      "300/300 [==============================] - 0s 45us/step - loss: -2.2253 - acc: 0.2200 - val_loss: -1.7733 - val_acc: 0.2300\n",
      "Epoch 99/100\n",
      "300/300 [==============================] - 0s 67us/step - loss: -2.2517 - acc: 0.2200 - val_loss: -1.7947 - val_acc: 0.2300\n",
      "Epoch 100/100\n",
      "300/300 [==============================] - 0s 68us/step - loss: -2.2782 - acc: 0.2200 - val_loss: -1.8157 - val_acc: 0.2300\n"
     ]
    }
   ],
   "source": [
    "# fit network\n",
    "history = model.fit(x=X_train, y=y_train, epochs=100, batch_size=16, validation_split=0.25, verbose=1, shuffle=True)"
   ]
  },
  {
   "cell_type": "code",
   "execution_count": 80,
   "metadata": {},
   "outputs": [],
   "source": [
    "model.save('models/rnn-cnn')"
   ]
  },
  {
   "cell_type": "code",
   "execution_count": 81,
   "metadata": {},
   "outputs": [],
   "source": [
    "with open('models/rnn-cnn-history.pkl', 'wb') as file_pi:\n",
    "    pickle.dump(history.history, file_pi)"
   ]
  },
  {
   "cell_type": "code",
   "execution_count": 82,
   "metadata": {},
   "outputs": [
    {
     "data": {
      "image/png": "[encoded data removed]",
      "text/plain": [
       "<Figure size 432x288 with 1 Axes>"
      ]
     },
     "metadata": {
      "needs_background": "light"
     },
     "output_type": "display_data"
    }
   ],
   "source": [
    "# plot history\n",
    "pyplot.plot(history.history['loss'], label='train')\n",
    "pyplot.plot(history.history['val_loss'], label='validation')\n",
    "pyplot.legend()\n",
    "pyplot.show()"
   ]
  },
  {
   "cell_type": "code",
   "execution_count": 83,
   "metadata": {},
   "outputs": [],
   "source": [
    "# make a prediction\n",
    "y_pred = model.predict(X_test)"
   ]
  },
  {
   "cell_type": "code",
   "execution_count": 84,
   "metadata": {},
   "outputs": [
    {
     "data": {
      "text/plain": [
       "array([0, 0, 0, 0, 0, 0, 0, 0, 0, 0, 0, 0, 0, 0, 0, 0, 0, 0, 0, 0, 0, 0,\n",
       "       0, 0, 0, 0, 0, 0, 0, 0, 0, 0, 0, 0, 0, 0, 0, 0, 0, 0, 0, 0, 0, 0,\n",
       "       0, 0, 0, 0, 0, 0, 0, 0, 0, 0, 0, 0, 0, 0, 0, 0, 0, 0, 0, 0, 0, 0,\n",
       "       0, 0, 0, 0, 0, 0, 0, 0, 0, 0, 0, 0, 0, 0, 0, 0, 0, 0, 0, 0, 0, 0,\n",
       "       0, 0, 0, 0, 0, 0, 0, 0, 0, 0, 0, 0], dtype=int64)"
      ]
     },
     "execution_count": 84,
     "metadata": {},
     "output_type": "execute_result"
    }
   ],
   "source": [
    "np.argmax(y_pred, axis=1)"
   ]
  },
  {
   "cell_type": "code",
   "execution_count": 85,
   "metadata": {},
   "outputs": [
    {
     "name": "stderr",
     "output_type": "stream",
     "text": [
      "C:\\Users\\luigi.borriello2\\.conda\\envs\\ts\\lib\\site-packages\\sklearn\\metrics\\classification.py:1437: UndefinedMetricWarning: F-score is ill-defined and being set to 0.0 in labels with no predicted samples.\n",
      "  'precision', 'predicted', average, warn_for)\n"
     ]
    },
    {
     "data": {
      "text/plain": [
       "0.13846153846153844"
      ]
     },
     "execution_count": 85,
     "metadata": {},
     "output_type": "execute_result"
    }
   ],
   "source": [
    "f1_score(y_test, np.argmax(y_pred, axis=1), average=\"weighted\")"
   ]
  },
  {
   "cell_type": "code",
   "execution_count": 86,
   "metadata": {},
   "outputs": [
    {
     "name": "stdout",
     "output_type": "stream",
     "text": [
      "              precision    recall  f1-score   support\n",
      "\n",
      "           0       0.30      1.00      0.46        30\n",
      "           1       0.00      0.00      0.00        20\n",
      "           4       0.00      0.00      0.00        40\n",
      "           5       0.00      0.00      0.00        10\n",
      "\n",
      "    accuracy                           0.30       100\n",
      "   macro avg       0.07      0.25      0.12       100\n",
      "weighted avg       0.09      0.30      0.14       100\n",
      "\n"
     ]
    },
    {
     "name": "stderr",
     "output_type": "stream",
     "text": [
      "C:\\Users\\luigi.borriello2\\.conda\\envs\\ts\\lib\\site-packages\\sklearn\\metrics\\classification.py:1437: UndefinedMetricWarning: Precision and F-score are ill-defined and being set to 0.0 in labels with no predicted samples.\n",
      "  'precision', 'predicted', average, warn_for)\n"
     ]
    }
   ],
   "source": [
    "print(classification_report(y_test, np.argmax(y_pred, axis=1)))"
   ]
  },
  {
   "cell_type": "code",
   "execution_count": 87,
   "metadata": {},
   "outputs": [
    {
     "name": "stdout",
     "output_type": "stream",
     "text": [
      "[[30  0  0  0]\n",
      " [20  0  0  0]\n",
      " [40  0  0  0]\n",
      " [10  0  0  0]]\n"
     ]
    }
   ],
   "source": [
    "print(confusion_matrix(y_test, y_pred.argmax(axis=1)))"
   ]
  },
  {
   "cell_type": "code",
   "execution_count": null,
   "metadata": {},
   "outputs": [],
   "source": [
    "tinymlgen.port(md)"
   ]
  }
 ],
 "metadata": {
  "kernelspec": {
   "display_name": "Python 3 (ipykernel)",
   "language": "python",
   "name": "python3"
  },
  "language_info": {
   "codemirror_mode": {
    "name": "ipython",
    "version": 3
   },
   "file_extension": ".py",
   "mimetype": "text/x-python",
   "name": "python",
   "nbconvert_exporter": "python",
   "pygments_lexer": "ipython3",
   "version": "3.7.11"
  }
 },
 "nbformat": 4,
 "nbformat_minor": 2
}
