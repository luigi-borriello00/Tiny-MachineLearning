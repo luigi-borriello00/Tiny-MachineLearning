{
 "cells": [
  {
   "cell_type": "code",
   "execution_count": 13,
   "id": "19a52fc4",
   "metadata": {},
   "outputs": [],
   "source": [
    "import numpy as np\n",
    "import pandas as pd\n",
    "import sklearn.metrics as metrics"
   ]
  },
  {
   "cell_type": "code",
   "execution_count": 14,
   "id": "55d76729",
   "metadata": {},
   "outputs": [],
   "source": [
    "labels = [\"500\", \"1000\", \"1500\", \"2000\", \"2500\", \"3000\"]"
   ]
  },
  {
   "cell_type": "code",
   "execution_count": 15,
   "id": "97bfc5db",
   "metadata": {},
   "outputs": [],
   "source": [
    "y_real = np.array([2, 0, 3, 4, 3, 4, 2, 5, 4, 4, 0, 1, 2, 0, 0, 0, 4, 3, 1, 4, 0, 2, 5, 4, 3, 5, 5, 1, 2, 3, 4, 1, 4, 1, 4, 1, 4, 5, 3, 2, 1, 0, 2, 1, 5, 0, 0, 0, 5, 3, 2, 1, 2, 1, 3, 5, 4, 4, 2, 0, 3, 2, 4, 5, 3, 0, 4, 2, 3, 3, 3, 2, 2, 5, 1, 4, 0, 5, 5, 2, 1, 3, 1, 2, 0, 1, 5, 1, 0, 3, 3, 5, 2, 4, 4, 3, 0, 5, 0, 2, 4, 2, 1, 3, 0, 1, 5, 3, 0, 0, 3, 5, 2, 1, 5, 1, 5, 5, 4, 1])"
   ]
  },
  {
   "cell_type": "code",
   "execution_count": 16,
   "id": "f2203281",
   "metadata": {},
   "outputs": [],
   "source": [
    "prediction_nn = np.array([2, 0, 5, 4, 5, 4, 2, 5, 4, 4, 0, 1, 2, 0, 0, 0, 4, 5, 1, 4, 0, 2, 5, 3, 5, 5, 5, 1, 2, 5, 4, 1, 4, 1, 4, 1, 3, 5, 5, 2, 1, 0, 2, 1, 5, 0, 0, 0, 5, 5, 2, 1, 2, 1, 5, 5, 3, 3, 2, 0, 5, 2, 4, 5, 5, 0, 4, 2, 5, 5, 5, 2, 2, 5, 1, 3, 0, 5, 5, 2, 1, 5, 1, 2, 0, 1, 5, 1, 0, 5, 5, 5, 2, 4, 4, 5, 0, 5, 0, 2, 4, 2, 1, 5, 0, 1, 5, 5, 0, 0, 5, 5, 2, 1, 5, 1, 5, 5, 3, 1, ])"
   ]
  },
  {
   "cell_type": "code",
   "execution_count": 17,
   "id": "76cd4592",
   "metadata": {},
   "outputs": [],
   "source": [
    "prediction_rf = np.array([2, 0, 3, 4, 3, 4, 2, 5, 4, 4, 0, 1, 2, 0, 0, 0, 4, 3, 1, 4, 0, 2, 5, 4, 3, 5, 5, 1, 2, 3, 4, 1, 4, 1, 4, 1, 4, 5, 3, 2, 1, 0, 2, 1, 5, 0, 0, 0, 5, 3, 2, 1, 2, 1, 3, 5, 4, 4, 2, 0, 3, 2, 5, 5, 3, 0, 4, 2, 3, 3, 3, 2, 2, 5, 1, 4, 0, 5, 5, 2, 1, 3, 1, 2, 0, 1, 5, 1, 0, 3, 3, 5, 2, 4, 4, 3, 0, 5, 0, 2, 4, 2, 1, 3, 0, 1, 5, 3, 0, 0, 3, 5, 2, 1, 5, 1, 5, 5, 4, 1 ])"
   ]
  },
  {
   "cell_type": "code",
   "execution_count": 18,
   "id": "613e25fe",
   "metadata": {},
   "outputs": [],
   "source": [
    "prediction_cart = np.array([2, 0, 3, 4, 3, 4, 2, 3, 4, 4, 0, 1, 2, 0, 0, 0, 4, 3, 1, 4, 0, 2, 5, 4, 3, 5, 5, 1, 2, 3, 4, 1, 4, 1, 4, 1, 4, 5, 3, 2, 1, 0, 2, 1, 5, 0, 0, 0, 5, 3, 2, 1, 2, 1, 3, 5, 4, 4, 2, 0, 3, 2, 3, 5, 3, 0, 4, 2, 3, 3, 3, 2, 2, 5, 1, 4, 0, 5, 5, 2, 1, 3, 1, 2, 0, 1, 5, 1, 0, 3, 3, 5, 2, 4, 4, 3, 0, 5, 0, 2, 4, 2, 1, 3, 0, 1, 5, 3, 0, 0, 3, 5, 2, 1, 5, 1, 5, 5, 4, 1, ])"
   ]
  },
  {
   "cell_type": "code",
   "execution_count": 19,
   "id": "32b512fa",
   "metadata": {},
   "outputs": [],
   "source": [
    "prediction_svc = np.array([2, 0, 3, 4, 3, 4, 2, 4, 4, 4, 0, 1, 2, 0, 0, 0, 4, 3, 1, 4, 0, 2, 5, 4, 3, 5, 5, 1, 2, 3, 4, 1, 4, 1, 4, 1, 4, 5, 3, 2, 1, 0, 2, 1, 5, 0, 0, 0, 5, 3, 2, 1, 2, 1, 3, 5, 4, 4, 2, 0, 3, 2, 4, 5, 3, 0, 4, 2, 3, 3, 3, 2, 2, 5, 1, 4, 0, 5, 5, 2, 1, 3, 1, 2, 0, 1, 5, 1, 0, 3, 3, 5, 2, 4, 4, 3, 0, 5, 0, 2, 4, 2, 1, 3, 0, 1, 5, 3, 0, 0, 3, 5, 2, 1, 5, 1, 5, 5, 4, 1, ])"
   ]
  },
  {
   "cell_type": "code",
   "execution_count": 20,
   "id": "ce856550",
   "metadata": {},
   "outputs": [],
   "source": [
    "prediction_gnb = np.array([2, 0, 3, 3, 3, 3, 2, 3, 3, 3, 0, 2, 2, 0, 0, 0, 2, 3, 2, 3, 0, 2, 3, 3, 3, 3, 3, 2, 2, 3, 3, 2, 3, 2, 3, 2, 3, 3, 3, 2, 2, 0, 2, 2, 3, 0, 0, 0, 3, 3, 2, 2, 2, 2, 3, 3, 3, 3, 2, 0, 3, 2, 3, 3, 3, 0, 3, 2, 3, 3, 3, 2, 2, 3, 2, 3, 0, 3, 3, 2, 2, 3, 2, 2, 0, 2, 3, 2, 0, 3, 3, 3, 2, 3, 3, 3, 0, 3, 0, 2, 3, 2, 2, 3, 0, 2, 3, 3, 0, 0, 3, 3, 2, 2, 3, 2, 3, 3, 3, 2, ])"
   ]
  },
  {
   "cell_type": "code",
   "execution_count": 21,
   "id": "5f1a5fae",
   "metadata": {},
   "outputs": [],
   "source": [
    "prediction_lr = np.array([5, 5, 5, 5, 3, 4, 3, 3, 5, 3, 4, 3, 5, 5, 4, 5, 3, 3, 5, 4, 4, 4, 4, 5, 5, 4, 5, 3, 5, 5, 5, 3, 5, 3, 5, 1, 5, 5, 5, 4, 5, 4, 5, 5, 4, 4, 0, 1, 4, 5, 5, 4, 3, 4, 5, 5, 5, 3, 5, 3, 5, 5, 3, 5, 5, 5, 5, 4, 3, 5, 5, 5, 3, 4, 4, 5, 5, 3, 5, 5, 4, 5, 4, 5, 4, 5, 3, 4, 0, 5, 3, 5, 3, 2, 3, 3, 5, 4, 5, 4, 5, 3, 5, 4, 4, 5, 3, 5, 5, 5, 5, 4, 4, 0, 5, 5, 3, 5, 3, 4, ])"
   ]
  },
  {
   "cell_type": "code",
   "execution_count": 22,
   "id": "0232bd29",
   "metadata": {},
   "outputs": [],
   "source": [
    "pred = []\n",
    "uniques = np.unique(y_real)\n",
    "pred.append((\"NN\",prediction_nn))\n",
    "pred.append((\"RF\",prediction_rf))\n",
    "pred.append((\"CART\",prediction_cart))\n",
    "pred.append((\"SVC\",prediction_svc))\n",
    "pred.append((\"GNB\",prediction_gnb))\n",
    "pred.append((\"LR\",prediction_lr))"
   ]
  },
  {
   "cell_type": "code",
   "execution_count": 23,
   "id": "fdfcca41",
   "metadata": {},
   "outputs": [],
   "source": [
    "def classification_report_csv(report, model_name):\n",
    "    report_data = []\n",
    "    lines = report.split('\\n')\n",
    "    index = 0\n",
    "    row = lines[-4].split('    ')\n",
    "    accuracy = row[-2]\n",
    "    for line in lines[2:-5]:\n",
    "        row = {}\n",
    "        row_data = line.split('      ')\n",
    "        row['class'] = labels[index]\n",
    "        row['precision'] = float(row_data[2]) \n",
    "        row['recall'] = float(row_data[3]) \n",
    "        row['f1_score'] = float(row_data[4])\n",
    "        row['accuracy'] = accuracy\n",
    "        report_data.append(row)\n",
    "        index += 1\n",
    "    dataframe = pd.DataFrame.from_dict(report_data)\n",
    "    dataframe.to_csv( 'evaluations/'+'classification_report' + model_name +  '.csv', index = False)\n"
   ]
  },
  {
   "cell_type": "code",
   "execution_count": 24,
   "id": "e0ccf46e",
   "metadata": {},
   "outputs": [
    {
     "name": "stdout",
     "output_type": "stream",
     "text": [
      "NN: \n",
      "\n",
      "              precision    recall  f1-score   support\n",
      "\n",
      "           0       1.00      1.00      1.00        20\n",
      "           1       1.00      1.00      1.00        20\n",
      "           2       1.00      1.00      1.00        20\n",
      "           3       0.00      0.00      0.00        20\n",
      "           4       1.00      0.70      0.82        20\n",
      "           5       0.50      1.00      0.67        20\n",
      "\n",
      "    accuracy                           0.78       120\n",
      "   macro avg       0.75      0.78      0.75       120\n",
      "weighted avg       0.75      0.78      0.75       120\n",
      "\n",
      "-----------------------\n",
      "RF: \n",
      "\n",
      "              precision    recall  f1-score   support\n",
      "\n",
      "           0       1.00      1.00      1.00        20\n",
      "           1       1.00      1.00      1.00        20\n",
      "           2       1.00      1.00      1.00        20\n",
      "           3       1.00      1.00      1.00        20\n",
      "           4       1.00      0.95      0.97        20\n",
      "           5       0.95      1.00      0.98        20\n",
      "\n",
      "    accuracy                           0.99       120\n",
      "   macro avg       0.99      0.99      0.99       120\n",
      "weighted avg       0.99      0.99      0.99       120\n",
      "\n",
      "-----------------------\n",
      "CART: \n",
      "\n",
      "              precision    recall  f1-score   support\n",
      "\n",
      "           0       1.00      1.00      1.00        20\n",
      "           1       1.00      1.00      1.00        20\n",
      "           2       1.00      1.00      1.00        20\n",
      "           3       0.91      1.00      0.95        20\n",
      "           4       1.00      0.95      0.97        20\n",
      "           5       1.00      0.95      0.97        20\n",
      "\n",
      "    accuracy                           0.98       120\n",
      "   macro avg       0.98      0.98      0.98       120\n",
      "weighted avg       0.98      0.98      0.98       120\n",
      "\n",
      "-----------------------\n",
      "SVC: \n",
      "\n",
      "              precision    recall  f1-score   support\n",
      "\n",
      "           0       1.00      1.00      1.00        20\n",
      "           1       1.00      1.00      1.00        20\n",
      "           2       1.00      1.00      1.00        20\n",
      "           3       1.00      1.00      1.00        20\n",
      "           4       0.95      1.00      0.98        20\n",
      "           5       1.00      0.95      0.97        20\n",
      "\n",
      "    accuracy                           0.99       120\n",
      "   macro avg       0.99      0.99      0.99       120\n",
      "weighted avg       0.99      0.99      0.99       120\n",
      "\n",
      "-----------------------\n",
      "GNB: \n",
      "\n",
      "              precision    recall  f1-score   support\n",
      "\n",
      "           0       1.00      1.00      1.00        20\n",
      "           1       0.00      0.00      0.00        20\n",
      "           2       0.49      1.00      0.66        20\n",
      "           3       0.34      1.00      0.51        20\n",
      "           4       0.00      0.00      0.00        20\n",
      "           5       0.00      0.00      0.00        20\n",
      "\n",
      "    accuracy                           0.50       120\n",
      "   macro avg       0.30      0.50      0.36       120\n",
      "weighted avg       0.30      0.50      0.36       120\n",
      "\n",
      "-----------------------\n",
      "LR: \n",
      "\n",
      "              precision    recall  f1-score   support\n",
      "\n",
      "           0       0.67      0.10      0.17        20\n",
      "           1       0.50      0.05      0.09        20\n",
      "           2       0.00      0.00      0.00        20\n",
      "           3       0.19      0.25      0.22        20\n",
      "           4       0.07      0.10      0.08        20\n",
      "           5       0.14      0.40      0.20        20\n",
      "\n",
      "    accuracy                           0.15       120\n",
      "   macro avg       0.26      0.15      0.13       120\n",
      "weighted avg       0.26      0.15      0.13       120\n",
      "\n",
      "-----------------------\n"
     ]
    },
    {
     "name": "stderr",
     "output_type": "stream",
     "text": [
      "/home/sakka/anaconda3/envs/ts/lib/python3.6/site-packages/sklearn/metrics/_classification.py:1248: UndefinedMetricWarning: Precision and F-score are ill-defined and being set to 0.0 in labels with no predicted samples. Use `zero_division` parameter to control this behavior.\n",
      "  _warn_prf(average, modifier, msg_start, len(result))\n",
      "/home/sakka/anaconda3/envs/ts/lib/python3.6/site-packages/sklearn/metrics/_classification.py:1248: UndefinedMetricWarning: Precision and F-score are ill-defined and being set to 0.0 in labels with no predicted samples. Use `zero_division` parameter to control this behavior.\n",
      "  _warn_prf(average, modifier, msg_start, len(result))\n",
      "/home/sakka/anaconda3/envs/ts/lib/python3.6/site-packages/sklearn/metrics/_classification.py:1248: UndefinedMetricWarning: Precision and F-score are ill-defined and being set to 0.0 in labels with no predicted samples. Use `zero_division` parameter to control this behavior.\n",
      "  _warn_prf(average, modifier, msg_start, len(result))\n"
     ]
    }
   ],
   "source": [
    "for name, preds in pred:\n",
    "    print(name + \": \\n\")\n",
    "    report = metrics.classification_report(y_real, preds)\n",
    "    print(report)\n",
    "    classification_report_csv(report, name)\n",
    "    print(\"-----------------------\")"
   ]
  },
  {
   "cell_type": "code",
   "execution_count": null,
   "id": "e10cfd22",
   "metadata": {},
   "outputs": [],
   "source": []
  },
  {
   "cell_type": "code",
   "execution_count": null,
   "id": "8e865923",
   "metadata": {},
   "outputs": [],
   "source": []
  }
 ],
 "metadata": {
  "kernelspec": {
   "display_name": "Python 3",
   "language": "python",
   "name": "python3"
  },
  "language_info": {
   "codemirror_mode": {
    "name": "ipython",
    "version": 3
   },
   "file_extension": ".py",
   "mimetype": "text/x-python",
   "name": "python",
   "nbconvert_exporter": "python",
   "pygments_lexer": "ipython3",
   "version": "3.6.13"
  }
 },
 "nbformat": 4,
 "nbformat_minor": 5
}
