{
 "cells": [
  {
   "cell_type": "code",
   "execution_count": 42,
   "id": "19a52fc4",
   "metadata": {},
   "outputs": [],
   "source": [
    "import numpy as np\n",
    "import pandas as pd\n",
    "import sklearn.metrics as metrics"
   ]
  },
  {
   "cell_type": "code",
   "execution_count": 53,
   "id": "97bfc5db",
   "metadata": {},
   "outputs": [],
   "source": [
    "y_real = np.array([2, 0, 3, 4, 3, 4, 2, 5, 4, 4, 0, 1, 2, 0, 0, 0, 4, 3, 1, 4, 0, 2, 5, 4, 3, 5, 5, 1, 2, 3, 4, 1, 4, 1, 4, 1, 4, 5, 3, 2, 1, 0, 2, 1, 5, 0, 0, 0, 5, 3, 2, 1, 2, 1, 3, 5, 4, 4, 2, 0, 3, 2, 4, 5, 3, 0, 4, 2, 3, 3, 3, 2, 2, 5, 1, 4, 0, 5, 5, 2, 1, 3, 1, 2, 0, 1, 5, 1, 0, 3, 3, 5, 2, 4, 4, 3, 0, 5, 0, 2, 4, 2, 1, 3, 0, 1, 5, 3, 0, 0, 3, 5, 2, 1, 5, 1, 5, 5, 4, 1])"
   ]
  },
  {
   "cell_type": "code",
   "execution_count": 54,
   "id": "f2203281",
   "metadata": {},
   "outputs": [],
   "source": [
    "prediction_nn = np.array([2, 0, 5, 4, 5, 4, 2, 5, 4, 3, 0, 1, 2, 0, 0, 0, 4, 5, 1, 3, 0, 2, 5, 4, 5, 5, 5, 1, 2, 5, 4, 1, 4, 1, 4, 1, 4, 5, 5, 2, 1, 0, 2, 1, 5, 0, 0, 0, 5, 5, 2, 1, 2, 1, 5, 5, 4, 3, 2, 0, 5, 2, 3, 5, 5, 0, 4, 2, 5, 5, 5, 2, 2, 5, 1, 3, 0, 5, 5, 2, 1, 5, 1, 2, 0, 1, 5, 1, 0, 5, 5, 5, 2, 0, 3, 5, 0, 5, 0, 2, 3, 2, 1, 5, 0, 1, 5, 5, 0, 1, 5, 5, 2, 1, 5, 1, 5, 5, 4, 1,])"
   ]
  },
  {
   "cell_type": "code",
   "execution_count": 55,
   "id": "76cd4592",
   "metadata": {},
   "outputs": [],
   "source": [
    "prediction_rf = np.array([2, 0, 3, 4, 3, 4, 2, 5, 4, 4, 0, 1, 2, 0, 0, 0, 4, 3, 1, 4, 0, 2, 5, 4, 3, 5, 5, 1, 2, 3, 4, 1, 4, 1, 4, 1, 4, 5, 3, 2, 1, 0, 2, 1, 5, 0, 0, 0, 5, 3, 2, 1, 2, 1, 3, 5, 4, 4, 2, 0, 3, 2, 5, 5, 3, 0, 4, 2, 3, 3, 3, 2, 2, 5, 1, 4, 0, 5, 5, 2, 1, 3, 1, 2, 0, 1, 5, 1, 0, 3, 3, 5, 2, 4, 4, 3, 0, 5, 0, 2, 4, 2, 1, 3, 0, 1, 5, 3, 0, 0, 3, 5, 2, 1, 5, 1, 5, 5, 4, 1, ])"
   ]
  },
  {
   "cell_type": "code",
   "execution_count": 56,
   "id": "613e25fe",
   "metadata": {},
   "outputs": [],
   "source": [
    "prediction_cart = np.array([2, 0, 3, 4, 3, 4, 2, 3, 4, 4, 0, 1, 2, 0, 0, 0, 4, 3, 1, 4, 0, 2, 5, 4, 3, 5, 5, 1, 2, 3, 4, 1, 4, 1, 4, 1, 4, 5, 3, 2, 1, 0, 2, 1, 5, 0, 0, 0, 5, 3, 2, 1, 2, 1, 3, 5, 4, 4, 2, 0, 3, 2, 3, 5, 3, 0, 4, 2, 3, 3, 3, 2, 2, 5, 1, 4, 0, 5, 5, 2, 1, 3, 1, 2, 0, 1, 5, 1, 0, 3, 3, 5, 2, 4, 4, 3, 0, 5, 0, 2, 4, 2, 1, 3, 0, 1, 5, 3, 0, 0, 3, 5, 2, 1, 5, 1, 5, 5, 4, 1, ])"
   ]
  },
  {
   "cell_type": "code",
   "execution_count": 57,
   "id": "32b512fa",
   "metadata": {},
   "outputs": [],
   "source": [
    "prediction_svc = np.array([2, 4, 3, 4, 4, 4, 4, 4, 4, 4, 4, 4, 4, 4, 4, 4, 4, 4, 4, 4, 4, 4, 4, 4, 4, 4, 4, 4, 2, 3, 4, 4, 4, 4, 4, 4, 4, 4, 3, 4, 4, 4, 2, 4, 4, 4, 4, 4, 4, 3, 4, 4, 2, 4, 3, 4, 4, 4, 4, 4, 3, 4, 4, 4, 4, 4, 4, 4, 3, 3, 4, 4, 2, 4, 4, 4, 4, 4, 4, 4, 4, 3, 4, 2, 4, 4, 4, 4, 4, 3, 4, 4, 2, 4, 4, 4, 4, 4, 4, 4, 4, 2, 4, 4, 4, 4, 4, 3, 4, 4, 4, 4, 4, 4, 4, 4, 4, 4, 4, 4,])"
   ]
  },
  {
   "cell_type": "code",
   "execution_count": 58,
   "id": "ce856550",
   "metadata": {},
   "outputs": [],
   "source": [
    "prediction_gnb = np.array([2, 0, 3, 3, 3, 3, 2, 3, 3, 3, 0, 2, 2, 0, 0, 0, 2, 3, 2, 3, 0, 2, 3, 3, 3, 3, 3, 2, 2, 3, 3, 2, 3, 2, 3, 2, 3, 3, 3, 2, 2, 0, 2, 2, 3, 0, 0, 0, 3, 3, 2, 2, 2, 2, 3, 3, 3, 3, 2, 0, 3, 2, 3, 3, 3, 0, 3, 2, 3, 3, 3, 2, 2, 3, 2, 3, 0, 3, 3, 2, 2, 3, 2, 2, 0, 2, 3, 2, 0, 3, 3, 3, 2, 3, 3, 3, 0, 3, 0, 2, 3, 2, 2, 3, 0, 2, 3, 3, 0, 0, 3, 3, 2, 2, 3, 2, 3, 3, 3, 2,])"
   ]
  },
  {
   "cell_type": "code",
   "execution_count": 59,
   "id": "5f1a5fae",
   "metadata": {},
   "outputs": [],
   "source": [
    "prediction_lr = np.array([4, 1, 5, 4, 3, 4, 2, 5, 4, 4, 0, 0, 4, 1, 1, 1, 3, 5, 4, 4, 2, 2, 5, 3, 5, 5, 5, 0, 2, 5, 4, 0, 4, 2, 4, 1, 4, 5, 5, 2, 1, 4, 1, 2, 3, 0, 0, 1, 5, 5, 1, 0, 2, 0, 5, 5, 3, 3, 4, 0, 5, 2, 3, 5, 5, 0, 5, 1, 3, 5, 4, 1, 2, 3, 0, 5, 1, 3, 5, 2, 2, 5, 2, 2, 4, 2, 5, 2, 0, 5, 5, 5, 4, 5, 3, 3, 2, 4, 0, 4, 5, 2, 1, 3, 1, 0, 5, 5, 5, 2, 5, 5, 4, 0, 5, 1, 3, 5, 3, 4, ])"
   ]
  },
  {
   "cell_type": "code",
   "execution_count": 60,
   "id": "0232bd29",
   "metadata": {},
   "outputs": [],
   "source": [
    "pred = []\n",
    "uniques = np.unique(y_real)\n",
    "pred.append((\"NN\",prediction_nn))\n",
    "pred.append((\"RF\",prediction_rf))\n",
    "pred.append((\"CART\",prediction_cart))\n",
    "pred.append((\"SVC\",prediction_svc))\n",
    "pred.append((\"GNB\",prediction_gnb))\n",
    "pred.append((\"LR\",prediction_lr))"
   ]
  },
  {
   "cell_type": "code",
   "execution_count": 61,
   "id": "fdfcca41",
   "metadata": {},
   "outputs": [],
   "source": [
    "def classification_report_csv(report, model_name):\n",
    "    report_data = []\n",
    "    lines = report.split('\\n')\n",
    "    index = 0\n",
    "    row = lines[-4].split('    ')\n",
    "    accuracy = row[-2]\n",
    "    for line in lines[2:-5]:\n",
    "        row = {}\n",
    "        row_data = line.split('      ')\n",
    "        row['class'] = uniques[index]\n",
    "        row['precision'] = float(row_data[2]) \n",
    "        row['recall'] = float(row_data[3]) \n",
    "        row['f1_score'] = float(row_data[4])\n",
    "        row['accuracy'] = accuracy\n",
    "        report_data.append(row)\n",
    "        index += 1\n",
    "    dataframe = pd.DataFrame.from_dict(report_data)\n",
    "    dataframe.to_csv( 'evaluations/'+'classification_report' + model_name +  '.csv', index = False)\n"
   ]
  },
  {
   "cell_type": "code",
   "execution_count": 62,
   "id": "e0ccf46e",
   "metadata": {},
   "outputs": [
    {
     "name": "stdout",
     "output_type": "stream",
     "text": [
      "NN: \n",
      "\n",
      "              precision    recall  f1-score   support\n",
      "\n",
      "           0       0.95      0.95      0.95        20\n",
      "           1       0.95      1.00      0.98        20\n",
      "           2       1.00      1.00      1.00        20\n",
      "           3       0.00      0.00      0.00        20\n",
      "           4       1.00      0.60      0.75        20\n",
      "           5       0.50      1.00      0.67        20\n",
      "\n",
      "    accuracy                           0.76       120\n",
      "   macro avg       0.73      0.76      0.72       120\n",
      "weighted avg       0.73      0.76      0.72       120\n",
      "\n",
      "-----------------------\n",
      "RF: \n",
      "\n",
      "              precision    recall  f1-score   support\n",
      "\n",
      "           0       1.00      1.00      1.00        20\n",
      "           1       1.00      1.00      1.00        20\n",
      "           2       1.00      1.00      1.00        20\n",
      "           3       1.00      1.00      1.00        20\n",
      "           4       1.00      0.95      0.97        20\n",
      "           5       0.95      1.00      0.98        20\n",
      "\n",
      "    accuracy                           0.99       120\n",
      "   macro avg       0.99      0.99      0.99       120\n",
      "weighted avg       0.99      0.99      0.99       120\n",
      "\n",
      "-----------------------\n",
      "CART: \n",
      "\n",
      "              precision    recall  f1-score   support\n",
      "\n",
      "           0       1.00      1.00      1.00        20\n",
      "           1       1.00      1.00      1.00        20\n",
      "           2       1.00      1.00      1.00        20\n",
      "           3       0.91      1.00      0.95        20\n",
      "           4       1.00      0.95      0.97        20\n",
      "           5       1.00      0.95      0.97        20\n",
      "\n",
      "    accuracy                           0.98       120\n",
      "   macro avg       0.98      0.98      0.98       120\n",
      "weighted avg       0.98      0.98      0.98       120\n",
      "\n",
      "-----------------------\n",
      "SVC: \n",
      "\n",
      "              precision    recall  f1-score   support\n",
      "\n",
      "           0       0.00      0.00      0.00        20\n",
      "           1       0.00      0.00      0.00        20\n",
      "           2       1.00      0.40      0.57        20\n",
      "           3       1.00      0.55      0.71        20\n",
      "           4       0.20      1.00      0.33        20\n",
      "           5       0.00      0.00      0.00        20\n",
      "\n",
      "    accuracy                           0.33       120\n",
      "   macro avg       0.37      0.33      0.27       120\n",
      "weighted avg       0.37      0.33      0.27       120\n",
      "\n",
      "-----------------------\n",
      "GNB: \n",
      "\n",
      "              precision    recall  f1-score   support\n",
      "\n",
      "           0       1.00      1.00      1.00        20\n",
      "           1       0.00      0.00      0.00        20\n",
      "           2       0.49      1.00      0.66        20\n",
      "           3       0.34      1.00      0.51        20\n",
      "           4       0.00      0.00      0.00        20\n",
      "           5       0.00      0.00      0.00        20\n",
      "\n",
      "    accuracy                           0.50       120\n",
      "   macro avg       0.30      0.50      0.36       120\n",
      "weighted avg       0.30      0.50      0.36       120\n",
      "\n",
      "-----------------------\n",
      "LR: \n",
      "\n",
      "              precision    recall  f1-score   support\n",
      "\n",
      "           0       0.47      0.35      0.40        20\n",
      "           1       0.27      0.20      0.23        20\n",
      "           2       0.53      0.50      0.51        20\n",
      "           3       0.27      0.20      0.23        20\n",
      "           4       0.43      0.45      0.44        20\n",
      "           5       0.43      0.75      0.55        20\n",
      "\n",
      "    accuracy                           0.41       120\n",
      "   macro avg       0.40      0.41      0.39       120\n",
      "weighted avg       0.40      0.41      0.39       120\n",
      "\n",
      "-----------------------\n"
     ]
    }
   ],
   "source": [
    "for name, preds in pred:\n",
    "    print(name + \": \\n\")\n",
    "    report = metrics.classification_report(y_real, preds)\n",
    "    print(report)\n",
    "    classification_report_csv(report, name)\n",
    "    print(\"-----------------------\")"
   ]
  },
  {
   "cell_type": "code",
   "execution_count": null,
   "id": "e10cfd22",
   "metadata": {},
   "outputs": [],
   "source": []
  },
  {
   "cell_type": "code",
   "execution_count": null,
   "id": "8e865923",
   "metadata": {},
   "outputs": [],
   "source": []
  }
 ],
 "metadata": {
  "kernelspec": {
   "display_name": "Python 3",
   "language": "python",
   "name": "python3"
  },
  "language_info": {
   "codemirror_mode": {
    "name": "ipython",
    "version": 3
   },
   "file_extension": ".py",
   "mimetype": "text/x-python",
   "name": "python",
   "nbconvert_exporter": "python",
   "pygments_lexer": "ipython3",
   "version": "3.6.13"
  }
 },
 "nbformat": 4,
 "nbformat_minor": 5
}
