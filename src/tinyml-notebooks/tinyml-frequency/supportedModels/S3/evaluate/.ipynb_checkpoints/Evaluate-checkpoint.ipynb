{
 "cells": [
  {
   "cell_type": "code",
   "execution_count": 34,
   "id": "19a52fc4",
   "metadata": {},
   "outputs": [],
   "source": [
    "import numpy as np\n",
    "import pandas as pd\n",
    "import sklearn.metrics as metrics"
   ]
  },
  {
   "cell_type": "code",
   "execution_count": 35,
   "id": "97bfc5db",
   "metadata": {},
   "outputs": [],
   "source": [
    "y_real = np.array([2, 0, 3, 4, 3, 4, 2, 5, 4, 4, 0, 1, 2, 0, 0, 0, 4, 3, 1, 4, 0, 2, 5, 4, 3, 5, 5, 1, 2, 3, 4, 1, 4, 1, 4, 1, 4, 5, 3, 2, 1, 0, 2, 1, 5, 0, 0, 0, 5, 3, 2, 1, 2, 1, 3, 5, 4, 4, 2, 0, 3, 2, 4, 5, 3, 0, 4, 2, 3, 3, 3, 2, 2, 5, 1, 4, 0, 5, 5, 2, 1, 3, 1, 2, 0, 1, 5, 1, 0, 3, 3, 5, 2, 4, 4, 3, 0, 5, 0, 2, 4, 2, 1, 3, 0, 1, 5, 3, 0, 0, 3, 5, 2, 1, 5, 1, 5, 5, 4, 1])"
   ]
  },
  {
   "cell_type": "code",
   "execution_count": 36,
   "id": "f2203281",
   "metadata": {},
   "outputs": [],
   "source": [
    "prediction_nn = np.array([4, 4, 4, 4, 4, 4, 4, 4, 4, 4, 4, 4, 4, 2, 4, 4, 4, 4, 4, 4, 4, 4, 4, 4, 4, 4, 4, 4, 4, 4, 4, 4, 4, 4, 4, 4, 4, 4, 4, 4, 4, 4, 4, 4, 4, 4, 4, 4, 4, 4, 4, 4, 4, 4, 4, 4, 4, 4, 4, 4, 4, 4, 4, 4, 4, 4, 4, 4, 4, 4, 4, 4, 4, 4, 4, 4, 4, 4, 4, 4, 4, 4, 4, 4, 4, 4, 4, 4, 4, 4, 4, 4, 4, 4, 4, 4, 4, 4, 4, 4, 4, 4, 4, 4, 4, 4, 4, 4, 4, 4, 4, 4, 4, 4, 4, 4, 4, 4, 4, 4,])"
   ]
  },
  {
   "cell_type": "code",
   "execution_count": 37,
   "id": "76cd4592",
   "metadata": {},
   "outputs": [],
   "source": [
    "prediction_rf = np.array([2, 0, 3, 4, 3, 4, 2, 5, 4, 4, 0, 1, 2, 0, 0, 0, 4, 3, 1, 4, 0, 2, 5, 4, 3, 5, 5, 1, 2, 3, 4, 1, 4, 1, 4, 1, 4, 5, 3, 2, 1, 0, 2, 1, 5, 0, 0, 0, 5, 3, 2, 1, 2, 1, 3, 5, 4, 4, 2, 0, 3, 2, 2, 5, 3, 0, 4, 2, 3, 3, 3, 2, 2, 5, 1, 4, 0, 5, 5, 2, 1, 3, 1, 2, 0, 1, 5, 1, 0, 3, 3, 5, 2, 2, 4, 3, 0, 5, 0, 2, 4, 2, 1, 3, 0, 1, 5, 3, 0, 0, 3, 5, 2, 1, 5, 1, 5, 5, 4, 1,])"
   ]
  },
  {
   "cell_type": "code",
   "execution_count": 38,
   "id": "613e25fe",
   "metadata": {},
   "outputs": [],
   "source": [
    "prediction_cart = np.array([2, 0, 3, 4, 3, 4, 2, 5, 4, 4, 0, 1, 2, 0, 0, 0, 4, 3, 1, 4, 0, 2, 5, 4, 3, 5, 5, 1, 2, 3, 4, 1, 4, 1, 4, 1, 4, 5, 3, 2, 1, 0, 2, 3, 5, 0, 0, 0, 5, 3, 2, 1, 4, 1, 3, 5, 4, 4, 2, 0, 3, 2, 2, 5, 1, 0, 4, 2, 3, 3, 3, 2, 2, 5, 1, 4, 0, 5, 5, 2, 1, 3, 1, 2, 0, 1, 5, 1, 0, 3, 3, 5, 2, 2, 4, 3, 0, 5, 0, 2, 4, 2, 1, 3, 0, 1, 5, 3, 0, 0, 3, 5, 2, 1, 5, 1, 5, 5, 4, 1,])"
   ]
  },
  {
   "cell_type": "code",
   "execution_count": 39,
   "id": "32b512fa",
   "metadata": {},
   "outputs": [],
   "source": [
    "prediction_svc = np.array([4, 4, 4, 4, 4, 4, 2, 4, 4, 4, 0, 4, 4, 4, 0, 0, 4, 4, 4, 4, 4, 4, 4, 4, 4, 4, 4, 4, 4, 4, 4, 4, 4, 4, 4, 4, 4, 4, 4, 4, 4, 0, 4, 4, 4, 0, 4, 0, 4, 4, 2, 4, 4, 4, 4, 4, 4, 4, 4, 0, 4, 4, 4, 4, 4, 4, 4, 4, 4, 4, 4, 4, 2, 4, 4, 4, 0, 4, 4, 4, 4, 4, 4, 2, 4, 4, 4, 4, 4, 4, 4, 4, 4, 4, 4, 4, 0, 4, 0, 4, 4, 4, 4, 4, 0, 4, 4, 4, 0, 0, 4, 4, 4, 4, 4, 1, 4, 4, 4, 4,])"
   ]
  },
  {
   "cell_type": "code",
   "execution_count": 40,
   "id": "ce856550",
   "metadata": {},
   "outputs": [],
   "source": [
    "prediction_gnb = np.array([2, 2, 2, 2, 2, 2, 2, 2, 2, 2, 2, 2, 2, 2, 2, 2, 2, 2, 2, 2, 2, 2, 2, 2, 2, 2, 2, 0, 2, 2, 2, 2, 2, 2, 2, 2, 2, 2, 2, 2, 2, 2, 2, 2, 2, 2, 2, 2, 2, 2, 2, 2, 2, 2, 2, 2, 2, 2, 2, 2, 2, 2, 2, 2, 2, 2, 2, 2, 2, 2, 2, 2, 2, 2, 2, 2, 2, 2, 2, 2, 2, 2, 0, 2, 2, 2, 2, 2, 2, 2, 2, 2, 2, 2, 2, 2, 2, 2, 2, 2, 2, 2, 2, 2, 2, 2, 2, 2, 2, 2, 2, 2, 2, 2, 2, 2, 2, 2, 2, 2,])"
   ]
  },
  {
   "cell_type": "code",
   "execution_count": 41,
   "id": "5f1a5fae",
   "metadata": {},
   "outputs": [],
   "source": [
    "prediction_lr = np.array([2, 5, 0, 5, 3, 5, 0, 5, 4, 4, 5, 4, 1, 5, 5, 5, 4, 0, 0, 5, 0, 0, 0, 3, 0, 5, 5, 0, 0, 4, 2, 4, 3, 0, 5, 0, 5, 5, 0, 0, 2, 5, 1, 4, 4, 0, 5, 5, 2, 3, 0, 0, 4, 2, 4, 5, 0, 0, 0, 5, 4, 3, 0, 5, 3, 5, 0, 2, 1, 4, 0, 1, 5, 5, 2, 1, 1, 4, 2, 0, 4, 1, 1, 2, 5, 2, 5, 4, 0, 0, 2, 5, 0, 4, 5, 1, 5, 5, 5, 4, 5, 1, 4, 0, 5, 0, 0, 0, 5, 5, 2, 5, 5, 4, 5, 1, 0, 5, 5, 0,])"
   ]
  },
  {
   "cell_type": "code",
   "execution_count": 42,
   "id": "0232bd29",
   "metadata": {},
   "outputs": [],
   "source": [
    "pred = []\n",
    "uniques = np.unique(y_real)\n",
    "pred.append((\"NN\",prediction_nn))\n",
    "pred.append((\"RF\",prediction_rf))\n",
    "pred.append((\"CART\",prediction_cart))\n",
    "pred.append((\"SVC\",prediction_svc))\n",
    "pred.append((\"GNB\",prediction_gnb))\n",
    "pred.append((\"LR\",prediction_lr))"
   ]
  },
  {
   "cell_type": "code",
   "execution_count": 43,
   "id": "fdfcca41",
   "metadata": {},
   "outputs": [],
   "source": [
    "def classification_report_csv(report, model_name):\n",
    "    report_data = []\n",
    "    lines = report.split('\\n')\n",
    "    index = 0\n",
    "    row = lines[-4].split('    ')\n",
    "    accuracy = row[-2]\n",
    "    for line in lines[2:-5]:\n",
    "        row = {}\n",
    "        row_data = line.split('      ')\n",
    "        row['class'] = uniques[index]\n",
    "        row['precision'] = float(row_data[2]) \n",
    "        row['recall'] = float(row_data[3]) \n",
    "        row['f1_score'] = float(row_data[4])\n",
    "        row['accuracy'] = accuracy\n",
    "        report_data.append(row)\n",
    "        index += 1\n",
    "    dataframe = pd.DataFrame.from_dict(report_data)\n",
    "    dataframe.to_csv( 'evaluations/'+'classification_report' + model_name +  '.csv', index = False)\n"
   ]
  },
  {
   "cell_type": "code",
   "execution_count": 44,
   "id": "e0ccf46e",
   "metadata": {},
   "outputs": [
    {
     "name": "stdout",
     "output_type": "stream",
     "text": [
      "NN: \n",
      "\n",
      "              precision    recall  f1-score   support\n",
      "\n",
      "           0       0.00      0.00      0.00        20\n",
      "           1       0.00      0.00      0.00        20\n",
      "           2       0.00      0.00      0.00        20\n",
      "           3       0.00      0.00      0.00        20\n",
      "           4       0.17      1.00      0.29        20\n",
      "           5       0.00      0.00      0.00        20\n",
      "\n",
      "    accuracy                           0.17       120\n",
      "   macro avg       0.03      0.17      0.05       120\n",
      "weighted avg       0.03      0.17      0.05       120\n",
      "\n",
      "-----------------------\n",
      "RF: \n",
      "\n",
      "              precision    recall  f1-score   support\n",
      "\n",
      "           0       1.00      1.00      1.00        20\n",
      "           1       1.00      1.00      1.00        20\n",
      "           2       0.91      1.00      0.95        20\n",
      "           3       1.00      1.00      1.00        20\n",
      "           4       1.00      0.90      0.95        20\n",
      "           5       1.00      1.00      1.00        20\n",
      "\n",
      "    accuracy                           0.98       120\n",
      "   macro avg       0.98      0.98      0.98       120\n",
      "weighted avg       0.98      0.98      0.98       120\n",
      "\n",
      "-----------------------\n",
      "CART: \n",
      "\n",
      "              precision    recall  f1-score   support\n",
      "\n",
      "           0       1.00      1.00      1.00        20\n",
      "           1       0.95      0.95      0.95        20\n",
      "           2       0.90      0.95      0.93        20\n",
      "           3       0.95      0.95      0.95        20\n",
      "           4       0.95      0.90      0.92        20\n",
      "           5       1.00      1.00      1.00        20\n",
      "\n",
      "    accuracy                           0.96       120\n",
      "   macro avg       0.96      0.96      0.96       120\n",
      "weighted avg       0.96      0.96      0.96       120\n",
      "\n",
      "-----------------------\n",
      "SVC: \n",
      "\n",
      "              precision    recall  f1-score   support\n",
      "\n",
      "           0       1.00      0.65      0.79        20\n",
      "           1       1.00      0.05      0.10        20\n",
      "           2       1.00      0.20      0.33        20\n",
      "           3       0.00      0.00      0.00        20\n",
      "           4       0.20      1.00      0.33        20\n",
      "           5       0.00      0.00      0.00        20\n",
      "\n",
      "    accuracy                           0.32       120\n",
      "   macro avg       0.53      0.32      0.26       120\n",
      "weighted avg       0.53      0.32      0.26       120\n",
      "\n",
      "-----------------------\n",
      "GNB: \n",
      "\n",
      "              precision    recall  f1-score   support\n",
      "\n",
      "           0       0.00      0.00      0.00        20\n",
      "           1       0.00      0.00      0.00        20\n",
      "           2       0.17      1.00      0.29        20\n",
      "           3       0.00      0.00      0.00        20\n",
      "           4       0.00      0.00      0.00        20\n",
      "           5       0.00      0.00      0.00        20\n",
      "\n",
      "    accuracy                           0.17       120\n",
      "   macro avg       0.03      0.17      0.05       120\n",
      "weighted avg       0.03      0.17      0.05       120\n",
      "\n",
      "-----------------------\n",
      "LR: \n",
      "\n",
      "              precision    recall  f1-score   support\n",
      "\n",
      "           0       0.09      0.15      0.11        20\n",
      "           1       0.18      0.10      0.13        20\n",
      "           2       0.25      0.15      0.19        20\n",
      "           3       0.50      0.15      0.23        20\n",
      "           4       0.21      0.20      0.21        20\n",
      "           5       0.33      0.65      0.44        20\n",
      "\n",
      "    accuracy                           0.23       120\n",
      "   macro avg       0.26      0.23      0.22       120\n",
      "weighted avg       0.26      0.23      0.22       120\n",
      "\n",
      "-----------------------\n"
     ]
    }
   ],
   "source": [
    "for name, preds in pred:\n",
    "    print(name + \": \\n\")\n",
    "    report = metrics.classification_report(y_real, preds)\n",
    "    print(report)\n",
    "    classification_report_csv(report, name)\n",
    "    print(\"-----------------------\")"
   ]
  },
  {
   "cell_type": "code",
   "execution_count": null,
   "id": "e10cfd22",
   "metadata": {},
   "outputs": [],
   "source": []
  },
  {
   "cell_type": "code",
   "execution_count": null,
   "id": "8e865923",
   "metadata": {},
   "outputs": [],
   "source": []
  }
 ],
 "metadata": {
  "kernelspec": {
   "display_name": "Python 3",
   "language": "python",
   "name": "python3"
  },
  "language_info": {
   "codemirror_mode": {
    "name": "ipython",
    "version": 3
   },
   "file_extension": ".py",
   "mimetype": "text/x-python",
   "name": "python",
   "nbconvert_exporter": "python",
   "pygments_lexer": "ipython3",
   "version": "3.6.13"
  }
 },
 "nbformat": 4,
 "nbformat_minor": 5
}
