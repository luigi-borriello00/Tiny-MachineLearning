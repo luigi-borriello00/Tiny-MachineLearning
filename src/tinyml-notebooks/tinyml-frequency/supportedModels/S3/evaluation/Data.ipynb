{
 "cells": [
  {
   "cell_type": "code",
   "execution_count": 1,
   "id": "5c218ef2",
   "metadata": {},
   "outputs": [],
   "source": [
    "import pickle\n",
    "import numpy as np"
   ]
  },
  {
   "cell_type": "code",
   "execution_count": 2,
   "id": "e3c3d27b",
   "metadata": {},
   "outputs": [],
   "source": [
    "y_real = np.array([[0, 0, 0, 0, 0, 0, 1, 0, 1, 0, 1, 1, 0, 1, 1, 1, 1, 0, 1, 1, 0, 0,\n",
    "       1, 0, 1, 0, 0, 1, 0, 1, 0, 1, 1, 0, 0, 1, 0, 1, 1, 1, 0, 1, 1, 1,\n",
    "       0, 0, 1, 0, 1, 0, 0, 1, 0, 0, 1, 1, 1, 0, 0, 1]])"
   ]
  },
  {
   "cell_type": "code",
   "execution_count": 8,
   "id": "e98e8c7f",
   "metadata": {},
   "outputs": [],
   "source": [
    "prediction_rf = np.array([1, 1, 1, 1, 1, 1, 1, 1, 1, 1, 1, 1, 1, 1, 1, 1, 1, 1, 1, 1, 1, 1, 1, 1, 1, 1, 1, 1, 1, 1, 1, 1, 1, 1, 1, 1, 1, 1, 1, 1, 1, 1, 1, 1, 1, 1, 1, 1, 1, 1, 1, 1, 1, 1, 1, 1, 1, 1, 1, 1])"
   ]
  },
  {
   "cell_type": "code",
   "execution_count": 5,
   "id": "36c20e03",
   "metadata": {},
   "outputs": [],
   "source": [
    "prediction_cart = np.array([])"
   ]
  },
  {
   "cell_type": "code",
   "execution_count": 6,
   "id": "e25d2562",
   "metadata": {},
   "outputs": [],
   "source": [
    "prediction_svc = np.array([])"
   ]
  },
  {
   "cell_type": "code",
   "execution_count": 7,
   "id": "c1f526fe",
   "metadata": {},
   "outputs": [],
   "source": [
    "prediction_gnb = np.array([])"
   ]
  },
  {
   "cell_type": "code",
   "execution_count": null,
   "id": "85de2151",
   "metadata": {},
   "outputs": [],
   "source": [
    "prediction_lr = np.array([])"
   ]
  }
 ],
 "metadata": {
  "kernelspec": {
   "display_name": "Python 3",
   "language": "python",
   "name": "python3"
  },
  "language_info": {
   "codemirror_mode": {
    "name": "ipython",
    "version": 3
   },
   "file_extension": ".py",
   "mimetype": "text/x-python",
   "name": "python",
   "nbconvert_exporter": "python",
   "pygments_lexer": "ipython3",
   "version": "3.6.13"
  }
 },
 "nbformat": 4,
 "nbformat_minor": 5
}
