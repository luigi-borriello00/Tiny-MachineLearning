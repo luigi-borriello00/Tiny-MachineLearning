{
 "cells": [
  {
   "cell_type": "code",
   "execution_count": 1,
   "id": "19a52fc4",
   "metadata": {},
   "outputs": [],
   "source": [
    "import numpy as np\n",
    "import pandas as pd\n",
    "import sklearn.metrics as metrics"
   ]
  },
  {
   "cell_type": "code",
   "execution_count": 2,
   "id": "da6ed554",
   "metadata": {},
   "outputs": [],
   "source": [
    "labels = ['2000', '2100', '2200', '2300', '2400', '2500', '2600', '2700', '2800', '2900', '3000']"
   ]
  },
  {
   "cell_type": "code",
   "execution_count": 3,
   "id": "97bfc5db",
   "metadata": {},
   "outputs": [],
   "source": [
    "y_real = np.array([5, 5, 6, 7, 8, 9, 5, 10, 8, 0, 0, 6, 10, 4, 6, 6, 10, 0, 10, 5, 3, 9, 6, 10, 1, 4, 4, 2, 2, 5, 5, 7, 10, 2, 7, 3, 9, 1, 5, 1, 0, 5, 8, 9, 6, 4, 7, 4, 1, 8, 6, 3, 10, 5, 8, 2, 3, 7, 10, 0, 7, 10, 7, 3, 2, 2, 8, 10, 8, 10, 0, 0, 6, 0, 0, 1, 9, 0, 9, 9, 6, 10, 1, 10, 4, 3, 9, 7, 9, 8, 6, 9, 5, 2, 7, 1, 5, 8, 9, 10, 7, 1, 5, 8, 6, 4, 10, 2, 0, 4, 2, 3, 1, 7, 9, 9, 0, 1, 6, 6, 5, 1, 3, 3, 8, 10, 9, 9, 0, 0, 3, 5, 4, 0, 7, 1, 2, 4, 2, 8, 3, 8, 2, 4, 9, 3, 5, 4, 1, 7, 4, 0, 7, 6, 9, 6, 4, 3, 3, 8, 0, 8, 8, 3, 3, 4, 5, 3, 2, 2, 7, 1, 7, 0, 1, 2, 4, 3, 3, 5, 2, 6, 1, 7, 5, 7, 10, 10, 2, 1, 8, 4, 0, 5, 4, 7, 9, 6, 4, 0, 5, 6, 10, 3, 2, 2, 6, 6, 10, 4, 1, 8, 7, 8, 8, 9, 1, 9, 1, 2])"
   ]
  },
  {
   "cell_type": "code",
   "execution_count": 4,
   "id": "f2203281",
   "metadata": {},
   "outputs": [],
   "source": [
    "prediction_nn = np.array([7, 4, 6, 9, 6, 6, 4, 6, 9, 1, 3, 6, 6, 2, 6, 6, 9, 0, 6, 7, 0, 6, 6, 6, 1, 2, 4, 9, 9, 8, 2, 8, 6, 7, 8, 3, 6, 1, 9, 1, 1, 6, 6, 6, 6, 2, 9, 9, 1, 6, 6, 3, 6, 7, 9, 4, 3, 8, 6, 1, 8, 6, 7, 3, 8, 4, 9, 6, 6, 6, 3, 3, 6, 1, 1, 1, 6, 1, 9, 6, 6, 9, 1, 9, 4, 1, 6, 9, 6, 6, 6, 9, 2, 9, 7, 1, 7, 6, 6, 9, 8, 1, 9, 6, 6, 8, 6, 9, 0, 2, 8, 0, 1, 8, 6, 6, 1, 1, 6, 6, 9, 1, 3, 1, 6, 6, 6, 6, 3, 1, 3, 2, 4, 1, 8, 1, 9, 2, 8, 9, 1, 6, 2, 4, 6, 3, 8, 4, 1, 8, 1, 1, 8, 6, 6, 6, 8, 1, 3, 9, 1, 9, 8, 3, 3, 4, 2, 3, 4, 9, 7, 1, 9, 1, 1, 7, 7, 3, 3, 2, 9, 6, 1, 7, 4, 8, 9, 9, 2, 1, 6, 8, 3, 6, 7, 7, 6, 6, 6, 1, 7, 6, 6, 3, 9, 6, 6, 6, 6, 7, 1, 9, 8, 8, 6, 6, 1, 6, 1, 2,])"
   ]
  },
  {
   "cell_type": "code",
   "execution_count": 5,
   "id": "76cd4592",
   "metadata": {},
   "outputs": [],
   "source": [
    "prediction_rf = np.array([2, 5, 6, 9, 10, 9, 5, 10, 8, 0, 0, 6, 9, 7, 6, 9, 10, 0, 10, 7, 3, 9, 6, 8, 1, 4, 5, 7, 4, 5, 5, 7, 10, 2, 7, 3, 9, 1, 8, 1, 0, 10, 10, 9, 6, 5, 7, 2, 0, 8, 6, 3, 9, 4, 10, 2, 3, 7, 10, 0, 7, 9, 7, 3, 2, 5, 8, 10, 9, 9, 0, 0, 6, 0, 0, 1, 10, 0, 10, 9, 6, 8, 1, 8, 4, 0, 10, 8, 10, 9, 6, 8, 2, 2, 5, 1, 5, 8, 10, 8, 7, 1, 8, 10, 6, 5, 10, 2, 0, 5, 5, 3, 1, 7, 9, 9, 0, 1, 6, 6, 8, 1, 3, 3, 8, 10, 9, 10, 0, 0, 3, 5, 5, 0, 7, 1, 7, 4, 7, 10, 0, 10, 5, 4, 10, 3, 7, 5, 1, 7, 4, 0, 7, 6, 9, 6, 7, 0, 3, 8, 0, 8, 8, 3, 3, 2, 5, 3, 2, 7, 2, 1, 9, 0, 1, 4, 7, 3, 3, 5, 2, 6, 1, 5, 4, 7, 10, 10, 5, 1, 10, 4, 0, 9, 7, 7, 9, 9, 2, 0, 5, 6, 9, 3, 4, 8, 6, 6, 10, 2, 1, 8, 7, 8, 8, 9, 1, 9, 1, 7,])"
   ]
  },
  {
   "cell_type": "code",
   "execution_count": 6,
   "id": "613e25fe",
   "metadata": {},
   "outputs": [],
   "source": [
    "prediction_cart = np.array([4, 2, 6, 9, 10, 9, 5, 9, 7, 0, 1, 9, 10, 7, 6, 9, 10, 0, 8, 7, 0, 10, 6, 8, 1, 4, 5, 7, 4, 7, 5, 2, 10, 4, 7, 3, 6, 1, 10, 1, 1, 8, 9, 9, 6, 5, 7, 5, 3, 2, 6, 3, 5, 2, 10, 2, 3, 4, 10, 3, 7, 9, 7, 3, 2, 5, 2, 10, 9, 9, 1, 0, 6, 0, 3, 1, 5, 3, 10, 10, 6, 10, 1, 8, 2, 3, 9, 8, 10, 9, 5, 8, 2, 7, 5, 1, 5, 8, 9, 10, 7, 1, 8, 10, 6, 5, 10, 7, 3, 5, 2, 3, 1, 7, 9, 9, 0, 1, 6, 6, 8, 1, 3, 3, 9, 10, 9, 10, 0, 0, 3, 5, 5, 0, 7, 1, 7, 4, 7, 10, 0, 8, 4, 4, 9, 3, 7, 5, 1, 5, 3, 0, 7, 6, 6, 6, 7, 0, 3, 8, 0, 8, 5, 3, 3, 5, 5, 3, 5, 7, 2, 1, 9, 3, 1, 4, 7, 3, 3, 2, 2, 6, 1, 7, 4, 7, 10, 10, 4, 1, 10, 2, 3, 6, 2, 7, 9, 9, 2, 0, 2, 6, 9, 3, 4, 8, 6, 6, 8, 2, 1, 8, 7, 8, 8, 9, 1, 6, 1, 7,])"
   ]
  },
  {
   "cell_type": "code",
   "execution_count": 7,
   "id": "32b512fa",
   "metadata": {},
   "outputs": [],
   "source": [
    "# SVC è troppo pesante e non riesce a scaricare lo sketch\n",
    "prediction_svc = np.array([0 for el in prediction_rf])"
   ]
  },
  {
   "cell_type": "code",
   "execution_count": 8,
   "id": "ce856550",
   "metadata": {},
   "outputs": [],
   "source": [
    "prediction_gnb = np.array([1, 1, 10, 10, 10, 10, 1, 10, 10, 1, 1, 10, 10, 1, 10, 10, 10, 1, 10, 1, 1, 10, 10, 10, 1, 1, 1, 1, 1, 1, 1, 10, 10, 1, 1, 1, 10, 1, 10, 1, 1, 10, 10, 10, 10, 1, 10, 1, 1, 10, 10, 1, 10, 1, 10, 1, 1, 1, 10, 1, 1, 10, 1, 1, 1, 1, 10, 10, 10, 10, 1, 1, 10, 1, 1, 1, 10, 1, 10, 10, 10, 10, 1, 10, 1, 1, 10, 10, 10, 10, 10, 10, 1, 1, 1, 1, 1, 10, 10, 10, 1, 1, 10, 10, 10, 1, 10, 10, 1, 1, 1, 1, 1, 10, 10, 10, 1, 1, 10, 10, 10, 1, 1, 1, 10, 10, 10, 10, 1, 1, 1, 1, 1, 1, 1, 1, 1, 1, 1, 10, 1, 10, 1, 1, 10, 1, 10, 1, 1, 1, 1, 1, 1, 10, 10, 10, 10, 1, 1, 10, 1, 10, 10, 1, 1, 1, 1, 1, 1, 10, 10, 1, 10, 1, 1, 1, 1, 1, 1, 1, 1, 10, 1, 1, 1, 1, 10, 10, 1, 1, 10, 1, 1, 10, 1, 1, 10, 10, 1, 1, 1, 10, 10, 1, 1, 10, 10, 10, 10, 1, 1, 10, 1, 10, 10, 10, 1, 10, 1, 1,])"
   ]
  },
  {
   "cell_type": "code",
   "execution_count": 9,
   "id": "5f1a5fae",
   "metadata": {},
   "outputs": [],
   "source": [
    "prediction_lr = np.array([7, 9, 7, 9, 4, 10, 6, 0, 2, 10, 10, 0, 6, 7, 8, 6, 10, 0, 10, 7, 6, 9, 6, 10, 9, 7, 9, 8, 4, 6, 9, 6, 8, 4, 9, 8, 10, 9, 5, 6, 10, 9, 9, 9, 8, 9, 9, 6, 5, 10, 0, 6, 9, 7, 9, 2, 9, 9, 10, 4, 8, 9, 6, 6, 8, 10, 9, 9, 9, 8, 10, 9, 3, 7, 8, 9, 7, 2, 6, 6, 4, 9, 6, 5, 4, 6, 6, 6, 9, 0, 0, 5, 9, 4, 5, 6, 6, 4, 6, 5, 7, 6, 8, 8, 0, 0, 10, 8, 9, 4, 8, 9, 6, 9, 6, 8, 8, 6, 8, 8, 10, 6, 7, 9, 6, 6, 6, 6, 8, 10, 6, 9, 3, 0, 6, 9, 8, 6, 9, 8, 6, 0, 2, 5, 6, 6, 7, 10, 9, 9, 0, 4, 5, 7, 9, 7, 6, 6, 7, 6, 0, 9, 7, 9, 6, 6, 6, 6, 10, 8, 5, 6, 9, 10, 6, 8, 0, 7, 4, 6, 4, 0, 6, 6, 7, 6, 10, 10, 6, 6, 6, 4, 6, 9, 6, 9, 9, 6, 9, 2, 7, 6, 9, 6, 10, 6, 6, 6, 9, 9, 9, 10, 9, 2, 9, 9, 9, 9, 10, 8,])"
   ]
  },
  {
   "cell_type": "code",
   "execution_count": 10,
   "id": "0232bd29",
   "metadata": {},
   "outputs": [],
   "source": [
    "pred = []\n",
    "uniques = np.unique(y_real)\n",
    "pred.append((\"NN\",prediction_nn))\n",
    "pred.append((\"RF\",prediction_rf))\n",
    "pred.append((\"CART\",prediction_cart))\n",
    "pred.append((\"SVC\",prediction_svc))\n",
    "pred.append((\"GNB\",prediction_gnb))\n",
    "pred.append((\"LR\",prediction_lr))"
   ]
  },
  {
   "cell_type": "code",
   "execution_count": 11,
   "id": "fdfcca41",
   "metadata": {},
   "outputs": [],
   "source": [
    "def classification_report_csv(report, model_name):\n",
    "    report_data = []\n",
    "    lines = report.split('\\n')\n",
    "    index = 0\n",
    "    row = lines[-4].split('    ')\n",
    "    accuracy = row[-2]\n",
    "    for line in lines[2:-5]:\n",
    "        row = {}\n",
    "        row_data = line.split('      ')\n",
    "        row['class'] = labels[index]\n",
    "        row['precision'] = float(row_data[2]) \n",
    "        row['recall'] = float(row_data[3]) \n",
    "        row['f1_score'] = float(row_data[4])\n",
    "        row['accuracy'] = accuracy\n",
    "        report_data.append(row)\n",
    "        index += 1\n",
    "    dataframe = pd.DataFrame.from_dict(report_data)\n",
    "    dataframe.to_csv( 'evaluations/'+'classification_report' + model_name +  '.csv', index = False)\n"
   ]
  },
  {
   "cell_type": "code",
   "execution_count": 12,
   "id": "e0ccf46e",
   "metadata": {},
   "outputs": [
    {
     "name": "stdout",
     "output_type": "stream",
     "text": [
      "NN: \n",
      "\n",
      "              precision    recall  f1-score   support\n",
      "\n",
      "           0       0.50      0.10      0.17        20\n",
      "           1       0.53      1.00      0.69        20\n",
      "           2       0.23      0.15      0.18        20\n",
      "           3       0.74      0.70      0.72        20\n",
      "           4       0.50      0.30      0.37        20\n",
      "           5       0.00      0.00      0.00        20\n",
      "           6       0.30      1.00      0.46        20\n",
      "           7       0.33      0.25      0.29        20\n",
      "           8       0.10      0.10      0.10        20\n",
      "           9       0.06      0.10      0.08        20\n",
      "          10       0.00      0.00      0.00        20\n",
      "\n",
      "    accuracy                           0.34       220\n",
      "   macro avg       0.30      0.34      0.28       220\n",
      "weighted avg       0.30      0.34      0.28       220\n",
      "\n",
      "-----------------------\n",
      "RF: \n",
      "\n",
      "              precision    recall  f1-score   support\n",
      "\n",
      "           0       0.83      1.00      0.91        20\n",
      "           1       1.00      0.95      0.97        20\n",
      "           2       0.50      0.35      0.41        20\n",
      "           3       1.00      0.85      0.92        20\n",
      "           4       0.55      0.30      0.39        20\n",
      "           5       0.43      0.45      0.44        20\n",
      "           6       1.00      0.90      0.95        20\n",
      "           7       0.56      0.70      0.62        20\n",
      "           8       0.52      0.55      0.54        20\n",
      "           9       0.50      0.60      0.55        20\n",
      "          10       0.42      0.55      0.48        20\n",
      "\n",
      "    accuracy                           0.65       220\n",
      "   macro avg       0.66      0.65      0.65       220\n",
      "weighted avg       0.66      0.65      0.65       220\n",
      "\n",
      "-----------------------\n",
      "CART: \n",
      "\n",
      "              precision    recall  f1-score   support\n",
      "\n",
      "           0       0.79      0.55      0.65        20\n",
      "           1       0.86      0.95      0.90        20\n",
      "           2       0.22      0.20      0.21        20\n",
      "           3       0.68      0.85      0.76        20\n",
      "           4       0.25      0.15      0.19        20\n",
      "           5       0.24      0.25      0.24        20\n",
      "           6       0.80      0.80      0.80        20\n",
      "           7       0.46      0.60      0.52        20\n",
      "           8       0.41      0.35      0.38        20\n",
      "           9       0.43      0.50      0.47        20\n",
      "          10       0.50      0.55      0.52        20\n",
      "\n",
      "    accuracy                           0.52       220\n",
      "   macro avg       0.51      0.52      0.51       220\n",
      "weighted avg       0.51      0.52      0.51       220\n",
      "\n",
      "-----------------------\n",
      "SVC: \n",
      "\n",
      "              precision    recall  f1-score   support\n",
      "\n",
      "           0       0.09      1.00      0.17        20\n",
      "           1       0.00      0.00      0.00        20\n",
      "           2       0.00      0.00      0.00        20\n",
      "           3       0.00      0.00      0.00        20\n",
      "           4       0.00      0.00      0.00        20\n",
      "           5       0.00      0.00      0.00        20\n",
      "           6       0.00      0.00      0.00        20\n",
      "           7       0.00      0.00      0.00        20\n",
      "           8       0.00      0.00      0.00        20\n",
      "           9       0.00      0.00      0.00        20\n",
      "          10       0.00      0.00      0.00        20\n",
      "\n",
      "    accuracy                           0.09       220\n",
      "   macro avg       0.01      0.09      0.02       220\n",
      "weighted avg       0.01      0.09      0.02       220\n",
      "\n",
      "-----------------------\n",
      "GNB: \n",
      "\n",
      "              precision    recall  f1-score   support\n",
      "\n",
      "           0       0.00      0.00      0.00        20\n",
      "           1       0.16      1.00      0.28        20\n",
      "           2       0.00      0.00      0.00        20\n",
      "           3       0.00      0.00      0.00        20\n",
      "           4       0.00      0.00      0.00        20\n",
      "           5       0.00      0.00      0.00        20\n",
      "           6       0.00      0.00      0.00        20\n",
      "           7       0.00      0.00      0.00        20\n",
      "           8       0.00      0.00      0.00        20\n",
      "           9       0.00      0.00      0.00        20\n",
      "          10       0.21      1.00      0.34        20\n",
      "\n",
      "    accuracy                           0.18       220\n",
      "   macro avg       0.03      0.18      0.06       220\n",
      "weighted avg       0.03      0.18      0.06       220\n",
      "\n",
      "-----------------------\n",
      "LR: \n",
      "\n",
      "              precision    recall  f1-score   support\n",
      "\n",
      "           0       0.21      0.15      0.18        20\n",
      "           1       0.00      0.00      0.00        20\n",
      "           2       0.33      0.10      0.15        20\n",
      "           3       0.00      0.00      0.00        20\n",
      "           4       0.23      0.15      0.18        20\n",
      "           5       0.11      0.05      0.07        20\n",
      "           6       0.10      0.30      0.15        20\n",
      "           7       0.06      0.05      0.05        20\n",
      "           8       0.09      0.10      0.09        20\n",
      "           9       0.13      0.35      0.19        20\n",
      "          10       0.30      0.35      0.33        20\n",
      "\n",
      "    accuracy                           0.15       220\n",
      "   macro avg       0.14      0.15      0.13       220\n",
      "weighted avg       0.14      0.15      0.13       220\n",
      "\n",
      "-----------------------\n"
     ]
    },
    {
     "name": "stderr",
     "output_type": "stream",
     "text": [
      "/home/sakka/anaconda3/envs/ts/lib/python3.6/site-packages/sklearn/metrics/_classification.py:1248: UndefinedMetricWarning: Precision and F-score are ill-defined and being set to 0.0 in labels with no predicted samples. Use `zero_division` parameter to control this behavior.\n",
      "  _warn_prf(average, modifier, msg_start, len(result))\n",
      "/home/sakka/anaconda3/envs/ts/lib/python3.6/site-packages/sklearn/metrics/_classification.py:1248: UndefinedMetricWarning: Precision and F-score are ill-defined and being set to 0.0 in labels with no predicted samples. Use `zero_division` parameter to control this behavior.\n",
      "  _warn_prf(average, modifier, msg_start, len(result))\n",
      "/home/sakka/anaconda3/envs/ts/lib/python3.6/site-packages/sklearn/metrics/_classification.py:1248: UndefinedMetricWarning: Precision and F-score are ill-defined and being set to 0.0 in labels with no predicted samples. Use `zero_division` parameter to control this behavior.\n",
      "  _warn_prf(average, modifier, msg_start, len(result))\n",
      "/home/sakka/anaconda3/envs/ts/lib/python3.6/site-packages/sklearn/metrics/_classification.py:1248: UndefinedMetricWarning: Precision and F-score are ill-defined and being set to 0.0 in labels with no predicted samples. Use `zero_division` parameter to control this behavior.\n",
      "  _warn_prf(average, modifier, msg_start, len(result))\n",
      "/home/sakka/anaconda3/envs/ts/lib/python3.6/site-packages/sklearn/metrics/_classification.py:1248: UndefinedMetricWarning: Precision and F-score are ill-defined and being set to 0.0 in labels with no predicted samples. Use `zero_division` parameter to control this behavior.\n",
      "  _warn_prf(average, modifier, msg_start, len(result))\n",
      "/home/sakka/anaconda3/envs/ts/lib/python3.6/site-packages/sklearn/metrics/_classification.py:1248: UndefinedMetricWarning: Precision and F-score are ill-defined and being set to 0.0 in labels with no predicted samples. Use `zero_division` parameter to control this behavior.\n",
      "  _warn_prf(average, modifier, msg_start, len(result))\n",
      "/home/sakka/anaconda3/envs/ts/lib/python3.6/site-packages/sklearn/metrics/_classification.py:1248: UndefinedMetricWarning: Precision and F-score are ill-defined and being set to 0.0 in labels with no predicted samples. Use `zero_division` parameter to control this behavior.\n",
      "  _warn_prf(average, modifier, msg_start, len(result))\n",
      "/home/sakka/anaconda3/envs/ts/lib/python3.6/site-packages/sklearn/metrics/_classification.py:1248: UndefinedMetricWarning: Precision and F-score are ill-defined and being set to 0.0 in labels with no predicted samples. Use `zero_division` parameter to control this behavior.\n",
      "  _warn_prf(average, modifier, msg_start, len(result))\n",
      "/home/sakka/anaconda3/envs/ts/lib/python3.6/site-packages/sklearn/metrics/_classification.py:1248: UndefinedMetricWarning: Precision and F-score are ill-defined and being set to 0.0 in labels with no predicted samples. Use `zero_division` parameter to control this behavior.\n",
      "  _warn_prf(average, modifier, msg_start, len(result))\n",
      "/home/sakka/anaconda3/envs/ts/lib/python3.6/site-packages/sklearn/metrics/_classification.py:1248: UndefinedMetricWarning: Precision and F-score are ill-defined and being set to 0.0 in labels with no predicted samples. Use `zero_division` parameter to control this behavior.\n",
      "  _warn_prf(average, modifier, msg_start, len(result))\n",
      "/home/sakka/anaconda3/envs/ts/lib/python3.6/site-packages/sklearn/metrics/_classification.py:1248: UndefinedMetricWarning: Precision and F-score are ill-defined and being set to 0.0 in labels with no predicted samples. Use `zero_division` parameter to control this behavior.\n",
      "  _warn_prf(average, modifier, msg_start, len(result))\n",
      "/home/sakka/anaconda3/envs/ts/lib/python3.6/site-packages/sklearn/metrics/_classification.py:1248: UndefinedMetricWarning: Precision and F-score are ill-defined and being set to 0.0 in labels with no predicted samples. Use `zero_division` parameter to control this behavior.\n",
      "  _warn_prf(average, modifier, msg_start, len(result))\n"
     ]
    }
   ],
   "source": [
    "for name, preds in pred:\n",
    "    print(name + \": \\n\")\n",
    "    report = metrics.classification_report(y_real, preds)\n",
    "    print(report)\n",
    "    classification_report_csv(report, name)\n",
    "    print(\"-----------------------\")"
   ]
  },
  {
   "cell_type": "code",
   "execution_count": null,
   "id": "e10cfd22",
   "metadata": {},
   "outputs": [],
   "source": []
  },
  {
   "cell_type": "code",
   "execution_count": null,
   "id": "8e865923",
   "metadata": {},
   "outputs": [],
   "source": []
  }
 ],
 "metadata": {
  "kernelspec": {
   "display_name": "Python 3",
   "language": "python",
   "name": "python3"
  },
  "language_info": {
   "codemirror_mode": {
    "name": "ipython",
    "version": 3
   },
   "file_extension": ".py",
   "mimetype": "text/x-python",
   "name": "python",
   "nbconvert_exporter": "python",
   "pygments_lexer": "ipython3",
   "version": "3.6.13"
  }
 },
 "nbformat": 4,
 "nbformat_minor": 5
}
