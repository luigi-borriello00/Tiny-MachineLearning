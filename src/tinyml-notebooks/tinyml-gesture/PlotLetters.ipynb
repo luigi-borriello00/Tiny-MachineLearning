{
 "cells": [
  {
   "cell_type": "code",
   "execution_count": 89,
   "metadata": {},
   "outputs": [],
   "source": [
    "import matplotlib.pyplot as plt\n",
    "import numpy as np\n",
    "import os\n",
    "from PIL import Image\n",
    "\n",
    "imgsize = 300\n",
    "def img_reshape(name):\n",
    "    img = Image.open('./lettersImages/'+name+'.png').convert('RGB')\n",
    "    img = img.resize((imgsize, imgsize))\n",
    "    img = np.asarray(img)\n",
    "    return img\n",
    "\n",
    "def loadLettersImages(letters):\n",
    "    img_arr = []\n",
    "    names = []\n",
    "    for c in letters:\n",
    "        names.append(c)\n",
    "        img_arr.append(img_reshape(c))\n",
    "    return img_arr, names\n"
   ]
  },
  {
   "cell_type": "code",
   "execution_count": 90,
   "metadata": {},
   "outputs": [
    {
     "data": {
      "application/vnd.jupyter.widget-view+json": {
       "model_id": "dc03e6f5b83a4c72b29986016cc975d7",
       "version_major": 2,
       "version_minor": 0
      },
      "text/plain": [
       "interactive(children=(IntSlider(value=1, description='rows', max=26, min=1), IntSlider(value=1, description='c…"
      ]
     },
     "metadata": {},
     "output_type": "display_data"
    }
   ],
   "source": [
    "@interact(rows=(1,26), cols=(1,26))\n",
    "def showImages(rows=1, cols=1):\n",
    "    img_arr, names = loadLettersImages(\"abcdefghijklmnopqrstuvwxyz\")\n",
    "    img_count = 0\n",
    "    fig = plt.figure(figsize=(10, 10))\n",
    "\n",
    "    for i in range(rows):\n",
    "        if img_count == len(img_arr):\n",
    "                break\n",
    "        for j in range(cols):\n",
    "            if img_count == len(img_arr):\n",
    "                break      \n",
    "            if img_count < len(img_arr):\n",
    "                ax = fig.add_subplot(rows, cols, img_count + 1)\n",
    "                ax.set_title(names[img_count])\n",
    "                ax.imshow(img_arr[img_count])\n",
    "                img_count+=1\n",
    "    fig.tight_layout()"
   ]
  }
 ],
 "metadata": {
  "kernelspec": {
   "display_name": "Python 3",
   "language": "python",
   "name": "python3"
  },
  "language_info": {
   "codemirror_mode": {
    "name": "ipython",
    "version": 3
   },
   "file_extension": ".py",
   "mimetype": "text/x-python",
   "name": "python",
   "nbconvert_exporter": "python",
   "pygments_lexer": "ipython3",
   "version": "3.6.13"
  }
 },
 "nbformat": 4,
 "nbformat_minor": 2
}
