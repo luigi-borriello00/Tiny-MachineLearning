{
 "cells": [
  {
   "cell_type": "code",
   "execution_count": 5,
   "id": "19a52fc4",
   "metadata": {},
   "outputs": [],
   "source": [
    "import numpy as np\n",
    "import pandas as pd\n",
    "import sklearn.metrics as metrics"
   ]
  },
  {
   "cell_type": "code",
   "execution_count": 6,
   "id": "84b173e5",
   "metadata": {},
   "outputs": [],
   "source": [
    "labels = [\"O\", \"I\", \"U\", \"E\", \"A\",  \"B\", \"D\", \"G\", \"L\", \"M\", \"N\", \"P\", \"Q\", \"V\", \"W\", \"C\", \"R\", \"T\", \"S\", \"H\", \"F\", \"Z\", \"Y\", \"J\", \"K\", \"X\"]"
   ]
  },
  {
   "cell_type": "code",
   "execution_count": 7,
   "id": "97bfc5db",
   "metadata": {},
   "outputs": [],
   "source": [
    "y_real = np.array([ 4, 24, 18, 22, 19, 15, 11, 21,  9, 25, 13, 16,  4, 18, 19,  1, 19,\n",
    "       11, 21,  6,  2, 14, 18,  1, 17, 14,  3,  1,  5, 24,  2,  3,  5,  8,\n",
    "       21, 20,  9, 12, 13,  4, 14, 19,  6, 25, 25, 19, 24, 21,  6,  3, 23,\n",
    "        3,  9, 20, 12, 22,  5, 17,  7,  6,  5,  0, 22, 16,  7,  2, 10,  9,\n",
    "        9, 20,  9,  1, 11, 12,  8, 24, 16, 14,  5, 24, 21, 17,  1, 15, 10,\n",
    "       25, 17,  1,  8,  8, 25, 25, 18,  7, 12, 18,  6,  4,  7,  8])"
   ]
  },
  {
   "cell_type": "code",
   "execution_count": 8,
   "id": "f2203281",
   "metadata": {},
   "outputs": [],
   "source": [
    "prediction_nn = np.array([4, 24, 18, 18, 18, 15, 11, 21, 9, 25, 13, 16, 4, 18, 19, 1, 19, 11, 21, 6, 2, 14, 18, 5, 17, 14, 3, 1, 5, 24, 2, 23, 5, 8, 21, 20, 9, 12, 13, 4, 14, 19, 6, 25, 25, 19, 24, 21, 11, 3, 23, 3, 9, 20, 12, 22, 5, 17, 7, 6, 5, 0, 22, 16, 7, 2, 10, 9, 9, 20, 9, 1, 11, 12, 8, 24, 16, 14, 5, 24, 21, 17, 5, 15, 10, 25, 17, 1, 8, 8, 25, 24, 18, 7, 12, 18, 6, 4, 7, 8,])"
   ]
  },
  {
   "cell_type": "code",
   "execution_count": 9,
   "id": "613e25fe",
   "metadata": {},
   "outputs": [],
   "source": [
    "prediction_cart = np.array([4, 24, 18, 21, 17, 15, 11, 21, 9, 3, 13, 16, 4, 18, 19, 1, 24, 11, 21, 12, 0, 8, 9, 1, 19, 14, 3, 1, 12, 24, 2, 14, 12, 8, 21, 20, 9, 12, 13, 4, 4, 19, 10, 25, 25, 19, 24, 9, 5, 3, 23, 3, 9, 20, 12, 22, 14, 17, 7, 6, 11, 0, 22, 24, 7, 21, 10, 9, 17, 5, 6, 1, 11, 23, 8, 19, 16, 14, 1, 24, 21, 17, 1, 15, 4, 25, 17, 1, 8, 8, 10, 25, 18, 7, 13, 18, 6, 4, 5, 8,])"
   ]
  },
  {
   "cell_type": "code",
   "execution_count": 10,
   "id": "ce856550",
   "metadata": {},
   "outputs": [],
   "source": [
    "prediction_gnb = np.array([5, 23, 5, 6, 5, 6, 5, 6, 5, 5, 6, 16, 5, 5, 23, 1, 23, 1, 5, 6, 5, 23, 5, 5, 5, 5, 3, 1, 5, 5, 2, 6, 5, 5, 6, 5, 23, 6, 6, 5, 5, 5, 6, 5, 23, 5, 23, 5, 5, 6, 23, 5, 23, 5, 13, 6, 5, 5, 5, 6, 5, 6, 22, 5, 5, 5, 5, 9, 9, 6, 23, 1, 5, 23, 5, 5, 5, 23, 5, 23, 5, 5, 1, 5, 5, 5, 5, 5, 6, 5, 5, 23, 5, 5, 6, 5, 6, 5, 5, 6,])"
   ]
  },
  {
   "cell_type": "code",
   "execution_count": 11,
   "id": "5f1a5fae",
   "metadata": {},
   "outputs": [],
   "source": [
    "prediction_lr = np.array([4, 24, 18, 7, 19, 15, 1, 21, 9, 25, 13, 16, 4, 18, 19, 1, 24, 11, 21, 6, 2, 14, 18, 1, 7, 14, 3, 1, 5, 24, 2, 23, 20, 8, 21, 20, 9, 12, 13, 4, 14, 19, 6, 25, 25, 19, 24, 21, 6, 3, 24, 3, 9, 20, 12, 22, 7, 17, 7, 6, 5, 0, 22, 16, 7, 2, 10, 9, 9, 8, 9, 1, 11, 12, 8, 24, 16, 14, 5, 24, 21, 17, 1, 15, 10, 25, 17, 1, 8, 8, 25, 25, 18, 7, 12, 18, 6, 4, 7, 8,])"
   ]
  },
  {
   "cell_type": "code",
   "execution_count": 14,
   "id": "0232bd29",
   "metadata": {},
   "outputs": [],
   "source": [
    "pred = []\n",
    "uniques = np.unique(y_real)\n",
    "pred.append((\"NN\",prediction_nn))\n",
    "pred.append((\"CART\",prediction_cart))\n",
    "pred.append((\"GNB\",prediction_gnb))\n",
    "pred.append((\"LR\",prediction_lr))"
   ]
  },
  {
   "cell_type": "code",
   "execution_count": 15,
   "id": "fdfcca41",
   "metadata": {},
   "outputs": [],
   "source": [
    "def classification_report_csv(report, model_name):\n",
    "    report_data = []\n",
    "    lines = report.split('\\n')\n",
    "    index = 0\n",
    "    row = lines[-4].split('    ')\n",
    "    accuracy = row[-2]\n",
    "    for line in lines[2:-5]:\n",
    "        row = {}\n",
    "        row_data = line.split('      ')\n",
    "        row['class'] = labels[index]\n",
    "        row['precision'] = float(row_data[2]) \n",
    "        row['recall'] = float(row_data[3]) \n",
    "        row['f1_score'] = float(row_data[4])\n",
    "        row['accuracy'] = accuracy\n",
    "        report_data.append(row)\n",
    "        index += 1\n",
    "    dataframe = pd.DataFrame.from_dict(report_data)\n",
    "    dataframe.to_csv( 'evaluations/'+'classification_report' + model_name +  '.csv', index = False)\n"
   ]
  },
  {
   "cell_type": "code",
   "execution_count": 16,
   "id": "e0ccf46e",
   "metadata": {},
   "outputs": [
    {
     "name": "stdout",
     "output_type": "stream",
     "text": [
      "NN: \n",
      "\n",
      "              precision    recall  f1-score   support\n",
      "\n",
      "           0       1.00      1.00      1.00         1\n",
      "           1       1.00      0.67      0.80         6\n",
      "           2       1.00      1.00      1.00         3\n",
      "           3       1.00      0.75      0.86         4\n",
      "           4       1.00      1.00      1.00         4\n",
      "           5       0.71      1.00      0.83         5\n",
      "           6       1.00      0.80      0.89         5\n",
      "           7       1.00      1.00      1.00         4\n",
      "           8       1.00      1.00      1.00         5\n",
      "           9       1.00      1.00      1.00         6\n",
      "          10       1.00      1.00      1.00         2\n",
      "          11       0.75      1.00      0.86         3\n",
      "          12       1.00      1.00      1.00         4\n",
      "          13       1.00      1.00      1.00         2\n",
      "          14       1.00      1.00      1.00         4\n",
      "          15       1.00      1.00      1.00         2\n",
      "          16       1.00      1.00      1.00         3\n",
      "          17       1.00      1.00      1.00         4\n",
      "          18       0.71      1.00      0.83         5\n",
      "          19       1.00      0.80      0.89         5\n",
      "          20       1.00      1.00      1.00         3\n",
      "          21       1.00      1.00      1.00         5\n",
      "          22       1.00      0.67      0.80         3\n",
      "          23       0.50      1.00      0.67         1\n",
      "          24       0.83      1.00      0.91         5\n",
      "          25       1.00      0.83      0.91         6\n",
      "\n",
      "    accuracy                           0.93       100\n",
      "   macro avg       0.94      0.94      0.93       100\n",
      "weighted avg       0.95      0.93      0.93       100\n",
      "\n",
      "-----------------------\n",
      "CART: \n",
      "\n",
      "              precision    recall  f1-score   support\n",
      "\n",
      "           0       0.50      1.00      0.67         1\n",
      "           1       0.86      1.00      0.92         6\n",
      "           2       1.00      0.33      0.50         3\n",
      "           3       0.75      0.75      0.75         4\n",
      "           4       0.67      1.00      0.80         4\n",
      "           5       0.00      0.00      0.00         5\n",
      "           6       0.67      0.40      0.50         5\n",
      "           7       1.00      0.75      0.86         4\n",
      "           8       0.83      1.00      0.91         5\n",
      "           9       0.67      0.67      0.67         6\n",
      "          10       0.33      0.50      0.40         2\n",
      "          11       0.75      1.00      0.86         3\n",
      "          12       0.40      0.50      0.44         4\n",
      "          13       0.67      1.00      0.80         2\n",
      "          14       0.50      0.50      0.50         4\n",
      "          15       1.00      1.00      1.00         2\n",
      "          16       1.00      0.67      0.80         3\n",
      "          17       0.60      0.75      0.67         4\n",
      "          18       1.00      0.80      0.89         5\n",
      "          19       0.60      0.60      0.60         5\n",
      "          20       1.00      0.67      0.80         3\n",
      "          21       0.67      0.80      0.73         5\n",
      "          22       1.00      0.67      0.80         3\n",
      "          23       0.50      1.00      0.67         1\n",
      "          24       0.67      0.80      0.73         5\n",
      "          25       1.00      0.67      0.80         6\n",
      "\n",
      "    accuracy                           0.70       100\n",
      "   macro avg       0.72      0.72      0.69       100\n",
      "weighted avg       0.72      0.70      0.69       100\n",
      "\n",
      "-----------------------\n",
      "GNB: \n",
      "\n",
      "              precision    recall  f1-score   support\n",
      "\n",
      "           0       0.00      0.00      0.00         1\n",
      "           1       0.80      0.67      0.73         6\n",
      "           2       1.00      0.33      0.50         3\n",
      "           3       1.00      0.25      0.40         4\n",
      "           4       0.00      0.00      0.00         4\n",
      "           5       0.09      1.00      0.17         5\n",
      "           6       0.21      0.80      0.33         5\n",
      "           7       0.00      0.00      0.00         4\n",
      "           8       0.00      0.00      0.00         5\n",
      "           9       1.00      0.33      0.50         6\n",
      "          10       0.00      0.00      0.00         2\n",
      "          11       0.00      0.00      0.00         3\n",
      "          12       0.00      0.00      0.00         4\n",
      "          13       0.00      0.00      0.00         2\n",
      "          14       0.00      0.00      0.00         4\n",
      "          15       0.00      0.00      0.00         2\n",
      "          16       1.00      0.33      0.50         3\n",
      "          17       0.00      0.00      0.00         4\n",
      "          18       0.00      0.00      0.00         5\n",
      "          19       0.00      0.00      0.00         5\n",
      "          20       0.00      0.00      0.00         3\n",
      "          21       0.00      0.00      0.00         5\n",
      "          22       1.00      0.33      0.50         3\n",
      "          23       0.07      1.00      0.13         1\n",
      "          24       0.00      0.00      0.00         5\n",
      "          25       0.00      0.00      0.00         6\n",
      "\n",
      "    accuracy                           0.20       100\n",
      "   macro avg       0.24      0.19      0.14       100\n",
      "weighted avg       0.25      0.20      0.16       100\n",
      "\n",
      "-----------------------\n",
      "LR: \n",
      "\n",
      "              precision    recall  f1-score   support\n",
      "\n",
      "           0       1.00      1.00      1.00         1\n",
      "           1       0.86      1.00      0.92         6\n",
      "           2       1.00      1.00      1.00         3\n",
      "           3       1.00      0.75      0.86         4\n",
      "           4       1.00      1.00      1.00         4\n",
      "           5       1.00      0.60      0.75         5\n",
      "           6       1.00      1.00      1.00         5\n",
      "           7       0.57      1.00      0.73         4\n",
      "           8       0.83      1.00      0.91         5\n",
      "           9       1.00      1.00      1.00         6\n",
      "          10       1.00      1.00      1.00         2\n",
      "          11       1.00      0.67      0.80         3\n",
      "          12       1.00      1.00      1.00         4\n",
      "          13       1.00      1.00      1.00         2\n",
      "          14       1.00      1.00      1.00         4\n",
      "          15       1.00      1.00      1.00         2\n",
      "          16       1.00      1.00      1.00         3\n",
      "          17       1.00      0.75      0.86         4\n",
      "          18       1.00      1.00      1.00         5\n",
      "          19       1.00      0.80      0.89         5\n",
      "          20       0.67      0.67      0.67         3\n",
      "          21       1.00      1.00      1.00         5\n",
      "          22       1.00      0.67      0.80         3\n",
      "          23       0.00      0.00      0.00         1\n",
      "          24       0.71      1.00      0.83         5\n",
      "          25       1.00      1.00      1.00         6\n",
      "\n",
      "    accuracy                           0.91       100\n",
      "   macro avg       0.91      0.88      0.89       100\n",
      "weighted avg       0.93      0.91      0.91       100\n",
      "\n",
      "-----------------------\n"
     ]
    },
    {
     "name": "stderr",
     "output_type": "stream",
     "text": [
      "/home/sakka/anaconda3/envs/ts/lib/python3.6/site-packages/sklearn/metrics/_classification.py:1248: UndefinedMetricWarning: Precision and F-score are ill-defined and being set to 0.0 in labels with no predicted samples. Use `zero_division` parameter to control this behavior.\n",
      "  _warn_prf(average, modifier, msg_start, len(result))\n",
      "/home/sakka/anaconda3/envs/ts/lib/python3.6/site-packages/sklearn/metrics/_classification.py:1248: UndefinedMetricWarning: Precision and F-score are ill-defined and being set to 0.0 in labels with no predicted samples. Use `zero_division` parameter to control this behavior.\n",
      "  _warn_prf(average, modifier, msg_start, len(result))\n",
      "/home/sakka/anaconda3/envs/ts/lib/python3.6/site-packages/sklearn/metrics/_classification.py:1248: UndefinedMetricWarning: Precision and F-score are ill-defined and being set to 0.0 in labels with no predicted samples. Use `zero_division` parameter to control this behavior.\n",
      "  _warn_prf(average, modifier, msg_start, len(result))\n"
     ]
    }
   ],
   "source": [
    "for name, preds in pred:\n",
    "    print(name + \": \\n\")\n",
    "    report = metrics.classification_report(y_real, preds)\n",
    "    print(report)\n",
    "    classification_report_csv(report, name)\n",
    "    print(\"-----------------------\")"
   ]
  },
  {
   "cell_type": "code",
   "execution_count": null,
   "id": "e10cfd22",
   "metadata": {},
   "outputs": [],
   "source": []
  },
  {
   "cell_type": "code",
   "execution_count": null,
   "id": "8e865923",
   "metadata": {},
   "outputs": [],
   "source": []
  }
 ],
 "metadata": {
  "kernelspec": {
   "display_name": "Python 3",
   "language": "python",
   "name": "python3"
  },
  "language_info": {
   "codemirror_mode": {
    "name": "ipython",
    "version": 3
   },
   "file_extension": ".py",
   "mimetype": "text/x-python",
   "name": "python",
   "nbconvert_exporter": "python",
   "pygments_lexer": "ipython3",
   "version": "3.6.13"
  }
 },
 "nbformat": 4,
 "nbformat_minor": 5
}
