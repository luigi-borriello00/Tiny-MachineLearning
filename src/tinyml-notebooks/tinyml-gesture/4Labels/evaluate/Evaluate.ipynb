{
 "cells": [
  {
   "cell_type": "code",
   "execution_count": 1,
   "id": "19a52fc4",
   "metadata": {},
   "outputs": [],
   "source": [
    "import numpy as np\n",
    "import pandas as pd\n",
    "import sklearn.metrics as metrics"
   ]
  },
  {
   "cell_type": "code",
   "execution_count": 2,
   "id": "f4c77068",
   "metadata": {},
   "outputs": [],
   "source": [
    "labels = [\"O\", \"I\", \"U\", \"E\"]"
   ]
  },
  {
   "cell_type": "code",
   "execution_count": 3,
   "id": "97bfc5db",
   "metadata": {},
   "outputs": [],
   "source": [
    "y_real = np.array([2, 1, 0, 0, 2, 0, 3, 1, 2, 0, 1, 3, 3, 1, 2, 3, 1, 3, 2, 2, 3, 0,\n",
    "       2, 1, 1, 2, 0, 1, 0, 2, 0, 1, 3, 2, 0, 3, 2, 1, 3, 0, 0, 0, 1, 3,\n",
    "       0, 3, 3, 2, 1, 3, 2, 3, 0, 2, 3, 2, 2, 3, 2, 1, 1, 0, 1, 1, 1, 1,\n",
    "       3, 3, 0, 2, 2, 0, 0, 1, 3, 1, 2, 0, 0, 3])"
   ]
  },
  {
   "cell_type": "code",
   "execution_count": 4,
   "id": "f2203281",
   "metadata": {},
   "outputs": [],
   "source": [
    "prediction_nn = np.array([0, 0, 0, 0, 2, 0, 3, 1, 2, 0, 1, 3, 3, 1, 2, 3, 1, 3, 2, 0, 3, 0, 2, 1, 1, 2, 2, 0, 0, 2, 0, 1, 3, 2, 1, 3, 2, 1, 3, 0, 0, 0, 1, 1, 0, 3, 3, 2, 1, 3, 2, 3, 0, 2, 3, 1, 2, 3, 3, 1, 1, 0, 1, 0, 0, 1, 3, 3, 0, 2, 2, 0, 0, 1, 3, 1, 2, 3, 0, 3,])"
   ]
  },
  {
   "cell_type": "code",
   "execution_count": 5,
   "id": "76cd4592",
   "metadata": {},
   "outputs": [],
   "source": [
    "prediction_rf = np.array([0, 1, 0, 0, 2, 0, 3, 1, 2, 0, 1, 3, 3, 1, 2, 3, 1, 3, 2, 0, 3, 0, 2, 1, 1, 2, 0, 1, 0, 2, 0, 1, 3, 2, 1, 3, 2, 1, 3, 2, 0, 0, 1, 2, 0, 3, 3, 2, 1, 3, 2, 3, 0, 2, 3, 2, 2, 3, 2, 1, 1, 0, 1, 1, 0, 1, 3, 3, 0, 2, 2, 0, 0, 1, 3, 1, 2, 0, 1, 3, ])"
   ]
  },
  {
   "cell_type": "code",
   "execution_count": 6,
   "id": "613e25fe",
   "metadata": {},
   "outputs": [],
   "source": [
    "prediction_cart = np.array([0, 1, 0, 0, 2, 0, 3, 2, 2, 1, 1, 3, 3, 1, 2, 3, 1, 3, 2, 2, 3, 2, 1, 2, 1, 3, 0, 0, 0, 1, 2, 1, 1, 2, 1, 3, 2, 1, 1, 1, 0, 0, 1, 3, 0, 3, 3, 2, 1, 3, 2, 3, 1, 2, 3, 0, 2, 3, 2, 2, 1, 2, 1, 2, 2, 1, 3, 0, 0, 2, 2, 2, 0, 1, 3, 3, 1, 1, 2, 3,])"
   ]
  },
  {
   "cell_type": "code",
   "execution_count": 7,
   "id": "32b512fa",
   "metadata": {},
   "outputs": [],
   "source": [
    "prediction_svc = np.array([0, 1, 0, 0, 2, 0, 3, 1, 2, 0, 1, 3, 3, 1, 2, 3, 1, 3, 2, 2, 3, 0, 2, 1, 1, 2, 2, 1, 0, 2, 0, 1, 3, 2, 1, 3, 2, 1, 1, 2, 0, 0, 1, 2, 0, 3, 3, 2, 1, 3, 2, 3, 0, 2, 3, 2, 2, 3, 2, 1, 1, 0, 1, 0, 0, 1, 3, 3, 0, 2, 2, 0, 0, 1, 3, 1, 2, 0, 0, 3,])"
   ]
  },
  {
   "cell_type": "code",
   "execution_count": 8,
   "id": "ce856550",
   "metadata": {},
   "outputs": [],
   "source": [
    "prediction_gnb = np.array([2, 1, 1, 2, 2, 1, 3, 2, 2, 2, 2, 3, 3, 2, 2, 3, 3, 3, 2, 2, 3, 2, 1, 2, 1, 2, 1, 1, 1, 2, 1, 1, 3, 2, 1, 3, 2, 2, 2, 2, 1, 2, 1, 2, 1, 3, 3, 2, 1, 3, 2, 3, 2, 2, 3, 2, 2, 3, 2, 2, 1, 2, 1, 2, 1, 1, 3, 3, 1, 2, 2, 2, 2, 1, 3, 1, 2, 1, 2, 2,])"
   ]
  },
  {
   "cell_type": "code",
   "execution_count": 9,
   "id": "5f1a5fae",
   "metadata": {},
   "outputs": [],
   "source": [
    "prediction_lr = np.array([0, 1, 0, 0, 2, 0, 3, 1, 2, 0, 1, 3, 3, 1, 2, 3, 1, 3, 2, 2, 3, 0, 0, 1, 1, 2, 0, 3, 0, 2, 0, 1, 3, 0, 0, 3, 2, 1, 1, 2, 0, 0, 1, 0, 0, 3, 3, 2, 1, 3, 2, 3, 0, 2, 3, 2, 2, 3, 1, 1, 1, 0, 1, 3, 0, 1, 3, 3, 0, 2, 2, 0, 0, 1, 3, 0, 2, 0, 0, 3,])"
   ]
  },
  {
   "cell_type": "code",
   "execution_count": 13,
   "id": "0232bd29",
   "metadata": {},
   "outputs": [],
   "source": [
    "pred = []\n",
    "uniques = np.unique(y_real)\n",
    "pred.append((\"NN\",prediction_nn))\n",
    "pred.append((\"RF\",prediction_rf))\n",
    "pred.append((\"CART\",prediction_cart))\n",
    "pred.append((\"SVC\",prediction_svc))\n",
    "pred.append((\"GNB\",prediction_gnb))\n",
    "pred.append((\"LR\",prediction_lr))"
   ]
  },
  {
   "cell_type": "code",
   "execution_count": 14,
   "id": "fdfcca41",
   "metadata": {},
   "outputs": [],
   "source": [
    "def classification_report_csv(report, model_name):\n",
    "    report_data = []\n",
    "    lines = report.split('\\n')\n",
    "    index = 0\n",
    "    row = lines[-4].split('    ')\n",
    "    accuracy = row[-3]\n",
    "    for line in lines[2:-5]:\n",
    "        row = {}\n",
    "        row_data = line.split('      ')\n",
    "        row['class'] = labels[index]\n",
    "        row['precision'] = float(row_data[2]) \n",
    "        row['recall'] = float(row_data[3]) \n",
    "        row['f1_score'] = float(row_data[4])\n",
    "        row['accuracy'] = accuracy\n",
    "        report_data.append(row)\n",
    "        index += 1\n",
    "    dataframe = pd.DataFrame.from_dict(report_data)\n",
    "    dataframe.to_csv( 'evaluations/'+'classification_report' + model_name +  '.csv', index = False)\n"
   ]
  },
  {
   "cell_type": "code",
   "execution_count": 15,
   "id": "e0ccf46e",
   "metadata": {},
   "outputs": [
    {
     "name": "stdout",
     "output_type": "stream",
     "text": [
      "NN: \n",
      "\n",
      "              precision    recall  f1-score   support\n",
      "\n",
      "           0       0.74      0.85      0.79        20\n",
      "           1       0.84      0.80      0.82        20\n",
      "           2       0.94      0.80      0.86        20\n",
      "           3       0.90      0.95      0.93        20\n",
      "\n",
      "    accuracy                           0.85        80\n",
      "   macro avg       0.86      0.85      0.85        80\n",
      "weighted avg       0.86      0.85      0.85        80\n",
      "\n",
      "-----------------------\n",
      "RF: \n",
      "\n",
      "              precision    recall  f1-score   support\n",
      "\n",
      "           0       0.85      0.85      0.85        20\n",
      "           1       0.90      0.95      0.93        20\n",
      "           2       0.90      0.90      0.90        20\n",
      "           3       1.00      0.95      0.97        20\n",
      "\n",
      "    accuracy                           0.91        80\n",
      "   macro avg       0.91      0.91      0.91        80\n",
      "weighted avg       0.91      0.91      0.91        80\n",
      "\n",
      "-----------------------\n",
      "CART: \n",
      "\n",
      "              precision    recall  f1-score   support\n",
      "\n",
      "           0       0.71      0.50      0.59        20\n",
      "           1       0.57      0.65      0.60        20\n",
      "           2       0.58      0.70      0.64        20\n",
      "           3       0.89      0.85      0.87        20\n",
      "\n",
      "    accuracy                           0.68        80\n",
      "   macro avg       0.69      0.67      0.68        80\n",
      "weighted avg       0.69      0.68      0.68        80\n",
      "\n",
      "-----------------------\n",
      "SVC: \n",
      "\n",
      "              precision    recall  f1-score   support\n",
      "\n",
      "           0       0.85      0.85      0.85        20\n",
      "           1       0.90      0.90      0.90        20\n",
      "           2       0.86      0.95      0.90        20\n",
      "           3       1.00      0.90      0.95        20\n",
      "\n",
      "    accuracy                           0.90        80\n",
      "   macro avg       0.90      0.90      0.90        80\n",
      "weighted avg       0.90      0.90      0.90        80\n",
      "\n",
      "-----------------------\n",
      "GNB: \n",
      "\n",
      "              precision    recall  f1-score   support\n",
      "\n",
      "           0       0.00      0.00      0.00        20\n",
      "           1       0.52      0.60      0.56        20\n",
      "           2       0.49      0.95      0.64        20\n",
      "           3       0.94      0.85      0.89        20\n",
      "\n",
      "    accuracy                           0.60        80\n",
      "   macro avg       0.49      0.60      0.52        80\n",
      "weighted avg       0.49      0.60      0.52        80\n",
      "\n",
      "-----------------------\n",
      "LR: \n",
      "\n",
      "              precision    recall  f1-score   support\n",
      "\n",
      "           0       0.76      0.95      0.84        20\n",
      "           1       0.89      0.80      0.84        20\n",
      "           2       0.94      0.80      0.86        20\n",
      "           3       0.90      0.90      0.90        20\n",
      "\n",
      "    accuracy                           0.86        80\n",
      "   macro avg       0.87      0.86      0.86        80\n",
      "weighted avg       0.87      0.86      0.86        80\n",
      "\n",
      "-----------------------\n"
     ]
    },
    {
     "name": "stderr",
     "output_type": "stream",
     "text": [
      "/home/sakka/anaconda3/envs/ts/lib/python3.6/site-packages/sklearn/metrics/_classification.py:1248: UndefinedMetricWarning: Precision and F-score are ill-defined and being set to 0.0 in labels with no predicted samples. Use `zero_division` parameter to control this behavior.\n",
      "  _warn_prf(average, modifier, msg_start, len(result))\n",
      "/home/sakka/anaconda3/envs/ts/lib/python3.6/site-packages/sklearn/metrics/_classification.py:1248: UndefinedMetricWarning: Precision and F-score are ill-defined and being set to 0.0 in labels with no predicted samples. Use `zero_division` parameter to control this behavior.\n",
      "  _warn_prf(average, modifier, msg_start, len(result))\n",
      "/home/sakka/anaconda3/envs/ts/lib/python3.6/site-packages/sklearn/metrics/_classification.py:1248: UndefinedMetricWarning: Precision and F-score are ill-defined and being set to 0.0 in labels with no predicted samples. Use `zero_division` parameter to control this behavior.\n",
      "  _warn_prf(average, modifier, msg_start, len(result))\n"
     ]
    }
   ],
   "source": [
    "for name, preds in pred:\n",
    "    print(name + \": \\n\")\n",
    "    report = metrics.classification_report(y_real, preds)\n",
    "    print(report)\n",
    "    classification_report_csv(report, name)\n",
    "    print(\"-----------------------\")"
   ]
  },
  {
   "cell_type": "code",
   "execution_count": null,
   "id": "e10cfd22",
   "metadata": {},
   "outputs": [],
   "source": []
  },
  {
   "cell_type": "code",
   "execution_count": null,
   "id": "8e865923",
   "metadata": {},
   "outputs": [],
   "source": []
  }
 ],
 "metadata": {
  "kernelspec": {
   "display_name": "Python 3",
   "language": "python",
   "name": "python3"
  },
  "language_info": {
   "codemirror_mode": {
    "name": "ipython",
    "version": 3
   },
   "file_extension": ".py",
   "mimetype": "text/x-python",
   "name": "python",
   "nbconvert_exporter": "python",
   "pygments_lexer": "ipython3",
   "version": "3.6.13"
  }
 },
 "nbformat": 4,
 "nbformat_minor": 5
}
