{
 "cells": [
  {
   "cell_type": "code",
   "execution_count": 6,
   "id": "19a52fc4",
   "metadata": {},
   "outputs": [],
   "source": [
    "import numpy as np\n",
    "import pandas as pd\n",
    "import sklearn.metrics as metrics"
   ]
  },
  {
   "cell_type": "code",
   "execution_count": 7,
   "id": "6589a488",
   "metadata": {},
   "outputs": [],
   "source": [
    "labels = [\"O\", \"I\"]"
   ]
  },
  {
   "cell_type": "code",
   "execution_count": 8,
   "id": "97bfc5db",
   "metadata": {},
   "outputs": [],
   "source": [
    "y_real = np.array([0, 1, 1, 1, 0, 1, 0, 1, 1, 0, 1, 1, 0, 1, 0, 0, 1, 0, 0, 1, 0, 1,\n",
    "       1, 1, 1, 1, 1, 0, 1, 0, 1, 0, 0, 0, 0, 0, 0, 0, 1, 0])"
   ]
  },
  {
   "cell_type": "code",
   "execution_count": 9,
   "id": "f2203281",
   "metadata": {},
   "outputs": [],
   "source": [
    "prediction_nn = np.array([0, 1, 1, 1, 0, 1, 0, 1, 1, 0, 1, 1, 0, 0, 0, 0, 1, 0, 0, 0, 0, 0, 1, 1, 1, 1, 1, 0, 1, 0, 1, 0, 0, 0, 0, 0, 0, 0, 0, 0,])"
   ]
  },
  {
   "cell_type": "code",
   "execution_count": 10,
   "id": "76cd4592",
   "metadata": {},
   "outputs": [],
   "source": [
    "prediction_rf = np.array([0, 1, 1, 1, 0, 1, 0, 1, 1, 0, 1, 1, 0, 1, 0, 0, 1, 0, 0, 1, 0, 1, 1, 1, 1, 1, 1, 0, 1, 0, 1, 0, 0, 0, 0, 0, 0, 0, 1, 0,])"
   ]
  },
  {
   "cell_type": "code",
   "execution_count": 11,
   "id": "613e25fe",
   "metadata": {},
   "outputs": [],
   "source": [
    "prediction_cart = np.array([0, 1, 1, 1, 0, 1, 0, 0, 1, 0, 1, 1, 0, 1, 0, 1, 1, 0, 0, 0, 0, 1, 1, 1, 1, 1, 1, 0, 0, 0, 1, 0, 0, 0, 0, 0, 0, 0, 1, 0,])"
   ]
  },
  {
   "cell_type": "code",
   "execution_count": 12,
   "id": "32b512fa",
   "metadata": {},
   "outputs": [],
   "source": [
    "prediction_svc = np.array([0, 0, 0, 0, 0, 0, 0, 0, 0, 0, 1, 1, 0, 0, 0, 0, 0, 0, 0, 0, 0, 0, 0, 1, 0, 0, 1, 0, 0, 0, 0, 0, 0, 0, 0, 0, 0, 0, 0, 0,])"
   ]
  },
  {
   "cell_type": "code",
   "execution_count": 13,
   "id": "ce856550",
   "metadata": {},
   "outputs": [],
   "source": [
    "prediction_gnb = np.array([0, 1, 1, 1, 0, 1, 0, 1, 1, 1, 1, 1, 1, 1, 1, 1, 1, 1, 0, 1, 0, 1, 1, 1, 1, 1, 1, 1, 1, 0, 1, 0, 1, 1, 0, 0, 0, 1, 1, 0,])"
   ]
  },
  {
   "cell_type": "code",
   "execution_count": 14,
   "id": "5f1a5fae",
   "metadata": {},
   "outputs": [],
   "source": [
    "prediction_lr = np.array([1, 0, 0, 0, 1, 0, 1, 0, 0, 1, 0, 0, 1, 1, 1, 1, 0, 1, 1, 0, 1, 1, 0, 0, 0, 0, 0, 1, 0, 1, 0, 1, 1, 1, 1, 1, 1, 1, 1, 1, ])"
   ]
  },
  {
   "cell_type": "code",
   "execution_count": 15,
   "id": "0232bd29",
   "metadata": {},
   "outputs": [],
   "source": [
    "pred = []\n",
    "uniques = np.unique(y_real)\n",
    "pred.append((\"NN\",prediction_nn))\n",
    "pred.append((\"RF\",prediction_rf))\n",
    "pred.append((\"CART\",prediction_cart))\n",
    "pred.append((\"SVC\",prediction_svc))\n",
    "pred.append((\"GNB\",prediction_gnb))\n",
    "pred.append((\"LR\",prediction_lr))"
   ]
  },
  {
   "cell_type": "code",
   "execution_count": 16,
   "id": "fdfcca41",
   "metadata": {},
   "outputs": [],
   "source": [
    "def classification_report_csv(report, model_name):\n",
    "    report_data = []\n",
    "    lines = report.split('\\n')\n",
    "    index = 0\n",
    "    row = lines[-4].split('    ')\n",
    "    accuracy = row[-3]\n",
    "    for line in lines[2:-5]:\n",
    "        row = {}\n",
    "        row_data = line.split('      ')\n",
    "        row['class'] = labels[index]\n",
    "        row['precision'] = float(row_data[2]) \n",
    "        row['recall'] = float(row_data[3]) \n",
    "        row['f1_score'] = float(row_data[4])\n",
    "        row['accuracy'] = accuracy\n",
    "        report_data.append(row)\n",
    "        index += 1\n",
    "    dataframe = pd.DataFrame.from_dict(report_data)\n",
    "    dataframe.to_csv( 'evaluations/'+'classification_report' + model_name +  '.csv', index = False)\n"
   ]
  },
  {
   "cell_type": "code",
   "execution_count": 17,
   "id": "e0ccf46e",
   "metadata": {},
   "outputs": [
    {
     "name": "stdout",
     "output_type": "stream",
     "text": [
      "NN: \n",
      "\n",
      "              precision    recall  f1-score   support\n",
      "\n",
      "           0       0.83      1.00      0.91        20\n",
      "           1       1.00      0.80      0.89        20\n",
      "\n",
      "    accuracy                           0.90        40\n",
      "   macro avg       0.92      0.90      0.90        40\n",
      "weighted avg       0.92      0.90      0.90        40\n",
      "\n",
      "-----------------------\n",
      "RF: \n",
      "\n",
      "              precision    recall  f1-score   support\n",
      "\n",
      "           0       1.00      1.00      1.00        20\n",
      "           1       1.00      1.00      1.00        20\n",
      "\n",
      "    accuracy                           1.00        40\n",
      "   macro avg       1.00      1.00      1.00        40\n",
      "weighted avg       1.00      1.00      1.00        40\n",
      "\n",
      "-----------------------\n",
      "CART: \n",
      "\n",
      "              precision    recall  f1-score   support\n",
      "\n",
      "           0       0.86      0.95      0.90        20\n",
      "           1       0.94      0.85      0.89        20\n",
      "\n",
      "    accuracy                           0.90        40\n",
      "   macro avg       0.90      0.90      0.90        40\n",
      "weighted avg       0.90      0.90      0.90        40\n",
      "\n",
      "-----------------------\n",
      "SVC: \n",
      "\n",
      "              precision    recall  f1-score   support\n",
      "\n",
      "           0       0.56      1.00      0.71        20\n",
      "           1       1.00      0.20      0.33        20\n",
      "\n",
      "    accuracy                           0.60        40\n",
      "   macro avg       0.78      0.60      0.52        40\n",
      "weighted avg       0.78      0.60      0.52        40\n",
      "\n",
      "-----------------------\n",
      "GNB: \n",
      "\n",
      "              precision    recall  f1-score   support\n",
      "\n",
      "           0       1.00      0.55      0.71        20\n",
      "           1       0.69      1.00      0.82        20\n",
      "\n",
      "    accuracy                           0.78        40\n",
      "   macro avg       0.84      0.78      0.76        40\n",
      "weighted avg       0.84      0.78      0.76        40\n",
      "\n",
      "-----------------------\n",
      "LR: \n",
      "\n",
      "              precision    recall  f1-score   support\n",
      "\n",
      "           0       0.00      0.00      0.00        20\n",
      "           1       0.13      0.15      0.14        20\n",
      "\n",
      "    accuracy                           0.07        40\n",
      "   macro avg       0.07      0.07      0.07        40\n",
      "weighted avg       0.07      0.07      0.07        40\n",
      "\n",
      "-----------------------\n"
     ]
    }
   ],
   "source": [
    "for name, preds in pred:\n",
    "    print(name + \": \\n\")\n",
    "    report = metrics.classification_report(y_real, preds)\n",
    "    print(report)\n",
    "    classification_report_csv(report, name)\n",
    "    print(\"-----------------------\")"
   ]
  },
  {
   "cell_type": "code",
   "execution_count": null,
   "id": "20f91f8f",
   "metadata": {},
   "outputs": [],
   "source": []
  }
 ],
 "metadata": {
  "kernelspec": {
   "display_name": "Python 3",
   "language": "python",
   "name": "python3"
  },
  "language_info": {
   "codemirror_mode": {
    "name": "ipython",
    "version": 3
   },
   "file_extension": ".py",
   "mimetype": "text/x-python",
   "name": "python",
   "nbconvert_exporter": "python",
   "pygments_lexer": "ipython3",
   "version": "3.6.13"
  }
 },
 "nbformat": 4,
 "nbformat_minor": 5
}
