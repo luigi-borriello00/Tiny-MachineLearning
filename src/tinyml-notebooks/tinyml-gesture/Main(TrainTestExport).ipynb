{
 "cells": [
  {
   "cell_type": "markdown",
   "metadata": {},
   "source": [
    "# Models Comparison for TinyML"
   ]
  },
  {
   "cell_type": "code",
   "execution_count": 117,
   "metadata": {},
   "outputs": [],
   "source": [
    "# Load libraries\n",
    "import numpy as np\n",
    "from numpy import arange\n",
    "import pickle\n",
    "#\n",
    "import matplotlib.pyplot as plt\n",
    "\n",
    "#\n",
    "import pandas as pd\n",
    "from pandas import read_csv\n",
    "\n",
    "from sklearn.metrics import confusion_matrix,  classification_report, f1_score\n",
    "from sklearn.model_selection import train_test_split, KFold,StratifiedKFold, cross_val_score, GridSearchCV\n",
    "from sklearn.pipeline import Pipeline\n",
    "\n",
    "from keras.models import Sequential, Model \n",
    "from keras.layers import Dense, Input, concatenate, Activation, Dropout\n",
    "from keras.optimizers import Adam\n",
    "from tensorflow.keras import layers\n",
    "from tensorflow.keras.wrappers.scikit_learn import KerasClassifier\n",
    "\n",
    "import tensorflow\n",
    "from sklearn.ensemble import RandomForestClassifier\n",
    "from sklearn.tree import DecisionTreeClassifier\n",
    "from sklearn.linear_model import LogisticRegression\n",
    "from sklearn.naive_bayes import GaussianNB\n",
    "from sklearn.svm import SVC\n",
    "from micromlgen import port\n",
    "import tinymlgen as tiny\n",
    "\n",
    "import warnings\n",
    "import seaborn as sbs\n",
    "import sys\n",
    "\n",
    "warnings.filterwarnings('ignore')"
   ]
  },
  {
   "cell_type": "code",
   "execution_count": 118,
   "metadata": {},
   "outputs": [],
   "source": [
    "RANDOM_SEED = 42\n",
    "np.random.seed(RANDOM_SEED)\n",
    "tensorflow.random.set_seed(RANDOM_SEED)\n",
    "np.set_printoptions(threshold=sys.maxsize)\n",
    "tasks = [\"2Labels\", \"3Labels\", \"4Labels\", \"5Labels\"]\n",
    "# Change this to change subtask\n",
    "taskIndex = 2"
   ]
  },
  {
   "cell_type": "code",
   "execution_count": 119,
   "metadata": {},
   "outputs": [],
   "source": [
    "with open('data/X.pkl', 'rb') as f:\n",
    "    X = pickle.load(f)\n",
    "\n",
    "with open('data/y.pkl', 'rb') as f:\n",
    "    y = pickle.load(f)"
   ]
  },
  {
   "cell_type": "code",
   "execution_count": 120,
   "metadata": {},
   "outputs": [],
   "source": [
    "n_labels = 2 + taskIndex\n",
    "samples = 30\n",
    "X = X[:n_labels*samples]\n",
    "y = y[:n_labels*samples]\n",
    "labels = np.unique(y)"
   ]
  },
  {
   "cell_type": "code",
   "execution_count": 121,
   "metadata": {},
   "outputs": [],
   "source": [
    "classes = np.unique(y).tolist()\n",
    "for i in range(len(classes)):\n",
    "    y = np.where(y==classes[i], i, y)"
   ]
  },
  {
   "cell_type": "code",
   "execution_count": 122,
   "metadata": {},
   "outputs": [
    {
     "name": "stdout",
     "output_type": "stream",
     "text": [
      "[2 2 2 2 2 2 2 2 2 2 2 2 2 2 2 2 2 2 2 2 2 2 2 2 2 2 2 2 2 2 1 1 1 1 1 1 1\n",
      " 1 1 1 1 1 1 1 1 1 1 1 1 1 1 1 1 1 1 1 1 1 1 1 3 3 3 3 3 3 3 3 3 3 3 3 3 3\n",
      " 3 3 3 3 3 3 3 3 3 3 3 3 3 3 3 3 0 0 0 0 0 0 0 0 0 0 0 0 0 0 0 0 0 0 0 0 0\n",
      " 0 0 0 0 0 0 0 0 0]\n"
     ]
    }
   ],
   "source": [
    "y = np.array([int(el) for el in y])\n",
    "print(y)"
   ]
  },
  {
   "cell_type": "code",
   "execution_count": 123,
   "metadata": {},
   "outputs": [
    {
     "name": "stdout",
     "output_type": "stream",
     "text": [
      "(24, 42)\n",
      "(24,)\n"
     ]
    }
   ],
   "source": [
    "X_train, X_test, y_train, y_test = train_test_split(X, y, test_size=0.2, stratify=y, random_state=RANDOM_SEED)\n",
    "print(X_test.shape)\n",
    "print(y_test.shape)\n"
   ]
  },
  {
   "cell_type": "code",
   "execution_count": 124,
   "metadata": {},
   "outputs": [
    {
     "data": {
      "text/plain": [
       "array([2, 2, 2, 3, 1, 0, 1, 0, 1, 2, 3, 3, 0, 1, 3, 2, 2, 1, 0, 0, 1, 3,\n",
       "       0, 3])"
      ]
     },
     "execution_count": 124,
     "metadata": {},
     "output_type": "execute_result"
    }
   ],
   "source": [
    "y_test"
   ]
  },
  {
   "cell_type": "markdown",
   "metadata": {},
   "source": [
    "## Model Spotting"
   ]
  },
  {
   "cell_type": "code",
   "execution_count": 125,
   "metadata": {},
   "outputs": [],
   "source": [
    "# Test options and evaluation metric\n",
    "num_folds = 5\n",
    "seed = 42\n",
    "scoring = 'f1_macro'"
   ]
  },
  {
   "cell_type": "code",
   "execution_count": 126,
   "metadata": {},
   "outputs": [],
   "source": [
    "# Spot-Check Algorithms\n",
    "models = []\n",
    "\n",
    "#models.append(('XGB', XGBClassifier(random_state=seed)))\n",
    "models.append(('GNB', GaussianNB(var_smoothing=2e-9)))\n",
    "models.append(('LR', LogisticRegression(random_state=seed)))\n",
    "models.append(('CART' , DecisionTreeClassifier(random_state=seed)))\n",
    "models.append(('SVC' , SVC(gamma=1, random_state=seed)))\n",
    "if n_labels == 5:\n",
    "    models.append(('RF', RandomForestClassifier(random_state=RANDOM_SEED, n_estimators=250, \n",
    "                                                           max_features=9, criterion='entropy', max_depth=None,\n",
    "                                                           min_samples_split=4, min_samples_leaf=1\n",
    "                                                          )))\n",
    "\n",
    "else:\n",
    "    models.append(('RF', RandomForestClassifier(random_state=RANDOM_SEED, n_estimators=100, \n",
    "                                                           max_features=5, criterion='gini', max_depth=None,\n",
    "                                                           min_samples_split=4, min_samples_leaf=1\n",
    "                                                          )))\n"
   ]
  },
  {
   "cell_type": "code",
   "execution_count": 127,
   "metadata": {
    "scrolled": true
   },
   "outputs": [
    {
     "name": "stdout",
     "output_type": "stream",
     "text": [
      "GNB - 0,40 0,08\n",
      "LR - 0,61 0,04\n",
      "CART - 0,66 0,10\n",
      "SVC - 0,68 0,05\n",
      "RF - 0,73 0,07\n"
     ]
    }
   ],
   "source": [
    "# Cross Validation\n",
    "results = []\n",
    "names = []\n",
    "for name, model in models:\n",
    "    # Dividere dati in n = num_folds\n",
    "    kf = StratifiedKFold(n_splits=num_folds, random_state=seed, shuffle=True)\n",
    "    cv_results = np.array([])\n",
    "    for train_idx, test_idx, in kf.split(X_train, y_train):\n",
    "        X_cross_train, y_cross_train = X_train[train_idx], y_train[train_idx]\n",
    "        X_cross_test, y_cross_test = X_train[test_idx], y_train[test_idx]\n",
    "        model.fit(X_cross_train, y_cross_train)  \n",
    "        y_pred = model.predict(X_cross_test)\n",
    "        f1s = f1_score(y_cross_test, y_pred, average=\"weighted\")\n",
    "        cv_results = np.append(cv_results, [f1s])\n",
    "    results.append(cv_results)\n",
    "    names.append(name)\n",
    "    #msg = \"%s - %f - %f\" % (name, cv_results.mean(), cv_results.std())\n",
    "    msg = \"{} - {:.2f} {:.2f}\".format(name, cv_results.mean(), cv_results.std()).replace('.', ',')\n",
    "    print(msg)"
   ]
  },
  {
   "cell_type": "code",
   "execution_count": 128,
   "metadata": {},
   "outputs": [
    {
     "data": {
      "image/png": "[encoded data removed]",
      "text/plain": [
       "<Figure size 720x360 with 1 Axes>"
      ]
     },
     "metadata": {
      "needs_background": "light"
     },
     "output_type": "display_data"
    }
   ],
   "source": [
    "# Compare Algorithms\n",
    "fig = plt.figure(figsize=(10,5))\n",
    "fig.suptitle('Algorithms Comparison')\n",
    "ax = fig.add_subplot(111)\n",
    "plt.boxplot(results)\n",
    "ax.set_xticklabels(names)\n",
    "plt.show()"
   ]
  },
  {
   "cell_type": "markdown",
   "metadata": {},
   "source": [
    "Valutazione dei migliori algoritmi su test"
   ]
  },
  {
   "cell_type": "markdown",
   "metadata": {},
   "source": [
    "## Valutazione modelli sul Test Set"
   ]
  },
  {
   "cell_type": "code",
   "execution_count": 129,
   "metadata": {},
   "outputs": [
    {
     "name": "stdout",
     "output_type": "stream",
     "text": [
      "Model GNB: \n",
      "              precision    recall  f1-score   support\n",
      "\n",
      "           0       0.80      0.67      0.73         6\n",
      "           1       0.50      0.17      0.25         6\n",
      "           2       0.67      0.33      0.44         6\n",
      "           3       0.29      0.67      0.40         6\n",
      "\n",
      "    accuracy                           0.46        24\n",
      "   macro avg       0.56      0.46      0.46        24\n",
      "weighted avg       0.56      0.46      0.46        24\n",
      "\n",
      "-------------------------------------------------------------\n",
      "Model LR: \n",
      "              precision    recall  f1-score   support\n",
      "\n",
      "           0       0.56      0.83      0.67         6\n",
      "           1       0.57      0.67      0.62         6\n",
      "           2       0.33      0.17      0.22         6\n",
      "           3       0.80      0.67      0.73         6\n",
      "\n",
      "    accuracy                           0.58        24\n",
      "   macro avg       0.57      0.58      0.56        24\n",
      "weighted avg       0.57      0.58      0.56        24\n",
      "\n",
      "-------------------------------------------------------------\n",
      "Model CART: \n",
      "              precision    recall  f1-score   support\n",
      "\n",
      "           0       0.60      0.50      0.55         6\n",
      "           1       0.67      0.67      0.67         6\n",
      "           2       0.40      0.33      0.36         6\n",
      "           3       0.50      0.67      0.57         6\n",
      "\n",
      "    accuracy                           0.54        24\n",
      "   macro avg       0.54      0.54      0.54        24\n",
      "weighted avg       0.54      0.54      0.54        24\n",
      "\n",
      "-------------------------------------------------------------\n",
      "Model SVC: \n",
      "              precision    recall  f1-score   support\n",
      "\n",
      "           0       0.50      0.83      0.62         6\n",
      "           1       0.80      0.67      0.73         6\n",
      "           2       0.75      0.50      0.60         6\n",
      "           3       0.80      0.67      0.73         6\n",
      "\n",
      "    accuracy                           0.67        24\n",
      "   macro avg       0.71      0.67      0.67        24\n",
      "weighted avg       0.71      0.67      0.67        24\n",
      "\n",
      "-------------------------------------------------------------\n",
      "Model RF: \n",
      "              precision    recall  f1-score   support\n",
      "\n",
      "           0       0.62      0.83      0.71         6\n",
      "           1       0.83      0.83      0.83         6\n",
      "           2       1.00      0.67      0.80         6\n",
      "           3       0.83      0.83      0.83         6\n",
      "\n",
      "    accuracy                           0.79        24\n",
      "   macro avg       0.82      0.79      0.80        24\n",
      "weighted avg       0.82      0.79      0.80        24\n",
      "\n",
      "-------------------------------------------------------------\n"
     ]
    }
   ],
   "source": [
    "def classification_report_csv(report, model_name):\n",
    "    report_data = []\n",
    "    lines = report.split('\\n')\n",
    "    index = 0\n",
    "    row = lines[-4].split('    ')\n",
    "    accuracy = row[-2] if taskIndex > 1 else row[-3]\n",
    "    for line in lines[2:-5]:\n",
    "        row = {}\n",
    "        row_data = line.split('      ')\n",
    "        row['class'] = labels[index]\n",
    "        row['precision'] = float(row_data[2]) \n",
    "        row['recall'] = float(row_data[3]) \n",
    "        row['f1_score'] = float(row_data[4])\n",
    "        row['accuracy'] = accuracy\n",
    "        report_data.append(row)\n",
    "        index += 1\n",
    "    dataframe = pd.DataFrame.from_dict(report_data)\n",
    "    dataframe.to_csv(tasks[taskIndex] + \"/classificationReports/\" +'report' + model_name +  '.csv', index = False)\n",
    "    \n",
    "for name, model in models:\n",
    "    model.fit(X_train,  y_train)\n",
    "    pred_train = model.predict(X_train)\n",
    "    pred_test = model.predict(X_test)\n",
    "    print(f\"Model {name}: \")\n",
    "    report = classification_report(y_test, pred_test)\n",
    "    print(report)\n",
    "    #classification_report_csv(report, name)\n",
    "    print(\"-------------------------------------------------------------\")"
   ]
  },
  {
   "cell_type": "markdown",
   "metadata": {},
   "source": [
    "# Neural Network"
   ]
  },
  {
   "cell_type": "code",
   "execution_count": 143,
   "metadata": {
    "scrolled": true
   },
   "outputs": [],
   "source": [
    "#Hyperparameters of NN\n",
    "EPOCHS = 500 \n",
    "BATCH_SIZE = 7\n",
    "learn_rate = 0.001\n",
    "nodes = 256\n",
    "def getNetwork():\n",
    "    model = Sequential(name=\"Sequential-NN\")\n",
    "    model.add(layers.Dense(X.shape[1], activation='relu', input_shape=(X.shape[1],)))\n",
    "    model.add(layers.Dropout(0.25))    \n",
    "    model.add(layers.Dense(nodes, activation='relu'))\n",
    "    model.add(layers.Dropout(0.25))\n",
    "    model.add(layers.Dense(np.unique(y).size, activation='softmax'))\n",
    "    opt = Adam(learning_rate=learn_rate)\n",
    "    # SGB\n",
    "    model.compile(optimizer=opt, loss='sparse_categorical_crossentropy', metrics=['accuracy'])\n",
    "    model.summary()\n",
    "    return model"
   ]
  },
  {
   "cell_type": "markdown",
   "metadata": {},
   "source": [
    "## Cross Validation NN"
   ]
  },
  {
   "cell_type": "code",
   "execution_count": 137,
   "metadata": {},
   "outputs": [
    {
     "ename": "NameError",
     "evalue": "name 'scaler' is not defined",
     "output_type": "error",
     "traceback": [
      "\u001b[0;31m---------------------------------------------------------------------------\u001b[0m",
      "\u001b[0;31mNameError\u001b[0m                                 Traceback (most recent call last)",
      "\u001b[0;32m<ipython-input-137-09a27bf2f0d9>\u001b[0m in \u001b[0;36m<module>\u001b[0;34m\u001b[0m\n\u001b[1;32m      5\u001b[0m \u001b[0;32mfor\u001b[0m \u001b[0mtrain_idx\u001b[0m\u001b[0;34m,\u001b[0m \u001b[0mtest_idx\u001b[0m\u001b[0;34m,\u001b[0m \u001b[0;32min\u001b[0m \u001b[0mkf\u001b[0m\u001b[0;34m.\u001b[0m\u001b[0msplit\u001b[0m\u001b[0;34m(\u001b[0m\u001b[0mX_train\u001b[0m\u001b[0;34m,\u001b[0m \u001b[0my_train\u001b[0m\u001b[0;34m)\u001b[0m\u001b[0;34m:\u001b[0m\u001b[0;34m\u001b[0m\u001b[0;34m\u001b[0m\u001b[0m\n\u001b[1;32m      6\u001b[0m     \u001b[0mX_cross_train\u001b[0m\u001b[0;34m,\u001b[0m \u001b[0my_cross_train\u001b[0m \u001b[0;34m=\u001b[0m \u001b[0mX_train\u001b[0m\u001b[0;34m[\u001b[0m\u001b[0mtrain_idx\u001b[0m\u001b[0;34m]\u001b[0m\u001b[0;34m,\u001b[0m \u001b[0my_train\u001b[0m\u001b[0;34m[\u001b[0m\u001b[0mtrain_idx\u001b[0m\u001b[0;34m]\u001b[0m\u001b[0;34m\u001b[0m\u001b[0;34m\u001b[0m\u001b[0m\n\u001b[0;32m----> 7\u001b[0;31m     \u001b[0mX_cross_train\u001b[0m \u001b[0;34m=\u001b[0m \u001b[0mscaler\u001b[0m\u001b[0;34m.\u001b[0m\u001b[0mfit_transform\u001b[0m\u001b[0;34m(\u001b[0m\u001b[0mX_cross_train\u001b[0m\u001b[0;34m)\u001b[0m\u001b[0;34m\u001b[0m\u001b[0;34m\u001b[0m\u001b[0m\n\u001b[0m\u001b[1;32m      8\u001b[0m     \u001b[0mX_cross_test\u001b[0m\u001b[0;34m,\u001b[0m \u001b[0my_cross_test\u001b[0m \u001b[0;34m=\u001b[0m \u001b[0mX_train\u001b[0m\u001b[0;34m[\u001b[0m\u001b[0mtest_idx\u001b[0m\u001b[0;34m]\u001b[0m\u001b[0;34m,\u001b[0m \u001b[0my_train\u001b[0m\u001b[0;34m[\u001b[0m\u001b[0mtest_idx\u001b[0m\u001b[0;34m]\u001b[0m\u001b[0;34m\u001b[0m\u001b[0;34m\u001b[0m\u001b[0m\n\u001b[1;32m      9\u001b[0m     \u001b[0mX_cross_test\u001b[0m \u001b[0;34m=\u001b[0m \u001b[0mscaler\u001b[0m\u001b[0;34m.\u001b[0m\u001b[0mtransform\u001b[0m\u001b[0;34m(\u001b[0m\u001b[0mX_cross_test\u001b[0m\u001b[0;34m)\u001b[0m\u001b[0;34m\u001b[0m\u001b[0;34m\u001b[0m\u001b[0m\n",
      "\u001b[0;31mNameError\u001b[0m: name 'scaler' is not defined"
     ]
    }
   ],
   "source": [
    "num_folds = 5\n",
    "\n",
    "kf = StratifiedKFold(n_splits=num_folds, random_state=seed, shuffle=True)\n",
    "cv_results = np.array([])\n",
    "for train_idx, test_idx, in kf.split(X_train, y_train):\n",
    "    X_cross_train, y_cross_train = X_train[train_idx], y_train[train_idx]\n",
    "    X_cross_train = scaler.fit_transform(X_cross_train)\n",
    "    X_cross_test, y_cross_test = X_train[test_idx], y_train[test_idx]\n",
    "    X_cross_test = scaler.transform(X_cross_test)\n",
    "    model = getNetwork()\n",
    "    model.fit(X_cross_train, y_cross_train, epochs=EPOCHS, batch_size=BATCH_SIZE)  \n",
    "    y_pred = model.predict(X_cross_test)\n",
    "    predictions_categorical = np.argmax(y_pred, axis=1)\n",
    "    f1s = f1_score(y_cross_test, predictions_categorical, average=\"weighted\")\n",
    "    cv_results = np.append(cv_results, [f1s])\n",
    "\n",
    "print(f'Average score of Cross Validation: {cv_results.mean()}')"
   ]
  },
  {
   "cell_type": "markdown",
   "metadata": {},
   "source": [
    "## Train and Test"
   ]
  },
  {
   "cell_type": "code",
   "execution_count": null,
   "metadata": {},
   "outputs": [
    {
     "name": "stdout",
     "output_type": "stream",
     "text": [
      "Model: \"Sequential-NN\"\n",
      "_________________________________________________________________\n",
      "Layer (type)                 Output Shape              Param #   \n",
      "=================================================================\n",
      "dense_15 (Dense)             (None, 42)                1806      \n",
      "_________________________________________________________________\n",
      "dropout_10 (Dropout)         (None, 42)                0         \n",
      "_________________________________________________________________\n",
      "dense_16 (Dense)             (None, 256)               11008     \n",
      "_________________________________________________________________\n",
      "dropout_11 (Dropout)         (None, 256)               0         \n",
      "_________________________________________________________________\n",
      "dense_17 (Dense)             (None, 4)                 1028      \n",
      "=================================================================\n",
      "Total params: 13,842\n",
      "Trainable params: 13,842\n",
      "Non-trainable params: 0\n",
      "_________________________________________________________________\n",
      "Epoch 1/500\n",
      "11/11 [==============================] - 0s 6ms/step - loss: 1.3802 - accuracy: 0.3472 - val_loss: 1.3988 - val_accuracy: 0.1667\n",
      "Epoch 2/500\n",
      "11/11 [==============================] - 0s 1ms/step - loss: 1.3431 - accuracy: 0.4444 - val_loss: 1.4093 - val_accuracy: 0.2083\n",
      "Epoch 3/500\n",
      "11/11 [==============================] - 0s 1ms/step - loss: 1.3083 - accuracy: 0.5278 - val_loss: 1.4137 - val_accuracy: 0.2917\n",
      "Epoch 4/500\n",
      "11/11 [==============================] - 0s 1ms/step - loss: 1.2787 - accuracy: 0.5139 - val_loss: 1.4140 - val_accuracy: 0.3333\n",
      "Epoch 5/500\n",
      "11/11 [==============================] - 0s 1ms/step - loss: 1.2306 - accuracy: 0.6389 - val_loss: 1.4206 - val_accuracy: 0.3750\n",
      "Epoch 6/500\n",
      "11/11 [==============================] - 0s 1ms/step - loss: 1.1785 - accuracy: 0.6389 - val_loss: 1.4210 - val_accuracy: 0.3750\n",
      "Epoch 7/500\n",
      "11/11 [==============================] - 0s 1ms/step - loss: 1.1081 - accuracy: 0.6944 - val_loss: 1.3943 - val_accuracy: 0.4167\n",
      "Epoch 8/500\n",
      "11/11 [==============================] - 0s 1ms/step - loss: 1.0535 - accuracy: 0.7639 - val_loss: 1.4122 - val_accuracy: 0.4167\n",
      "Epoch 9/500\n",
      "11/11 [==============================] - 0s 1ms/step - loss: 0.9666 - accuracy: 0.6806 - val_loss: 1.4137 - val_accuracy: 0.4167\n",
      "Epoch 10/500\n",
      "11/11 [==============================] - 0s 1ms/step - loss: 0.8692 - accuracy: 0.7778 - val_loss: 1.4166 - val_accuracy: 0.4167\n",
      "Epoch 11/500\n",
      "11/11 [==============================] - 0s 1ms/step - loss: 0.8363 - accuracy: 0.7083 - val_loss: 1.4455 - val_accuracy: 0.4583\n",
      "Epoch 12/500\n",
      "11/11 [==============================] - 0s 1ms/step - loss: 0.7868 - accuracy: 0.8056 - val_loss: 1.4941 - val_accuracy: 0.4583\n",
      "Epoch 13/500\n",
      "11/11 [==============================] - 0s 1ms/step - loss: 0.7114 - accuracy: 0.7778 - val_loss: 1.5213 - val_accuracy: 0.4583\n",
      "Epoch 14/500\n",
      "11/11 [==============================] - 0s 1ms/step - loss: 0.7000 - accuracy: 0.7222 - val_loss: 1.4845 - val_accuracy: 0.5000\n",
      "Epoch 15/500\n",
      "11/11 [==============================] - 0s 1ms/step - loss: 0.6722 - accuracy: 0.7639 - val_loss: 1.5484 - val_accuracy: 0.4583\n",
      "Epoch 16/500\n",
      "11/11 [==============================] - 0s 1ms/step - loss: 0.5704 - accuracy: 0.8056 - val_loss: 1.5987 - val_accuracy: 0.4583\n",
      "Epoch 17/500\n",
      "11/11 [==============================] - 0s 1ms/step - loss: 0.5639 - accuracy: 0.8194 - val_loss: 1.7053 - val_accuracy: 0.4583\n",
      "Epoch 18/500\n",
      "11/11 [==============================] - 0s 1ms/step - loss: 0.5255 - accuracy: 0.8056 - val_loss: 1.6876 - val_accuracy: 0.4583\n",
      "Epoch 19/500\n",
      "11/11 [==============================] - 0s 1ms/step - loss: 0.4782 - accuracy: 0.8472 - val_loss: 1.7049 - val_accuracy: 0.4583\n",
      "Epoch 20/500\n",
      "11/11 [==============================] - 0s 1ms/step - loss: 0.4923 - accuracy: 0.8194 - val_loss: 1.8336 - val_accuracy: 0.4583\n",
      "Epoch 21/500\n",
      "11/11 [==============================] - 0s 1ms/step - loss: 0.4075 - accuracy: 0.8750 - val_loss: 1.9009 - val_accuracy: 0.4583\n",
      "Epoch 22/500\n",
      "11/11 [==============================] - 0s 1ms/step - loss: 0.4235 - accuracy: 0.8889 - val_loss: 1.9120 - val_accuracy: 0.5000\n",
      "Epoch 23/500\n",
      "11/11 [==============================] - 0s 1ms/step - loss: 0.4007 - accuracy: 0.8611 - val_loss: 1.9184 - val_accuracy: 0.4583\n",
      "Epoch 24/500\n",
      "11/11 [==============================] - 0s 1ms/step - loss: 0.3645 - accuracy: 0.8750 - val_loss: 1.9426 - val_accuracy: 0.5000\n",
      "Epoch 25/500\n",
      "11/11 [==============================] - 0s 1ms/step - loss: 0.4200 - accuracy: 0.8889 - val_loss: 2.0782 - val_accuracy: 0.4583\n",
      "Epoch 26/500\n",
      "11/11 [==============================] - 0s 1ms/step - loss: 0.3789 - accuracy: 0.8611 - val_loss: 2.1921 - val_accuracy: 0.4583\n",
      "Epoch 27/500\n",
      "11/11 [==============================] - 0s 1ms/step - loss: 0.4012 - accuracy: 0.8611 - val_loss: 2.2516 - val_accuracy: 0.4583\n",
      "Epoch 28/500\n",
      "11/11 [==============================] - 0s 1ms/step - loss: 0.3129 - accuracy: 0.9167 - val_loss: 2.2391 - val_accuracy: 0.5000\n",
      "Epoch 29/500\n",
      "11/11 [==============================] - 0s 1ms/step - loss: 0.3229 - accuracy: 0.8750 - val_loss: 2.3168 - val_accuracy: 0.5000\n",
      "Epoch 30/500\n",
      "11/11 [==============================] - 0s 1ms/step - loss: 0.3197 - accuracy: 0.9167 - val_loss: 2.2969 - val_accuracy: 0.4583\n",
      "Epoch 31/500\n",
      "11/11 [==============================] - 0s 1ms/step - loss: 0.2728 - accuracy: 0.9167 - val_loss: 2.2733 - val_accuracy: 0.5000\n",
      "Epoch 32/500\n",
      "11/11 [==============================] - 0s 1ms/step - loss: 0.2594 - accuracy: 0.9583 - val_loss: 2.4222 - val_accuracy: 0.5000\n",
      "Epoch 33/500\n",
      "11/11 [==============================] - 0s 1ms/step - loss: 0.2473 - accuracy: 0.9306 - val_loss: 2.4804 - val_accuracy: 0.5000\n",
      "Epoch 34/500\n",
      "11/11 [==============================] - 0s 1ms/step - loss: 0.2305 - accuracy: 0.9444 - val_loss: 2.4273 - val_accuracy: 0.5000\n",
      "Epoch 35/500\n",
      "11/11 [==============================] - 0s 1ms/step - loss: 0.2371 - accuracy: 0.9167 - val_loss: 2.4970 - val_accuracy: 0.5000\n",
      "Epoch 36/500\n",
      "11/11 [==============================] - 0s 1ms/step - loss: 0.2566 - accuracy: 0.9167 - val_loss: 2.4391 - val_accuracy: 0.5000\n",
      "Epoch 37/500\n",
      "11/11 [==============================] - 0s 1ms/step - loss: 0.2109 - accuracy: 0.9722 - val_loss: 2.5369 - val_accuracy: 0.5000\n",
      "Epoch 38/500\n",
      "11/11 [==============================] - 0s 1ms/step - loss: 0.2266 - accuracy: 0.9028 - val_loss: 2.6190 - val_accuracy: 0.5000\n",
      "Epoch 39/500\n",
      "11/11 [==============================] - 0s 1ms/step - loss: 0.2339 - accuracy: 0.9167 - val_loss: 2.6948 - val_accuracy: 0.4583\n",
      "Epoch 40/500\n",
      "11/11 [==============================] - 0s 1ms/step - loss: 0.2075 - accuracy: 0.9583 - val_loss: 2.6371 - val_accuracy: 0.5417\n",
      "Epoch 41/500\n",
      "11/11 [==============================] - 0s 1ms/step - loss: 0.1815 - accuracy: 0.9583 - val_loss: 2.6691 - val_accuracy: 0.5417\n",
      "Epoch 42/500\n",
      "11/11 [==============================] - 0s 1ms/step - loss: 0.1671 - accuracy: 0.9583 - val_loss: 2.6820 - val_accuracy: 0.5417\n",
      "Epoch 43/500\n",
      "11/11 [==============================] - 0s 1ms/step - loss: 0.1527 - accuracy: 0.9722 - val_loss: 2.7189 - val_accuracy: 0.5417\n",
      "Epoch 44/500\n",
      "11/11 [==============================] - 0s 1ms/step - loss: 0.1664 - accuracy: 0.9722 - val_loss: 2.8296 - val_accuracy: 0.5417\n",
      "Epoch 45/500\n",
      "11/11 [==============================] - 0s 1ms/step - loss: 0.1884 - accuracy: 0.9444 - val_loss: 2.8973 - val_accuracy: 0.5417\n",
      "Epoch 46/500\n",
      "11/11 [==============================] - 0s 1ms/step - loss: 0.1309 - accuracy: 1.0000 - val_loss: 3.0435 - val_accuracy: 0.5000\n",
      "Epoch 47/500\n",
      "11/11 [==============================] - 0s 1ms/step - loss: 0.1663 - accuracy: 0.9444 - val_loss: 3.0605 - val_accuracy: 0.5000\n",
      "Epoch 48/500\n",
      "11/11 [==============================] - 0s 1ms/step - loss: 0.1745 - accuracy: 0.9583 - val_loss: 2.9036 - val_accuracy: 0.5417\n",
      "Epoch 49/500\n",
      "11/11 [==============================] - 0s 1ms/step - loss: 0.1360 - accuracy: 0.9861 - val_loss: 2.8616 - val_accuracy: 0.5417\n",
      "Epoch 50/500\n",
      "11/11 [==============================] - 0s 1ms/step - loss: 0.1388 - accuracy: 0.9722 - val_loss: 2.9525 - val_accuracy: 0.5417\n",
      "Epoch 51/500\n"
     ]
    },
    {
     "name": "stdout",
     "output_type": "stream",
     "text": [
      "11/11 [==============================] - 0s 1ms/step - loss: 0.1167 - accuracy: 0.9722 - val_loss: 3.0877 - val_accuracy: 0.5417\n",
      "Epoch 52/500\n",
      "11/11 [==============================] - 0s 1ms/step - loss: 0.1085 - accuracy: 1.0000 - val_loss: 3.2245 - val_accuracy: 0.5417\n",
      "Epoch 53/500\n",
      "11/11 [==============================] - 0s 1ms/step - loss: 0.1645 - accuracy: 0.9306 - val_loss: 3.2332 - val_accuracy: 0.5417\n",
      "Epoch 54/500\n",
      "11/11 [==============================] - 0s 1ms/step - loss: 0.1020 - accuracy: 0.9861 - val_loss: 3.1926 - val_accuracy: 0.5417\n",
      "Epoch 55/500\n",
      "11/11 [==============================] - 0s 1ms/step - loss: 0.1152 - accuracy: 0.9583 - val_loss: 3.1904 - val_accuracy: 0.5417\n",
      "Epoch 56/500\n",
      "11/11 [==============================] - 0s 1ms/step - loss: 0.1009 - accuracy: 1.0000 - val_loss: 3.1269 - val_accuracy: 0.5417\n",
      "Epoch 57/500\n",
      "11/11 [==============================] - 0s 1ms/step - loss: 0.1989 - accuracy: 0.8889 - val_loss: 3.3993 - val_accuracy: 0.5417\n",
      "Epoch 58/500\n",
      "11/11 [==============================] - 0s 1ms/step - loss: 0.0967 - accuracy: 0.9861 - val_loss: 3.3964 - val_accuracy: 0.5000\n",
      "Epoch 59/500\n",
      "11/11 [==============================] - 0s 1ms/step - loss: 0.1010 - accuracy: 0.9861 - val_loss: 3.3767 - val_accuracy: 0.5000\n",
      "Epoch 60/500\n",
      "11/11 [==============================] - 0s 1ms/step - loss: 0.0961 - accuracy: 0.9722 - val_loss: 3.3021 - val_accuracy: 0.5000\n",
      "Epoch 61/500\n",
      "11/11 [==============================] - 0s 1ms/step - loss: 0.1454 - accuracy: 0.9583 - val_loss: 3.4269 - val_accuracy: 0.5417\n",
      "Epoch 62/500\n",
      "11/11 [==============================] - 0s 1ms/step - loss: 0.0785 - accuracy: 0.9861 - val_loss: 3.3275 - val_accuracy: 0.5417\n",
      "Epoch 63/500\n",
      "11/11 [==============================] - 0s 1ms/step - loss: 0.0619 - accuracy: 1.0000 - val_loss: 3.3411 - val_accuracy: 0.5417\n",
      "Epoch 64/500\n",
      "11/11 [==============================] - 0s 1ms/step - loss: 0.0723 - accuracy: 0.9861 - val_loss: 3.3853 - val_accuracy: 0.5417\n",
      "Epoch 65/500\n",
      "11/11 [==============================] - 0s 1ms/step - loss: 0.0790 - accuracy: 1.0000 - val_loss: 3.4982 - val_accuracy: 0.5417\n",
      "Epoch 66/500\n",
      "11/11 [==============================] - 0s 1ms/step - loss: 0.0731 - accuracy: 0.9861 - val_loss: 3.6086 - val_accuracy: 0.5000\n",
      "Epoch 67/500\n",
      "11/11 [==============================] - 0s 1ms/step - loss: 0.1100 - accuracy: 0.9444 - val_loss: 3.4471 - val_accuracy: 0.5000\n",
      "Epoch 68/500\n",
      "11/11 [==============================] - 0s 1ms/step - loss: 0.0628 - accuracy: 0.9861 - val_loss: 3.4600 - val_accuracy: 0.5000\n",
      "Epoch 69/500\n",
      "11/11 [==============================] - 0s 1ms/step - loss: 0.0439 - accuracy: 1.0000 - val_loss: 3.5074 - val_accuracy: 0.5000\n",
      "Epoch 70/500\n",
      "11/11 [==============================] - 0s 1ms/step - loss: 0.0709 - accuracy: 1.0000 - val_loss: 3.5637 - val_accuracy: 0.5000\n",
      "Epoch 71/500\n",
      "11/11 [==============================] - 0s 1ms/step - loss: 0.0693 - accuracy: 1.0000 - val_loss: 3.5285 - val_accuracy: 0.5417\n",
      "Epoch 72/500\n",
      "11/11 [==============================] - 0s 1ms/step - loss: 0.0562 - accuracy: 0.9861 - val_loss: 3.5662 - val_accuracy: 0.5000\n",
      "Epoch 73/500\n",
      "11/11 [==============================] - 0s 1ms/step - loss: 0.0410 - accuracy: 0.9861 - val_loss: 3.6037 - val_accuracy: 0.5000\n",
      "Epoch 74/500\n",
      "11/11 [==============================] - 0s 1ms/step - loss: 0.1431 - accuracy: 0.9583 - val_loss: 3.6855 - val_accuracy: 0.5000\n",
      "Epoch 75/500\n",
      "11/11 [==============================] - 0s 1ms/step - loss: 0.0757 - accuracy: 1.0000 - val_loss: 3.7160 - val_accuracy: 0.5000\n",
      "Epoch 76/500\n",
      "11/11 [==============================] - 0s 1ms/step - loss: 0.0836 - accuracy: 0.9861 - val_loss: 3.8070 - val_accuracy: 0.5000\n",
      "Epoch 77/500\n",
      "11/11 [==============================] - 0s 1ms/step - loss: 0.0453 - accuracy: 1.0000 - val_loss: 3.8211 - val_accuracy: 0.5417\n",
      "Epoch 78/500\n",
      "11/11 [==============================] - 0s 1ms/step - loss: 0.0471 - accuracy: 1.0000 - val_loss: 3.7675 - val_accuracy: 0.5417\n",
      "Epoch 79/500\n",
      "11/11 [==============================] - 0s 1ms/step - loss: 0.0570 - accuracy: 0.9861 - val_loss: 3.6987 - val_accuracy: 0.5417\n",
      "Epoch 80/500\n",
      "11/11 [==============================] - 0s 1ms/step - loss: 0.0665 - accuracy: 0.9861 - val_loss: 3.7792 - val_accuracy: 0.5417\n",
      "Epoch 81/500\n",
      "11/11 [==============================] - 0s 1ms/step - loss: 0.0627 - accuracy: 1.0000 - val_loss: 3.8618 - val_accuracy: 0.5000\n",
      "Epoch 82/500\n",
      "11/11 [==============================] - 0s 1ms/step - loss: 0.0630 - accuracy: 0.9861 - val_loss: 3.8963 - val_accuracy: 0.5000\n",
      "Epoch 83/500\n",
      "11/11 [==============================] - 0s 1ms/step - loss: 0.0339 - accuracy: 1.0000 - val_loss: 3.8800 - val_accuracy: 0.5417\n",
      "Epoch 84/500\n",
      "11/11 [==============================] - 0s 1ms/step - loss: 0.0499 - accuracy: 0.9861 - val_loss: 3.7917 - val_accuracy: 0.5417\n",
      "Epoch 85/500\n",
      "11/11 [==============================] - 0s 1ms/step - loss: 0.0449 - accuracy: 0.9861 - val_loss: 3.8163 - val_accuracy: 0.5417\n",
      "Epoch 86/500\n",
      "11/11 [==============================] - 0s 1ms/step - loss: 0.0451 - accuracy: 0.9861 - val_loss: 3.8177 - val_accuracy: 0.5417\n",
      "Epoch 87/500\n",
      "11/11 [==============================] - 0s 1ms/step - loss: 0.0449 - accuracy: 0.9861 - val_loss: 3.8294 - val_accuracy: 0.5417\n",
      "Epoch 88/500\n",
      "11/11 [==============================] - 0s 1ms/step - loss: 0.0916 - accuracy: 0.9861 - val_loss: 4.0200 - val_accuracy: 0.5000\n",
      "Epoch 89/500\n",
      "11/11 [==============================] - 0s 1ms/step - loss: 0.0210 - accuracy: 1.0000 - val_loss: 4.0881 - val_accuracy: 0.5000\n",
      "Epoch 90/500\n",
      "11/11 [==============================] - 0s 1ms/step - loss: 0.0419 - accuracy: 1.0000 - val_loss: 4.0467 - val_accuracy: 0.5000\n",
      "Epoch 91/500\n",
      "11/11 [==============================] - 0s 1ms/step - loss: 0.0589 - accuracy: 0.9861 - val_loss: 3.9499 - val_accuracy: 0.5417\n",
      "Epoch 92/500\n",
      "11/11 [==============================] - 0s 1ms/step - loss: 0.0387 - accuracy: 1.0000 - val_loss: 3.9130 - val_accuracy: 0.5417\n",
      "Epoch 93/500\n",
      "11/11 [==============================] - 0s 1ms/step - loss: 0.0386 - accuracy: 1.0000 - val_loss: 4.0579 - val_accuracy: 0.5417\n",
      "Epoch 94/500\n",
      "11/11 [==============================] - 0s 1ms/step - loss: 0.0495 - accuracy: 0.9861 - val_loss: 4.1499 - val_accuracy: 0.5417\n",
      "Epoch 95/500\n",
      "11/11 [==============================] - 0s 1ms/step - loss: 0.0434 - accuracy: 1.0000 - val_loss: 4.0639 - val_accuracy: 0.5417\n",
      "Epoch 96/500\n",
      "11/11 [==============================] - 0s 1ms/step - loss: 0.0478 - accuracy: 0.9861 - val_loss: 4.0387 - val_accuracy: 0.5417\n",
      "Epoch 97/500\n",
      "11/11 [==============================] - 0s 1ms/step - loss: 0.0386 - accuracy: 0.9861 - val_loss: 4.1043 - val_accuracy: 0.5417\n",
      "Epoch 98/500\n",
      "11/11 [==============================] - 0s 1ms/step - loss: 0.0508 - accuracy: 0.9722 - val_loss: 4.1572 - val_accuracy: 0.5417\n",
      "Epoch 99/500\n",
      "11/11 [==============================] - 0s 1ms/step - loss: 0.0349 - accuracy: 1.0000 - val_loss: 4.1554 - val_accuracy: 0.5833\n",
      "Epoch 100/500\n",
      "11/11 [==============================] - 0s 1ms/step - loss: 0.0810 - accuracy: 0.9722 - val_loss: 4.1649 - val_accuracy: 0.5833\n",
      "Epoch 101/500\n",
      "11/11 [==============================] - 0s 1ms/step - loss: 0.0315 - accuracy: 1.0000 - val_loss: 4.2817 - val_accuracy: 0.5417\n",
      "Epoch 102/500\n",
      "11/11 [==============================] - 0s 1ms/step - loss: 0.0277 - accuracy: 1.0000 - val_loss: 4.3405 - val_accuracy: 0.5000\n",
      "Epoch 103/500\n",
      "11/11 [==============================] - 0s 1ms/step - loss: 0.0247 - accuracy: 1.0000 - val_loss: 4.3138 - val_accuracy: 0.5417\n",
      "Epoch 104/500\n",
      "11/11 [==============================] - 0s 1ms/step - loss: 0.0930 - accuracy: 0.9583 - val_loss: 4.3071 - val_accuracy: 0.5000\n",
      "Epoch 105/500\n",
      "11/11 [==============================] - 0s 1ms/step - loss: 0.0345 - accuracy: 1.0000 - val_loss: 4.2731 - val_accuracy: 0.5000\n",
      "Epoch 106/500\n",
      "11/11 [==============================] - 0s 1ms/step - loss: 0.0782 - accuracy: 0.9722 - val_loss: 4.2314 - val_accuracy: 0.5000\n",
      "Epoch 107/500\n",
      "11/11 [==============================] - 0s 1ms/step - loss: 0.0474 - accuracy: 0.9861 - val_loss: 4.2211 - val_accuracy: 0.5417\n",
      "Epoch 108/500\n",
      "11/11 [==============================] - 0s 1ms/step - loss: 0.0207 - accuracy: 1.0000 - val_loss: 4.2398 - val_accuracy: 0.5417\n"
     ]
    },
    {
     "name": "stdout",
     "output_type": "stream",
     "text": [
      "Epoch 109/500\n",
      "11/11 [==============================] - 0s 1ms/step - loss: 0.0160 - accuracy: 1.0000 - val_loss: 4.2746 - val_accuracy: 0.5417\n",
      "Epoch 110/500\n",
      "11/11 [==============================] - 0s 1ms/step - loss: 0.0403 - accuracy: 0.9861 - val_loss: 4.3125 - val_accuracy: 0.5417\n",
      "Epoch 111/500\n",
      "11/11 [==============================] - 0s 1ms/step - loss: 0.0453 - accuracy: 1.0000 - val_loss: 4.4034 - val_accuracy: 0.5417\n",
      "Epoch 112/500\n",
      "11/11 [==============================] - 0s 1ms/step - loss: 0.0266 - accuracy: 1.0000 - val_loss: 4.4658 - val_accuracy: 0.5417\n",
      "Epoch 113/500\n",
      "11/11 [==============================] - 0s 1ms/step - loss: 0.0242 - accuracy: 1.0000 - val_loss: 4.5192 - val_accuracy: 0.5417\n",
      "Epoch 114/500\n",
      "11/11 [==============================] - 0s 1ms/step - loss: 0.0624 - accuracy: 0.9583 - val_loss: 4.5811 - val_accuracy: 0.5417\n",
      "Epoch 115/500\n",
      "11/11 [==============================] - 0s 1ms/step - loss: 0.0292 - accuracy: 0.9861 - val_loss: 4.5286 - val_accuracy: 0.5417\n",
      "Epoch 116/500\n",
      "11/11 [==============================] - 0s 1ms/step - loss: 0.0311 - accuracy: 1.0000 - val_loss: 4.6341 - val_accuracy: 0.5417\n",
      "Epoch 117/500\n",
      "11/11 [==============================] - 0s 1ms/step - loss: 0.0144 - accuracy: 1.0000 - val_loss: 4.6669 - val_accuracy: 0.5417\n",
      "Epoch 118/500\n",
      "11/11 [==============================] - 0s 1ms/step - loss: 0.0492 - accuracy: 0.9722 - val_loss: 4.7379 - val_accuracy: 0.5417\n",
      "Epoch 119/500\n",
      "11/11 [==============================] - 0s 1ms/step - loss: 0.0804 - accuracy: 0.9861 - val_loss: 4.8215 - val_accuracy: 0.5000\n",
      "Epoch 120/500\n",
      "11/11 [==============================] - 0s 1ms/step - loss: 0.0211 - accuracy: 1.0000 - val_loss: 4.8347 - val_accuracy: 0.5000\n",
      "Epoch 121/500\n",
      "11/11 [==============================] - 0s 1ms/step - loss: 0.0765 - accuracy: 0.9861 - val_loss: 4.7907 - val_accuracy: 0.5000\n",
      "Epoch 122/500\n",
      "11/11 [==============================] - 0s 1ms/step - loss: 0.0258 - accuracy: 1.0000 - val_loss: 4.7351 - val_accuracy: 0.5417\n",
      "Epoch 123/500\n",
      "11/11 [==============================] - 0s 1ms/step - loss: 0.0295 - accuracy: 1.0000 - val_loss: 4.7383 - val_accuracy: 0.5417\n",
      "Epoch 124/500\n",
      "11/11 [==============================] - 0s 1ms/step - loss: 0.0328 - accuracy: 0.9861 - val_loss: 4.6218 - val_accuracy: 0.5417\n",
      "Epoch 125/500\n",
      "11/11 [==============================] - 0s 1ms/step - loss: 0.0760 - accuracy: 0.9861 - val_loss: 4.7923 - val_accuracy: 0.5417\n",
      "Epoch 126/500\n",
      "11/11 [==============================] - 0s 1ms/step - loss: 0.0615 - accuracy: 0.9861 - val_loss: 4.6728 - val_accuracy: 0.5417\n",
      "Epoch 127/500\n",
      "11/11 [==============================] - 0s 1ms/step - loss: 0.0089 - accuracy: 1.0000 - val_loss: 4.6084 - val_accuracy: 0.5417\n",
      "Epoch 128/500\n",
      "11/11 [==============================] - 0s 1ms/step - loss: 0.0189 - accuracy: 1.0000 - val_loss: 4.5970 - val_accuracy: 0.5833\n",
      "Epoch 129/500\n",
      "11/11 [==============================] - 0s 1ms/step - loss: 0.0219 - accuracy: 1.0000 - val_loss: 4.4682 - val_accuracy: 0.5833\n",
      "Epoch 130/500\n",
      "11/11 [==============================] - 0s 1ms/step - loss: 0.0277 - accuracy: 0.9861 - val_loss: 4.4087 - val_accuracy: 0.5417\n",
      "Epoch 131/500\n",
      "11/11 [==============================] - 0s 1ms/step - loss: 0.0272 - accuracy: 1.0000 - val_loss: 4.3244 - val_accuracy: 0.5417\n",
      "Epoch 132/500\n",
      "11/11 [==============================] - 0s 1ms/step - loss: 0.0267 - accuracy: 1.0000 - val_loss: 4.4185 - val_accuracy: 0.5417\n",
      "Epoch 133/500\n",
      "11/11 [==============================] - 0s 1ms/step - loss: 0.0629 - accuracy: 0.9722 - val_loss: 4.6158 - val_accuracy: 0.5417\n",
      "Epoch 134/500\n",
      "11/11 [==============================] - 0s 1ms/step - loss: 0.0144 - accuracy: 1.0000 - val_loss: 4.8132 - val_accuracy: 0.5417\n",
      "Epoch 135/500\n",
      "11/11 [==============================] - 0s 1ms/step - loss: 0.0165 - accuracy: 1.0000 - val_loss: 4.8682 - val_accuracy: 0.5417\n",
      "Epoch 136/500\n",
      "11/11 [==============================] - 0s 1ms/step - loss: 0.0172 - accuracy: 1.0000 - val_loss: 4.8570 - val_accuracy: 0.5417\n",
      "Epoch 137/500\n",
      "11/11 [==============================] - 0s 1ms/step - loss: 0.0118 - accuracy: 1.0000 - val_loss: 4.8537 - val_accuracy: 0.5417\n",
      "Epoch 138/500\n",
      "11/11 [==============================] - 0s 1ms/step - loss: 0.0132 - accuracy: 1.0000 - val_loss: 4.8280 - val_accuracy: 0.5417\n",
      "Epoch 139/500\n",
      "11/11 [==============================] - 0s 1ms/step - loss: 0.0321 - accuracy: 0.9861 - val_loss: 4.7810 - val_accuracy: 0.5417\n",
      "Epoch 140/500\n",
      "11/11 [==============================] - 0s 1ms/step - loss: 0.0140 - accuracy: 1.0000 - val_loss: 4.8154 - val_accuracy: 0.5417\n",
      "Epoch 141/500\n",
      "11/11 [==============================] - 0s 1ms/step - loss: 0.0121 - accuracy: 1.0000 - val_loss: 4.8788 - val_accuracy: 0.5417\n",
      "Epoch 142/500\n",
      "11/11 [==============================] - 0s 1ms/step - loss: 0.0484 - accuracy: 0.9861 - val_loss: 4.8320 - val_accuracy: 0.5417\n",
      "Epoch 143/500\n",
      "11/11 [==============================] - 0s 1ms/step - loss: 0.0263 - accuracy: 0.9861 - val_loss: 4.7780 - val_accuracy: 0.5417\n",
      "Epoch 144/500\n",
      "11/11 [==============================] - 0s 1ms/step - loss: 0.0091 - accuracy: 1.0000 - val_loss: 4.7664 - val_accuracy: 0.5417\n",
      "Epoch 145/500\n",
      "11/11 [==============================] - 0s 1ms/step - loss: 0.0165 - accuracy: 1.0000 - val_loss: 4.7916 - val_accuracy: 0.5417\n",
      "Epoch 146/500\n",
      "11/11 [==============================] - 0s 1ms/step - loss: 0.0253 - accuracy: 1.0000 - val_loss: 4.9269 - val_accuracy: 0.5417\n",
      "Epoch 147/500\n",
      "11/11 [==============================] - 0s 1ms/step - loss: 0.0117 - accuracy: 1.0000 - val_loss: 5.0290 - val_accuracy: 0.5417\n",
      "Epoch 148/500\n",
      "11/11 [==============================] - 0s 1ms/step - loss: 0.0222 - accuracy: 1.0000 - val_loss: 5.1979 - val_accuracy: 0.5833\n",
      "Epoch 149/500\n",
      "11/11 [==============================] - 0s 1ms/step - loss: 0.0366 - accuracy: 0.9861 - val_loss: 5.2120 - val_accuracy: 0.5417\n",
      "Epoch 150/500\n",
      "11/11 [==============================] - 0s 1ms/step - loss: 0.0314 - accuracy: 0.9861 - val_loss: 5.0126 - val_accuracy: 0.5000\n",
      "Epoch 151/500\n",
      "11/11 [==============================] - 0s 1ms/step - loss: 0.0153 - accuracy: 1.0000 - val_loss: 4.9324 - val_accuracy: 0.5417\n",
      "Epoch 152/500\n",
      "11/11 [==============================] - 0s 1ms/step - loss: 0.0187 - accuracy: 1.0000 - val_loss: 4.8432 - val_accuracy: 0.5417\n",
      "Epoch 153/500\n",
      "11/11 [==============================] - 0s 1ms/step - loss: 0.0236 - accuracy: 1.0000 - val_loss: 4.8703 - val_accuracy: 0.5417\n",
      "Epoch 154/500\n",
      "11/11 [==============================] - 0s 1ms/step - loss: 0.0117 - accuracy: 1.0000 - val_loss: 4.9338 - val_accuracy: 0.5417\n",
      "Epoch 155/500\n",
      " 1/11 [=>............................] - ETA: 0s - loss: 0.0045 - accuracy: 1.0000"
     ]
    }
   ],
   "source": [
    "model = getNetwork()\n",
    "history = model.fit(X_train, y_train, epochs=EPOCHS, batch_size=BATCH_SIZE, validation_split=0.25)"
   ]
  },
  {
   "cell_type": "code",
   "execution_count": null,
   "metadata": {
    "scrolled": true
   },
   "outputs": [],
   "source": [
    "pred_test = model.predict(X_test)\n",
    "predictions_categorical = np.argmax(pred_test, axis=1)\n",
    "report = classification_report(y_test, predictions_categorical)\n",
    "print(report)\n",
    "#classification_report_csv(report, \"NN\")"
   ]
  },
  {
   "cell_type": "markdown",
   "metadata": {},
   "source": [
    "# Export Models in C code"
   ]
  },
  {
   "cell_type": "code",
   "execution_count": 136,
   "metadata": {},
   "outputs": [
    {
     "name": "stdout",
     "output_type": "stream",
     "text": [
      "INFO:tensorflow:Assets written to: /tmp/tmp5aw55c9c/assets\n"
     ]
    },
    {
     "name": "stderr",
     "output_type": "stream",
     "text": [
      "INFO:tensorflow:Assets written to: /tmp/tmp5aw55c9c/assets\n"
     ]
    }
   ],
   "source": [
    "# Neural network with TinyMLGen\n",
    "with open(tasks[taskIndex] + '/exportedModels/NNmodel.h', 'w') as f:\n",
    "    f.write(tiny.port(model, optimize=False))\n",
    "\n",
    "# Classifiers with MicroMLGen\n",
    "for name, model in models:\n",
    "    prepath = tasks[taskIndex] + '/exportedModels/'\n",
    "    path = prepath + name + '.h'\n",
    "    x = port(model, optimize=True)\n",
    "    with open(path, 'w') as f:\n",
    "        f.write(port(model, optimize=True))"
   ]
  },
  {
   "cell_type": "code",
   "execution_count": null,
   "metadata": {},
   "outputs": [],
   "source": []
  },
  {
   "cell_type": "code",
   "execution_count": null,
   "metadata": {},
   "outputs": [],
   "source": []
  }
 ],
 "metadata": {
  "kernelspec": {
   "display_name": "Python 3",
   "language": "python",
   "name": "python3"
  },
  "language_info": {
   "codemirror_mode": {
    "name": "ipython",
    "version": 3
   },
   "file_extension": ".py",
   "mimetype": "text/x-python",
   "name": "python",
   "nbconvert_exporter": "python",
   "pygments_lexer": "ipython3",
   "version": "3.6.13"
  }
 },
 "nbformat": 4,
 "nbformat_minor": 2
}
