{
 "cells": [
  {
   "cell_type": "code",
   "execution_count": 4,
   "id": "19a52fc4",
   "metadata": {},
   "outputs": [],
   "source": [
    "import numpy as np\n",
    "import pandas as pd\n",
    "import sklearn.metrics as metrics"
   ]
  },
  {
   "cell_type": "code",
   "execution_count": 5,
   "id": "84b173e5",
   "metadata": {},
   "outputs": [],
   "source": [
    "labels = [\"O\", \"I\", \"U\", \"E\", \"A\", \"B\", \"D\", \"G\", \"L\", \"M\"]"
   ]
  },
  {
   "cell_type": "code",
   "execution_count": 6,
   "id": "97bfc5db",
   "metadata": {},
   "outputs": [],
   "source": [
    "y_real = np.array([1, 0, 6, 5, 0, 2, 9, 2, 4, 5, 0, 0, 8, 0, 9, 3, 8, 5, 3, 9, 2, 6,\n",
    "       0, 2, 0, 1, 7, 8, 5, 5, 6, 2, 5, 4, 1, 6, 9, 4, 2, 3, 8, 9, 7, 0,\n",
    "       5, 5, 6, 1, 4, 7, 4, 6, 4, 5, 8, 3, 3, 1, 1, 8, 6, 8, 8, 9, 3, 9,\n",
    "       9, 1, 9, 7, 6, 8, 1, 7, 8, 4, 3, 7, 7, 7, 3, 7, 8, 4, 5, 9, 8, 4,\n",
    "       9, 5, 6, 8, 6, 3, 2, 5, 5, 2, 8, 8, 6, 0, 8, 7, 6, 9, 3, 3, 6, 3,\n",
    "       0, 0, 1, 2, 1, 2, 1, 9, 8, 7, 3, 0, 5, 9, 8, 1, 6, 4, 6, 3, 6, 4,\n",
    "       7, 5, 7, 2, 3, 2, 3, 8, 5, 0, 3, 0, 2, 4, 4, 0, 1, 4, 7, 1, 1, 0,\n",
    "       9, 0, 6, 5, 1, 0, 3, 3, 4, 5, 8, 9, 9, 2, 7, 0, 6, 5, 0, 9, 7, 1,\n",
    "       7, 4, 2, 3, 6, 4, 9, 4, 1, 7, 6, 2, 5, 2, 4, 1, 7, 7, 4, 2, 2, 1,\n",
    "       9, 2])"
   ]
  },
  {
   "cell_type": "code",
   "execution_count": 7,
   "id": "f2203281",
   "metadata": {},
   "outputs": [],
   "source": [
    "prediction_nn = np.array([1, 0, 1, 5, 0, 2, 9, 2, 4, 3, 0, 0, 8, 0, 9, 3, 8, 5, 3, 9, 2, 6, 0, 2, 0, 1, 7, 8, 3, 5, 6, 2, 3, 4, 1, 6, 9, 4, 2, 3, 8, 9, 7, 0, 5, 5, 6, 1, 4, 7, 4, 6, 4, 5, 8, 3, 0, 1, 1, 8, 6, 8, 8, 5, 3, 5, 9, 1, 9, 7, 1, 8, 1, 7, 8, 6, 8, 7, 7, 7, 3, 7, 8, 1, 5, 9, 8, 0, 9, 5, 6, 8, 6, 3, 2, 5, 5, 2, 8, 8, 6, 0, 8, 7, 6, 9, 3, 3, 6, 3, 0, 9, 1, 2, 1, 2, 1, 9, 8, 7, 3, 0, 3, 9, 8, 1, 6, 4, 6, 8, 6, 4, 7, 5, 4, 2, 3, 2, 3, 8, 5, 0, 3, 0, 2, 4, 4, 0, 1, 4, 7, 1, 1, 0, 9, 0, 6, 5, 1, 0, 3, 3, 4, 5, 8, 9, 9, 2, 7, 0, 6, 5, 0, 9, 7, 1, 7, 4, 1, 3, 6, 7, 9, 4, 1, 7, 6, 2, 5, 2, 4, 1, 7, 7, 4, 2, 2, 1, 9, 2, ])"
   ]
  },
  {
   "cell_type": "code",
   "execution_count": 8,
   "id": "76cd4592",
   "metadata": {},
   "outputs": [],
   "source": [
    "prediction_rf = np.array([1, 0, 1, 5, 0, 2, 9, 2, 4, 5, 0, 0, 8, 0, 9, 3, 8, 5, 3, 9, 2, 6, 0, 2, 0, 1, 5, 8, 5, 5, 6, 2, 5, 4, 1, 6, 9, 4, 2, 3, 3, 9, 7, 0, 5, 5, 6, 1, 4, 7, 4, 6, 4, 5, 8, 3, 0, 1, 1, 8, 6, 8, 8, 5, 3, 7, 9, 1, 9, 7, 6, 6, 1, 7, 8, 6, 3, 7, 7, 0, 3, 7, 4, 4, 5, 9, 3, 0, 9, 5, 6, 8, 6, 3, 2, 5, 5, 2, 8, 5, 6, 0, 8, 7, 6, 9, 5, 3, 6, 3, 0, 0, 1, 2, 1, 2, 1, 9, 8, 7, 3, 0, 3, 9, 8, 1, 6, 4, 6, 6, 6, 4, 7, 5, 7, 2, 3, 2, 3, 8, 5, 0, 3, 0, 2, 4, 8, 0, 1, 4, 7, 1, 1, 0, 9, 0, 6, 5, 1, 0, 3, 3, 4, 5, 8, 9, 9, 2, 7, 0, 6, 5, 0, 9, 7, 1, 7, 4, 1, 3, 6, 8, 9, 4, 1, 7, 6, 2, 5, 2, 4, 1, 7, 7, 4, 2, 2, 1, 9, 2,])"
   ]
  },
  {
   "cell_type": "code",
   "execution_count": 9,
   "id": "613e25fe",
   "metadata": {},
   "outputs": [],
   "source": [
    "prediction_cart = np.array([1, 0, 1, 5, 2, 2, 9, 2, 4, 5, 0, 0, 8, 0, 8, 3, 8, 5, 3, 9, 2, 6, 0, 2, 0, 1, 5, 3, 5, 5, 5, 4, 5, 4, 1, 1, 3, 1, 2, 3, 8, 9, 7, 0, 5, 3, 6, 8, 4, 3, 8, 6, 4, 5, 8, 3, 5, 1, 1, 3, 6, 8, 8, 9, 5, 5, 0, 1, 9, 7, 6, 6, 1, 7, 8, 6, 8, 7, 7, 7, 3, 7, 3, 3, 5, 9, 3, 8, 9, 5, 2, 8, 6, 3, 2, 5, 3, 2, 5, 3, 6, 0, 5, 7, 9, 0, 3, 3, 6, 3, 4, 0, 1, 2, 1, 2, 8, 9, 8, 7, 8, 0, 5, 9, 3, 1, 6, 1, 6, 8, 6, 4, 5, 3, 4, 2, 3, 2, 5, 8, 5, 9, 5, 0, 2, 4, 4, 0, 1, 4, 7, 1, 1, 0, 9, 0, 6, 5, 1, 0, 3, 5, 4, 8, 8, 9, 9, 2, 7, 0, 6, 6, 0, 9, 7, 1, 7, 4, 9, 3, 6, 1, 9, 4, 1, 7, 6, 2, 5, 2, 4, 1, 7, 7, 4, 2, 2, 1, 9, 2,])"
   ]
  },
  {
   "cell_type": "code",
   "execution_count": 10,
   "id": "32b512fa",
   "metadata": {},
   "outputs": [],
   "source": [
    "prediction_svc = np.array([1, 0, 6, 5, 0, 2, 9, 2, 4, 5, 0, 0, 8, 0, 9, 3, 8, 3, 3, 9, 2, 6, 0, 2, 0, 1, 7, 8, 5, 5, 6, 2, 5, 4, 1, 6, 9, 4, 2, 3, 8, 9, 7, 0, 5, 5, 6, 1, 4, 7, 4, 6, 4, 5, 8, 3, 0, 1, 1, 8, 6, 8, 8, 5, 3, 5, 9, 1, 9, 7, 6, 8, 1, 7, 8, 4, 8, 7, 7, 7, 3, 7, 4, 4, 5, 9, 8, 0, 9, 5, 6, 8, 6, 3, 2, 5, 5, 2, 8, 8, 6, 0, 8, 7, 6, 9, 4, 3, 6, 3, 0, 0, 1, 2, 1, 2, 1, 9, 8, 7, 3, 0, 3, 9, 8, 1, 6, 4, 6, 8, 6, 4, 7, 5, 4, 2, 3, 2, 3, 8, 5, 0, 3, 0, 2, 4, 4, 0, 1, 4, 7, 1, 1, 0, 9, 0, 6, 5, 1, 0, 3, 3, 4, 5, 8, 9, 9, 2, 7, 0, 6, 5, 0, 9, 7, 1, 7, 4, 1, 3, 6, 4, 9, 4, 1, 7, 6, 2, 5, 2, 4, 1, 7, 7, 4, 2, 2, 1, 9, 2,])"
   ]
  },
  {
   "cell_type": "code",
   "execution_count": 11,
   "id": "ce856550",
   "metadata": {},
   "outputs": [],
   "source": [
    "prediction_gnb = np.array([1, 2, 1, 4, 4, 2, 4, 4, 4, 4, 4, 4, 4, 4, 4, 4, 4, 4, 4, 4, 2, 6, 4, 2, 2, 1, 4, 4, 4, 4, 4, 4, 4, 4, 1, 4, 4, 4, 2, 4, 4, 4, 4, 4, 4, 4, 1, 1, 4, 1, 4, 4, 4, 4, 4, 4, 4, 1, 1, 4, 6, 4, 4, 4, 4, 4, 4, 1, 4, 4, 1, 4, 1, 4, 4, 4, 4, 4, 1, 4, 4, 4, 4, 4, 4, 9, 4, 4, 4, 4, 1, 4, 4, 4, 2, 4, 4, 4, 4, 4, 4, 2, 4, 1, 4, 4, 4, 4, 1, 4, 4, 4, 1, 2, 1, 2, 1, 4, 4, 4, 4, 4, 4, 9, 4, 4, 4, 4, 4, 4, 4, 4, 4, 4, 4, 2, 4, 4, 4, 4, 4, 4, 4, 4, 2, 4, 4, 2, 1, 4, 4, 1, 1, 4, 4, 4, 1, 4, 1, 2, 4, 4, 4, 4, 4, 4, 4, 2, 4, 4, 1, 4, 4, 4, 4, 1, 4, 4, 4, 4, 1, 4, 4, 4, 1, 4, 4, 2, 4, 2, 4, 1, 4, 4, 4, 2, 2, 1, 4, 4,])"
   ]
  },
  {
   "cell_type": "code",
   "execution_count": 12,
   "id": "5f1a5fae",
   "metadata": {},
   "outputs": [],
   "source": [
    "prediction_lr = np.array([1, 0, 6, 5, 0, 2, 9, 9, 4, 5, 0, 0, 8, 0, 9, 3, 8, 3, 3, 9, 2, 6, 0, 2, 0, 1, 5, 8, 5, 5, 6, 2, 5, 4, 1, 6, 9, 4, 2, 3, 3, 9, 7, 0, 5, 5, 6, 1, 4, 7, 4, 6, 4, 5, 3, 3, 0, 1, 1, 8, 6, 8, 8, 5, 3, 5, 9, 1, 9, 7, 6, 6, 1, 7, 8, 4, 8, 7, 7, 0, 3, 7, 8, 5, 5, 9, 8, 0, 9, 5, 6, 8, 6, 3, 2, 5, 3, 2, 8, 8, 6, 0, 8, 7, 5, 9, 3, 3, 6, 3, 0, 9, 1, 2, 1, 2, 1, 9, 8, 7, 3, 0, 3, 9, 6, 3, 6, 4, 6, 8, 6, 4, 7, 3, 4, 2, 3, 2, 3, 8, 5, 0, 3, 0, 2, 4, 5, 0, 1, 4, 7, 1, 1, 0, 9, 0, 6, 5, 1, 0, 3, 3, 4, 5, 8, 9, 9, 2, 7, 0, 6, 5, 0, 9, 7, 1, 7, 4, 1, 3, 6, 8, 9, 4, 1, 7, 6, 2, 5, 2, 4, 1, 7, 7, 4, 2, 2, 1, 9, 2, ])"
   ]
  },
  {
   "cell_type": "code",
   "execution_count": 13,
   "id": "0232bd29",
   "metadata": {},
   "outputs": [],
   "source": [
    "pred = []\n",
    "uniques = np.unique(y_real)\n",
    "pred.append((\"NN\",prediction_nn))\n",
    "pred.append((\"RF\",prediction_rf))\n",
    "pred.append((\"CART\",prediction_cart))\n",
    "pred.append((\"SVC\",prediction_svc))\n",
    "pred.append((\"GNB\",prediction_gnb))\n",
    "pred.append((\"LR\",prediction_lr))"
   ]
  },
  {
   "cell_type": "code",
   "execution_count": 14,
   "id": "fdfcca41",
   "metadata": {},
   "outputs": [],
   "source": [
    "def classification_report_csv(report, model_name):\n",
    "    report_data = []\n",
    "    lines = report.split('\\n')\n",
    "    index = 0\n",
    "    row = lines[-4].split('    ')\n",
    "    accuracy = row[-2]\n",
    "    for line in lines[2:-5]:\n",
    "        row = {}\n",
    "        row_data = line.split('      ')\n",
    "        row['class'] = labels[index]\n",
    "        row['precision'] = float(row_data[2]) \n",
    "        row['recall'] = float(row_data[3]) \n",
    "        row['f1_score'] = float(row_data[4])\n",
    "        row['accuracy'] = accuracy\n",
    "        report_data.append(row)\n",
    "        index += 1\n",
    "    dataframe = pd.DataFrame.from_dict(report_data)\n",
    "    dataframe.to_csv( 'evaluations/'+'classification_report' + model_name +  '.csv', index = False)\n"
   ]
  },
  {
   "cell_type": "code",
   "execution_count": 15,
   "id": "e0ccf46e",
   "metadata": {},
   "outputs": [
    {
     "name": "stdout",
     "output_type": "stream",
     "text": [
      "NN: \n",
      "\n",
      "              precision    recall  f1-score   support\n",
      "\n",
      "           0       0.90      0.95      0.93        20\n",
      "           1       0.83      1.00      0.91        20\n",
      "           2       1.00      0.95      0.97        20\n",
      "           3       0.81      0.85      0.83        20\n",
      "           4       0.94      0.80      0.86        20\n",
      "           5       0.89      0.80      0.84        20\n",
      "           6       0.95      0.90      0.92        20\n",
      "           7       0.95      0.95      0.95        20\n",
      "           8       0.91      1.00      0.95        20\n",
      "           9       0.95      0.90      0.92        20\n",
      "\n",
      "    accuracy                           0.91       200\n",
      "   macro avg       0.91      0.91      0.91       200\n",
      "weighted avg       0.91      0.91      0.91       200\n",
      "\n",
      "-----------------------\n",
      "RF: \n",
      "\n",
      "              precision    recall  f1-score   support\n",
      "\n",
      "           0       0.87      1.00      0.93        20\n",
      "           1       0.91      1.00      0.95        20\n",
      "           2       1.00      0.95      0.97        20\n",
      "           3       0.85      0.85      0.85        20\n",
      "           4       0.94      0.80      0.86        20\n",
      "           5       0.83      0.95      0.88        20\n",
      "           6       0.86      0.95      0.90        20\n",
      "           7       0.95      0.90      0.92        20\n",
      "           8       0.88      0.75      0.81        20\n",
      "           9       1.00      0.90      0.95        20\n",
      "\n",
      "    accuracy                           0.91       200\n",
      "   macro avg       0.91      0.91      0.90       200\n",
      "weighted avg       0.91      0.91      0.90       200\n",
      "\n",
      "-----------------------\n",
      "CART: \n",
      "\n",
      "              precision    recall  f1-score   support\n",
      "\n",
      "           0       0.89      0.85      0.87        20\n",
      "           1       0.78      0.90      0.84        20\n",
      "           2       0.90      0.90      0.90        20\n",
      "           3       0.50      0.60      0.55        20\n",
      "           4       0.81      0.65      0.72        20\n",
      "           5       0.58      0.75      0.65        20\n",
      "           6       0.83      0.75      0.79        20\n",
      "           7       1.00      0.80      0.89        20\n",
      "           8       0.55      0.55      0.55        20\n",
      "           9       0.83      0.75      0.79        20\n",
      "\n",
      "    accuracy                           0.75       200\n",
      "   macro avg       0.77      0.75      0.75       200\n",
      "weighted avg       0.77      0.75      0.75       200\n",
      "\n",
      "-----------------------\n",
      "SVC: \n",
      "\n",
      "              precision    recall  f1-score   support\n",
      "\n",
      "           0       0.91      1.00      0.95        20\n",
      "           1       0.95      1.00      0.98        20\n",
      "           2       1.00      0.95      0.97        20\n",
      "           3       0.89      0.80      0.84        20\n",
      "           4       0.86      0.95      0.90        20\n",
      "           5       0.90      0.90      0.90        20\n",
      "           6       1.00      1.00      1.00        20\n",
      "           7       1.00      0.95      0.97        20\n",
      "           8       0.90      0.95      0.93        20\n",
      "           9       1.00      0.90      0.95        20\n",
      "\n",
      "    accuracy                           0.94       200\n",
      "   macro avg       0.94      0.94      0.94       200\n",
      "weighted avg       0.94      0.94      0.94       200\n",
      "\n",
      "-----------------------\n",
      "GNB: \n",
      "\n",
      "              precision    recall  f1-score   support\n",
      "\n",
      "           0       0.00      0.00      0.00        20\n",
      "           1       0.63      0.95      0.76        20\n",
      "           2       0.74      0.70      0.72        20\n",
      "           3       0.00      0.00      0.00        20\n",
      "           4       0.14      1.00      0.24        20\n",
      "           5       0.00      0.00      0.00        20\n",
      "           6       1.00      0.10      0.18        20\n",
      "           7       0.00      0.00      0.00        20\n",
      "           8       0.00      0.00      0.00        20\n",
      "           9       1.00      0.10      0.18        20\n",
      "\n",
      "    accuracy                           0.28       200\n",
      "   macro avg       0.35      0.29      0.21       200\n",
      "weighted avg       0.35      0.28      0.21       200\n",
      "\n",
      "-----------------------\n",
      "LR: \n",
      "\n",
      "              precision    recall  f1-score   support\n",
      "\n",
      "           0       0.86      0.95      0.90        20\n",
      "           1       0.95      0.95      0.95        20\n",
      "           2       1.00      0.90      0.95        20\n",
      "           3       0.71      0.85      0.77        20\n",
      "           4       0.94      0.80      0.86        20\n",
      "           5       0.73      0.80      0.76        20\n",
      "           6       0.90      0.95      0.93        20\n",
      "           7       1.00      0.85      0.92        20\n",
      "           8       0.84      0.80      0.82        20\n",
      "           9       0.90      0.90      0.90        20\n",
      "\n",
      "    accuracy                           0.88       200\n",
      "   macro avg       0.88      0.88      0.88       200\n",
      "weighted avg       0.88      0.88      0.88       200\n",
      "\n",
      "-----------------------\n"
     ]
    },
    {
     "name": "stderr",
     "output_type": "stream",
     "text": [
      "/home/sakka/anaconda3/envs/ts/lib/python3.6/site-packages/sklearn/metrics/_classification.py:1248: UndefinedMetricWarning: Precision and F-score are ill-defined and being set to 0.0 in labels with no predicted samples. Use `zero_division` parameter to control this behavior.\n",
      "  _warn_prf(average, modifier, msg_start, len(result))\n",
      "/home/sakka/anaconda3/envs/ts/lib/python3.6/site-packages/sklearn/metrics/_classification.py:1248: UndefinedMetricWarning: Precision and F-score are ill-defined and being set to 0.0 in labels with no predicted samples. Use `zero_division` parameter to control this behavior.\n",
      "  _warn_prf(average, modifier, msg_start, len(result))\n",
      "/home/sakka/anaconda3/envs/ts/lib/python3.6/site-packages/sklearn/metrics/_classification.py:1248: UndefinedMetricWarning: Precision and F-score are ill-defined and being set to 0.0 in labels with no predicted samples. Use `zero_division` parameter to control this behavior.\n",
      "  _warn_prf(average, modifier, msg_start, len(result))\n"
     ]
    }
   ],
   "source": [
    "for name, preds in pred:\n",
    "    print(name + \": \\n\")\n",
    "    report = metrics.classification_report(y_real, preds)\n",
    "    print(report)\n",
    "    classification_report_csv(report, name)\n",
    "    print(\"-----------------------\")"
   ]
  },
  {
   "cell_type": "code",
   "execution_count": null,
   "id": "e10cfd22",
   "metadata": {},
   "outputs": [],
   "source": []
  },
  {
   "cell_type": "code",
   "execution_count": null,
   "id": "8e865923",
   "metadata": {},
   "outputs": [],
   "source": []
  }
 ],
 "metadata": {
  "kernelspec": {
   "display_name": "Python 3",
   "language": "python",
   "name": "python3"
  },
  "language_info": {
   "codemirror_mode": {
    "name": "ipython",
    "version": 3
   },
   "file_extension": ".py",
   "mimetype": "text/x-python",
   "name": "python",
   "nbconvert_exporter": "python",
   "pygments_lexer": "ipython3",
   "version": "3.6.13"
  }
 },
 "nbformat": 4,
 "nbformat_minor": 5
}
