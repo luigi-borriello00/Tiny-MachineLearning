{
 "cells": [
  {
   "cell_type": "code",
   "execution_count": 1,
   "id": "19a52fc4",
   "metadata": {},
   "outputs": [],
   "source": [
    "import numpy as np\n",
    "import pandas as pd\n",
    "import sklearn.metrics as metrics"
   ]
  },
  {
   "cell_type": "code",
   "execution_count": 2,
   "id": "97bfc5db",
   "metadata": {},
   "outputs": [],
   "source": [
    "y_real = np.array([5,3,0,3,0,4,0,5,3,1,2,0,5,1,0,1,5,1,0,2,5,5,5,5,5,3,2,0,4,0,0,1,3,2,4,2,2\n",
    ",3,5,3,1,1,3,5,3,3,5,5,1,3,5,0,2,2,3,3,1,0,4,0,0,0,1,0,5,4,0,0,1,4,0,3,3,4\n",
    ",5,4,3,0,4,5,0,3,0,1,0,1,1,0,4,2,0,5,4,3,2,3,4,0,0,0,3,1,2,0,2,0,4,5,4,3,2\n",
    ",5,3,1,4,2,3,0,1,1,5,5,5,1,3,2,4,3,5,4,2,2,2,3,4,0,5,0,5,4,3,3,3,1,0,5,1,4\n",
    ",2,5,1,3,1,3,4,1,0,0,3,5,5,4,4,1,0,1,5,4,2,3,5,2,2,5,2,1,5,5,3,1,3,1,0,5,5\n",
    ",4,0,1,3,0,2,2,1,5,3,2,3,4,3,3,3,5,3,2,4,0,1,3,1,0,4,0,4,5,5,1,2,5,3,2,1,0\n",
    ",2,3,3,3,2,5,4,0,2,5,4,1,2,3,5,1,4,1,3,3,3,1,3,5,4,4,0,4,2,1,4,1,2,4,3,5,4\n",
    ",4,3,3,4,0,3,4,1,5,2,4,4,0,3,4,3,2,5,3,5,5,2,2,0,3,2,3,3,1,2,3,5,0,0,3,1,2\n",
    ",4,5,1,5,1,3,5,0,3,2,1,2,5,5,2,5,3,2,4,4,1,5,3,5,5,0,3,2,4,2,4,4,3,1,4,2,3\n",
    ",0,5,1,2,5,1,3,4,4,5,1,2,4,2,5,3,2,5,1,5,3,5,4,5,5,1,0,0,3,5,2,5,0,0,0,3,0\n",
    ",1,3,5,1,4,5,4,1,3,4,4,4,5,2,3,4,4,4,3,5,4,2,5,2,2,3,3,3,4,1,2,4,1,4,5,2,0\n",
    ",0,3,4,5,0,1,5,5,1,5,1,5,2,5,4,2,1,4,3,1,3,2,3,3,5,1,5,1,5,1,5,1,5,3,1,0,1\n",
    ",5,3,1,3,3,2,5,5,3,4,5,3,0,2,0,1,0,0,5,3,2,1,1,5,4,4,1,0,5,2,0,4,2,1,4,3,5\n",
    ",0,1,4,2,1,1,1,5,3,2,1,2,1,0,4,0,1,2,5,3,0,1,5,1,0,1,3,3,3,2,5,3,5,2,3,0,5\n",
    ",4,1,0,4,1,2,5,2,0,3,5,1,5,0,3,2,2,0,5,5,2,3,5,1,1,4,3,3,5,1,0,5,2,4,4,4,1\n",
    ",4,3,4,2,2,0,1,0,2,2,2,4,3,5,5,4,2,3,5,0,0,4,1,3,2,1,0,0,4,1,3,3,5,2,5,3,4\n",
    ",4,3,3,5,4,1,1,0,3,1,2,3,0,0,3,4,2,3,2,2,0,4,4,5,3,5,1,3,4,5,4,5,4,0,4,5,4\n",
    ",1,0,5,4,3,5,0,5,2,3,5,3,2,2,3,5,5,5,0,2,4,3,1,3,0,4,5,0,3,3,3,1,5,1,1,4,5\n",
    ",3,0,4,4,4,5,5,5,2,5,4,1,1,3,4,0,3,1,3,1,5,4,4,5,4,4,1,0,0,5,0,5,2,1,3,2,2\n",
    ",0,5,5,1,1,0,4,5,5,1,3,1,1,4,1,4,4,2,3,4,0,2,3,2,5,2,5,0,3,5,0,0,3,3,0,4,3\n",
    ",0,5,4,0,4,5,1,5,4,3,5,5,4,1,3,4,0,0,0,3,2,0,3,5,3,5,4,5,4,5,2,0,5,1,0,2,0\n",
    ",4,1,5,0,2,0,4,2,1,2,0,5,1,1,3,5,4,5,4,5,0,5,4,5,5,1,2,2,3,4,1,1,1,5,4,4,0\n",
    ",5,4,2,2,2,0,1,1,5,4,2,2,4,1,3,2,5,3,5,0,5,4,1,3,1,1,3,1,3,5,1,5,1,3,2,5,3\n",
    ",4,4,5,1,1,0,1,4,0,0,2,5,5,5,0,1,0,2,0,1,4,4,0,1,5,0,3,4,0,4,5,0,1,3,2,1,1\n",
    ",5,3,4,1,0,4,0,0,5,5,2,3,5,1,1,3,2,0,0,2,4,1,2,5,2,0,1,2,2,4,5,1,4,3,2,3,0\n",
    ",5,5,4,1,0,4,2,4,4,3,0,5,2,0,4,1,3,5,0,3,1,5,2,1,1,0,4,5,3,3,3,4,2,5,4,1,1\n",
    ",0,4,3,0,3,2,2,0,0,0,5,3,1,5,3,1,3,0,5,5,0,4,5,2,3,4,2,0,5,1,3,1,0,3,3,2,4\n",
    ",2,0,2,3,5,4,1,5,2,5,3,5,4,3,5,5,1,3,2,0,5,5,5,5,5,4,1,1,0,4,4,5,4,2,3,3,5\n",
    ",5,3,4,3,0,2,2,3,3,5,0,4,1,0,5,2,1,3,1,5,4,1,3,4,1,3,1,1,5,0,5,4,4,0,5,5,5\n",
    ",3,3,3,1,1,1,5,5,5,4,3,1,3,0,3,5,3,3,4,0,4,0,5,2,4,0,1,2,5,5,5,5,0,4,4,5,3\n",
    ",3,4,2,5,3,1,5,4,2,3,2,1,4,2,0,1,2,1,5,3,0,0,3,1,2,5,1,5,3,1,5,5,5,1,2,5,1\n",
    ",5,4,1,5,1,3,2,4,2,3,4,4,3,0,1,5,5,4,5,5,1,5,0,4,5,1,3,3,0,0,3,1,1,1,4,5,1\n",
    ",1,1,4,4,5,0,0,5,4,5,4,4,5,5,3,2,5,5,1,4,2,0,5,1,5,2,1,0,4,4,2,1,4,1,5,0,0\n",
    ",2,3,4,5,5,0,3,0,2,1,1,0,5,0,4,1,1,2,1,2,5,4,4,1,1,3,0,1,4,4,5,4,3,1,3,2,4\n",
    ",1,0,3,3,3,5,5,5,5,2,0,1,4,4,1,3,4,2,5,5,5,5,2,3,5,4,3,3,0,0,0,5,5,5,4,1,5\n",
    ",5,2,4,3,3,2,3,1,5,1,1,5,3,4,0,1,4,0,5,1,0,5,4,5,2,5,4,0,5,1,2,1,4,0,0,3,2\n",
    ",4,1,3,1,4,5,1,5,3,3,4,3,5,0,5,5,5,2,4,4,5,5,5,5,4,2,2,5,0,0,5,4,2,0,4,0,5\n",
    ",1,5,1,2,3,4,5,0,0,5,2,1,4,4,1,3,0,5,5,2,5,4,1,0,2,4,1,3,2,0,5,1,5,5,0,5,2\n",
    ",5,3,3,3,5,0,3,2,3,4,0,3,4,0,5,4,1,3,3,3,3,5,3,1,3,1,3,3,3,5,1,3,1,2,3,1,5\n",
    ",2,2,2,1,1,1,2,4,5,4,3,2,0,4,3,2,3,3,5,0,4,0,4,1,3,1,5,4,3,4,1,3,0,2,1,5,2\n",
    ",1,5,2,1,5,3,4,3,4,1,0,0,4,1,1,4,0,5,5,4,1,0,0,0,4,2,2,1,0,2,1,3,0,4,4,5,4\n",
    ",4,0,5,5,4,4,5,4,4,5,1,3,1,0,5,3,2,1,4,5,1,0,3,3,0,5,5,4,3,1,1,5,4,3,3,3,1\n",
    ",2,0,0,5,1,0,0,4,2,0,5,4,1,3,2,4,5,1,3,3,5,4,2,4,3,2,1,3,4,5,4,5,0,5,4,4,1\n",
    ",5,1,0,3,5,1,0,3,0,5,1,2,4,4,0,4,5,4,3,3,2,4,3,5,1,5,5,4,5,5,5,1,3,0,5,3,0\n",
    ",4,4,2,3,4,1,3,1,5,5,4,4,1,2,3,1,3,1,1,5,4,4,5,2,1,0,4,5,5,3,4,2,2,0,2,1,5\n",
    ",1])"
   ]
  },
  {
   "cell_type": "code",
   "execution_count": 3,
   "id": "f2203281",
   "metadata": {},
   "outputs": [
    {
     "ename": "SyntaxError",
     "evalue": "unexpected EOF while parsing (<ipython-input-3-424a943eeb41>, line 1)",
     "output_type": "error",
     "traceback": [
      "\u001b[0;36m  File \u001b[0;32m\"<ipython-input-3-424a943eeb41>\"\u001b[0;36m, line \u001b[0;32m1\u001b[0m\n\u001b[0;31m    prediction_nn = np.array([\u001b[0m\n\u001b[0m                              ^\u001b[0m\n\u001b[0;31mSyntaxError\u001b[0m\u001b[0;31m:\u001b[0m unexpected EOF while parsing\n"
     ]
    }
   ],
   "source": [
    "prediction_nn = np.array([])"
   ]
  },
  {
   "cell_type": "code",
   "execution_count": null,
   "id": "76cd4592",
   "metadata": {},
   "outputs": [],
   "source": [
    "prediction_rf = np.array([])"
   ]
  },
  {
   "cell_type": "code",
   "execution_count": 4,
   "id": "613e25fe",
   "metadata": {},
   "outputs": [
    {
     "ename": "SyntaxError",
     "evalue": "unexpected EOF while parsing (<ipython-input-4-16aee8071b7a>, line 1)",
     "output_type": "error",
     "traceback": [
      "\u001b[0;36m  File \u001b[0;32m\"<ipython-input-4-16aee8071b7a>\"\u001b[0;36m, line \u001b[0;32m1\u001b[0m\n\u001b[0;31m    prediction_cart = np.array([\u001b[0m\n\u001b[0m                                ^\u001b[0m\n\u001b[0;31mSyntaxError\u001b[0m\u001b[0;31m:\u001b[0m unexpected EOF while parsing\n"
     ]
    }
   ],
   "source": [
    "prediction_cart = np.array([])"
   ]
  },
  {
   "cell_type": "code",
   "execution_count": 5,
   "id": "32b512fa",
   "metadata": {},
   "outputs": [
    {
     "ename": "SyntaxError",
     "evalue": "unexpected EOF while parsing (<ipython-input-5-721c708f63f1>, line 1)",
     "output_type": "error",
     "traceback": [
      "\u001b[0;36m  File \u001b[0;32m\"<ipython-input-5-721c708f63f1>\"\u001b[0;36m, line \u001b[0;32m1\u001b[0m\n\u001b[0;31m    prediction_svc = np.array(\u001b[0m\n\u001b[0m                              ^\u001b[0m\n\u001b[0;31mSyntaxError\u001b[0m\u001b[0;31m:\u001b[0m unexpected EOF while parsing\n"
     ]
    }
   ],
   "source": [
    "prediction_svc = np.array([])"
   ]
  },
  {
   "cell_type": "code",
   "execution_count": 18,
   "id": "ce856550",
   "metadata": {},
   "outputs": [],
   "source": [
    "prediction_gnb = np.array([])"
   ]
  },
  {
   "cell_type": "code",
   "execution_count": 19,
   "id": "5f1a5fae",
   "metadata": {},
   "outputs": [],
   "source": [
    "prediction_lr = np.array([])"
   ]
  },
  {
   "cell_type": "code",
   "execution_count": 20,
   "id": "0232bd29",
   "metadata": {},
   "outputs": [],
   "source": [
    "pred = []\n",
    "uniques = np.unique(y_real)\n",
    "pred.append((\"NN\",prediction_nn))\n",
    "pred.append((\"RF\",prediction_rf))\n",
    "pred.append((\"CART\",prediction_cart))\n",
    "pred.append((\"SVC\",prediction_svc))\n",
    "pred.append((\"GNB\",prediction_gnb))\n",
    "pred.append((\"LR\",prediction_lr))"
   ]
  },
  {
   "cell_type": "code",
   "execution_count": 21,
   "id": "fdfcca41",
   "metadata": {},
   "outputs": [],
   "source": [
    "def classification_report_csv(report, model_name):\n",
    "    report_data = []\n",
    "    lines = report.split('\\n')\n",
    "    index = 0\n",
    "    row = lines[-4].split('    ')\n",
    "    accuracy = row[-2]\n",
    "    for line in lines[2:-5]:\n",
    "        row = {}\n",
    "        row_data = line.split('      ')\n",
    "        row['class'] = uniques[index]\n",
    "        row['precision'] = float(row_data[2]) \n",
    "        row['recall'] = float(row_data[3]) \n",
    "        row['f1_score'] = float(row_data[4])\n",
    "        row['accuracy'] = accuracy\n",
    "        report_data.append(row)\n",
    "        index += 1\n",
    "    dataframe = pd.DataFrame.from_dict(report_data)\n",
    "    dataframe.to_csv( 'evaluations/'+'classification_report' + model_name +  '.csv', index = False)\n"
   ]
  },
  {
   "cell_type": "code",
   "execution_count": 22,
   "id": "e0ccf46e",
   "metadata": {},
   "outputs": [
    {
     "name": "stdout",
     "output_type": "stream",
     "text": [
      "NN: \n",
      "\n",
      "              precision    recall  f1-score   support\n",
      "\n",
      "           0       0.93      0.81      0.86       360\n",
      "           1       0.83      0.94      0.88       360\n",
      "\n",
      "    accuracy                           0.87       720\n",
      "   macro avg       0.88      0.87      0.87       720\n",
      "weighted avg       0.88      0.87      0.87       720\n",
      "\n",
      "-----------------------\n",
      "RF: \n",
      "\n",
      "              precision    recall  f1-score   support\n",
      "\n",
      "           0       0.97      0.96      0.97       360\n",
      "           1       0.96      0.97      0.97       360\n",
      "\n",
      "    accuracy                           0.97       720\n",
      "   macro avg       0.97      0.97      0.97       720\n",
      "weighted avg       0.97      0.97      0.97       720\n",
      "\n",
      "-----------------------\n",
      "CART: \n",
      "\n",
      "              precision    recall  f1-score   support\n",
      "\n",
      "           0       0.89      0.90      0.89       360\n",
      "           1       0.90      0.89      0.89       360\n",
      "\n",
      "    accuracy                           0.89       720\n",
      "   macro avg       0.89      0.89      0.89       720\n",
      "weighted avg       0.89      0.89      0.89       720\n",
      "\n",
      "-----------------------\n",
      "SVC: \n",
      "\n",
      "              precision    recall  f1-score   support\n",
      "\n",
      "           0       0.50      1.00      0.67       360\n",
      "           1       0.00      0.00      0.00       360\n",
      "\n",
      "    accuracy                           0.50       720\n",
      "   macro avg       0.25      0.50      0.33       720\n",
      "weighted avg       0.25      0.50      0.33       720\n",
      "\n",
      "-----------------------\n",
      "GNB: \n",
      "\n",
      "              precision    recall  f1-score   support\n",
      "\n",
      "           0       0.50      1.00      0.67       360\n",
      "           1       0.00      0.00      0.00       360\n",
      "\n",
      "    accuracy                           0.50       720\n",
      "   macro avg       0.25      0.50      0.33       720\n",
      "weighted avg       0.25      0.50      0.33       720\n",
      "\n",
      "-----------------------\n",
      "LR: \n",
      "\n",
      "              precision    recall  f1-score   support\n",
      "\n",
      "           0       0.49      0.46      0.48       360\n",
      "           1       0.49      0.53      0.51       360\n",
      "\n",
      "    accuracy                           0.49       720\n",
      "   macro avg       0.49      0.49      0.49       720\n",
      "weighted avg       0.49      0.49      0.49       720\n",
      "\n",
      "-----------------------\n"
     ]
    }
   ],
   "source": [
    "for name, preds in pred:\n",
    "    print(name + \": \\n\")\n",
    "    report = metrics.classification_report(y_real, preds)\n",
    "    print(report)\n",
    "    classification_report_csv(report, name)\n",
    "    print(\"-----------------------\")"
   ]
  },
  {
   "cell_type": "code",
   "execution_count": null,
   "id": "e10cfd22",
   "metadata": {},
   "outputs": [],
   "source": []
  },
  {
   "cell_type": "code",
   "execution_count": null,
   "id": "8e865923",
   "metadata": {},
   "outputs": [],
   "source": []
  }
 ],
 "metadata": {
  "kernelspec": {
   "display_name": "Python 3",
   "language": "python",
   "name": "python3"
  },
  "language_info": {
   "codemirror_mode": {
    "name": "ipython",
    "version": 3
   },
   "file_extension": ".py",
   "mimetype": "text/x-python",
   "name": "python",
   "nbconvert_exporter": "python",
   "pygments_lexer": "ipython3",
   "version": "3.6.13"
  }
 },
 "nbformat": 4,
 "nbformat_minor": 5
}
