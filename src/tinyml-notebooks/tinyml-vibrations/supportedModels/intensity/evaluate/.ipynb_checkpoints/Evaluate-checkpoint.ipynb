{
 "cells": [
  {
   "cell_type": "code",
   "execution_count": 1,
   "id": "6448e73e",
   "metadata": {},
   "outputs": [],
   "source": [
    "import numpy as np\n",
    "import sklearn.metrics as metrics"
   ]
  },
  {
   "cell_type": "code",
   "execution_count": 2,
   "id": "ab75d5e3",
   "metadata": {},
   "outputs": [],
   "source": [
    "y_real = np.array([0, 0, 1, 2, 1, 1, 1, 1, 2, 0, 0, 2, 2, 0, 0, 0, 2, 2, 1, 1, 0, 1, 2, 1, 2, 2, 2, 0, 2, 2, 1, 1, 0, 1, 0, 2, 0, 1, 2, 1, 1, 0, 0, 1, 0, 2, 0, 0, 0, 2, 1, 1, 0, 2, 0, 2, 2, 1, 1, 1, 0, 1, 1, 2, 2, 2, 0, 2, 1, 2, 1, 2, 1, 1, 2, 0, 2, 0, 2, 2, 1, 0, 1, 0, 1, 0, 0, 2, 0, 0, 1, 1, 2, 1, 2, 2, 1, 0, 2, 0, 1, 2, 1, 0, 1, 0, 0, 2, 1, 0, 0, 1, 0, 1, 0, 2, 0, 2, 2, 2])"
   ]
  },
  {
   "cell_type": "code",
   "execution_count": null,
   "id": "fb679979",
   "metadata": {},
   "outputs": [],
   "source": [
    "prediction_nn = np.array([])"
   ]
  },
  {
   "cell_type": "code",
   "execution_count": 3,
   "id": "77b04a22",
   "metadata": {},
   "outputs": [],
   "source": [
    "prediction_rf = np.array([0, 0, 1, 2, 1, 1, 1, 1, 2, 0, 0, 2, 2, 0, 0, 0, 2, 2, 1, 1, 0, 1, 2, 1, 2, 2, 2, 0, 2, 2, 1, 1, 0, 1, 0, 2, 0, 1, 2, 1, 0, 0, 0, 1, 0, 2, 0, 0, 0, 2, 1, 1, 0, 2, 0, 2, 2, 1, 1, 1, 0, 1, 1, 2, 2, 2, 0, 2, 1, 2, 1, 2, 1, 1, 2, 0, 2, 0, 2, 2, 1, 0, 2, 0, 1, 0, 0, 2, 0, 0, 1, 1, 2, 1, 2, 2, 1, 0, 2, 0, 1, 2, 1, 0, 1, 0, 0, 2, 1, 0, 0, 1, 0, 1, 0, 2, 0, 2, 2, 2])"
   ]
  },
  {
   "cell_type": "code",
   "execution_count": 4,
   "id": "feb4f94a",
   "metadata": {},
   "outputs": [],
   "source": [
    "prediction_cart = np.array([0, 0, 1, 2, 1, 0, 1, 1, 2, 0, 0, 1, 2, 0, 0, 0, 2, 2, 1, 1, 0, 1, 2, 1, 2, 2, 2, 0, 2, 2, 1, 1, 0, 1, 0, 2, 0, 1, 2, 1, 0, 0, 0, 1, 0, 2, 0, 0, 0, 2, 1, 1, 0, 2, 0, 2, 2, 1, 1, 1, 0, 0, 1, 2, 2, 2, 0, 2, 1, 2, 1, 2, 2, 1, 2, 0, 2, 0, 2, 2, 1, 0, 2, 0, 1, 0, 0, 2, 0, 0, 1, 1, 2, 1, 2, 1, 1, 0, 2, 0, 1, 2, 1, 0, 1, 0, 0, 2, 1, 0, 0, 1, 0, 1, 0, 2, 0, 1, 2, 2,])"
   ]
  },
  {
   "cell_type": "code",
   "execution_count": 5,
   "id": "9215f754",
   "metadata": {},
   "outputs": [],
   "source": [
    "prediction_svc = np.array([0, 0, 1, 2, 1, 1, 1, 1, 2, 0, 0, 1, 2, 0, 0, 0, 2, 2, 1, 1, 0, 1, 2, 1, 2, 2, 2, 0, 2, 2, 1, 1, 0, 2, 0, 2, 0, 1, 2, 1, 0, 0, 0, 1, 0, 2, 0, 0, 0, 2, 1, 1, 0, 2, 1, 2, 2, 1, 1, 1, 1, 1, 1, 2, 2, 2, 0, 2, 1, 2, 1, 2, 2, 1, 2, 0, 2, 0, 2, 2, 1, 0, 2, 0, 1, 0, 0, 2, 0, 0, 1, 1, 2, 1, 2, 1, 1, 0, 2, 1, 1, 2, 1, 0, 1, 0, 0, 2, 1, 0, 0, 1, 0, 1, 0, 2, 0, 1, 2, 2, ])"
   ]
  },
  {
   "cell_type": "code",
   "execution_count": null,
   "id": "02666320",
   "metadata": {},
   "outputs": [],
   "source": [
    "prediction_gnb = np.array([])"
   ]
  },
  {
   "cell_type": "code",
   "execution_count": null,
   "id": "2bd0dec1",
   "metadata": {},
   "outputs": [],
   "source": [
    "prediction_lr = np.array([])"
   ]
  }
 ],
 "metadata": {
  "kernelspec": {
   "display_name": "Python 3",
   "language": "python",
   "name": "python3"
  },
  "language_info": {
   "codemirror_mode": {
    "name": "ipython",
    "version": 3
   },
   "file_extension": ".py",
   "mimetype": "text/x-python",
   "name": "python",
   "nbconvert_exporter": "python",
   "pygments_lexer": "ipython3",
   "version": "3.6.13"
  }
 },
 "nbformat": 4,
 "nbformat_minor": 5
}
