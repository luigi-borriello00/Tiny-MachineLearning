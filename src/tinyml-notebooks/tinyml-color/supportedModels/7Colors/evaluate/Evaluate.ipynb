{
 "cells": [
  {
   "cell_type": "code",
   "execution_count": 17,
   "id": "19a52fc4",
   "metadata": {},
   "outputs": [],
   "source": [
    "import numpy as np\n",
    "import pandas as pd\n",
    "import sklearn.metrics as metrics"
   ]
  },
  {
   "cell_type": "code",
   "execution_count": 18,
   "id": "5c1161ab",
   "metadata": {},
   "outputs": [],
   "source": [
    "labels = [\"#229658\", \"#30A161\", \"#3DAB6B\",  \"#49B675\", \"#55C17F\", \"#60CC89\", \"#6BD793\"]"
   ]
  },
  {
   "cell_type": "code",
   "execution_count": 19,
   "id": "97bfc5db",
   "metadata": {},
   "outputs": [],
   "source": [
    "y_real = np.array([5, 1, 1, 3, 6, 1, 5, 3, 2, 2, 5, 5, 6, 0, 2, 1, 6, 6, 5, 4, 3, 3, 1, 1, 3, 4, 5, 5, 6, 1, 0, 0, 6, 5, 0, 2, 6\n",
    ", 2, 4, 1, 6, 2, 1, 1, 6, 6, 0, 4, 4, 4, 4, 2, 0, 0, 1, 4, 0, 4, 6, 6, 5, 5, 1, 0, 4, 0, 1, 6, 1, 3, 5, 4, 1, 1\n",
    ", 0, 0, 5, 2, 2, 0, 6, 3, 4, 3, 3, 0, 2, 3, 6, 1, 2, 5, 5, 5, 2, 1, 1, 2, 4, 4, 3, 2, 1, 2, 4, 2, 1, 6, 5, 4, 1\n",
    ", 0, 4, 2, 4, 0, 3, 4, 2, 1, 4, 1, 3, 5, 6, 3, 2, 3, 1, 5, 0, 5, 1, 0, 0, 2, 3, 0, 0, 3, 5, 3, 3, 4, 4, 2, 1, 1\n",
    ", 6, 1, 0, 6, 3, 0, 5, 1, 1, 2, 5, 3, 6, 2, 1, 3, 6, 6, 6, 6, 2, 5, 1, 5, 3, 4, 0, 4, 3, 1, 3, 2, 5, 4, 3, 0, 2\n",
    ", 2, 6, 0, 3, 0, 0, 2, 4, 0, 4, 2, 4, 4, 4, 5, 1, 2, 6, 2, 1, 0, 4, 5, 6, 0, 5, 0, 0, 2, 6, 2, 3, 2, 5, 3, 3, 2\n",
    ", 1, 6, 3, 5, 3, 5, 0, 4, 0, 0, 6, 5, 6, 3, 5, 6, 2, 2, 4, 4, 0, 4, 5, 5, 3, 6, 0, 2, 6, 6, 3, 6, 1, 5, 3, 4, 0\n",
    ", 0, 5, 3, 4, 6, 3, 4, 3, 6, 6, 4, 2, 5, 4, 2, 1, 1, 6, 3, 5, 5])"
   ]
  },
  {
   "cell_type": "code",
   "execution_count": 20,
   "id": "f2203281",
   "metadata": {},
   "outputs": [],
   "source": [
    "prediction_nn = np.array([3, 1, 1, 5, 6, 1, 5, 5, 5, 2, 5, 5, 3, 2, 1, 1, 6, 6, 3, 4, 5, 3, 1, 1, 5, 3, 4, 3, 3, 1, 2, 1, 6, 5, 3, 1, 6, 1, 3, 1, 3, 1, 1, 1, 3, 6, 1, 2, 5, 2, 4, 1, 2, 2, 1, 3, 1, 2, 6, 6, 5, 5, 1, 5, 3, 0, 1, 6, 1, 5, 5, 3, 1, 1, 1, 1, 3, 1, 3, 1, 6, 6, 1, 5, 3, 3, 2, 3, 3, 1, 2, 5, 3, 5, 2, 1, 1, 0, 2, 4, 6, 1, 1, 1, 4, 1, 1, 3, 5, 3, 1, 2, 3, 2, 3, 1, 3, 2, 3, 1, 3, 1, 3, 3, 6, 5, 1, 3, 1, 5, 2, 5, 1, 3, 5, 2, 3, 2, 2, 3, 5, 6, 3, 2, 5, 2, 1, 1, 6, 1, 1, 6, 3, 2, 3, 1, 1, 1, 3, 5, 6, 1, 1, 5, 6, 3, 6, 6, 2, 5, 1, 5, 3, 2, 3, 2, 5, 1, 3, 1, 5, 1, 5, 1, 2, 2, 6, 0, 5, 1, 1, 2, 4, 1, 4, 5, 3, 4, 4, 5, 1, 2, 6, 2, 1, 5, 2, 1, 6, 2, 5, 3, 3, 1, 6, 2, 3, 1, 5, 5, 5, 2, 1, 6, 6, 3, 3, 5, 5, 3, 5, 1, 3, 3, 6, 3, 5, 6, 2, 2, 4, 3, 1, 3, 5, 5, 3, 6, 2, 1, 6, 6, 6, 3, 2, 5, 5, 2, 2, 1, 1, 3, 5, 6, 2, 3, 3, 3, 6, 3, 2, 5, 2, 1, 1, 1, 6, 5, 5, 1, ])"
   ]
  },
  {
   "cell_type": "code",
   "execution_count": 21,
   "id": "76cd4592",
   "metadata": {},
   "outputs": [],
   "source": [
    "prediction_rf = np.array([5, 1, 1, 5, 6, 1, 5, 3, 2, 0, 5, 5, 6, 4, 1, 1, 6, 6, 4, 4, 5, 6, 1, 1, 5, 4, 4, 3, 6, 1, 0, 1, 6, 5, 0, 1, 6, 1, 4, 1, 6, 0, 1, 1, 6, 6, 0, 4, 5, 4, 4, 1, 0, 0, 1, 4, 1, 4, 6, 6, 5, 5, 1, 2, 4, 0, 1, 6, 1, 5, 5, 4, 1, 1, 0, 1, 4, 1, 2, 0, 6, 3, 1, 5, 3, 0, 0, 3, 6, 1, 2, 5, 4, 5, 0, 1, 1, 0, 4, 4, 3, 1, 1, 1, 4, 1, 1, 6, 5, 4, 1, 2, 4, 4, 4, 0, 3, 4, 0, 1, 4, 1, 3, 5, 6, 5, 1, 5, 1, 5, 0, 5, 1, 0, 0, 0, 4, 0, 0, 3, 5, 3, 3, 4, 5, 4, 1, 1, 6, 1, 0, 6, 3, 0, 4, 1, 1, 1, 4, 5, 6, 1, 1, 5, 6, 6, 6, 6, 2, 5, 1, 3, 3, 2, 0, 4, 5, 1, 4, 1, 5, 1, 5, 1, 4, 4, 6, 0, 5, 0, 1, 2, 4, 1, 4, 2, 4, 4, 4, 5, 1, 2, 6, 2, 1, 0, 4, 4, 6, 0, 5, 0, 0, 1, 6, 2, 3, 1, 5, 5, 3, 2, 1, 6, 3, 4, 6, 3, 2, 4, 2, 1, 5, 5, 6, 3, 5, 6, 2, 2, 4, 4, 1, 3, 5, 5, 4, 6, 4, 1, 6, 6, 3, 6, 4, 5, 5, 4, 0, 0, 4, 3, 5, 6, 4, 4, 3, 6, 6, 4, 2, 5, 4, 1, 1, 1, 6, 3, 5, 4,])"
   ]
  },
  {
   "cell_type": "code",
   "execution_count": 22,
   "id": "613e25fe",
   "metadata": {},
   "outputs": [],
   "source": [
    "prediction_cart = np.array([5, 1, 1, 5, 6, 1, 5, 3, 2, 0, 5, 5, 6, 4, 1, 1, 6, 6, 4, 4, 5, 6, 1, 1, 5, 4, 4, 5, 6, 1, 0, 1, 6, 5, 0, 2, 6, 2, 4, 1, 6, 0, 1, 2, 6, 6, 0, 4, 5, 4, 4, 2, 0, 0, 1, 4, 2, 4, 6, 6, 5, 5, 1, 2, 4, 0, 1, 3, 2, 5, 5, 4, 2, 1, 0, 1, 4, 2, 2, 0, 6, 3, 2, 5, 5, 0, 0, 3, 6, 1, 2, 5, 4, 5, 0, 1, 1, 0, 4, 4, 3, 1, 1, 1, 4, 1, 1, 6, 5, 4, 1, 0, 4, 4, 4, 0, 3, 4, 0, 2, 4, 1, 3, 5, 6, 5, 1, 5, 1, 5, 0, 5, 1, 0, 0, 0, 4, 0, 0, 3, 5, 3, 3, 4, 5, 4, 2, 1, 6, 1, 0, 6, 3, 0, 4, 1, 1, 1, 4, 5, 6, 2, 1, 5, 6, 6, 6, 6, 0, 5, 2, 3, 3, 0, 0, 4, 5, 1, 4, 1, 5, 1, 5, 1, 4, 4, 3, 0, 5, 0, 2, 0, 4, 1, 4, 2, 4, 4, 4, 5, 2, 2, 6, 2, 2, 0, 4, 4, 6, 0, 5, 0, 0, 1, 6, 0, 3, 1, 5, 5, 3, 0, 1, 6, 3, 4, 6, 3, 2, 4, 2, 2, 5, 5, 6, 3, 5, 6, 2, 2, 4, 4, 1, 5, 5, 5, 4, 6, 4, 2, 6, 6, 3, 6, 4, 5, 5, 4, 0, 0, 4, 3, 5, 6, 4, 4, 5, 6, 6, 4, 2, 5, 4, 2, 1, 1, 6, 3, 5, 4,])"
   ]
  },
  {
   "cell_type": "code",
   "execution_count": 23,
   "id": "32b512fa",
   "metadata": {},
   "outputs": [],
   "source": [
    "prediction_svc = np.array([5, 1, 1, 5, 6, 1, 5, 3, 2, 0, 5, 5, 6, 4, 1, 1, 6, 6, 4, 4, 5, 6, 1, 1, 5, 5, 4, 5, 6, 1, 0, 1, 6, 5, 0, 2, 6, 2, 4, 1, 6, 0, 1, 2, 6, 3, 0, 4, 5, 4, 4, 2, 0, 0, 1, 4, 2, 4, 6, 6, 5, 5, 1, 2, 4, 3, 1, 6, 2, 5, 5, 4, 2, 1, 0, 1, 4, 2, 2, 0, 6, 3, 2, 5, 5, 0, 0, 3, 6, 1, 2, 5, 4, 5, 0, 1, 1, 3, 4, 4, 3, 1, 1, 1, 4, 1, 1, 6, 5, 4, 1, 2, 4, 4, 4, 0, 3, 4, 0, 2, 4, 1, 3, 5, 6, 5, 1, 3, 1, 5, 0, 5, 1, 0, 0, 0, 4, 0, 0, 3, 5, 3, 3, 4, 5, 4, 2, 1, 6, 1, 0, 6, 3, 0, 4, 1, 1, 1, 4, 5, 6, 2, 1, 5, 6, 6, 6, 6, 2, 5, 2, 3, 3, 2, 0, 4, 5, 1, 4, 1, 5, 1, 5, 1, 2, 4, 3, 3, 5, 0, 2, 2, 4, 1, 4, 2, 4, 4, 4, 5, 2, 2, 6, 2, 2, 0, 4, 4, 6, 0, 5, 0, 0, 3, 6, 2, 3, 1, 5, 5, 3, 2, 1, 6, 3, 4, 6, 3, 2, 4, 2, 2, 3, 6, 6, 3, 5, 6, 2, 2, 4, 4, 1, 5, 5, 5, 4, 6, 4, 2, 6, 6, 3, 6, 4, 5, 5, 4, 3, 0, 4, 3, 5, 6, 4, 4, 5, 6, 6, 4, 2, 5, 4, 2, 1, 1, 6, 3, 5, 4,])"
   ]
  },
  {
   "cell_type": "code",
   "execution_count": 24,
   "id": "ce856550",
   "metadata": {},
   "outputs": [],
   "source": [
    "prediction_gnb = np.array([5, 1, 1, 5, 5, 5, 4, 5, 4, 4, 4, 5, 5, 4, 5, 5, 5, 3, 4, 4, 5, 5, 5, 1, 5, 4, 4, 4, 5, 5, 4, 5, 3, 5, 4, 5, 5, 5, 4, 5, 5, 5, 5, 5, 3, 5, 1, 4, 4, 4, 4, 5, 4, 4, 5, 4, 5, 4, 5, 5, 4, 5, 1, 4, 4, 0, 1, 3, 5, 5, 5, 4, 5, 5, 5, 5, 4, 5, 5, 5, 5, 5, 5, 5, 4, 5, 4, 5, 5, 5, 4, 5, 4, 5, 4, 1, 5, 4, 4, 4, 5, 5, 1, 1, 4, 5, 5, 5, 5, 4, 5, 4, 4, 4, 4, 5, 3, 4, 4, 5, 4, 5, 5, 5, 5, 5, 5, 5, 1, 4, 4, 5, 1, 4, 4, 4, 4, 4, 4, 5, 5, 5, 5, 4, 4, 4, 5, 5, 3, 5, 5, 5, 5, 4, 4, 1, 5, 5, 4, 5, 5, 5, 5, 4, 3, 5, 5, 5, 4, 4, 5, 5, 5, 4, 4, 4, 5, 1, 4, 5, 4, 5, 5, 1, 4, 4, 5, 0, 5, 1, 5, 4, 4, 5, 4, 4, 4, 4, 4, 4, 5, 4, 5, 4, 5, 4, 4, 5, 5, 4, 4, 5, 5, 1, 5, 4, 5, 5, 5, 4, 5, 4, 1, 5, 5, 4, 5, 5, 4, 4, 5, 5, 5, 5, 5, 5, 5, 5, 4, 4, 4, 4, 5, 4, 4, 4, 4, 5, 4, 5, 5, 3, 5, 5, 4, 4, 5, 4, 4, 5, 5, 5, 4, 3, 4, 4, 4, 3, 5, 4, 4, 5, 4, 5, 5, 5, 5, 5, 5, 5,])"
   ]
  },
  {
   "cell_type": "code",
   "execution_count": 25,
   "id": "5f1a5fae",
   "metadata": {},
   "outputs": [],
   "source": [
    "prediction_lr = np.array([5, 1, 1, 3, 6, 4, 5, 3, 5, 0, 5, 3, 3, 0, 2, 2, 6, 5, 3, 3, 3, 3, 2, 1, 3, 3, 3, 3, 3, 2, 0, 2, 4, 3, 3, 2, 6, 2, 3, 2, 3, 2, 2, 2, 2, 6, 1, 0, 5, 0, 3, 2, 0, 0, 2, 3, 2, 0, 6, 6, 5, 3, 1, 5, 3, 0, 4, 3, 2, 3, 3, 3, 2, 2, 2, 2, 3, 2, 3, 2, 6, 6, 2, 3, 3, 3, 0, 3, 3, 2, 1, 3, 3, 3, 0, 1, 2, 2, 0, 3, 6, 2, 1, 1, 3, 2, 2, 3, 3, 3, 2, 1, 3, 0, 3, 2, 2, 0, 5, 2, 3, 2, 3, 3, 6, 3, 2, 3, 1, 5, 0, 3, 1, 3, 5, 0, 3, 0, 0, 3, 3, 6, 3, 0, 5, 0, 2, 2, 4, 2, 2, 6, 3, 0, 3, 1, 2, 2, 3, 3, 6, 2, 4, 5, 5, 3, 6, 6, 1, 5, 2, 3, 3, 1, 3, 0, 3, 1, 3, 2, 5, 4, 3, 1, 0, 0, 6, 0, 3, 1, 2, 1, 3, 2, 3, 5, 3, 3, 3, 5, 2, 0, 6, 1, 2, 5, 1, 2, 6, 0, 5, 3, 3, 1, 6, 1, 3, 2, 3, 5, 3, 1, 1, 6, 6, 3, 3, 3, 5, 3, 3, 2, 3, 3, 6, 3, 3, 6, 1, 1, 3, 3, 2, 3, 5, 5, 3, 6, 0, 2, 6, 4, 6, 3, 0, 5, 3, 0, 2, 2, 2, 3, 5, 3, 0, 3, 3, 2, 6, 3, 1, 3, 0, 2, 2, 2, 6, 3, 3, 2,])"
   ]
  },
  {
   "cell_type": "code",
   "execution_count": 26,
   "id": "0232bd29",
   "metadata": {},
   "outputs": [],
   "source": [
    "pred = []\n",
    "uniques = np.unique(y_real)\n",
    "pred.append((\"NN\",prediction_nn))\n",
    "pred.append((\"RF\",prediction_rf))\n",
    "pred.append((\"CART\",prediction_cart))\n",
    "pred.append((\"SVC\",prediction_svc))\n",
    "pred.append((\"GNB\",prediction_gnb))\n",
    "pred.append((\"LR\",prediction_lr))"
   ]
  },
  {
   "cell_type": "code",
   "execution_count": 27,
   "id": "fdfcca41",
   "metadata": {},
   "outputs": [],
   "source": [
    "def classification_report_csv(report, model_name):\n",
    "    report_data = []\n",
    "    lines = report.split('\\n')\n",
    "    index = 0\n",
    "    row = lines[-4].split('    ')\n",
    "    accuracy = row[-2]\n",
    "    for line in lines[2:-5]:\n",
    "        row = {}\n",
    "        row_data = line.split('      ')\n",
    "        row['class'] = labels[index]\n",
    "        row['precision'] = float(row_data[2]) \n",
    "        row['recall'] = float(row_data[3]) \n",
    "        row['f1_score'] = float(row_data[4])\n",
    "        row['accuracy'] = accuracy\n",
    "        report_data.append(row)\n",
    "        index += 1\n",
    "    dataframe = pd.DataFrame.from_dict(report_data)\n",
    "    dataframe.to_csv( 'evaluations/'+'classification_report' + model_name +  '.csv', index = False)\n"
   ]
  },
  {
   "cell_type": "code",
   "execution_count": 28,
   "id": "e0ccf46e",
   "metadata": {},
   "outputs": [
    {
     "name": "stdout",
     "output_type": "stream",
     "text": [
      "NN: \n",
      "\n",
      "              precision    recall  f1-score   support\n",
      "\n",
      "           0       0.67      0.05      0.09        40\n",
      "           1       0.51      0.97      0.67        40\n",
      "           2       0.42      0.45      0.43        40\n",
      "           3       0.30      0.45      0.36        40\n",
      "           4       0.90      0.23      0.36        40\n",
      "           5       0.50      0.65      0.57        40\n",
      "           6       0.86      0.75      0.80        40\n",
      "\n",
      "    accuracy                           0.51       280\n",
      "   macro avg       0.59      0.51      0.47       280\n",
      "weighted avg       0.59      0.51      0.47       280\n",
      "\n",
      "-----------------------\n",
      "RF: \n",
      "\n",
      "              precision    recall  f1-score   support\n",
      "\n",
      "           0       0.79      0.65      0.71        40\n",
      "           1       0.60      0.97      0.74        40\n",
      "           2       0.72      0.33      0.45        40\n",
      "           3       0.83      0.50      0.62        40\n",
      "           4       0.61      0.82      0.70        40\n",
      "           5       0.60      0.68      0.64        40\n",
      "           6       0.95      0.97      0.96        40\n",
      "\n",
      "    accuracy                           0.70       280\n",
      "   macro avg       0.73      0.70      0.69       280\n",
      "weighted avg       0.73      0.70      0.69       280\n",
      "\n",
      "-----------------------\n",
      "CART: \n",
      "\n",
      "              precision    recall  f1-score   support\n",
      "\n",
      "           0       0.69      0.68      0.68        40\n",
      "           1       0.67      0.78      0.72        40\n",
      "           2       0.52      0.40      0.45        40\n",
      "           3       0.82      0.45      0.58        40\n",
      "           4       0.61      0.82      0.70        40\n",
      "           5       0.57      0.70      0.63        40\n",
      "           6       0.95      0.93      0.94        40\n",
      "\n",
      "    accuracy                           0.68       280\n",
      "   macro avg       0.69      0.68      0.67       280\n",
      "weighted avg       0.69      0.68      0.67       280\n",
      "\n",
      "-----------------------\n",
      "SVC: \n",
      "\n",
      "              precision    recall  f1-score   support\n",
      "\n",
      "           0       0.79      0.57      0.67        40\n",
      "           1       0.69      0.78      0.73        40\n",
      "           2       0.55      0.53      0.54        40\n",
      "           3       0.66      0.47      0.55        40\n",
      "           4       0.62      0.80      0.70        40\n",
      "           5       0.57      0.68      0.62        40\n",
      "           6       0.93      0.93      0.93        40\n",
      "\n",
      "    accuracy                           0.68       280\n",
      "   macro avg       0.69      0.68      0.68       280\n",
      "weighted avg       0.69      0.68      0.68       280\n",
      "\n",
      "-----------------------\n",
      "GNB: \n",
      "\n",
      "              precision    recall  f1-score   support\n",
      "\n",
      "           0       1.00      0.05      0.10        40\n",
      "           1       0.71      0.30      0.42        40\n",
      "           2       0.00      0.00      0.00        40\n",
      "           3       0.10      0.03      0.04        40\n",
      "           4       0.36      0.95      0.52        40\n",
      "           5       0.15      0.53      0.23        40\n",
      "           6       0.00      0.00      0.00        40\n",
      "\n",
      "    accuracy                           0.26       280\n",
      "   macro avg       0.33      0.26      0.19       280\n",
      "weighted avg       0.33      0.26      0.19       280\n",
      "\n",
      "-----------------------\n",
      "LR: \n",
      "\n",
      "              precision    recall  f1-score   support\n",
      "\n",
      "           0       0.38      0.30      0.33        40\n",
      "           1       0.39      0.28      0.32        40\n",
      "           2       0.26      0.40      0.32        40\n",
      "           3       0.32      0.78      0.45        40\n",
      "           4       0.14      0.03      0.04        40\n",
      "           5       0.46      0.30      0.36        40\n",
      "           6       0.82      0.57      0.68        40\n",
      "\n",
      "    accuracy                           0.38       280\n",
      "   macro avg       0.40      0.38      0.36       280\n",
      "weighted avg       0.40      0.38      0.36       280\n",
      "\n",
      "-----------------------\n"
     ]
    },
    {
     "name": "stderr",
     "output_type": "stream",
     "text": [
      "/home/sakka/anaconda3/envs/ts/lib/python3.6/site-packages/sklearn/metrics/_classification.py:1248: UndefinedMetricWarning: Precision and F-score are ill-defined and being set to 0.0 in labels with no predicted samples. Use `zero_division` parameter to control this behavior.\n",
      "  _warn_prf(average, modifier, msg_start, len(result))\n",
      "/home/sakka/anaconda3/envs/ts/lib/python3.6/site-packages/sklearn/metrics/_classification.py:1248: UndefinedMetricWarning: Precision and F-score are ill-defined and being set to 0.0 in labels with no predicted samples. Use `zero_division` parameter to control this behavior.\n",
      "  _warn_prf(average, modifier, msg_start, len(result))\n",
      "/home/sakka/anaconda3/envs/ts/lib/python3.6/site-packages/sklearn/metrics/_classification.py:1248: UndefinedMetricWarning: Precision and F-score are ill-defined and being set to 0.0 in labels with no predicted samples. Use `zero_division` parameter to control this behavior.\n",
      "  _warn_prf(average, modifier, msg_start, len(result))\n"
     ]
    }
   ],
   "source": [
    "for name, preds in pred:\n",
    "    print(name + \": \\n\")\n",
    "    report = metrics.classification_report(y_real, preds)\n",
    "    print(report)\n",
    "    classification_report_csv(report, name)\n",
    "    print(\"-----------------------\")"
   ]
  }
 ],
 "metadata": {
  "kernelspec": {
   "display_name": "Python 3",
   "language": "python",
   "name": "python3"
  },
  "language_info": {
   "codemirror_mode": {
    "name": "ipython",
    "version": 3
   },
   "file_extension": ".py",
   "mimetype": "text/x-python",
   "name": "python",
   "nbconvert_exporter": "python",
   "pygments_lexer": "ipython3",
   "version": "3.6.13"
  }
 },
 "nbformat": 4,
 "nbformat_minor": 5
}
