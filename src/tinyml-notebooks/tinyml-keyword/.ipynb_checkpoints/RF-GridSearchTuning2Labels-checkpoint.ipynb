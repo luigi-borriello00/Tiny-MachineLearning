{
 "cells": [
  {
   "cell_type": "markdown",
   "id": "8139cab4",
   "metadata": {},
   "source": [
    "# Tuning with Grid Search - Random Forest (150 samples)"
   ]
  },
  {
   "cell_type": "markdown",
   "id": "cfa2c7db",
   "metadata": {},
   "source": [
    "## 01- Import and Prepare Data"
   ]
  },
  {
   "cell_type": "code",
   "execution_count": 7,
   "id": "aa6efbc3",
   "metadata": {},
   "outputs": [
    {
     "name": "stdout",
     "output_type": "stream",
     "text": [
      "(300, 32)\n"
     ]
    }
   ],
   "source": [
    "# Load libraries\n",
    "import numpy as np\n",
    "import pickle\n",
    "#\n",
    "import matplotlib.pyplot as plt\n",
    "import pandas as pd\n",
    "\n",
    "from sklearn.metrics import confusion_matrix,  classification_report, f1_score, accuracy_score\n",
    "\n",
    "from sklearn.model_selection import train_test_split, KFold,StratifiedKFold, cross_val_score, GridSearchCV\n",
    "from sklearn.pipeline import Pipeline\n",
    "from sklearn.preprocessing import StandardScaler, RobustScaler\n",
    "\n",
    "import tensorflow\n",
    "from sklearn.ensemble import RandomForestClassifier\n",
    "\n",
    "import warnings\n",
    "import seaborn as sbs\n",
    "import sys\n",
    "\n",
    "warnings.filterwarnings('ignore')\n",
    "\n",
    "RANDOM_SEED = 42\n",
    "np.random.seed(RANDOM_SEED)\n",
    "tensorflow.random.set_seed(RANDOM_SEED)\n",
    "np.set_printoptions(threshold=sys.maxsize)\n",
    "\n",
    "with open('data/X2.pkl', 'rb') as f:\n",
    "    X = pickle.load(f)\n",
    "\n",
    "with open('data/y2.pkl', 'rb') as f:\n",
    "    y = pickle.load(f)\n",
    "    \n",
    "labels = 2\n",
    "samples = 150\n",
    "X = X[:labels*samples]\n",
    "y = y[:labels*samples]\n",
    "\n",
    "classes = np.unique(y).tolist()\n",
    "for i in range(len(classes)):\n",
    "    y = np.where(y==classes[i], i, y)\n",
    "    \n",
    "X_train, X_test, y_train, y_test = train_test_split(X, y, test_size=0.2, stratify=y, random_state=RANDOM_SEED)\n",
    "\n",
    "y = np.array(y)\n",
    "\n",
    "scaler = RobustScaler()\n",
    "X_train = scaler.fit_transform(X_train)\n",
    "X_test = scaler.transform(X_test)\n",
    "print(X.shape)"
   ]
  },
  {
   "cell_type": "markdown",
   "id": "6fcb18f2",
   "metadata": {},
   "source": [
    "## 02 - Prepare hyperparameters"
   ]
  },
  {
   "cell_type": "code",
   "execution_count": 8,
   "id": "0e19e750",
   "metadata": {},
   "outputs": [],
   "source": [
    "# Load the model parameters to be test \n",
    "model_params = {\n",
    "    'n_estimators': np.arange(50, 300, 50),\n",
    "    'max_features':  np.arange(1, 33, 4),\n",
    "    'criterion': ['gini', 'entropy'], \n",
    "    'max_depth': [None, 2, 4],\n",
    "    'min_samples_split': np.arange(2, 6, 2),\n",
    "    'min_samples_leaf': np.arange(1, 4, 1),\n",
    "}\n",
    "num_folds = 5"
   ]
  },
  {
   "cell_type": "markdown",
   "id": "0388fc13",
   "metadata": {},
   "source": [
    "## 03 - Grid Search SKlearn"
   ]
  },
  {
   "cell_type": "code",
   "execution_count": 3,
   "id": "725b9b32",
   "metadata": {},
   "outputs": [],
   "source": [
    "rf_model = RandomForestClassifier(random_state=RANDOM_SEED)\n",
    "\n",
    "clf = GridSearchCV(rf_model, model_params, cv=num_folds)\n",
    "model = clf.fit(X_train, y_train)"
   ]
  },
  {
   "cell_type": "code",
   "execution_count": 4,
   "id": "45b32f4d",
   "metadata": {},
   "outputs": [
    {
     "name": "stdout",
     "output_type": "stream",
     "text": [
      "Best params: {'criterion': 'gini', 'max_depth': 4, 'max_features': 17, 'min_samples_leaf': 1, 'min_samples_split': 2, 'n_estimators': 200} with a score of 0.8458333333333333\n"
     ]
    }
   ],
   "source": [
    "print(f'Best params: {model.best_params_} with a score of {model.best_score_}')"
   ]
  },
  {
   "cell_type": "code",
   "execution_count": 5,
   "id": "a2f33a18",
   "metadata": {},
   "outputs": [
    {
     "name": "stdout",
     "output_type": "stream",
     "text": [
      "              precision    recall  f1-score   support\n",
      "\n",
      "           0       0.83      0.89      0.86        28\n",
      "           1       0.90      0.84      0.87        32\n",
      "\n",
      "    accuracy                           0.87        60\n",
      "   macro avg       0.87      0.87      0.87        60\n",
      "weighted avg       0.87      0.87      0.87        60\n",
      "\n"
     ]
    }
   ],
   "source": [
    "pred = model.predict(X_test)\n",
    "\n",
    "print(classification_report(pred, y_test))"
   ]
  },
  {
   "cell_type": "markdown",
   "id": "3899b46a",
   "metadata": {},
   "source": [
    "## 04 - Grid-Search reiplemented"
   ]
  },
  {
   "cell_type": "code",
   "execution_count": 9,
   "id": "6d330ff2",
   "metadata": {},
   "outputs": [
    {
     "name": "stdout",
     "output_type": "stream",
     "text": [
      "      N_ESTIMATORS  MAX_FEATURES     SCORE\n",
      "0               50             1  0.750000\n",
      "1               50             1  0.739583\n",
      "2               50             1  0.777778\n",
      "3               50             1  0.776042\n",
      "4               50             1  0.775000\n",
      "...            ...           ...       ...\n",
      "7195           250            29  0.750000\n",
      "7196           250            29  0.791667\n",
      "7197           250            29  0.819444\n",
      "7198           250            29  0.828125\n",
      "7199           250            29  0.837500\n",
      "\n",
      "[7200 rows x 3 columns]\n"
     ]
    }
   ],
   "source": [
    "def gridSearch(params, X_train, X_test, y_train, y_test):\n",
    "    names = list(params.keys())\n",
    "    values = list(params.values())\n",
    "    std_dev = 0\n",
    "    best_score, best_values = 0, [0 for item in values]\n",
    "    global_results = []\n",
    "    for estimators in values[0]:\n",
    "        for features in values[1]:\n",
    "            for crit in values[2]:\n",
    "                for depth in values[3]:\n",
    "                    for min_split in values[4]:\n",
    "                        for min_leaf in values[5]:\n",
    "                            model = RandomForestClassifier(random_state=RANDOM_SEED, n_estimators=estimators, \n",
    "                                                           max_features=features, criterion=crit, max_depth=depth,\n",
    "                                                           min_samples_split=min_split, min_samples_leaf=min_leaf\n",
    "                                                          )\n",
    "                            # Cross Validation\n",
    "                            kf = StratifiedKFold(n_splits=num_folds, shuffle=False)\n",
    "                            cv_results = np.array([])\n",
    "                            for train_idx, test_idx, in kf.split(X_train, y_train):\n",
    "                                X_cross_train, y_cross_train = X_train[train_idx], y_train[train_idx]\n",
    "                                X_cross_train = scaler.fit_transform(X_cross_train)\n",
    "                                X_cross_test, y_cross_test = X_train[test_idx], y_train[test_idx]\n",
    "                                X_cross_test = scaler.transform(X_cross_test)\n",
    "                                model.fit(X_cross_train, y_cross_train)  \n",
    "                                y_pred = model.predict(X_cross_test)\n",
    "                                acc = accuracy_score(y_cross_test, y_pred)\n",
    "                                cv_results = np.append(cv_results, [acc])\n",
    "                                global_results.append([estimators, features, cv_results.mean()])\n",
    "                            # Comparing score\n",
    "                            if cv_results.mean() > best_score:\n",
    "                                best_score = cv_results.mean()\n",
    "                                best_values = [estimators, features, crit, depth, min_split, min_leaf]\n",
    "                                std_dev = cv_results.std()\n",
    "                                \n",
    "    # Print all the combinations results\n",
    "    df = pd.DataFrame(global_results)\n",
    "    df.columns = ['N_ESTIMATORS', 'MAX_FEATURES', 'SCORE']\n",
    "    print(df)\n",
    "    return best_score, best_values, std_dev\n",
    "\n",
    "best_score, best_combo, std_dev = gridSearch(model_params, X_train, X_test, y_train, y_test)"
   ]
  },
  {
   "cell_type": "code",
   "execution_count": 10,
   "id": "df3ff0c6",
   "metadata": {},
   "outputs": [
    {
     "name": "stdout",
     "output_type": "stream",
     "text": [
      "Best score = 0.8458333333333334, Standard Deviation:0.05368374469468801 \n",
      "The best combo is:\n",
      " - n_estimators: 200\n",
      " - max_features: 17\n",
      " - criterion: gini\n",
      " - max_depth: 4\n",
      " - min_samples_split: 2\n",
      " - min_samples_leaf: 1\n"
     ]
    }
   ],
   "source": [
    "\n",
    "print(f'Best score = {best_score}, Standard Deviation:{std_dev} \\nThe best combo is:')\n",
    "index = 0\n",
    "for param in model_params.keys():\n",
    "    print(f' - {param}: {best_combo[index]}')\n",
    "    index += 1\n"
   ]
  },
  {
   "cell_type": "code",
   "execution_count": null,
   "id": "fa544292",
   "metadata": {},
   "outputs": [],
   "source": []
  }
 ],
 "metadata": {
  "kernelspec": {
   "display_name": "Python 3",
   "language": "python",
   "name": "python3"
  },
  "language_info": {
   "codemirror_mode": {
    "name": "ipython",
    "version": 3
   },
   "file_extension": ".py",
   "mimetype": "text/x-python",
   "name": "python",
   "nbconvert_exporter": "python",
   "pygments_lexer": "ipython3",
   "version": "3.6.13"
  }
 },
 "nbformat": 4,
 "nbformat_minor": 5
}
