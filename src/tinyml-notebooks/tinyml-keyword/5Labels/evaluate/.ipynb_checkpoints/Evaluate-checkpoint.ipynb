{
 "cells": [
  {
   "cell_type": "code",
   "execution_count": 1,
   "id": "19a52fc4",
   "metadata": {},
   "outputs": [],
   "source": [
    "import numpy as np\n",
    "import pandas as pd\n",
    "import sklearn.metrics as metrics"
   ]
  },
  {
   "cell_type": "code",
   "execution_count": 2,
   "id": "84b173e5",
   "metadata": {},
   "outputs": [],
   "source": [
    "labels = [\"no\", \"yes\", \"ok\", \"start\", \"stop\"]"
   ]
  },
  {
   "cell_type": "code",
   "execution_count": 3,
   "id": "97bfc5db",
   "metadata": {},
   "outputs": [],
   "source": [
    "y_real = np.array([4, 3, 0, 3, 2, 0, 0, 1, 2, 4, 3, 0, 2, 0, 4, 1, 3, 3, 4, 4, 3, 3,\n",
    "                             4, 1, 4, 2, 2, 1, 1, 1, 3, 1, 1, 4, 2, 2, 0, 0, 0, 4, 2, 4, 4, 2,\n",
    "                             2, 3, 0, 1, 2, 3, 1, 4, 4, 1, 2, 4, 0, 1, 2, 4, 2, 0, 4, 4, 4, 3,\n",
    "                             1, 0, 3, 0, 3, 3, 4, 1, 1, 1, 0, 1, 1, 0, 1, 4, 3, 3, 0, 4, 3, 4,\n",
    "                             3, 3, 1, 0, 3, 2, 0, 0, 2, 2, 3, 0, 4, 2, 0, 0, 1, 4, 3, 3, 0, 1,\n",
    "                             0, 4, 2, 2, 4, 2, 2, 4, 3, 4, 2, 2, 0, 3, 0, 2, 2, 2, 2, 4, 1, 1,\n",
    "                             1, 2, 0, 1, 1, 3, 0, 0, 3, 3, 3, 4, 1, 1, 0, 1, 3, 2])"
   ]
  },
  {
   "cell_type": "code",
   "execution_count": 4,
   "id": "f2203281",
   "metadata": {},
   "outputs": [],
   "source": [
    "prediction_nn = np.array([0, 3, 0, 3, 2, 0, 0, 1, 0, 0, 0, 4, 2, 0, 2, 1, 3, 3, 4, 1, 1, 3, 1, 1, 1, 3, 3, 4, 1, 4, 4, 1, 2, 4, 2, 2, 2, 2, 0, 2, 3, 4, 4, 2, 0, 3, 0, 1, 0, 3, 1, 4, 2, 0, 1, 4, 0, 4, 0, 4, 2, 2, 4, 4, 4, 3, 1, 0, 2, 3, 0, 1, 4, 1, 0, 4, 1, 1, 2, 0, 1, 4, 0, 3, 3, 2, 3, 4, 3, 3, 1, 4, 3, 3, 0, 0, 4, 2, 3, 2, 4, 0, 2, 0, 1, 2, 0, 3, 3, 1, 0, 2, 1, 3, 4, 1, 2, 2, 3, 0, 0, 1, 4, 1, 4, 4, 3, 2, 2, 1, 0, 1, 1, 2, 4, 2, 1, 3, 3, 2, 3, 0, 3, 4, 0, 1, 0, 1, 3, 4,  ])"
   ]
  },
  {
   "cell_type": "code",
   "execution_count": 5,
   "id": "76cd4592",
   "metadata": {},
   "outputs": [],
   "source": [
    "prediction_rf = np.array([4, 3, 0, 3, 3, 0, 0, 1, 3, 4, 2, 0, 2, 4, 4, 1, 0, 3, 4, 4, 3, 3, 4, 1, 4, 3, 2, 4, 1, 0, 0, 1, 0, 4, 2, 2, 0, 0, 0, 4, 2, 4, 4, 2, 0, 0, 2, 1, 2, 3, 1, 4, 4, 0, 1, 4, 4, 0, 2, 4, 2, 0, 4, 4, 4, 3, 1, 0, 0, 3, 0, 4, 4, 1, 1, 2, 0, 1, 4, 1, 1, 4, 0, 3, 4, 4, 3, 4, 3, 3, 4, 2, 3, 3, 1, 0, 1, 2, 3, 0, 4, 2, 3, 0, 1, 4, 4, 3, 3, 1, 0, 4, 0, 3, 0, 4, 1, 4, 3, 4, 4, 1, 0, 0, 4, 2, 3, 2, 4, 4, 1, 1, 1, 3, 0, 4, 1, 3, 0, 2, 3, 4, 3, 1, 4, 4, 0, 1, 3, 2,  ])"
   ]
  },
  {
   "cell_type": "code",
   "execution_count": 6,
   "id": "613e25fe",
   "metadata": {},
   "outputs": [],
   "source": [
    "prediction_cart = np.array([4, 3, 0, 3, 2, 0, 0, 2, 3, 4, 3, 0, 2, 2, 2, 1, 3, 3, 4, 4, 3, 2, 4, 1, 0, 1, 0, 4, 1, 0, 0, 1, 2, 2, 0, 0, 2, 2, 1, 4, 2, 4, 1, 2, 0, 2, 2, 1, 0, 2, 1, 4, 2, 1, 2, 4, 1, 1, 3, 4, 2, 2, 4, 1, 1, 3, 2, 3, 0, 3, 2, 4, 4, 0, 4, 2, 0, 1, 2, 1, 1, 4, 2, 3, 3, 4, 3, 0, 3, 0, 0, 2, 3, 2, 1, 0, 2, 1, 3, 4, 0, 2, 3, 0, 1, 4, 0, 2, 1, 4, 0, 4, 0, 1, 0, 1, 1, 4, 2, 1, 4, 2, 0, 2, 4, 1, 3, 4, 4, 4, 3, 1, 1, 2, 0, 0, 1, 3, 2, 2, 3, 1, 0, 1, 2, 4, 0, 4, 3, 2,])"
   ]
  },
  {
   "cell_type": "code",
   "execution_count": 7,
   "id": "32b512fa",
   "metadata": {},
   "outputs": [],
   "source": [
    "prediction_svc = np.array([4, 3, 2, 3, 2, 0, 2, 4, 3, 4, 3, 0, 2, 4, 4, 1, 3, 3, 4, 4, 3, 3, 4, 1, 4, 4, 2, 4, 1, 0, 0, 1, 0, 4, 4, 2, 0, 0, 0, 4, 3, 4, 4, 2, 0, 3, 2, 1, 2, 3, 1, 4, 4, 0, 1, 4, 4, 4, 2, 4, 2, 0, 4, 4, 4, 3, 1, 0, 0, 3, 1, 3, 4, 0, 3, 4, 1, 1, 0, 1, 1, 4, 0, 3, 3, 4, 3, 4, 3, 3, 4, 2, 3, 0, 0, 0, 4, 2, 3, 4, 4, 2, 3, 0, 1, 4, 4, 3, 2, 1, 0, 4, 0, 3, 0, 4, 1, 4, 3, 4, 0, 3, 0, 1, 4, 2, 2, 2, 4, 4, 1, 4, 1, 2, 0, 4, 1, 3, 3, 0, 3, 4, 3, 4, 4, 4, 4, 0, 3, 2,])"
   ]
  },
  {
   "cell_type": "code",
   "execution_count": 8,
   "id": "ce856550",
   "metadata": {},
   "outputs": [],
   "source": [
    "prediction_gnb = np.array([0, 0, 0, 0, 0, 0, 0, 0, 0, 0, 0, 0, 0, 0, 0, 0, 0, 0, 0, 0, 0, 0, 0, 0, 0, 0, 0, 0, 0, 0, 0, 0, 0, 0, 0, 0, 0, 0, 0, 0, 0, 0, 0, 0, 0, 0, 0, 0, 0, 0, 0, 0, 0, 0, 0, 0, 0, 0, 0, 0, 0, 0, 0, 0, 0, 0, 0, 0, 0, 0, 0, 0, 0, 0, 0, 0, 0, 0, 0, 0, 0, 0, 0, 0, 0, 0, 0, 0, 0, 0, 0, 0, 0, 0, 0, 0, 0, 0, 0, 0, 0, 0, 0, 0, 0, 0, 0, 0, 0, 0, 0, 0, 0, 0, 0, 0, 0, 0, 0, 0, 0, 0, 0, 0, 0, 0, 0, 0, 0, 0, 0, 0, 0, 0, 0, 0, 0, 0, 0, 0, 0, 0, 0, 0, 0, 0, 0, 0, 0, 0, ])"
   ]
  },
  {
   "cell_type": "code",
   "execution_count": 9,
   "id": "5f1a5fae",
   "metadata": {},
   "outputs": [],
   "source": [
    "prediction_lr = np.array([4, 2, 2, 2, 2, 0, 2, 1, 1, 0, 3, 0, 3, 4, 4, 1, 0, 3, 3, 4, 3, 2, 3, 1, 0, 4, 3, 4, 4, 3, 1, 1, 2, 0, 4, 3, 2, 0, 0, 2, 4, 2, 4, 2, 3, 3, 2, 1, 3, 2, 1, 0, 2, 4, 1, 2, 1, 4, 3, 3, 4, 0, 4, 4, 4, 4, 0, 0, 0, 3, 3, 3, 4, 4, 1, 1, 1, 1, 4, 4, 1, 2, 2, 3, 1, 4, 3, 2, 2, 4, 0, 0, 3, 2, 3, 4, 1, 0, 3, 2, 4, 2, 3, 0, 1, 0, 4, 2, 4, 2, 0, 3, 2, 0, 4, 4, 1, 4, 3, 1, 4, 0, 0, 1, 3, 3, 3, 2, 1, 0, 1, 1, 1, 0, 0, 1, 1, 2, 3, 4, 3, 2, 2, 1, 1, 1, 2, 0, 2, 2,])"
   ]
  },
  {
   "cell_type": "code",
   "execution_count": 10,
   "id": "0232bd29",
   "metadata": {},
   "outputs": [],
   "source": [
    "pred = []\n",
    "uniques = np.unique(y_real)\n",
    "pred.append((\"NN\",prediction_nn))\n",
    "pred.append((\"RF\",prediction_rf))\n",
    "pred.append((\"CART\",prediction_cart))\n",
    "pred.append((\"SVC\",prediction_svc))\n",
    "pred.append((\"GNB\",prediction_gnb))\n",
    "pred.append((\"LR\",prediction_lr))"
   ]
  },
  {
   "cell_type": "code",
   "execution_count": 11,
   "id": "fdfcca41",
   "metadata": {},
   "outputs": [],
   "source": [
    "def classification_report_csv(report, model_name):\n",
    "    report_data = []\n",
    "    lines = report.split('\\n')\n",
    "    index = 0\n",
    "    row = lines[-4].split('    ')\n",
    "    accuracy = row[-2]\n",
    "    for line in lines[2:-5]:\n",
    "        row = {}\n",
    "        row_data = line.split('      ')\n",
    "        row['class'] = labels[index]\n",
    "        row['precision'] = float(row_data[2]) \n",
    "        row['recall'] = float(row_data[3]) \n",
    "        row['f1_score'] = float(row_data[4])\n",
    "        row['accuracy'] = accuracy\n",
    "        report_data.append(row)\n",
    "        index += 1\n",
    "    dataframe = pd.DataFrame.from_dict(report_data)\n",
    "    dataframe.to_csv( 'evaluations/'+'classification_report' + model_name +  '.csv', index = False)\n"
   ]
  },
  {
   "cell_type": "code",
   "execution_count": 12,
   "id": "e0ccf46e",
   "metadata": {},
   "outputs": [
    {
     "name": "stdout",
     "output_type": "stream",
     "text": [
      "NN: \n",
      "\n",
      "              precision    recall  f1-score   support\n",
      "\n",
      "           0       0.44      0.47      0.45        30\n",
      "           1       0.61      0.63      0.62        30\n",
      "           2       0.39      0.37      0.38        30\n",
      "           3       0.67      0.67      0.67        30\n",
      "           4       0.55      0.53      0.54        30\n",
      "\n",
      "    accuracy                           0.53       150\n",
      "   macro avg       0.53      0.53      0.53       150\n",
      "weighted avg       0.53      0.53      0.53       150\n",
      "\n",
      "-----------------------\n",
      "RF: \n",
      "\n",
      "              precision    recall  f1-score   support\n",
      "\n",
      "           0       0.56      0.60      0.58        30\n",
      "           1       0.73      0.63      0.68        30\n",
      "           2       0.74      0.47      0.57        30\n",
      "           3       0.66      0.63      0.64        30\n",
      "           4       0.64      0.93      0.76        30\n",
      "\n",
      "    accuracy                           0.65       150\n",
      "   macro avg       0.66      0.65      0.65       150\n",
      "weighted avg       0.66      0.65      0.65       150\n",
      "\n",
      "-----------------------\n",
      "CART: \n",
      "\n",
      "              precision    recall  f1-score   support\n",
      "\n",
      "           0       0.37      0.37      0.37        30\n",
      "           1       0.45      0.47      0.46        30\n",
      "           2       0.32      0.40      0.36        30\n",
      "           3       0.65      0.50      0.57        30\n",
      "           4       0.62      0.60      0.61        30\n",
      "\n",
      "    accuracy                           0.47       150\n",
      "   macro avg       0.48      0.47      0.47       150\n",
      "weighted avg       0.48      0.47      0.47       150\n",
      "\n",
      "-----------------------\n",
      "SVC: \n",
      "\n",
      "              precision    recall  f1-score   support\n",
      "\n",
      "           0       0.50      0.47      0.48        30\n",
      "           1       0.70      0.47      0.56        30\n",
      "           2       0.75      0.50      0.60        30\n",
      "           3       0.72      0.77      0.74        30\n",
      "           4       0.58      0.97      0.72        30\n",
      "\n",
      "    accuracy                           0.63       150\n",
      "   macro avg       0.65      0.63      0.62       150\n",
      "weighted avg       0.65      0.63      0.62       150\n",
      "\n",
      "-----------------------\n",
      "GNB: \n",
      "\n",
      "              precision    recall  f1-score   support\n",
      "\n",
      "           0       0.20      1.00      0.33        30\n",
      "           1       0.00      0.00      0.00        30\n",
      "           2       0.00      0.00      0.00        30\n",
      "           3       0.00      0.00      0.00        30\n",
      "           4       0.00      0.00      0.00        30\n",
      "\n",
      "    accuracy                           0.20       150\n",
      "   macro avg       0.04      0.20      0.07       150\n",
      "weighted avg       0.04      0.20      0.07       150\n",
      "\n",
      "-----------------------\n",
      "LR: \n",
      "\n",
      "              precision    recall  f1-score   support\n",
      "\n",
      "           0       0.42      0.37      0.39        30\n",
      "           1       0.60      0.60      0.60        30\n",
      "           2       0.22      0.23      0.23        30\n",
      "           3       0.40      0.40      0.40        30\n",
      "           4       0.38      0.40      0.39        30\n",
      "\n",
      "    accuracy                           0.40       150\n",
      "   macro avg       0.40      0.40      0.40       150\n",
      "weighted avg       0.40      0.40      0.40       150\n",
      "\n",
      "-----------------------\n"
     ]
    },
    {
     "name": "stderr",
     "output_type": "stream",
     "text": [
      "/home/sakka/anaconda3/envs/ts/lib/python3.6/site-packages/sklearn/metrics/_classification.py:1248: UndefinedMetricWarning: Precision and F-score are ill-defined and being set to 0.0 in labels with no predicted samples. Use `zero_division` parameter to control this behavior.\n",
      "  _warn_prf(average, modifier, msg_start, len(result))\n",
      "/home/sakka/anaconda3/envs/ts/lib/python3.6/site-packages/sklearn/metrics/_classification.py:1248: UndefinedMetricWarning: Precision and F-score are ill-defined and being set to 0.0 in labels with no predicted samples. Use `zero_division` parameter to control this behavior.\n",
      "  _warn_prf(average, modifier, msg_start, len(result))\n",
      "/home/sakka/anaconda3/envs/ts/lib/python3.6/site-packages/sklearn/metrics/_classification.py:1248: UndefinedMetricWarning: Precision and F-score are ill-defined and being set to 0.0 in labels with no predicted samples. Use `zero_division` parameter to control this behavior.\n",
      "  _warn_prf(average, modifier, msg_start, len(result))\n"
     ]
    }
   ],
   "source": [
    "for name, preds in pred:\n",
    "    print(name + \": \\n\")\n",
    "    report = metrics.classification_report(y_real, preds)\n",
    "    print(report)\n",
    "    classification_report_csv(report, name)\n",
    "    print(\"-----------------------\")"
   ]
  },
  {
   "cell_type": "code",
   "execution_count": null,
   "id": "e10cfd22",
   "metadata": {},
   "outputs": [],
   "source": []
  },
  {
   "cell_type": "code",
   "execution_count": null,
   "id": "8e865923",
   "metadata": {},
   "outputs": [],
   "source": []
  }
 ],
 "metadata": {
  "kernelspec": {
   "display_name": "Python 3",
   "language": "python",
   "name": "python3"
  },
  "language_info": {
   "codemirror_mode": {
    "name": "ipython",
    "version": 3
   },
   "file_extension": ".py",
   "mimetype": "text/x-python",
   "name": "python",
   "nbconvert_exporter": "python",
   "pygments_lexer": "ipython3",
   "version": "3.6.13"
  }
 },
 "nbformat": 4,
 "nbformat_minor": 5
}
