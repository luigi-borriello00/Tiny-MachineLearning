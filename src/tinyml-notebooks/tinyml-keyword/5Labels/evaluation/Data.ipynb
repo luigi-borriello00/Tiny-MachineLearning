{
 "cells": [
  {
   "cell_type": "code",
   "execution_count": 1,
   "id": "6804e963",
   "metadata": {},
   "outputs": [],
   "source": [
    "import pickle\n",
    "import numpy as np"
   ]
  },
  {
   "cell_type": "code",
   "execution_count": 2,
   "id": "1e4e1b9a",
   "metadata": {},
   "outputs": [],
   "source": [
    "y_real = np.array([[0, 0, 0, 0, 0, 0, 1, 0, 1, 0, 1, 1, 0, 1, 1, 1, 1, 0, 1, 1, 0, 0,\n",
    "       1, 0, 1, 0, 0, 1, 0, 1, 0, 1, 1, 0, 0, 1, 0, 1, 1, 1, 0, 1, 1, 1,\n",
    "       0, 0, 1, 0, 1, 0, 0, 1, 0, 0, 1, 1, 1, 0, 0, 1]])"
   ]
  },
  {
   "cell_type": "code",
   "execution_count": 4,
   "id": "e7d2164a",
   "metadata": {},
   "outputs": [],
   "source": [
    "prediction_rf = np.array([])"
   ]
  },
  {
   "cell_type": "code",
   "execution_count": 5,
   "id": "d8e07b1d",
   "metadata": {},
   "outputs": [],
   "source": [
    "prediction_cart = np.array([])"
   ]
  },
  {
   "cell_type": "code",
   "execution_count": 6,
   "id": "b7f79da8",
   "metadata": {},
   "outputs": [],
   "source": [
    "prediction_svc = np.array([])"
   ]
  },
  {
   "cell_type": "code",
   "execution_count": 7,
   "id": "c6528053",
   "metadata": {},
   "outputs": [],
   "source": [
    "prediction_gnb = np.array([])"
   ]
  },
  {
   "cell_type": "code",
   "execution_count": null,
   "id": "29af5b46",
   "metadata": {},
   "outputs": [],
   "source": [
    "prediction_lr = np.array([])"
   ]
  }
 ],
 "metadata": {
  "kernelspec": {
   "display_name": "Python 3",
   "language": "python",
   "name": "python3"
  },
  "language_info": {
   "codemirror_mode": {
    "name": "ipython",
    "version": 3
   },
   "file_extension": ".py",
   "mimetype": "text/x-python",
   "name": "python",
   "nbconvert_exporter": "python",
   "pygments_lexer": "ipython3",
   "version": "3.6.13"
  }
 },
 "nbformat": 4,
 "nbformat_minor": 5
}
