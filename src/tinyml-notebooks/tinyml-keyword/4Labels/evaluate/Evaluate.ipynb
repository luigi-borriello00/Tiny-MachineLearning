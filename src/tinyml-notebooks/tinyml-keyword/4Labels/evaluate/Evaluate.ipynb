{
 "cells": [
  {
   "cell_type": "code",
   "execution_count": 47,
   "id": "19a52fc4",
   "metadata": {},
   "outputs": [],
   "source": [
    "import numpy as np\n",
    "import pandas as pd\n",
    "import sklearn.metrics as metrics"
   ]
  },
  {
   "cell_type": "code",
   "execution_count": 48,
   "id": "f4c77068",
   "metadata": {},
   "outputs": [],
   "source": [
    "labels = [\"no\", \"yes\", \"ok\", \"start\"]"
   ]
  },
  {
   "cell_type": "code",
   "execution_count": 49,
   "id": "97bfc5db",
   "metadata": {},
   "outputs": [],
   "source": [
    "y_real = np.array([1, 0, 2, 3, 2, 3, 1, 3, 3, 2, 0, 0, 1, 0, 0, 0, 3, 2, 1, 2, 0, 1,\n",
    "       3, 3, 2, 3, 3, 1, 1, 2, 3, 0, 2, 0, 2, 1, 3, 3, 2, 1, 0, 0, 1, 1,\n",
    "       3, 0, 0, 0, 3, 2, 1, 0, 1, 1, 2, 3, 3, 2, 1, 0, 2, 1, 2, 3, 2, 0,\n",
    "       2, 1, 2, 2, 2, 1, 1, 3, 0, 3, 0, 3, 3, 1, 1, 2, 0, 1, 0, 1, 3, 1,\n",
    "       0, 2, 2, 3, 1, 2, 2, 2, 0, 3, 0, 1, 2, 1, 0, 2, 0, 1, 3, 2, 0, 0,\n",
    "       2, 3, 1, 0, 3, 1, 3, 3, 3, 0])"
   ]
  },
  {
   "cell_type": "code",
   "execution_count": 50,
   "id": "f2203281",
   "metadata": {},
   "outputs": [],
   "source": [
    "prediction_nn = np.array([0, 2, 1, 3, 3, 2, 1, 0, 1, 2, 1, 3, 2, 0, 0, 0, 3, 0, 1, 0, 1, 1, 3, 3, 2, 0, 0, 3, 2, 2, 3, 0, 2, 0, 0, 1, 2, 3, 0, 1, 3, 3, 1, 3, 0, 2, 3, 0, 0, 0, 3, 0, 1, 3, 2, 0, 3, 3, 1, 0, 1, 1, 2, 3, 1, 0, 1, 1, 2, 2, 3, 1, 1, 3, 0, 2, 0, 3, 0, 3, 3, 1, 3, 3, 0, 1, 3, 3, 0, 2, 1, 3, 2, 1, 1, 1, 0, 3, 3, 1, 0, 0, 2, 0, 0, 1, 3, 2, 3, 1, 2, 1, 0, 0, 3, 0, 3, 3, 2, 0,])"
   ]
  },
  {
   "cell_type": "code",
   "execution_count": 51,
   "id": "76cd4592",
   "metadata": {},
   "outputs": [],
   "source": [
    "prediction_rf = np.array([3, 2, 2, 3, 2, 2, 3, 3, 2, 3, 2, 3, 0, 1, 0, 0, 3, 0, 1, 2, 3, 1, 3, 2, 2, 3, 3, 3, 0, 2, 2, 0, 2, 0, 2, 1, 2, 3, 0, 1, 1, 0, 1, 0, 3, 3, 0, 2, 1, 2, 0, 0, 1, 3, 2, 3, 0, 3, 1, 0, 1, 1, 2, 1, 2, 0, 2, 1, 2, 2, 2, 1, 1, 3, 0, 1, 0, 3, 3, 3, 1, 2, 2, 0, 0, 1, 3, 2, 0, 1, 3, 3, 3, 0, 2, 1, 0, 3, 1, 1, 0, 0, 0, 3, 0, 1, 3, 1, 3, 0, 2, 3, 1, 2, 3, 0, 3, 3, 0, 0,])"
   ]
  },
  {
   "cell_type": "code",
   "execution_count": 52,
   "id": "613e25fe",
   "metadata": {},
   "outputs": [],
   "source": [
    "prediction_cart = np.array([3, 0, 2, 3, 2, 3, 3, 3, 1, 2, 2, 1, 3, 1, 2, 1, 3, 2, 1, 3, 3, 1, 3, 3, 3, 3, 0, 3, 1, 1, 3, 1, 0, 3, 2, 1, 3, 3, 0, 1, 1, 0, 1, 2, 3, 1, 2, 2, 3, 2, 2, 2, 1, 2, 3, 3, 0, 0, 1, 0, 3, 1, 2, 1, 2, 3, 1, 2, 2, 2, 2, 1, 1, 3, 0, 0, 0, 3, 3, 3, 2, 1, 2, 0, 2, 1, 1, 3, 0, 2, 2, 0, 0, 2, 0, 1, 2, 3, 0, 1, 2, 0, 1, 1, 0, 1, 3, 0, 3, 0, 3, 0, 1, 3, 3, 0, 3, 3, 3, 0,])"
   ]
  },
  {
   "cell_type": "code",
   "execution_count": 53,
   "id": "32b512fa",
   "metadata": {},
   "outputs": [],
   "source": [
    "prediction_svc = np.array([3, 3, 3, 3, 3, 3, 3, 3, 3, 3, 3, 3, 3, 3, 3, 3, 3, 3, 3, 3, 3, 3, 3, 3, 3, 3, 3, 3, 3, 3, 3, 3, 3, 3, 3, 3, 3, 3, 3, 3, 3, 3, 3, 3, 3, 3, 3, 3, 3, 3, 3, 3, 3, 3, 3, 3, 3, 3, 3, 3, 3, 3, 3, 3, 3, 3, 3, 3, 3, 3, 3, 3, 3, 3, 3, 3, 3, 3, 3, 3, 3, 3, 3, 3, 3, 3, 3, 3, 3, 3, 3, 3, 3, 3, 3, 3, 3, 3, 3, 3, 3, 3, 3, 3, 3, 3, 3, 3, 3, 3, 3, 3, 3, 3, 3, 3, 3, 3, 3, 3,])"
   ]
  },
  {
   "cell_type": "code",
   "execution_count": 54,
   "id": "ce856550",
   "metadata": {},
   "outputs": [],
   "source": [
    "prediction_gnb = np.array([0, 0, 0, 0, 0, 0, 0, 0, 0, 0, 0, 0, 0, 0, 0, 0, 0, 0, 0, 0, 0, 0, 0, 0, 0, 0, 0, 0, 0, 0, 0, 0, 0, 0, 0, 0, 0, 0, 0, 0, 0, 0, 0, 0, 0, 0, 0, 0, 0, 0, 0, 0, 0, 0, 0, 0, 0, 0, 0, 0, 0, 0, 0, 0, 0, 0, 0, 0, 0, 0, 0, 0, 0, 0, 0, 0, 0, 0, 0, 0, 0, 0, 0, 0, 0, 0, 0, 0, 0, 0, 0, 0, 0, 0, 0, 0, 0, 0, 0, 0, 0, 0, 0, 0, 0, 0, 0, 0, 0, 0, 0, 0, 0, 0, 0, 0, 0, 0, 0, 0,])"
   ]
  },
  {
   "cell_type": "code",
   "execution_count": 55,
   "id": "5f1a5fae",
   "metadata": {},
   "outputs": [],
   "source": [
    "prediction_lr = np.array([2, 3, 2, 3, 2, 0, 0, 3, 2, 1, 2, 1, 1, 3, 0, 0, 0, 2, 1, 2, 2, 1, 2, 2, 2, 3, 3, 1, 0, 3, 2, 0, 2, 2, 2, 0, 0, 3, 0, 1, 3, 0, 1, 3, 1, 1, 3, 0, 0, 2, 3, 2, 2, 0, 2, 1, 3, 3, 1, 0, 1, 1, 0, 1, 1, 0, 0, 1, 2, 2, 3, 1, 1, 0, 0, 1, 0, 3, 3, 3, 1, 1, 2, 2, 0, 1, 1, 3, 0, 1, 3, 3, 0, 2, 0, 1, 0, 3, 1, 1, 0, 1, 2, 3, 0, 1, 0, 0, 0, 0, 2, 3, 1, 1, 2, 2, 2, 0, 2, 3,])"
   ]
  },
  {
   "cell_type": "code",
   "execution_count": 56,
   "id": "0232bd29",
   "metadata": {},
   "outputs": [],
   "source": [
    "pred = []\n",
    "uniques = np.unique(y_real)\n",
    "pred.append((\"NN\",prediction_nn))\n",
    "pred.append((\"RF\",prediction_rf))\n",
    "pred.append((\"CART\",prediction_cart))\n",
    "pred.append((\"SVC\",prediction_svc))\n",
    "pred.append((\"GNB\",prediction_gnb))\n",
    "pred.append((\"LR\",prediction_lr))"
   ]
  },
  {
   "cell_type": "code",
   "execution_count": 57,
   "id": "fdfcca41",
   "metadata": {},
   "outputs": [],
   "source": [
    "def classification_report_csv(report, model_name):\n",
    "    report_data = []\n",
    "    lines = report.split('\\n')\n",
    "    index = 0\n",
    "    row = lines[-4].split('    ')\n",
    "    accuracy = row[-3]\n",
    "    for line in lines[2:-5]:\n",
    "        row = {}\n",
    "        row_data = line.split('      ')\n",
    "        row['class'] = labels[index]\n",
    "        row['precision'] = float(row_data[2]) \n",
    "        row['recall'] = float(row_data[3]) \n",
    "        row['f1_score'] = float(row_data[4])\n",
    "        row['accuracy'] = accuracy\n",
    "        report_data.append(row)\n",
    "        index += 1\n",
    "    dataframe = pd.DataFrame.from_dict(report_data)\n",
    "    dataframe.to_csv( 'evaluations/'+'classification_report' + model_name +  '.csv', index = False)\n"
   ]
  },
  {
   "cell_type": "code",
   "execution_count": 58,
   "id": "e0ccf46e",
   "metadata": {},
   "outputs": [
    {
     "name": "stdout",
     "output_type": "stream",
     "text": [
      "NN: \n",
      "\n",
      "              precision    recall  f1-score   support\n",
      "\n",
      "           0       0.49      0.57      0.52        30\n",
      "           1       0.52      0.50      0.51        30\n",
      "           2       0.52      0.37      0.43        30\n",
      "           3       0.49      0.57      0.52        30\n",
      "\n",
      "    accuracy                           0.50       120\n",
      "   macro avg       0.50      0.50      0.50       120\n",
      "weighted avg       0.50      0.50      0.50       120\n",
      "\n",
      "-----------------------\n",
      "RF: \n",
      "\n",
      "              precision    recall  f1-score   support\n",
      "\n",
      "           0       0.58      0.60      0.59        30\n",
      "           1       0.62      0.53      0.57        30\n",
      "           2       0.62      0.60      0.61        30\n",
      "           3       0.59      0.67      0.62        30\n",
      "\n",
      "    accuracy                           0.60       120\n",
      "   macro avg       0.60      0.60      0.60       120\n",
      "weighted avg       0.60      0.60      0.60       120\n",
      "\n",
      "-----------------------\n",
      "CART: \n",
      "\n",
      "              precision    recall  f1-score   support\n",
      "\n",
      "           0       0.42      0.33      0.37        30\n",
      "           1       0.50      0.50      0.50        30\n",
      "           2       0.54      0.50      0.52        30\n",
      "           3       0.58      0.73      0.65        30\n",
      "\n",
      "    accuracy                           0.52       120\n",
      "   macro avg       0.51      0.52      0.51       120\n",
      "weighted avg       0.51      0.52      0.51       120\n",
      "\n",
      "-----------------------\n",
      "SVC: \n",
      "\n",
      "              precision    recall  f1-score   support\n",
      "\n",
      "           0       0.00      0.00      0.00        30\n",
      "           1       0.00      0.00      0.00        30\n",
      "           2       0.00      0.00      0.00        30\n",
      "           3       0.25      1.00      0.40        30\n",
      "\n",
      "    accuracy                           0.25       120\n",
      "   macro avg       0.06      0.25      0.10       120\n",
      "weighted avg       0.06      0.25      0.10       120\n",
      "\n",
      "-----------------------\n",
      "GNB: \n",
      "\n",
      "              precision    recall  f1-score   support\n",
      "\n",
      "           0       0.25      1.00      0.40        30\n",
      "           1       0.00      0.00      0.00        30\n",
      "           2       0.00      0.00      0.00        30\n",
      "           3       0.00      0.00      0.00        30\n",
      "\n",
      "    accuracy                           0.25       120\n",
      "   macro avg       0.06      0.25      0.10       120\n",
      "weighted avg       0.06      0.25      0.10       120\n",
      "\n",
      "-----------------------\n",
      "LR: \n",
      "\n",
      "              precision    recall  f1-score   support\n",
      "\n",
      "           0       0.45      0.50      0.48        30\n",
      "           1       0.53      0.57      0.55        30\n",
      "           2       0.43      0.43      0.43        30\n",
      "           3       0.44      0.37      0.40        30\n",
      "\n",
      "    accuracy                           0.47       120\n",
      "   macro avg       0.46      0.47      0.46       120\n",
      "weighted avg       0.46      0.47      0.46       120\n",
      "\n",
      "-----------------------\n"
     ]
    }
   ],
   "source": [
    "for name, preds in pred:\n",
    "    print(name + \": \\n\")\n",
    "    report = metrics.classification_report(y_real, preds)\n",
    "    print(report)\n",
    "    classification_report_csv(report, name)\n",
    "    print(\"-----------------------\")"
   ]
  },
  {
   "cell_type": "code",
   "execution_count": null,
   "id": "e10cfd22",
   "metadata": {},
   "outputs": [],
   "source": []
  },
  {
   "cell_type": "code",
   "execution_count": null,
   "id": "8e865923",
   "metadata": {},
   "outputs": [],
   "source": []
  }
 ],
 "metadata": {
  "kernelspec": {
   "display_name": "Python 3",
   "language": "python",
   "name": "python3"
  },
  "language_info": {
   "codemirror_mode": {
    "name": "ipython",
    "version": 3
   },
   "file_extension": ".py",
   "mimetype": "text/x-python",
   "name": "python",
   "nbconvert_exporter": "python",
   "pygments_lexer": "ipython3",
   "version": "3.6.13"
  }
 },
 "nbformat": 4,
 "nbformat_minor": 5
}
